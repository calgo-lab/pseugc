{
 "cells": [
  {
   "cell_type": "code",
   "execution_count": 1,
   "id": "d1e27f4e",
   "metadata": {},
   "outputs": [],
   "source": [
    "import ast\n",
    "import re\n",
    "import pandas as pd\n",
    "from codealltag_data_processor_v2025 import CodealltagDataProcessor"
   ]
  },
  {
   "cell_type": "code",
   "execution_count": 2,
   "id": "9e2700cb",
   "metadata": {},
   "outputs": [],
   "source": [
    "cdp_2022 = CodealltagDataProcessor(data_version='20220513', config_path=['codealltag_data_processor_v2025.yml'])"
   ]
  },
  {
   "cell_type": "code",
   "execution_count": 3,
   "id": "5ff066f6",
   "metadata": {},
   "outputs": [],
   "source": [
    "sample_df = pd.read_csv('data_syntheticity_dataset_3500_ts.csv', index_col=0)"
   ]
  },
  {
   "cell_type": "code",
   "execution_count": 4,
   "id": "54cc6958",
   "metadata": {},
   "outputs": [],
   "source": [
    "sample_df_p75 = sample_df[(sample_df.L318BPOS > 0.75) & (sample_df.G29BPOS > 0.75)]"
   ]
  },
  {
   "cell_type": "code",
   "execution_count": 5,
   "id": "8972719b",
   "metadata": {},
   "outputs": [],
   "source": [
    "sample_df_p75.reset_index(drop=True, inplace=True)"
   ]
  },
  {
   "cell_type": "code",
   "execution_count": 6,
   "id": "a7a6d895",
   "metadata": {},
   "outputs": [],
   "source": [
    "labels = ['CITY', 'DATE', 'EMAIL', 'FAMILY', 'FEMALE', 'MALE', 'ORG', \n",
    "          'PHONE', 'STREET', 'STREETNO', 'UFID', 'URL', 'USER', 'ZIP']"
   ]
  },
  {
   "cell_type": "code",
   "execution_count": 7,
   "id": "ef9d3e73",
   "metadata": {},
   "outputs": [],
   "source": [
    "idx = 902"
   ]
  },
  {
   "cell_type": "code",
   "execution_count": 8,
   "id": "69c002bf",
   "metadata": {},
   "outputs": [
    {
     "data": {
      "text/plain": [
       "FilePath          CodEAlltag_pXL_PHILOSOPHY/1-/18-/180642.txt\n",
       "OT          Hallo an alle Psychologen und Philosophen,\\n\\n...\n",
       "OA          {'Token_ID': {0: 'T1', 1: 'T2', 2: 'T3', 3: 'T...\n",
       "OTT         Hallo an alle Psychologen und Philosophen , de...\n",
       "OTTL        Hallo O\\nan O\\nalle O\\nPsychologen O\\nund O\\nP...\n",
       "MT5O        CITY: Weberschlag **Jungheim**; CITY: Webersch...\n",
       "MT5PT       Hallo an alle Psychologen und Philosophen,\\n\\n...\n",
       "MT5PA       {'Token_ID': {0: 'T1', 1: 'T2', 2: 'T3', 3: 'T...\n",
       "MT5PTT      Hallo an alle Psychologen und Philosophen , de...\n",
       "MT5PTTL     Hallo O\\nan O\\nalle O\\nPsychologen O\\nund O\\nP...\n",
       "L318BPO     FEMALE: Diedrich **Gerda**; FAMILY: Jaedeke **...\n",
       "L318BPOS                                             0.916667\n",
       "G29BPO      OUTPUT\\n-----\\nORG: Wirtschaftsinformatik **Fi...\n",
       "G29BPOS                                                   1.0\n",
       "Name: 902, dtype: object"
      ]
     },
     "execution_count": 8,
     "metadata": {},
     "output_type": "execute_result"
    }
   ],
   "source": [
    "sample_df_p75.iloc[idx]"
   ]
  },
  {
   "cell_type": "code",
   "execution_count": 9,
   "id": "fa62faf4",
   "metadata": {},
   "outputs": [
    {
     "name": "stdout",
     "output_type": "stream",
     "text": [
      "Hallo an alle Psychologen und Philosophen,\n",
      "\n",
      "der einzige Grund, warum ich cross-poste ist der, dass der Konstruktivismus\n",
      "sehr interdisziplinär betrachtet werden kann.\n",
      "\n",
      "Ich bin Student der Wirtschaftsinformatik in Weberschlag und schreibe eine\n",
      "Hausarbeit zum Thema \"Konstruktivismus und Modellierung in der\n",
      "Wirtschaftsinformatik / Software-Entwicklung\".\n",
      "\n",
      "Meine Frage:\n",
      "Kennt jemand irgendwelche Quellen, Literatur oder sonstirgendwas zu diesem\n",
      "Thema? Das wäre ganz ganz super!!!\n",
      "\n",
      "Vielen Dank im voraus und\n",
      "\n",
      "Größe aus Weberschlag,\n",
      "\n",
      "Diedrich\n",
      "\n",
      "--\n",
      "--------- Diedrich Jaedeke -------\n",
      "--- Phone:   0024-937383 ---\n",
      "--- Fax:          000955 ---\n",
      "--- Mobile: 5805-4450855 ---\n",
      "----------------------------\n",
      "------ http://etitb.ix -----\n",
      "---- http://cqdbsoxkg.vh ---\n",
      "- http://cuabagxivqzqgr.jf -\n",
      "--- http://ukolh-bazu.wc ---\n"
     ]
    }
   ],
   "source": [
    "print(sample_df_p75.iloc[idx].OT)"
   ]
  },
  {
   "cell_type": "code",
   "execution_count": 10,
   "id": "1a242e7f",
   "metadata": {},
   "outputs": [
    {
     "data": {
      "text/html": [
       "<div>\n",
       "<style scoped>\n",
       "    .dataframe tbody tr th:only-of-type {\n",
       "        vertical-align: middle;\n",
       "    }\n",
       "\n",
       "    .dataframe tbody tr th {\n",
       "        vertical-align: top;\n",
       "    }\n",
       "\n",
       "    .dataframe thead th {\n",
       "        text-align: right;\n",
       "    }\n",
       "</style>\n",
       "<table border=\"1\" class=\"dataframe\">\n",
       "  <thead>\n",
       "    <tr style=\"text-align: right;\">\n",
       "      <th></th>\n",
       "      <th>Token_ID</th>\n",
       "      <th>Label</th>\n",
       "      <th>Start</th>\n",
       "      <th>End</th>\n",
       "      <th>Token</th>\n",
       "    </tr>\n",
       "  </thead>\n",
       "  <tbody>\n",
       "    <tr>\n",
       "      <th>0</th>\n",
       "      <td>T1</td>\n",
       "      <td>CITY</td>\n",
       "      <td>212</td>\n",
       "      <td>223</td>\n",
       "      <td>Weberschlag</td>\n",
       "    </tr>\n",
       "    <tr>\n",
       "      <th>1</th>\n",
       "      <td>T2</td>\n",
       "      <td>CITY</td>\n",
       "      <td>514</td>\n",
       "      <td>525</td>\n",
       "      <td>Weberschlag</td>\n",
       "    </tr>\n",
       "    <tr>\n",
       "      <th>2</th>\n",
       "      <td>T3</td>\n",
       "      <td>MALE</td>\n",
       "      <td>528</td>\n",
       "      <td>536</td>\n",
       "      <td>Diedrich</td>\n",
       "    </tr>\n",
       "    <tr>\n",
       "      <th>3</th>\n",
       "      <td>T4</td>\n",
       "      <td>MALE</td>\n",
       "      <td>551</td>\n",
       "      <td>559</td>\n",
       "      <td>Diedrich</td>\n",
       "    </tr>\n",
       "    <tr>\n",
       "      <th>4</th>\n",
       "      <td>T5</td>\n",
       "      <td>FAMILY</td>\n",
       "      <td>560</td>\n",
       "      <td>567</td>\n",
       "      <td>Jaedeke</td>\n",
       "    </tr>\n",
       "    <tr>\n",
       "      <th>5</th>\n",
       "      <td>T6</td>\n",
       "      <td>PHONE</td>\n",
       "      <td>589</td>\n",
       "      <td>600</td>\n",
       "      <td>0024-937383</td>\n",
       "    </tr>\n",
       "    <tr>\n",
       "      <th>6</th>\n",
       "      <td>T7</td>\n",
       "      <td>PHONE</td>\n",
       "      <td>623</td>\n",
       "      <td>629</td>\n",
       "      <td>000955</td>\n",
       "    </tr>\n",
       "    <tr>\n",
       "      <th>7</th>\n",
       "      <td>T8</td>\n",
       "      <td>PHONE</td>\n",
       "      <td>646</td>\n",
       "      <td>658</td>\n",
       "      <td>5805-4450855</td>\n",
       "    </tr>\n",
       "    <tr>\n",
       "      <th>8</th>\n",
       "      <td>T9</td>\n",
       "      <td>URL</td>\n",
       "      <td>699</td>\n",
       "      <td>714</td>\n",
       "      <td>http://etitb.ix</td>\n",
       "    </tr>\n",
       "    <tr>\n",
       "      <th>9</th>\n",
       "      <td>T10</td>\n",
       "      <td>URL</td>\n",
       "      <td>726</td>\n",
       "      <td>745</td>\n",
       "      <td>http://cqdbsoxkg.vh</td>\n",
       "    </tr>\n",
       "    <tr>\n",
       "      <th>10</th>\n",
       "      <td>T11</td>\n",
       "      <td>URL</td>\n",
       "      <td>752</td>\n",
       "      <td>776</td>\n",
       "      <td>http://cuabagxivqzqgr.jf</td>\n",
       "    </tr>\n",
       "    <tr>\n",
       "      <th>11</th>\n",
       "      <td>T12</td>\n",
       "      <td>URL</td>\n",
       "      <td>783</td>\n",
       "      <td>803</td>\n",
       "      <td>http://ukolh-bazu.wc</td>\n",
       "    </tr>\n",
       "  </tbody>\n",
       "</table>\n",
       "</div>"
      ],
      "text/plain": [
       "   Token_ID   Label Start  End                     Token\n",
       "0        T1    CITY   212  223               Weberschlag\n",
       "1        T2    CITY   514  525               Weberschlag\n",
       "2        T3    MALE   528  536                  Diedrich\n",
       "3        T4    MALE   551  559                  Diedrich\n",
       "4        T5  FAMILY   560  567                   Jaedeke\n",
       "5        T6   PHONE   589  600               0024-937383\n",
       "6        T7   PHONE   623  629                    000955\n",
       "7        T8   PHONE   646  658              5805-4450855\n",
       "8        T9     URL   699  714           http://etitb.ix\n",
       "9       T10     URL   726  745       http://cqdbsoxkg.vh\n",
       "10      T11     URL   752  776  http://cuabagxivqzqgr.jf\n",
       "11      T12     URL   783  803      http://ukolh-bazu.wc"
      ]
     },
     "execution_count": 10,
     "metadata": {},
     "output_type": "execute_result"
    }
   ],
   "source": [
    "pd.DataFrame(ast.literal_eval(sample_df_p75.iloc[idx].OA))"
   ]
  },
  {
   "cell_type": "code",
   "execution_count": 11,
   "id": "2507342c",
   "metadata": {},
   "outputs": [
    {
     "name": "stdout",
     "output_type": "stream",
     "text": [
      "FEMALE: Diedrich **Gerda**; FAMILY: Jaedeke **Jansen**; CITY: Weberschlag **Wermelskirchen**; MALE: Diedrich **Oswald**; PHONE: 0024-937383 **664/8543257**; FAX: 000955 **0322/1421590**; PHONE: 5805-4450855 **0038/9251431**; URL: http://etitb.ix **http://hgm.jxjybg.fq/Aeqgq**; URL: http://cqdbsoxkg.vh **http://rkt.ruxmz.zq/Fcggd**; URL: http://cuabagxivqzqgr.jf **http://ujn.ikbzx.xs/Kpghu**; URL: http://ukolh-bazu.wc **http://eul.ywvyr.vj/Qtgfn**\n"
     ]
    }
   ],
   "source": [
    "print(sample_df_p75.iloc[idx].L318BPO)"
   ]
  },
  {
   "cell_type": "code",
   "execution_count": 12,
   "id": "06571d61",
   "metadata": {
    "scrolled": true
   },
   "outputs": [
    {
     "name": "stdout",
     "output_type": "stream",
     "text": [
      "['FEMALE: Diedrich **Gerda**', ' FAMILY: Jaedeke **Jansen**', ' CITY: Weberschlag **Wermelskirchen**', ' MALE: Diedrich **Oswald**', ' PHONE: 0024-937383 **664/8543257**', ' FAX: 000955 **0322/1421590**', ' PHONE: 5805-4450855 **0038/9251431**', ' URL: http://etitb.ix **http://hgm.jxjybg.fq/Aeqgq**', ' URL: http://cqdbsoxkg.vh **http://rkt.ruxmz.zq/Fcggd**', ' URL: http://cuabagxivqzqgr.jf **http://ujn.ikbzx.xs/Kpghu**', ' URL: http://ukolh-bazu.wc **http://eul.ywvyr.vj/Qtgfn**']\n"
     ]
    },
    {
     "data": {
      "text/html": [
       "<div>\n",
       "<style scoped>\n",
       "    .dataframe tbody tr th:only-of-type {\n",
       "        vertical-align: middle;\n",
       "    }\n",
       "\n",
       "    .dataframe tbody tr th {\n",
       "        vertical-align: top;\n",
       "    }\n",
       "\n",
       "    .dataframe thead th {\n",
       "        text-align: right;\n",
       "    }\n",
       "</style>\n",
       "<table border=\"1\" class=\"dataframe\">\n",
       "  <thead>\n",
       "    <tr style=\"text-align: right;\">\n",
       "      <th></th>\n",
       "      <th>Token_ID</th>\n",
       "      <th>Label</th>\n",
       "      <th>Start</th>\n",
       "      <th>End</th>\n",
       "      <th>Token</th>\n",
       "      <th>Pseudonym</th>\n",
       "    </tr>\n",
       "  </thead>\n",
       "  <tbody>\n",
       "    <tr>\n",
       "      <th>0</th>\n",
       "      <td>T1</td>\n",
       "      <td>FEMALE</td>\n",
       "      <td>528</td>\n",
       "      <td>536</td>\n",
       "      <td>Diedrich</td>\n",
       "      <td>Gerda</td>\n",
       "    </tr>\n",
       "    <tr>\n",
       "      <th>1</th>\n",
       "      <td>T2</td>\n",
       "      <td>FAMILY</td>\n",
       "      <td>560</td>\n",
       "      <td>567</td>\n",
       "      <td>Jaedeke</td>\n",
       "      <td>Jansen</td>\n",
       "    </tr>\n",
       "    <tr>\n",
       "      <th>2</th>\n",
       "      <td>T3</td>\n",
       "      <td>PHONE</td>\n",
       "      <td>589</td>\n",
       "      <td>600</td>\n",
       "      <td>0024-937383</td>\n",
       "      <td>664/8543257</td>\n",
       "    </tr>\n",
       "    <tr>\n",
       "      <th>3</th>\n",
       "      <td>T4</td>\n",
       "      <td>PHONE</td>\n",
       "      <td>646</td>\n",
       "      <td>658</td>\n",
       "      <td>5805-4450855</td>\n",
       "      <td>0038/9251431</td>\n",
       "    </tr>\n",
       "    <tr>\n",
       "      <th>4</th>\n",
       "      <td>T5</td>\n",
       "      <td>URL</td>\n",
       "      <td>699</td>\n",
       "      <td>714</td>\n",
       "      <td>http://etitb.ix</td>\n",
       "      <td>http://hgm.jxjybg.fq/Aeqgq</td>\n",
       "    </tr>\n",
       "    <tr>\n",
       "      <th>5</th>\n",
       "      <td>T6</td>\n",
       "      <td>URL</td>\n",
       "      <td>726</td>\n",
       "      <td>745</td>\n",
       "      <td>http://cqdbsoxkg.vh</td>\n",
       "      <td>http://rkt.ruxmz.zq/Fcggd</td>\n",
       "    </tr>\n",
       "    <tr>\n",
       "      <th>6</th>\n",
       "      <td>T7</td>\n",
       "      <td>URL</td>\n",
       "      <td>752</td>\n",
       "      <td>776</td>\n",
       "      <td>http://cuabagxivqzqgr.jf</td>\n",
       "      <td>http://ujn.ikbzx.xs/Kpghu</td>\n",
       "    </tr>\n",
       "    <tr>\n",
       "      <th>7</th>\n",
       "      <td>T8</td>\n",
       "      <td>URL</td>\n",
       "      <td>783</td>\n",
       "      <td>803</td>\n",
       "      <td>http://ukolh-bazu.wc</td>\n",
       "      <td>http://eul.ywvyr.vj/Qtgfn</td>\n",
       "    </tr>\n",
       "  </tbody>\n",
       "</table>\n",
       "</div>"
      ],
      "text/plain": [
       "  Token_ID   Label  Start  End                     Token  \\\n",
       "0       T1  FEMALE    528  536                  Diedrich   \n",
       "1       T2  FAMILY    560  567                   Jaedeke   \n",
       "2       T3   PHONE    589  600               0024-937383   \n",
       "3       T4   PHONE    646  658              5805-4450855   \n",
       "4       T5     URL    699  714           http://etitb.ix   \n",
       "5       T6     URL    726  745       http://cqdbsoxkg.vh   \n",
       "6       T7     URL    752  776  http://cuabagxivqzqgr.jf   \n",
       "7       T8     URL    783  803      http://ukolh-bazu.wc   \n",
       "\n",
       "                    Pseudonym  \n",
       "0                       Gerda  \n",
       "1                      Jansen  \n",
       "2                 664/8543257  \n",
       "3                0038/9251431  \n",
       "4  http://hgm.jxjybg.fq/Aeqgq  \n",
       "5   http://rkt.ruxmz.zq/Fcggd  \n",
       "6   http://ujn.ikbzx.xs/Kpghu  \n",
       "7   http://eul.ywvyr.vj/Qtgfn  "
      ]
     },
     "execution_count": 12,
     "metadata": {},
     "output_type": "execute_result"
    }
   ],
   "source": [
    "cdp_2022.get_annotation_df_with_input_text_and_predicted_text(\n",
    "    sample_df_p75.iloc[idx].OT, \n",
    "    sample_df_p75.iloc[idx].L318BPO, \n",
    "    labels\n",
    ")"
   ]
  },
  {
   "cell_type": "code",
   "execution_count": 13,
   "id": "2bc2162e",
   "metadata": {},
   "outputs": [
    {
     "name": "stdout",
     "output_type": "stream",
     "text": [
      "OUTPUT\n",
      "-----\n",
      "ORG: Wirtschaftsinformatik **Finanzwesen**; CITY: Weberschlag **Heidenau**; MALE: Diedrich **Klaus**; FAMILY: Jaedeke **Berger**; PHONE: 0024-937383 **551/6783240**; PHONE: 000955 **343/7902187**; PHONE: 5805-4450855 **125/8765439** ; URL: http://etitb.ix **http://jdf.qrzcguw.tk/**; URL: http://cqdbsoxkg.vh **http://gtu.vtyhglt.me/**; URL: http://cuabagxivqzqgr.jf **http://zsl.bxowqlu.ml/** ; URL: http://ukolh-bazu.wc **http://cwx.hryfmxl.eu/** \n",
      "\n",
      "\n",
      "\n"
     ]
    }
   ],
   "source": [
    "print(sample_df_p75.iloc[idx].G29BPO)"
   ]
  },
  {
   "cell_type": "code",
   "execution_count": 14,
   "id": "7854dad0",
   "metadata": {},
   "outputs": [
    {
     "name": "stdout",
     "output_type": "stream",
     "text": [
      "['OUTPUT\\n-----\\nORG: Wirtschaftsinformatik **Finanzwesen**', ' CITY: Weberschlag **Heidenau**', ' MALE: Diedrich **Klaus**', ' FAMILY: Jaedeke **Berger**', ' PHONE: 0024-937383 **551/6783240**', ' PHONE: 000955 **343/7902187**', ' PHONE: 5805-4450855 **125/8765439** ', ' URL: http://etitb.ix **http://jdf.qrzcguw.tk/**', ' URL: http://cqdbsoxkg.vh **http://gtu.vtyhglt.me/**', ' URL: http://cuabagxivqzqgr.jf **http://zsl.bxowqlu.ml/** ', ' URL: http://ukolh-bazu.wc **http://cwx.hryfmxl.eu/** \\n\\n\\n']\n"
     ]
    },
    {
     "data": {
      "text/html": [
       "<div>\n",
       "<style scoped>\n",
       "    .dataframe tbody tr th:only-of-type {\n",
       "        vertical-align: middle;\n",
       "    }\n",
       "\n",
       "    .dataframe tbody tr th {\n",
       "        vertical-align: top;\n",
       "    }\n",
       "\n",
       "    .dataframe thead th {\n",
       "        text-align: right;\n",
       "    }\n",
       "</style>\n",
       "<table border=\"1\" class=\"dataframe\">\n",
       "  <thead>\n",
       "    <tr style=\"text-align: right;\">\n",
       "      <th></th>\n",
       "      <th>Token_ID</th>\n",
       "      <th>Label</th>\n",
       "      <th>Start</th>\n",
       "      <th>End</th>\n",
       "      <th>Token</th>\n",
       "      <th>Pseudonym</th>\n",
       "    </tr>\n",
       "  </thead>\n",
       "  <tbody>\n",
       "    <tr>\n",
       "      <th>0</th>\n",
       "      <td>T1</td>\n",
       "      <td>ORG</td>\n",
       "      <td>187</td>\n",
       "      <td>208</td>\n",
       "      <td>Wirtschaftsinformatik</td>\n",
       "      <td>Finanzwesen</td>\n",
       "    </tr>\n",
       "    <tr>\n",
       "      <th>1</th>\n",
       "      <td>T2</td>\n",
       "      <td>CITY</td>\n",
       "      <td>212</td>\n",
       "      <td>223</td>\n",
       "      <td>Weberschlag</td>\n",
       "      <td>Heidenau</td>\n",
       "    </tr>\n",
       "    <tr>\n",
       "      <th>2</th>\n",
       "      <td>T3</td>\n",
       "      <td>MALE</td>\n",
       "      <td>528</td>\n",
       "      <td>536</td>\n",
       "      <td>Diedrich</td>\n",
       "      <td>Klaus</td>\n",
       "    </tr>\n",
       "    <tr>\n",
       "      <th>3</th>\n",
       "      <td>T4</td>\n",
       "      <td>FAMILY</td>\n",
       "      <td>560</td>\n",
       "      <td>567</td>\n",
       "      <td>Jaedeke</td>\n",
       "      <td>Berger</td>\n",
       "    </tr>\n",
       "    <tr>\n",
       "      <th>4</th>\n",
       "      <td>T5</td>\n",
       "      <td>PHONE</td>\n",
       "      <td>589</td>\n",
       "      <td>600</td>\n",
       "      <td>0024-937383</td>\n",
       "      <td>551/6783240</td>\n",
       "    </tr>\n",
       "    <tr>\n",
       "      <th>5</th>\n",
       "      <td>T6</td>\n",
       "      <td>PHONE</td>\n",
       "      <td>623</td>\n",
       "      <td>629</td>\n",
       "      <td>000955</td>\n",
       "      <td>343/7902187</td>\n",
       "    </tr>\n",
       "    <tr>\n",
       "      <th>6</th>\n",
       "      <td>T7</td>\n",
       "      <td>PHONE</td>\n",
       "      <td>646</td>\n",
       "      <td>658</td>\n",
       "      <td>5805-4450855</td>\n",
       "      <td>125/8765439</td>\n",
       "    </tr>\n",
       "    <tr>\n",
       "      <th>7</th>\n",
       "      <td>T8</td>\n",
       "      <td>URL</td>\n",
       "      <td>699</td>\n",
       "      <td>714</td>\n",
       "      <td>http://etitb.ix</td>\n",
       "      <td>http://jdf.qrzcguw.tk/</td>\n",
       "    </tr>\n",
       "    <tr>\n",
       "      <th>8</th>\n",
       "      <td>T9</td>\n",
       "      <td>URL</td>\n",
       "      <td>726</td>\n",
       "      <td>745</td>\n",
       "      <td>http://cqdbsoxkg.vh</td>\n",
       "      <td>http://gtu.vtyhglt.me/</td>\n",
       "    </tr>\n",
       "    <tr>\n",
       "      <th>9</th>\n",
       "      <td>T10</td>\n",
       "      <td>URL</td>\n",
       "      <td>752</td>\n",
       "      <td>776</td>\n",
       "      <td>http://cuabagxivqzqgr.jf</td>\n",
       "      <td>http://zsl.bxowqlu.ml/</td>\n",
       "    </tr>\n",
       "    <tr>\n",
       "      <th>10</th>\n",
       "      <td>T11</td>\n",
       "      <td>URL</td>\n",
       "      <td>783</td>\n",
       "      <td>803</td>\n",
       "      <td>http://ukolh-bazu.wc</td>\n",
       "      <td>http://cwx.hryfmxl.eu/</td>\n",
       "    </tr>\n",
       "  </tbody>\n",
       "</table>\n",
       "</div>"
      ],
      "text/plain": [
       "   Token_ID   Label  Start  End                     Token  \\\n",
       "0        T1     ORG    187  208     Wirtschaftsinformatik   \n",
       "1        T2    CITY    212  223               Weberschlag   \n",
       "2        T3    MALE    528  536                  Diedrich   \n",
       "3        T4  FAMILY    560  567                   Jaedeke   \n",
       "4        T5   PHONE    589  600               0024-937383   \n",
       "5        T6   PHONE    623  629                    000955   \n",
       "6        T7   PHONE    646  658              5805-4450855   \n",
       "7        T8     URL    699  714           http://etitb.ix   \n",
       "8        T9     URL    726  745       http://cqdbsoxkg.vh   \n",
       "9       T10     URL    752  776  http://cuabagxivqzqgr.jf   \n",
       "10      T11     URL    783  803      http://ukolh-bazu.wc   \n",
       "\n",
       "                 Pseudonym  \n",
       "0              Finanzwesen  \n",
       "1                 Heidenau  \n",
       "2                    Klaus  \n",
       "3                   Berger  \n",
       "4              551/6783240  \n",
       "5              343/7902187  \n",
       "6              125/8765439  \n",
       "7   http://jdf.qrzcguw.tk/  \n",
       "8   http://gtu.vtyhglt.me/  \n",
       "9   http://zsl.bxowqlu.ml/  \n",
       "10  http://cwx.hryfmxl.eu/  "
      ]
     },
     "execution_count": 14,
     "metadata": {},
     "output_type": "execute_result"
    }
   ],
   "source": [
    "cdp_2022.get_annotation_df_with_input_text_and_predicted_text(\n",
    "    sample_df_p75.iloc[idx].OT, \n",
    "    sample_df_p75.iloc[idx].G29BPO,\n",
    "    labels\n",
    ")"
   ]
  },
  {
   "cell_type": "code",
   "execution_count": 15,
   "id": "fae72bda",
   "metadata": {},
   "outputs": [
    {
     "name": "stdout",
     "output_type": "stream",
     "text": [
      "[pattern = \\bSTREETNO\\b:] [text = STREETNO: 12  **7**]\n",
      "[label = STREETNO]\n"
     ]
    }
   ],
   "source": [
    "label = \"STREETNO\"\n",
    "pattern = r'\\b'+label+r'\\b'+':'\n",
    "text = \"STREETNO: 12  **7**\"\n",
    "print(f'[pattern = {pattern}] [text = {text}]')\n",
    "if re.search(pattern, text):\n",
    "    print(f'[label = {label}]')"
   ]
  },
  {
   "cell_type": "code",
   "execution_count": 16,
   "id": "292d67cd",
   "metadata": {},
   "outputs": [
    {
     "name": "stdout",
     "output_type": "stream",
     "text": [
      "[pattern = ^(.*?)\\s*\\*\\*(.*?)\\*\\*] [text = 12  **7**]\n",
      "[token = 12] [pseudonym = 7]\n"
     ]
    }
   ],
   "source": [
    "pattern = r'^(.*?)\\s*\\*\\*(.*?)\\*\\*'\n",
    "text = \"12  **7**\"\n",
    "print(f'[pattern = {pattern}] [text = {text}]')\n",
    "matches = re.search(pattern, text)\n",
    "if matches:\n",
    "    print(f'[token = {matches.group(1)}] [pseudonym = {matches.group(2)}]')"
   ]
  }
 ],
 "metadata": {
  "kernelspec": {
   "display_name": "Python 3 (ipykernel)",
   "language": "python",
   "name": "python3"
  },
  "language_info": {
   "codemirror_mode": {
    "name": "ipython",
    "version": 3
   },
   "file_extension": ".py",
   "mimetype": "text/x-python",
   "name": "python",
   "nbconvert_exporter": "python",
   "pygments_lexer": "ipython3",
   "version": "3.8.2"
  }
 },
 "nbformat": 4,
 "nbformat_minor": 5
}
