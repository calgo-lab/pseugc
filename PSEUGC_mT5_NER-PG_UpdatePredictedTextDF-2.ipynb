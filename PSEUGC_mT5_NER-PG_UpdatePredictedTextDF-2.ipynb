{
 "cells": [
  {
   "cell_type": "code",
   "execution_count": 1,
   "id": "545bec19",
   "metadata": {},
   "outputs": [],
   "source": [
    "import os\n",
    "\n",
    "import numpy as np\n",
    "import pandas as pd\n",
    "\n",
    "from codealltag_data_processor_v2025 import CodealltagDataProcessor\n",
    "from flair.data import Sentence\n",
    "from flair.models import SequenceTagger\n",
    "from flair.nn import Model\n",
    "from pandas import DataFrame\n",
    "from tqdm import tqdm\n",
    "from typing import Any, Dict"
   ]
  },
  {
   "cell_type": "code",
   "execution_count": 2,
   "id": "33a50128",
   "metadata": {},
   "outputs": [],
   "source": [
    "cdp_2022 = CodealltagDataProcessor(data_version='20220513', config_path=['codealltag_data_processor.yml'])"
   ]
  },
  {
   "cell_type": "code",
   "execution_count": 3,
   "id": "8c112c7a",
   "metadata": {},
   "outputs": [],
   "source": [
    "sample_size = 10_000\n",
    "k = 5"
   ]
  },
  {
   "cell_type": "code",
   "execution_count": 4,
   "id": "8db06769",
   "metadata": {},
   "outputs": [],
   "source": [
    "predicted_text_df_name = f'PredictedText_DF_{cdp_2022.get_data_version()}_{sample_size // 1000}K_k{k}.csv'\n",
    "predicted_text_df = pd.read_csv(predicted_text_df_name, index_col=0)"
   ]
  },
  {
   "cell_type": "code",
   "execution_count": 5,
   "id": "5a8f5ef4",
   "metadata": {},
   "outputs": [],
   "source": [
    "model_dir_path = os.path.join(*[\"logs\", \"GELECTRA\", \"NER\", \"10K\", \"k5\"])"
   ]
  },
  {
   "cell_type": "code",
   "execution_count": 6,
   "id": "d9f844f0",
   "metadata": {
    "scrolled": true
   },
   "outputs": [
    {
     "name": "stdout",
     "output_type": "stream",
     "text": [
      "2025-02-25 15:47:34,320 loading file logs/GELECTRA/NER/10K/k5/best-model.pt\n",
      "2025-02-25 15:47:50,052 SequenceTagger predicts: Dictionary with 57 tags: O, S-MALE, B-MALE, E-MALE, I-MALE, S-FAMILY, B-FAMILY, E-FAMILY, I-FAMILY, S-URL, B-URL, E-URL, I-URL, S-EMAIL, B-EMAIL, E-EMAIL, I-EMAIL, S-PHONE, B-PHONE, E-PHONE, I-PHONE, S-CITY, B-CITY, E-CITY, I-CITY, S-DATE, B-DATE, E-DATE, I-DATE, S-STREET, B-STREET, E-STREET, I-STREET, S-ZIP, B-ZIP, E-ZIP, I-ZIP, S-STREETNO, B-STREETNO, E-STREETNO, I-STREETNO, S-FEMALE, B-FEMALE, E-FEMALE, I-FEMALE, S-UFID, B-UFID, E-UFID, I-UFID, S-ORG\n"
     ]
    }
   ],
   "source": [
    "model = SequenceTagger.load(os.path.join(model_dir_path, 'best-model.pt'))"
   ]
  },
  {
   "cell_type": "code",
   "execution_count": 7,
   "id": "f0da5ace",
   "metadata": {},
   "outputs": [],
   "source": [
    "def get_annotation_df_from_model_prediction(email_text: str, model: Model, cdp: CodealltagDataProcessor) -> DataFrame:\n",
    "    tuples = list()\n",
    "    \n",
    "    email_content = email_text\n",
    "    sentences = [Sentence(cdp.tokenize_with_somajo(email_text))]\n",
    "\n",
    "    model.predict(sentences)\n",
    "\n",
    "    email_content_length = len(email_content)\n",
    "    email_content_copy = email_content[0:email_content_length]\n",
    "\n",
    "    token_id = 0\n",
    "    next_cursor = 0\n",
    "    for sentence in sentences:\n",
    "        labels = sentence.get_labels()\n",
    "        for label in labels:\n",
    "            text = label.data_point.text\n",
    "            start = email_content_copy.find(text)\n",
    "            if start == -1 and ' ' in text:\n",
    "                start = email_content_copy.find(text.split(' ')[0])\n",
    "                text = text.replace(' ', '')\n",
    "\n",
    "            if start != -1:\n",
    "                end = start + len(text)\n",
    "\n",
    "                token_id += 1\n",
    "                prev_cursor = next_cursor\n",
    "                next_cursor += end\n",
    "                email_content_copy = email_content[next_cursor:email_content_length]\n",
    "\n",
    "                start = prev_cursor + start\n",
    "                end = prev_cursor + end\n",
    "\n",
    "                tuples.append((\n",
    "                    'T' + str(token_id),\n",
    "                    label.value,\n",
    "                    start,\n",
    "                    end,\n",
    "                    email_content[start:end]\n",
    "                ))\n",
    "            else:\n",
    "                token_id += 1\n",
    "                tuples.append((\n",
    "                    'T' + str(token_id),\n",
    "                    label.value,\n",
    "                    -1,\n",
    "                    -1,\n",
    "                    text\n",
    "                ))\n",
    "\n",
    "    return pd.DataFrame(\n",
    "        tuples,\n",
    "        columns=[\"Token_ID\", \"Label\", \"Start\", \"End\", \"Token\"]\n",
    "    )"
   ]
  },
  {
   "cell_type": "code",
   "execution_count": 8,
   "id": "1d2d827c",
   "metadata": {},
   "outputs": [],
   "source": [
    "def collect_annotation_df_for_pseudonymized_text() -> Dict[str, Dict[str, Dict[str, Any]]]:\n",
    "    file_path_gelectra_adf_dict: Dict[str, Dict[str, Dict[str, Any]]] = dict()\n",
    "    with tqdm(total=len(predicted_text_df), smoothing=0) as progress_bar:\n",
    "        for idx in range(0, len(predicted_text_df)):\n",
    "            gelectra_adf_dict = get_annotation_df_from_model_prediction(\n",
    "                email_text=predicted_text_df.iloc[idx].PseudonymizedText,\n",
    "                model=model,\n",
    "                cdp=cdp_2022\n",
    "            ).to_dict()\n",
    "            file_path_gelectra_adf_dict[predicted_text_df.iloc[idx].FilePath] = gelectra_adf_dict\n",
    "            progress_bar.update(1)\n",
    "    return file_path_gelectra_adf_dict"
   ]
  },
  {
   "cell_type": "code",
   "execution_count": 9,
   "id": "6744cd4b",
   "metadata": {},
   "outputs": [
    {
     "name": "stderr",
     "output_type": "stream",
     "text": [
      "100%|███████████████████████████████████████| 2000/2000 [02:40<00:00, 12.43it/s]\n"
     ]
    }
   ],
   "source": [
    "file_path_gelectra_adf_dict = collect_annotation_df_for_pseudonymized_text()"
   ]
  },
  {
   "cell_type": "code",
   "execution_count": 10,
   "id": "2a632ca5",
   "metadata": {},
   "outputs": [],
   "source": [
    "predicted_text_df['GELECTRA_PseudonymizedTextADF'] = np.array(\n",
    "    [file_path_gelectra_adf_dict.get(file_path) for file_path in predicted_text_df['FilePath']]\n",
    ")"
   ]
  },
  {
   "cell_type": "code",
   "execution_count": 11,
   "id": "b6343b35",
   "metadata": {},
   "outputs": [],
   "source": [
    "predicted_text_df.to_csv(predicted_text_df_name)"
   ]
  }
 ],
 "metadata": {
  "kernelspec": {
   "display_name": "Python 3 (ipykernel)",
   "language": "python",
   "name": "python3"
  },
  "language_info": {
   "codemirror_mode": {
    "name": "ipython",
    "version": 3
   },
   "file_extension": ".py",
   "mimetype": "text/x-python",
   "name": "python",
   "nbconvert_exporter": "python",
   "pygments_lexer": "ipython3",
   "version": "3.9.10"
  }
 },
 "nbformat": 4,
 "nbformat_minor": 5
}
