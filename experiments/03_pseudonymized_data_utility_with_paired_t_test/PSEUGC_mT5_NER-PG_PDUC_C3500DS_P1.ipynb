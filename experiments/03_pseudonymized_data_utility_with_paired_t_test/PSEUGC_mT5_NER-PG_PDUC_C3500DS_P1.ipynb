{
 "cells": [
  {
   "cell_type": "code",
   "execution_count": 1,
   "id": "7009c378",
   "metadata": {},
   "outputs": [
    {
     "name": "stdout",
     "output_type": "stream",
     "text": [
      "Sun Mar  2 08:07:32 2025       \n",
      "+-----------------------------------------------------------------------------------------+\n",
      "| NVIDIA-SMI 550.127.08             Driver Version: 550.127.08     CUDA Version: 12.4     |\n",
      "|-----------------------------------------+------------------------+----------------------+\n",
      "| GPU  Name                 Persistence-M | Bus-Id          Disp.A | Volatile Uncorr. ECC |\n",
      "| Fan  Temp   Perf          Pwr:Usage/Cap |           Memory-Usage | GPU-Util  Compute M. |\n",
      "|                                         |                        |               MIG M. |\n",
      "|=========================================+========================+======================|\n",
      "|   0  NVIDIA A100-SXM4-40GB          On  |   00000000:4E:00.0 Off |                    0 |\n",
      "| N/A   30C    P0             55W /  400W |       1MiB /  40960MiB |      0%      Default |\n",
      "|                                         |                        |             Disabled |\n",
      "+-----------------------------------------+------------------------+----------------------+\n",
      "                                                                                         \n",
      "+-----------------------------------------------------------------------------------------+\n",
      "| Processes:                                                                              |\n",
      "|  GPU   GI   CI        PID   Type   Process name                              GPU Memory |\n",
      "|        ID   ID                                                               Usage      |\n",
      "|=========================================================================================|\n",
      "|  No running processes found                                                             |\n",
      "+-----------------------------------------------------------------------------------------+\n"
     ]
    }
   ],
   "source": [
    "!nvidia-smi"
   ]
  },
  {
   "cell_type": "code",
   "execution_count": 2,
   "id": "09bb7dea",
   "metadata": {},
   "outputs": [
    {
     "name": "stderr",
     "output_type": "stream",
     "text": [
      "/home/s81481/pseugc/lib/python3.9/site-packages/torchvision/io/image.py:13: UserWarning: Failed to load image Python extension: libtorch_cuda_cu.so: cannot open shared object file: No such file or directory\n",
      "  warn(f\"Failed to load image Python extension: {e}\")\n"
     ]
    }
   ],
   "source": [
    "import os\n",
    "import torch\n",
    "\n",
    "import numpy as np\n",
    "import pandas as pd\n",
    "import pytorch_lightning as pl\n",
    "\n",
    "from codealltag_data_processor_v2025 import CodealltagDataProcessor\n",
    "from pandas import DataFrame\n",
    "from tqdm import tqdm\n",
    "from transformers import MT5ForConditionalGeneration, MT5TokenizerFast\n",
    "from typing import Any, Dict, List, Tuple"
   ]
  },
  {
   "cell_type": "code",
   "execution_count": 3,
   "id": "3ab94484",
   "metadata": {},
   "outputs": [],
   "source": [
    "cdp_2022 = CodealltagDataProcessor(data_version='20220513', config_path=['codealltag_data_processor.yml'])\n",
    "cdp_2020 = CodealltagDataProcessor(data_version='20200518', config_path=['codealltag_data_processor.yml'])"
   ]
  },
  {
   "cell_type": "code",
   "execution_count": 4,
   "id": "e757a02b",
   "metadata": {},
   "outputs": [],
   "source": [
    "sample_sizes: List[int] = [1000 * item for item in range(3, 10+1)]\n",
    "used_file_paths: List[str] = list()\n",
    "for sample_size in sample_sizes:\n",
    "    dataset = cdp_2022.get_train_dev_test_datasetdict_for_sample_size(cdp_2020, sample_size, 1)\n",
    "    train_df = dataset[\"train\"].to_pandas()\n",
    "    dev_df = dataset[\"dev\"].to_pandas()\n",
    "    test_df = dataset[\"test\"].to_pandas()\n",
    "    used_file_paths.extend(train_df.FilePath.tolist())\n",
    "    used_file_paths.extend(dev_df.FilePath.tolist())\n",
    "    used_file_paths.extend(test_df.FilePath.tolist())"
   ]
  },
  {
   "cell_type": "code",
   "execution_count": 5,
   "id": "abf833cb",
   "metadata": {},
   "outputs": [
    {
     "data": {
      "text/plain": [
       "35195"
      ]
     },
     "execution_count": 5,
     "metadata": {},
     "output_type": "execute_result"
    }
   ],
   "source": [
    "len(set(used_file_paths))"
   ]
  },
  {
   "cell_type": "code",
   "execution_count": 6,
   "id": "b9178691",
   "metadata": {},
   "outputs": [
    {
     "data": {
      "text/plain": [
       "1468942"
      ]
     },
     "execution_count": 6,
     "metadata": {},
     "output_type": "execute_result"
    }
   ],
   "source": [
    "category_path_df = cdp_2022.get_category_path_df()\n",
    "category_path_df.shape[0]"
   ]
  },
  {
   "cell_type": "code",
   "execution_count": 7,
   "id": "8247b967",
   "metadata": {},
   "outputs": [
    {
     "data": {
      "text/plain": [
       "1433747"
      ]
     },
     "execution_count": 7,
     "metadata": {},
     "output_type": "execute_result"
    }
   ],
   "source": [
    "unused_category_path_df = category_path_df[\n",
    "    ~category_path_df.FilePath.isin(used_file_paths)\n",
    "]\n",
    "unused_category_path_df.shape[0]"
   ]
  },
  {
   "cell_type": "code",
   "execution_count": 8,
   "id": "7c973b26",
   "metadata": {},
   "outputs": [
    {
     "data": {
      "text/plain": [
       "1243594"
      ]
     },
     "execution_count": 8,
     "metadata": {},
     "output_type": "execute_result"
    }
   ],
   "source": [
    "unused_category_path_df = unused_category_path_df[\n",
    "    unused_category_path_df.FileSize <= cdp_2022.get_max_file_size()\n",
    "]\n",
    "unused_category_path_df.shape[0]"
   ]
  },
  {
   "cell_type": "code",
   "execution_count": 9,
   "id": "3dcd0d88",
   "metadata": {},
   "outputs": [
    {
     "data": {
      "text/plain": [
       "{'TRAVELS': 134127,\n",
       " 'PHILOSOPHY': 137344,\n",
       " 'FINANCE': 140041,\n",
       " 'MOVIES': 173947,\n",
       " 'EVENTS': 209331,\n",
       " 'GERMAN': 223174,\n",
       " 'TEENS': 225630}"
      ]
     },
     "execution_count": 9,
     "metadata": {},
     "output_type": "execute_result"
    }
   ],
   "source": [
    "cdp_2022.get_category_or_label_wise_count_or_ratio(unused_category_path_df)"
   ]
  },
  {
   "cell_type": "code",
   "execution_count": 10,
   "id": "537a4de0",
   "metadata": {},
   "outputs": [],
   "source": [
    "annotation_df = cdp_2022.get_annotation_df()"
   ]
  },
  {
   "cell_type": "code",
   "execution_count": 11,
   "id": "87a691b1",
   "metadata": {},
   "outputs": [],
   "source": [
    "unused_annotation_df = annotation_df[\n",
    "    annotation_df.FilePath.isin(\n",
    "        unused_category_path_df.FilePath.str.replace('.txt', '.ann', regex=True)\n",
    "    )\n",
    "]"
   ]
  },
  {
   "cell_type": "code",
   "execution_count": 12,
   "id": "7d7fa5ba",
   "metadata": {},
   "outputs": [
    {
     "data": {
      "text/plain": [
       "{'ZIP': 12047,\n",
       " 'STREET': 12812,\n",
       " 'STREETNO': 14103,\n",
       " 'USER': 20475,\n",
       " 'PHONE': 20640,\n",
       " 'UFID': 33207,\n",
       " 'FEMALE': 217537,\n",
       " 'DATE': 244550,\n",
       " 'CITY': 306691,\n",
       " 'EMAIL': 383949,\n",
       " 'ORG': 392836,\n",
       " 'URL': 465147,\n",
       " 'FAMILY': 855476,\n",
       " 'MALE': 1474664}"
      ]
     },
     "execution_count": 12,
     "metadata": {},
     "output_type": "execute_result"
    }
   ],
   "source": [
    "cdp_2022.get_category_or_label_wise_count_or_ratio(unused_annotation_df, category_wise=False)"
   ]
  },
  {
   "cell_type": "code",
   "execution_count": 13,
   "id": "e3d60537",
   "metadata": {},
   "outputs": [],
   "source": [
    "female_fps = set(unused_annotation_df[unused_annotation_df.Label=='FEMALE'].FilePath.tolist())\n",
    "phone_fps = set(unused_annotation_df[unused_annotation_df.Label=='PHONE'].FilePath.tolist())\n",
    "street_fps = set(unused_annotation_df[unused_annotation_df.Label=='STREET'].FilePath.tolist())\n",
    "streetno_fps = set(unused_annotation_df[unused_annotation_df.Label=='STREETNO'].FilePath.tolist())\n",
    "ufid_fps = set(unused_annotation_df[unused_annotation_df.Label=='UFID'].FilePath.tolist())\n",
    "user_fps = set(unused_annotation_df[unused_annotation_df.Label=='USER'].FilePath.tolist())\n",
    "zip_fps = set(unused_annotation_df[unused_annotation_df.Label=='ZIP'].FilePath.tolist())"
   ]
  },
  {
   "cell_type": "code",
   "execution_count": 14,
   "id": "6e2174b0",
   "metadata": {},
   "outputs": [],
   "source": [
    "female_fps_5k = np.random.RandomState(\n",
    "    cdp_2022.get_random_seed()\n",
    ").choice(\n",
    "    list(female_fps), size=5000, replace=False\n",
    ").tolist()\n",
    "\n",
    "phone_fps_2k = np.random.RandomState(\n",
    "    cdp_2022.get_random_seed()\n",
    ").choice(\n",
    "    list(phone_fps), size=2000, replace=False\n",
    ").tolist()\n",
    "\n",
    "street_fps_2k = np.random.RandomState(\n",
    "    cdp_2022.get_random_seed()\n",
    ").choice(\n",
    "    list(street_fps), size=2000, replace=False\n",
    ").tolist()\n",
    "\n",
    "streetno_fps_2k = np.random.RandomState(\n",
    "    cdp_2022.get_random_seed()\n",
    ").choice(\n",
    "    list(streetno_fps), size=2000, replace=False\n",
    ").tolist()\n",
    "\n",
    "user_fps_2k = np.random.RandomState(\n",
    "    cdp_2022.get_random_seed()\n",
    ").choice(\n",
    "    list(user_fps), size=2000, replace=False\n",
    ").tolist()\n",
    "\n",
    "ufid_fps_2k = np.random.RandomState(\n",
    "    cdp_2022.get_random_seed()\n",
    ").choice(\n",
    "    list(ufid_fps), size=2000, replace=False\n",
    ").tolist()\n",
    "\n",
    "zip_fps_2k = np.random.RandomState(\n",
    "    cdp_2022.get_random_seed()\n",
    ").choice(\n",
    "    list(zip_fps), size=2000, replace=False\n",
    ").tolist()"
   ]
  },
  {
   "cell_type": "code",
   "execution_count": 15,
   "id": "14c7b4bc",
   "metadata": {},
   "outputs": [],
   "source": [
    "aggregated_list = list(set(\n",
    "    phone_fps_2k+street_fps_2k+streetno_fps_2k+user_fps_2k+ufid_fps_2k+zip_fps_2k+female_fps_5k\n",
    "))"
   ]
  },
  {
   "cell_type": "code",
   "execution_count": 16,
   "id": "1146ebce",
   "metadata": {},
   "outputs": [
    {
     "data": {
      "text/plain": [
       "15705"
      ]
     },
     "execution_count": 16,
     "metadata": {},
     "output_type": "execute_result"
    }
   ],
   "source": [
    "len(aggregated_list)"
   ]
  },
  {
   "cell_type": "code",
   "execution_count": 17,
   "id": "d0b22a02",
   "metadata": {},
   "outputs": [],
   "source": [
    "aggregated_annotation_df = annotation_df[annotation_df.FilePath.isin(aggregated_list)]"
   ]
  },
  {
   "cell_type": "code",
   "execution_count": 18,
   "id": "5ae809d3",
   "metadata": {},
   "outputs": [
    {
     "data": {
      "text/plain": [
       "15705"
      ]
     },
     "execution_count": 18,
     "metadata": {},
     "output_type": "execute_result"
    }
   ],
   "source": [
    "len(set(aggregated_annotation_df.FilePath.tolist()))"
   ]
  },
  {
   "cell_type": "code",
   "execution_count": 19,
   "id": "177bfb57",
   "metadata": {},
   "outputs": [
    {
     "data": {
      "text/plain": [
       "{'USER': 3455,\n",
       " 'DATE': 4330,\n",
       " 'STREET': 5084,\n",
       " 'ZIP': 5102,\n",
       " 'UFID': 5144,\n",
       " 'STREETNO': 5892,\n",
       " 'PHONE': 6688,\n",
       " 'FEMALE': 7391,\n",
       " 'ORG': 10116,\n",
       " 'EMAIL': 10240,\n",
       " 'URL': 11603,\n",
       " 'CITY': 11886,\n",
       " 'FAMILY': 16773,\n",
       " 'MALE': 24113}"
      ]
     },
     "execution_count": 19,
     "metadata": {},
     "output_type": "execute_result"
    }
   ],
   "source": [
    "cdp_2022.get_category_or_label_wise_count_or_ratio(aggregated_annotation_df, category_wise=False)"
   ]
  },
  {
   "cell_type": "code",
   "execution_count": 20,
   "id": "defde18b",
   "metadata": {},
   "outputs": [],
   "source": [
    "selected_15K = np.random.RandomState(\n",
    "    cdp_2022.get_random_seed()\n",
    ").choice(\n",
    "    aggregated_list, size=15000, replace=False\n",
    ").tolist()"
   ]
  },
  {
   "cell_type": "code",
   "execution_count": 21,
   "id": "a605148e",
   "metadata": {},
   "outputs": [
    {
     "data": {
      "text/plain": [
       "15000"
      ]
     },
     "execution_count": 21,
     "metadata": {},
     "output_type": "execute_result"
    }
   ],
   "source": [
    "len(selected_15K)"
   ]
  },
  {
   "cell_type": "code",
   "execution_count": 22,
   "id": "c57b7a73",
   "metadata": {},
   "outputs": [],
   "source": [
    "selected_annotation_df = annotation_df[annotation_df.FilePath.isin(selected_15K)]"
   ]
  },
  {
   "cell_type": "code",
   "execution_count": 23,
   "id": "52f1a776",
   "metadata": {},
   "outputs": [
    {
     "data": {
      "text/plain": [
       "{'USER': 3304,\n",
       " 'DATE': 4094,\n",
       " 'STREET': 4875,\n",
       " 'ZIP': 4877,\n",
       " 'UFID': 4904,\n",
       " 'STREETNO': 5650,\n",
       " 'PHONE': 6388,\n",
       " 'FEMALE': 7062,\n",
       " 'ORG': 9614,\n",
       " 'EMAIL': 9768,\n",
       " 'URL': 11070,\n",
       " 'CITY': 11362,\n",
       " 'FAMILY': 15954,\n",
       " 'MALE': 22974}"
      ]
     },
     "execution_count": 23,
     "metadata": {},
     "output_type": "execute_result"
    }
   ],
   "source": [
    "cdp_2022.get_category_or_label_wise_count_or_ratio(selected_annotation_df, category_wise=False)"
   ]
  },
  {
   "cell_type": "code",
   "execution_count": 24,
   "id": "d071050c",
   "metadata": {},
   "outputs": [],
   "source": [
    "selected_category_path_df = category_path_df[\n",
    "    category_path_df.FilePath.isin(\n",
    "        selected_annotation_df.FilePath.str.replace('.ann', '.txt', regex=True)\n",
    "    )\n",
    "]"
   ]
  },
  {
   "cell_type": "code",
   "execution_count": 25,
   "id": "693fa618",
   "metadata": {},
   "outputs": [
    {
     "data": {
      "text/plain": [
       "15000"
      ]
     },
     "execution_count": 25,
     "metadata": {},
     "output_type": "execute_result"
    }
   ],
   "source": [
    "selected_category_path_df.shape[0]"
   ]
  },
  {
   "cell_type": "code",
   "execution_count": 26,
   "id": "029ce34e",
   "metadata": {},
   "outputs": [
    {
     "data": {
      "text/plain": [
       "{'PHILOSOPHY': 1302,\n",
       " 'GERMAN': 1754,\n",
       " 'TRAVELS': 2057,\n",
       " 'MOVIES': 2288,\n",
       " 'TEENS': 2360,\n",
       " 'FINANCE': 2469,\n",
       " 'EVENTS': 2770}"
      ]
     },
     "execution_count": 26,
     "metadata": {},
     "output_type": "execute_result"
    }
   ],
   "source": [
    "cdp_2022.get_category_or_label_wise_count_or_ratio(selected_category_path_df)"
   ]
  },
  {
   "cell_type": "code",
   "execution_count": 27,
   "id": "400f019a",
   "metadata": {},
   "outputs": [],
   "source": [
    "os.environ[\"TOKENIZERS_PARALLELISM\"] = \"false\""
   ]
  },
  {
   "cell_type": "code",
   "execution_count": 28,
   "id": "baa2c25a",
   "metadata": {},
   "outputs": [],
   "source": [
    "cache_dir = os.path.join(*['/home', 's81481', '.huggingface'])"
   ]
  },
  {
   "cell_type": "code",
   "execution_count": 29,
   "id": "94c7b3cd",
   "metadata": {},
   "outputs": [],
   "source": [
    "class LightningModel(pl.LightningModule):\n",
    "    \n",
    "    def __init__(self, hparam):\n",
    "        super(LightningModel, self).__init__()\n",
    "        self.hparam = hparam\n",
    "        self.model = MT5ForConditionalGeneration.from_pretrained(hparam.model_name_or_path, cache_dir=cache_dir)\n",
    "        self.tokenizer = MT5TokenizerFast.from_pretrained(hparam.model_name_or_path, cache_dir=cache_dir)\n",
    "\n",
    "    def forward(self, \n",
    "                input_ids,\n",
    "                attention_mask=None,\n",
    "                decoder_input_ids=None,\n",
    "                decoder_attention_mask=None,\n",
    "                labels=None):\n",
    "        \n",
    "        return self.model(\n",
    "            input_ids,\n",
    "            attention_mask=attention_mask,\n",
    "            decoder_input_ids=decoder_input_ids,\n",
    "            decoder_attention_mask=decoder_attention_mask,\n",
    "            labels=labels\n",
    "        )"
   ]
  },
  {
   "cell_type": "code",
   "execution_count": 30,
   "id": "72a37a6b",
   "metadata": {},
   "outputs": [
    {
     "data": {
      "text/plain": [
       "'logs/mT5/NER-PG/10K/k3/version_0/checkpoints/epoch=03-step=00003-val_loss=1.3927.ckpt'"
      ]
     },
     "execution_count": 30,
     "metadata": {},
     "output_type": "execute_result"
    }
   ],
   "source": [
    "model_dir = f\"logs/mT5/NER-PG/10K/k3/version_0/checkpoints/\"\n",
    "ckpt_name = next(iter(os.listdir(model_dir)), None)\n",
    "model_path = os.path.join(model_dir, ckpt_name); model_path"
   ]
  },
  {
   "cell_type": "code",
   "execution_count": 31,
   "id": "ab810857",
   "metadata": {},
   "outputs": [
    {
     "name": "stderr",
     "output_type": "stream",
     "text": [
      "/home/s81481/pseugc/lib/python3.9/site-packages/lightning_fabric/utilities/cloud_io.py:57: You are using `torch.load` with `weights_only=False` (the current default value), which uses the default pickle module implicitly. It is possible to construct malicious pickle data which will execute arbitrary code during unpickling (See https://github.com/pytorch/pytorch/blob/main/SECURITY.md#untrusted-models for more details). In a future release, the default value for `weights_only` will be flipped to `True`. This limits the functions that could be executed during unpickling. Arbitrary objects will no longer be allowed to be loaded via this mode unless they are explicitly allowlisted by the user via `torch.serialization.add_safe_globals`. We recommend you start setting `weights_only=True` for any use case where you don't have full control of the loaded file. Please open an issue on GitHub for any issues related to this experimental feature.\n",
      "/home/s81481/pseugc/lib/python3.9/site-packages/transformers/modeling_utils.py:349: FutureWarning: You are using `torch.load` with `weights_only=False` (the current default value), which uses the default pickle module implicitly. It is possible to construct malicious pickle data which will execute arbitrary code during unpickling (See https://github.com/pytorch/pytorch/blob/main/SECURITY.md#untrusted-models for more details). In a future release, the default value for `weights_only` will be flipped to `True`. This limits the functions that could be executed during unpickling. Arbitrary objects will no longer be allowed to be loaded via this mode unless they are explicitly allowlisted by the user via `torch.serialization.add_safe_globals`. We recommend you start setting `weights_only=True` for any use case where you don't have full control of the loaded file. Please open an issue on GitHub for any issues related to this experimental feature.\n",
      "  return torch.load(checkpoint_file, map_location=\"cpu\")\n"
     ]
    },
    {
     "data": {
      "application/vnd.jupyter.widget-view+json": {
       "model_id": "c1e1e6c57e5342138ed0d27718c19a9b",
       "version_major": 2,
       "version_minor": 0
      },
      "text/plain": [
       "Downloading:   0%|          | 0.00/702 [00:00<?, ?B/s]"
      ]
     },
     "metadata": {},
     "output_type": "display_data"
    }
   ],
   "source": [
    "lightning_model = LightningModel.load_from_checkpoint(model_path)"
   ]
  },
  {
   "cell_type": "code",
   "execution_count": 32,
   "id": "01b6b1c5",
   "metadata": {},
   "outputs": [],
   "source": [
    "def predict(lightning_model: LightningModel, input_text: str):\n",
    "    \n",
    "    model = lightning_model.model\n",
    "    tokenizer = lightning_model.tokenizer\n",
    "    \n",
    "    tokenized_outputs = tokenizer.batch_encode_plus(\n",
    "        [input_text],\n",
    "        max_length=512,\n",
    "        padding=\"max_length\",\n",
    "        truncation=True,\n",
    "        return_tensors=\"pt\"\n",
    "    )\n",
    "    input_ids = tokenized_outputs[\"input_ids\"]\n",
    "    attention_mask = tokenized_outputs[\"attention_mask\"]\n",
    "\n",
    "    device = torch.device(\"cuda\" if torch.cuda.is_available() else \"cpu\")\n",
    "    \n",
    "    model.eval()\n",
    "    model.to(device)\n",
    "    input_ids = input_ids.to(device)\n",
    "    attention_mask = attention_mask.to(device)\n",
    "\n",
    "    outs = model.generate(input_ids=input_ids,\n",
    "                          attention_mask=attention_mask,\n",
    "                          max_length=512,\n",
    "                          temperature=0.8,\n",
    "                          do_sample=True,\n",
    "                          top_k=100)\n",
    "    dec = [\n",
    "        tokenizer.decode(ids, skip_special_tokens=True, clean_up_tokenization_spaces=False).strip()\n",
    "        for ids in outs\n",
    "    ]\n",
    "\n",
    "    return dec[0]"
   ]
  },
  {
   "cell_type": "code",
   "execution_count": 43,
   "id": "8c1a109f",
   "metadata": {},
   "outputs": [],
   "source": [
    "def create_predicted_text_df(df: DataFrame, lightning_model: LightningModel, repeat: int = 5) -> None:\n",
    "    tuples: List[Tuple] = list()\n",
    "    df_count: int = 0\n",
    "    with tqdm(total=len(df), position=0, leave=True) as progress_bar:\n",
    "        for idx, row in df.iterrows():\n",
    "            row_items: List[str] = list()\n",
    "            file_path = row.FilePath\n",
    "            row_items.append(file_path)\n",
    "            input_text = cdp_2022.read_email(file_path)[1]\n",
    "            for repeat_num in range(0, repeat):\n",
    "                generated_text = predict(lightning_model=lightning_model, input_text=input_text)\n",
    "                row_items.append(generated_text)\n",
    "            tuples.append(tuple(row_items))\n",
    "            progress_bar.update(1)\n",
    "            \n",
    "            if len(tuples) % 3000 == 0:\n",
    "                df_count += 1\n",
    "                output_df = pd.DataFrame(tuples, columns=[\"FilePath\", *[f'V{item+1}' for item in range(0, repeat)]])\n",
    "                output_df.to_csv(f'PredictedText_DF_{cdp_2022.get_data_version()}_15K_{df_count}.csv')\n",
    "                tuples = list()"
   ]
  },
  {
   "cell_type": "code",
   "execution_count": null,
   "id": "fbd000f3",
   "metadata": {},
   "outputs": [
    {
     "name": "stderr",
     "output_type": "stream",
     "text": [
      " 88%|████████████████████████████    | 13132/15000 [32:29:44<3:29:32,  6.73s/it]"
     ]
    }
   ],
   "source": [
    "create_predicted_text_df(df=selected_category_path_df, lightning_model=lightning_model)"
   ]
  }
 ],
 "metadata": {
  "kernelspec": {
   "display_name": "Python 3 (ipykernel)",
   "language": "python",
   "name": "python3"
  },
  "language_info": {
   "codemirror_mode": {
    "name": "ipython",
    "version": 3
   },
   "file_extension": ".py",
   "mimetype": "text/x-python",
   "name": "python",
   "nbconvert_exporter": "python",
   "pygments_lexer": "ipython3",
   "version": "3.9.10"
  }
 },
 "nbformat": 4,
 "nbformat_minor": 5
}
