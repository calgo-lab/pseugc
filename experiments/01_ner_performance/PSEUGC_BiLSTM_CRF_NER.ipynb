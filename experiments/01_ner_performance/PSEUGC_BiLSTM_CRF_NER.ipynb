{
 "cells": [
  {
   "cell_type": "code",
   "execution_count": 1,
   "id": "c3863314",
   "metadata": {},
   "outputs": [],
   "source": [
    "import flair\n",
    "import matplotlib.pyplot as plt\n",
    "import os\n",
    "import pandas as pd\n",
    "\n",
    "from codealltag_data_processor_v2025 import CodealltagDataProcessor\n",
    "from flair.data import Corpus, Dictionary, Sentence\n",
    "from flair.datasets import ColumnCorpus\n",
    "from flair.embeddings import (\n",
    "    BytePairEmbeddings,\n",
    "    CharacterEmbeddings,\n",
    "    StackedEmbeddings,\n",
    "    TokenEmbeddings\n",
    ")\n",
    "from flair.models import SequenceTagger\n",
    "from flair.nn import Model\n",
    "from flair.trainers import ModelTrainer\n",
    "from pathlib import Path"
   ]
  },
  {
   "cell_type": "code",
   "execution_count": 2,
   "id": "40816482",
   "metadata": {},
   "outputs": [],
   "source": [
    "flair.cache_root = Path(os.path.join(*['/home', 's81481', '.flair']))"
   ]
  },
  {
   "cell_type": "code",
   "execution_count": 3,
   "id": "0fc4264a",
   "metadata": {},
   "outputs": [],
   "source": [
    "cdp_2022 = CodealltagDataProcessor(data_version='20220513', config_path=['codealltag_data_processor.yml'])\n",
    "cdp_2020 = CodealltagDataProcessor(data_version='20200518', config_path=['codealltag_data_processor.yml'])"
   ]
  },
  {
   "cell_type": "code",
   "execution_count": 4,
   "id": "1c8d844c",
   "metadata": {},
   "outputs": [],
   "source": [
    "sample_size = 10_000\n",
    "k = 5"
   ]
  },
  {
   "cell_type": "code",
   "execution_count": 5,
   "id": "7f340fe4",
   "metadata": {},
   "outputs": [],
   "source": [
    "model_dir_path = os.path.join(*[\"logs\", \"BiLSTM_CRF\", \"NER\", str(sample_size//1000)+\"K\", \"k\"+str(k)])\n",
    "os.makedirs(model_dir_path, exist_ok=True)"
   ]
  },
  {
   "cell_type": "code",
   "execution_count": 6,
   "id": "14582556",
   "metadata": {},
   "outputs": [],
   "source": [
    "dataset = cdp_2022.get_train_dev_test_datasetdict_for_sample_size(cdp_2020, sample_size, k)"
   ]
  },
  {
   "cell_type": "code",
   "execution_count": 7,
   "id": "e8563aa3",
   "metadata": {},
   "outputs": [],
   "source": [
    "tmp_data_dir = Path(\"tmp_data_dir\")\n",
    "tmp_data_dir.mkdir(parents=True, exist_ok=True)\n",
    "for file in tmp_data_dir.glob(\"*\"):\n",
    "    if file.is_file():\n",
    "        file.unlink()"
   ]
  },
  {
   "cell_type": "code",
   "execution_count": 8,
   "id": "93b9bfa6",
   "metadata": {},
   "outputs": [],
   "source": [
    "train_df = dataset[\"train\"].to_pandas()\n",
    "dev_df = dataset[\"dev\"].to_pandas()\n",
    "test_df = dataset[\"test\"].to_pandas()"
   ]
  },
  {
   "cell_type": "code",
   "execution_count": 9,
   "id": "9c156bab",
   "metadata": {},
   "outputs": [],
   "source": [
    "train_text = train_df.InputType1.str.cat(sep=\"\\n\")\n",
    "dev_text = dev_df.InputType1.str.cat(sep=\"\\n\")\n",
    "test_text = test_df.InputType1.str.cat(sep=\"\\n\")"
   ]
  },
  {
   "cell_type": "code",
   "execution_count": 10,
   "id": "4d1900df",
   "metadata": {},
   "outputs": [],
   "source": [
    "with open(os.path.join(tmp_data_dir, \"train.txt\"), \"w\", encoding=\"utf-8\") as writer:        \n",
    "    writer.write(train_text)\n",
    "\n",
    "with open(os.path.join(tmp_data_dir, \"dev.txt\"), \"w\", encoding=\"utf-8\") as writer:        \n",
    "    writer.write(dev_text)\n",
    "    \n",
    "with open(os.path.join(tmp_data_dir, \"test.txt\"), \"w\", encoding=\"utf-8\") as writer:        \n",
    "    writer.write(test_text)"
   ]
  },
  {
   "cell_type": "code",
   "execution_count": 11,
   "id": "a7a466da",
   "metadata": {
    "scrolled": true
   },
   "outputs": [
    {
     "name": "stdout",
     "output_type": "stream",
     "text": [
      "total 4404\r\n",
      "drwxr-xr-x 2 root root       3 Feb  4 16:38 .\r\n",
      "drwxr-xr-x 7 root root      18 Feb  4 16:38 ..\r\n",
      "-rw-r--r-- 1 root root  709147 Feb  4 16:38 dev.txt\r\n",
      "-rw-r--r-- 1 root root  927496 Feb  4 16:38 test.txt\r\n",
      "-rw-r--r-- 1 root root 2871907 Feb  4 16:38 train.txt\r\n"
     ]
    }
   ],
   "source": [
    "!ls -la tmp_data_dir"
   ]
  },
  {
   "cell_type": "code",
   "execution_count": 12,
   "id": "159cef5b",
   "metadata": {
    "scrolled": true
   },
   "outputs": [
    {
     "name": "stdout",
     "output_type": "stream",
     "text": [
      "2025-02-04 16:38:45,967 Reading data from tmp_data_dir\n",
      "2025-02-04 16:38:45,968 Train: tmp_data_dir/train.txt\n",
      "2025-02-04 16:38:45,968 Dev: tmp_data_dir/dev.txt\n",
      "2025-02-04 16:38:45,968 Test: tmp_data_dir/test.txt\n"
     ]
    }
   ],
   "source": [
    "corpus: Corpus = ColumnCorpus(tmp_data_dir, {0: 'text', 1: 'ner'})"
   ]
  },
  {
   "cell_type": "code",
   "execution_count": 13,
   "id": "aa6582e2",
   "metadata": {
    "scrolled": false
   },
   "outputs": [
    {
     "name": "stdout",
     "output_type": "stream",
     "text": [
      "2025-02-04 16:38:52,767 Computing label dictionary. Progress:\n"
     ]
    },
    {
     "name": "stderr",
     "output_type": "stream",
     "text": [
      "6400it [00:00, 26727.95it/s]"
     ]
    },
    {
     "name": "stdout",
     "output_type": "stream",
     "text": [
      "2025-02-04 16:38:53,030 Dictionary created for label 'ner' with 15 values: MALE (seen 8689 times), FAMILY (seen 5832 times), URL (seen 3273 times), EMAIL (seen 2692 times), PHONE (seen 2265 times), CITY (seen 2034 times), DATE (seen 1457 times), STREET (seen 967 times), ZIP (seen 964 times), STREETNO (seen 913 times), FEMALE (seen 887 times), UFID (seen 726 times), ORG (seen 660 times), USER (seen 146 times)\n"
     ]
    },
    {
     "name": "stderr",
     "output_type": "stream",
     "text": [
      "\n"
     ]
    }
   ],
   "source": [
    "label_dict: Dictionary = corpus.make_label_dictionary(label_type=\"ner\")"
   ]
  },
  {
   "cell_type": "code",
   "execution_count": 14,
   "id": "e68514b2",
   "metadata": {},
   "outputs": [
    {
     "name": "stdout",
     "output_type": "stream",
     "text": [
      "[b'<unk>', b'MALE', b'FAMILY', b'URL', b'EMAIL', b'PHONE', b'CITY', b'DATE', b'STREET', b'ZIP', b'STREETNO', b'FEMALE', b'UFID', b'ORG', b'USER']\n"
     ]
    }
   ],
   "source": [
    "print(label_dict.idx2item)"
   ]
  },
  {
   "cell_type": "code",
   "execution_count": 15,
   "id": "86de50b7",
   "metadata": {
    "scrolled": true
   },
   "outputs": [],
   "source": [
    "embeddings: TokenEmbeddings = StackedEmbeddings(\n",
    "    [\n",
    "        BytePairEmbeddings(\"de\"),\n",
    "        CharacterEmbeddings()\n",
    "    ]\n",
    ")"
   ]
  },
  {
   "cell_type": "code",
   "execution_count": 16,
   "id": "70456058",
   "metadata": {
    "scrolled": true
   },
   "outputs": [
    {
     "name": "stdout",
     "output_type": "stream",
     "text": [
      "2025-02-04 16:38:53,943 SequenceTagger predicts: Dictionary with 57 tags: O, S-MALE, B-MALE, E-MALE, I-MALE, S-FAMILY, B-FAMILY, E-FAMILY, I-FAMILY, S-URL, B-URL, E-URL, I-URL, S-EMAIL, B-EMAIL, E-EMAIL, I-EMAIL, S-PHONE, B-PHONE, E-PHONE, I-PHONE, S-CITY, B-CITY, E-CITY, I-CITY, S-DATE, B-DATE, E-DATE, I-DATE, S-STREET, B-STREET, E-STREET, I-STREET, S-ZIP, B-ZIP, E-ZIP, I-ZIP, S-STREETNO, B-STREETNO, E-STREETNO, I-STREETNO, S-FEMALE, B-FEMALE, E-FEMALE, I-FEMALE, S-UFID, B-UFID, E-UFID, I-UFID, S-ORG\n"
     ]
    }
   ],
   "source": [
    "tagger: SequenceTagger = SequenceTagger(\n",
    "    hidden_size=256,\n",
    "    embeddings=embeddings,\n",
    "    tag_dictionary=label_dict,\n",
    "    tag_type=\"ner\",\n",
    "    use_crf=True,\n",
    "    use_rnn=True,\n",
    "    reproject_embeddings=True\n",
    ")\n",
    "tagger.label_dictionary.add_unk = True"
   ]
  },
  {
   "cell_type": "code",
   "execution_count": 17,
   "id": "4ab28e1e",
   "metadata": {},
   "outputs": [],
   "source": [
    "trainer: ModelTrainer = ModelTrainer(tagger, corpus)"
   ]
  },
  {
   "cell_type": "code",
   "execution_count": 18,
   "id": "367dfdc5",
   "metadata": {},
   "outputs": [
    {
     "name": "stdout",
     "output_type": "stream",
     "text": [
      "2025-02-04 16:38:53,970 tensorboard logging path is logs/BiLSTM_CRF/NER/10K/k5\n",
      "2025-02-04 16:38:54,283 ----------------------------------------------------------------------------------------------------\n",
      "2025-02-04 16:38:54,284 Model: \"SequenceTagger(\n",
      "  (embeddings): StackedEmbeddings(\n",
      "    (list_embedding_0): BytePairEmbeddings(model=0-bpe-de-100000-50)\n",
      "    (list_embedding_1): CharacterEmbeddings(\n",
      "      (char_embedding): Embedding(275, 25)\n",
      "      (char_rnn): LSTM(25, 25, bidirectional=True)\n",
      "    )\n",
      "  )\n",
      "  (word_dropout): WordDropout(p=0.05)\n",
      "  (locked_dropout): LockedDropout(p=0.5)\n",
      "  (embedding2nn): Linear(in_features=150, out_features=150, bias=True)\n",
      "  (rnn): LSTM(150, 256, batch_first=True, bidirectional=True)\n",
      "  (linear): Linear(in_features=512, out_features=59, bias=True)\n",
      "  (loss_function): ViterbiLoss()\n",
      "  (crf): CRF()\n",
      ")\"\n",
      "2025-02-04 16:38:54,285 ----------------------------------------------------------------------------------------------------\n",
      "2025-02-04 16:38:54,285 Corpus: \"Corpus: 6400 train + 1600 dev + 2000 test sentences\"\n",
      "2025-02-04 16:38:54,286 ----------------------------------------------------------------------------------------------------\n",
      "2025-02-04 16:38:54,286 Parameters:\n",
      "2025-02-04 16:38:54,287  - learning_rate: \"0.100000\"\n",
      "2025-02-04 16:38:54,287  - mini_batch_size: \"16\"\n",
      "2025-02-04 16:38:54,288  - patience: \"3\"\n",
      "2025-02-04 16:38:54,288  - anneal_factor: \"0.5\"\n",
      "2025-02-04 16:38:54,289  - max_epochs: \"100\"\n",
      "2025-02-04 16:38:54,289  - shuffle: \"True\"\n",
      "2025-02-04 16:38:54,289  - train_with_dev: \"False\"\n",
      "2025-02-04 16:38:54,290  - batch_growth_annealing: \"False\"\n",
      "2025-02-04 16:38:54,290 ----------------------------------------------------------------------------------------------------\n",
      "2025-02-04 16:38:54,291 Model training base path: \"logs/BiLSTM_CRF/NER/10K/k5\"\n",
      "2025-02-04 16:38:54,291 ----------------------------------------------------------------------------------------------------\n",
      "2025-02-04 16:38:54,291 Device: cuda:0\n",
      "2025-02-04 16:38:54,292 ----------------------------------------------------------------------------------------------------\n",
      "2025-02-04 16:38:54,292 Embeddings storage mode: cpu\n",
      "2025-02-04 16:38:54,293 ----------------------------------------------------------------------------------------------------\n",
      "2025-02-04 16:39:12,678 epoch 1 - iter 40/400 - loss 1.09841509 - samples/sec: 34.82 - lr: 0.100000\n",
      "2025-02-04 16:39:34,598 epoch 1 - iter 80/400 - loss 0.82361808 - samples/sec: 29.23 - lr: 0.100000\n",
      "2025-02-04 16:39:53,387 epoch 1 - iter 120/400 - loss 0.66278328 - samples/sec: 34.10 - lr: 0.100000\n",
      "2025-02-04 16:40:10,292 epoch 1 - iter 160/400 - loss 0.55775381 - samples/sec: 38.02 - lr: 0.100000\n",
      "2025-02-04 16:40:26,085 epoch 1 - iter 200/400 - loss 0.50364131 - samples/sec: 40.57 - lr: 0.100000\n",
      "2025-02-04 16:40:41,724 epoch 1 - iter 240/400 - loss 0.45061118 - samples/sec: 40.98 - lr: 0.100000\n",
      "2025-02-04 16:41:02,153 epoch 1 - iter 280/400 - loss 0.39599046 - samples/sec: 31.36 - lr: 0.100000\n",
      "2025-02-04 16:41:24,660 epoch 1 - iter 320/400 - loss 0.35264145 - samples/sec: 28.46 - lr: 0.100000\n",
      "2025-02-04 16:41:45,231 epoch 1 - iter 360/400 - loss 0.32845664 - samples/sec: 31.14 - lr: 0.100000\n",
      "2025-02-04 16:42:07,958 epoch 1 - iter 400/400 - loss 0.30729274 - samples/sec: 28.20 - lr: 0.100000\n",
      "2025-02-04 16:42:07,972 ----------------------------------------------------------------------------------------------------\n",
      "2025-02-04 16:42:07,973 EPOCH 1 done: loss 0.3073 - lr 0.100000\n"
     ]
    },
    {
     "name": "stderr",
     "output_type": "stream",
     "text": [
      "100%|█████████████████████████████████████████| 100/100 [00:30<00:00,  3.32it/s]"
     ]
    },
    {
     "name": "stdout",
     "output_type": "stream",
     "text": [
      "2025-02-04 16:42:38,156 Evaluating as a multi-label problem: False\n",
      "2025-02-04 16:42:38,211 DEV : loss 0.09586566686630249 - f1-score (micro avg)  0.8443\n"
     ]
    },
    {
     "name": "stderr",
     "output_type": "stream",
     "text": [
      "\n"
     ]
    },
    {
     "name": "stdout",
     "output_type": "stream",
     "text": [
      "2025-02-04 16:42:38,684 BAD EPOCHS (no improvement): 0\n",
      "2025-02-04 16:42:38,907 saving best model\n",
      "2025-02-04 16:42:39,097 ----------------------------------------------------------------------------------------------------\n",
      "2025-02-04 16:42:58,042 epoch 2 - iter 40/400 - loss 0.13302219 - samples/sec: 33.79 - lr: 0.100000\n",
      "2025-02-04 16:43:17,443 epoch 2 - iter 80/400 - loss 0.12789726 - samples/sec: 33.03 - lr: 0.100000\n",
      "2025-02-04 16:43:36,349 epoch 2 - iter 120/400 - loss 0.12617248 - samples/sec: 33.89 - lr: 0.100000\n",
      "2025-02-04 16:43:55,764 epoch 2 - iter 160/400 - loss 0.12322652 - samples/sec: 33.01 - lr: 0.100000\n",
      "2025-02-04 16:44:15,772 epoch 2 - iter 200/400 - loss 0.12048413 - samples/sec: 32.02 - lr: 0.100000\n",
      "2025-02-04 16:44:34,432 epoch 2 - iter 240/400 - loss 0.11749419 - samples/sec: 34.36 - lr: 0.100000\n",
      "2025-02-04 16:44:53,611 epoch 2 - iter 280/400 - loss 0.11426627 - samples/sec: 33.42 - lr: 0.100000\n",
      "2025-02-04 16:45:13,259 epoch 2 - iter 320/400 - loss 0.11089390 - samples/sec: 32.61 - lr: 0.100000\n",
      "2025-02-04 16:45:32,961 epoch 2 - iter 360/400 - loss 0.10854972 - samples/sec: 32.54 - lr: 0.100000\n",
      "2025-02-04 16:45:52,582 epoch 2 - iter 400/400 - loss 0.10575006 - samples/sec: 32.69 - lr: 0.100000\n",
      "2025-02-04 16:45:52,611 ----------------------------------------------------------------------------------------------------\n",
      "2025-02-04 16:45:52,611 EPOCH 2 done: loss 0.1058 - lr 0.100000\n"
     ]
    },
    {
     "name": "stderr",
     "output_type": "stream",
     "text": [
      "100%|█████████████████████████████████████████| 100/100 [00:26<00:00,  3.76it/s]"
     ]
    },
    {
     "name": "stdout",
     "output_type": "stream",
     "text": [
      "2025-02-04 16:46:19,201 Evaluating as a multi-label problem: False\n",
      "2025-02-04 16:46:19,255 DEV : loss 0.05648304894566536 - f1-score (micro avg)  0.9129\n"
     ]
    },
    {
     "name": "stderr",
     "output_type": "stream",
     "text": [
      "\n"
     ]
    },
    {
     "name": "stdout",
     "output_type": "stream",
     "text": [
      "2025-02-04 16:46:19,674 BAD EPOCHS (no improvement): 0\n",
      "2025-02-04 16:46:19,896 saving best model\n",
      "2025-02-04 16:46:20,101 ----------------------------------------------------------------------------------------------------\n",
      "2025-02-04 16:46:39,933 epoch 3 - iter 40/400 - loss 0.08421212 - samples/sec: 32.28 - lr: 0.100000\n",
      "2025-02-04 16:46:59,553 epoch 3 - iter 80/400 - loss 0.08693981 - samples/sec: 32.66 - lr: 0.100000\n",
      "2025-02-04 16:47:18,360 epoch 3 - iter 120/400 - loss 0.08563343 - samples/sec: 34.07 - lr: 0.100000\n",
      "2025-02-04 16:47:36,997 epoch 3 - iter 160/400 - loss 0.08563685 - samples/sec: 34.42 - lr: 0.100000\n",
      "2025-02-04 16:47:55,292 epoch 3 - iter 200/400 - loss 0.08498733 - samples/sec: 35.02 - lr: 0.100000\n",
      "2025-02-04 16:48:15,053 epoch 3 - iter 240/400 - loss 0.08357146 - samples/sec: 32.43 - lr: 0.100000\n",
      "2025-02-04 16:48:33,653 epoch 3 - iter 280/400 - loss 0.08267142 - samples/sec: 34.46 - lr: 0.100000\n",
      "2025-02-04 16:48:52,986 epoch 3 - iter 320/400 - loss 0.08089930 - samples/sec: 33.15 - lr: 0.100000\n",
      "2025-02-04 16:49:12,821 epoch 3 - iter 360/400 - loss 0.08026423 - samples/sec: 32.32 - lr: 0.100000\n",
      "2025-02-04 16:49:32,021 epoch 3 - iter 400/400 - loss 0.07904821 - samples/sec: 33.41 - lr: 0.100000\n",
      "2025-02-04 16:49:32,041 ----------------------------------------------------------------------------------------------------\n",
      "2025-02-04 16:49:32,042 EPOCH 3 done: loss 0.0790 - lr 0.100000\n"
     ]
    },
    {
     "name": "stderr",
     "output_type": "stream",
     "text": [
      "100%|█████████████████████████████████████████| 100/100 [00:25<00:00,  3.97it/s]"
     ]
    },
    {
     "name": "stdout",
     "output_type": "stream",
     "text": [
      "2025-02-04 16:49:57,272 Evaluating as a multi-label problem: False\n",
      "2025-02-04 16:49:57,327 DEV : loss 0.04492875561118126 - f1-score (micro avg)  0.9306\n"
     ]
    },
    {
     "name": "stderr",
     "output_type": "stream",
     "text": [
      "\n"
     ]
    },
    {
     "name": "stdout",
     "output_type": "stream",
     "text": [
      "2025-02-04 16:49:57,756 BAD EPOCHS (no improvement): 0\n",
      "2025-02-04 16:49:57,979 saving best model\n",
      "2025-02-04 16:49:58,184 ----------------------------------------------------------------------------------------------------\n",
      "2025-02-04 16:50:17,172 epoch 4 - iter 40/400 - loss 0.06844505 - samples/sec: 33.72 - lr: 0.100000\n",
      "2025-02-04 16:50:37,860 epoch 4 - iter 80/400 - loss 0.07049321 - samples/sec: 31.00 - lr: 0.100000\n",
      "2025-02-04 16:50:56,393 epoch 4 - iter 120/400 - loss 0.07037516 - samples/sec: 34.59 - lr: 0.100000\n",
      "2025-02-04 16:51:15,330 epoch 4 - iter 160/400 - loss 0.07128983 - samples/sec: 33.87 - lr: 0.100000\n",
      "2025-02-04 16:51:34,847 epoch 4 - iter 200/400 - loss 0.06860200 - samples/sec: 32.82 - lr: 0.100000\n",
      "2025-02-04 16:51:53,478 epoch 4 - iter 240/400 - loss 0.06850485 - samples/sec: 34.46 - lr: 0.100000\n",
      "2025-02-04 16:52:12,677 epoch 4 - iter 280/400 - loss 0.06734902 - samples/sec: 33.38 - lr: 0.100000\n",
      "2025-02-04 16:52:31,672 epoch 4 - iter 320/400 - loss 0.06705522 - samples/sec: 33.78 - lr: 0.100000\n",
      "2025-02-04 16:52:51,528 epoch 4 - iter 360/400 - loss 0.06675083 - samples/sec: 32.28 - lr: 0.100000\n",
      "2025-02-04 16:53:11,414 epoch 4 - iter 400/400 - loss 0.06650352 - samples/sec: 32.22 - lr: 0.100000\n",
      "2025-02-04 16:53:11,460 ----------------------------------------------------------------------------------------------------\n",
      "2025-02-04 16:53:11,461 EPOCH 4 done: loss 0.0665 - lr 0.100000\n"
     ]
    },
    {
     "name": "stderr",
     "output_type": "stream",
     "text": [
      "100%|█████████████████████████████████████████| 100/100 [00:25<00:00,  3.92it/s]"
     ]
    },
    {
     "name": "stdout",
     "output_type": "stream",
     "text": [
      "2025-02-04 16:53:37,002 Evaluating as a multi-label problem: False\n",
      "2025-02-04 16:53:37,056 DEV : loss 0.03792620077729225 - f1-score (micro avg)  0.9393\n"
     ]
    },
    {
     "name": "stderr",
     "output_type": "stream",
     "text": [
      "\n"
     ]
    },
    {
     "name": "stdout",
     "output_type": "stream",
     "text": [
      "2025-02-04 16:53:37,523 BAD EPOCHS (no improvement): 0\n",
      "2025-02-04 16:53:37,745 saving best model\n",
      "2025-02-04 16:53:37,952 ----------------------------------------------------------------------------------------------------\n",
      "2025-02-04 16:53:56,861 epoch 5 - iter 40/400 - loss 0.06964933 - samples/sec: 33.86 - lr: 0.100000\n",
      "2025-02-04 16:54:15,419 epoch 5 - iter 80/400 - loss 0.06211883 - samples/sec: 34.54 - lr: 0.100000\n",
      "2025-02-04 16:54:35,117 epoch 5 - iter 120/400 - loss 0.06267392 - samples/sec: 32.53 - lr: 0.100000\n",
      "2025-02-04 16:54:55,618 epoch 5 - iter 160/400 - loss 0.06189446 - samples/sec: 31.25 - lr: 0.100000\n",
      "2025-02-04 16:55:14,111 epoch 5 - iter 200/400 - loss 0.06182223 - samples/sec: 34.64 - lr: 0.100000\n",
      "2025-02-04 16:55:32,852 epoch 5 - iter 240/400 - loss 0.06162086 - samples/sec: 34.18 - lr: 0.100000\n",
      "2025-02-04 16:55:51,438 epoch 5 - iter 280/400 - loss 0.06075389 - samples/sec: 34.47 - lr: 0.100000\n",
      "2025-02-04 16:56:10,868 epoch 5 - iter 320/400 - loss 0.06068449 - samples/sec: 33.00 - lr: 0.100000\n",
      "2025-02-04 16:56:31,068 epoch 5 - iter 360/400 - loss 0.06047175 - samples/sec: 31.72 - lr: 0.100000\n",
      "2025-02-04 16:56:50,837 epoch 5 - iter 400/400 - loss 0.05993156 - samples/sec: 32.42 - lr: 0.100000\n",
      "2025-02-04 16:56:50,855 ----------------------------------------------------------------------------------------------------\n",
      "2025-02-04 16:56:50,855 EPOCH 5 done: loss 0.0599 - lr 0.100000\n"
     ]
    },
    {
     "name": "stderr",
     "output_type": "stream",
     "text": [
      "100%|█████████████████████████████████████████| 100/100 [00:25<00:00,  3.99it/s]"
     ]
    },
    {
     "name": "stdout",
     "output_type": "stream",
     "text": [
      "2025-02-04 16:57:15,955 Evaluating as a multi-label problem: False\n",
      "2025-02-04 16:57:16,010 DEV : loss 0.035507526248693466 - f1-score (micro avg)  0.9403\n"
     ]
    },
    {
     "name": "stderr",
     "output_type": "stream",
     "text": [
      "\n"
     ]
    },
    {
     "name": "stdout",
     "output_type": "stream",
     "text": [
      "2025-02-04 16:57:16,431 BAD EPOCHS (no improvement): 0\n",
      "2025-02-04 16:57:16,653 saving best model\n",
      "2025-02-04 16:57:16,860 ----------------------------------------------------------------------------------------------------\n",
      "2025-02-04 16:57:36,200 epoch 6 - iter 40/400 - loss 0.05617621 - samples/sec: 33.10 - lr: 0.100000\n",
      "2025-02-04 16:57:55,777 epoch 6 - iter 80/400 - loss 0.05523558 - samples/sec: 32.75 - lr: 0.100000\n",
      "2025-02-04 16:58:15,647 epoch 6 - iter 120/400 - loss 0.05611422 - samples/sec: 32.25 - lr: 0.100000\n",
      "2025-02-04 16:58:34,991 epoch 6 - iter 160/400 - loss 0.05432357 - samples/sec: 33.13 - lr: 0.100000\n",
      "2025-02-04 16:58:53,958 epoch 6 - iter 200/400 - loss 0.05469733 - samples/sec: 33.78 - lr: 0.100000\n",
      "2025-02-04 16:59:12,575 epoch 6 - iter 240/400 - loss 0.05468755 - samples/sec: 34.42 - lr: 0.100000\n",
      "2025-02-04 16:59:32,718 epoch 6 - iter 280/400 - loss 0.05454868 - samples/sec: 31.80 - lr: 0.100000\n",
      "2025-02-04 16:59:52,050 epoch 6 - iter 320/400 - loss 0.05421334 - samples/sec: 33.24 - lr: 0.100000\n",
      "2025-02-04 17:00:11,176 epoch 6 - iter 360/400 - loss 0.05384994 - samples/sec: 33.50 - lr: 0.100000\n",
      "2025-02-04 17:00:30,578 epoch 6 - iter 400/400 - loss 0.05372707 - samples/sec: 33.02 - lr: 0.100000\n",
      "2025-02-04 17:00:30,596 ----------------------------------------------------------------------------------------------------\n",
      "2025-02-04 17:00:30,596 EPOCH 6 done: loss 0.0537 - lr 0.100000\n"
     ]
    },
    {
     "name": "stderr",
     "output_type": "stream",
     "text": [
      "100%|█████████████████████████████████████████| 100/100 [00:25<00:00,  3.99it/s]"
     ]
    },
    {
     "name": "stdout",
     "output_type": "stream",
     "text": [
      "2025-02-04 17:00:55,673 Evaluating as a multi-label problem: False\n",
      "2025-02-04 17:00:55,729 DEV : loss 0.033323973417282104 - f1-score (micro avg)  0.9478\n"
     ]
    },
    {
     "name": "stderr",
     "output_type": "stream",
     "text": [
      "\n"
     ]
    },
    {
     "name": "stdout",
     "output_type": "stream",
     "text": [
      "2025-02-04 17:00:56,170 BAD EPOCHS (no improvement): 0\n",
      "2025-02-04 17:00:56,394 saving best model\n",
      "2025-02-04 17:00:56,651 ----------------------------------------------------------------------------------------------------\n",
      "2025-02-04 17:01:15,595 epoch 7 - iter 40/400 - loss 0.05034088 - samples/sec: 33.80 - lr: 0.100000\n",
      "2025-02-04 17:01:34,937 epoch 7 - iter 80/400 - loss 0.04881641 - samples/sec: 33.22 - lr: 0.100000\n",
      "2025-02-04 17:01:53,425 epoch 7 - iter 120/400 - loss 0.04958080 - samples/sec: 34.66 - lr: 0.100000\n",
      "2025-02-04 17:02:12,757 epoch 7 - iter 160/400 - loss 0.04901924 - samples/sec: 33.20 - lr: 0.100000\n",
      "2025-02-04 17:02:31,597 epoch 7 - iter 200/400 - loss 0.04817208 - samples/sec: 34.03 - lr: 0.100000\n",
      "2025-02-04 17:02:51,293 epoch 7 - iter 240/400 - loss 0.04844811 - samples/sec: 32.54 - lr: 0.100000\n",
      "2025-02-04 17:03:10,092 epoch 7 - iter 280/400 - loss 0.05030058 - samples/sec: 34.11 - lr: 0.100000\n",
      "2025-02-04 17:03:28,944 epoch 7 - iter 320/400 - loss 0.05044929 - samples/sec: 34.03 - lr: 0.100000\n",
      "2025-02-04 17:03:49,827 epoch 7 - iter 360/400 - loss 0.05044510 - samples/sec: 30.70 - lr: 0.100000\n",
      "2025-02-04 17:04:09,160 epoch 7 - iter 400/400 - loss 0.05081117 - samples/sec: 33.20 - lr: 0.100000\n",
      "2025-02-04 17:04:09,180 ----------------------------------------------------------------------------------------------------\n",
      "2025-02-04 17:04:09,181 EPOCH 7 done: loss 0.0508 - lr 0.100000\n"
     ]
    },
    {
     "name": "stderr",
     "output_type": "stream",
     "text": [
      "100%|█████████████████████████████████████████| 100/100 [00:25<00:00,  3.92it/s]"
     ]
    },
    {
     "name": "stdout",
     "output_type": "stream",
     "text": [
      "2025-02-04 17:04:34,709 Evaluating as a multi-label problem: False\n",
      "2025-02-04 17:04:34,762 DEV : loss 0.02927461825311184 - f1-score (micro avg)  0.9498\n"
     ]
    },
    {
     "name": "stderr",
     "output_type": "stream",
     "text": [
      "\n"
     ]
    },
    {
     "name": "stdout",
     "output_type": "stream",
     "text": [
      "2025-02-04 17:04:35,225 BAD EPOCHS (no improvement): 0\n",
      "2025-02-04 17:04:35,445 saving best model\n",
      "2025-02-04 17:04:35,656 ----------------------------------------------------------------------------------------------------\n",
      "2025-02-04 17:04:54,444 epoch 8 - iter 40/400 - loss 0.04774306 - samples/sec: 34.08 - lr: 0.100000\n",
      "2025-02-04 17:05:12,853 epoch 8 - iter 80/400 - loss 0.04758253 - samples/sec: 34.81 - lr: 0.100000\n",
      "2025-02-04 17:05:31,393 epoch 8 - iter 120/400 - loss 0.04869759 - samples/sec: 34.57 - lr: 0.100000\n",
      "2025-02-04 17:05:50,316 epoch 8 - iter 160/400 - loss 0.04948587 - samples/sec: 33.88 - lr: 0.100000\n",
      "2025-02-04 17:06:09,532 epoch 8 - iter 200/400 - loss 0.04879672 - samples/sec: 33.38 - lr: 0.100000\n",
      "2025-02-04 17:06:29,104 epoch 8 - iter 240/400 - loss 0.04807894 - samples/sec: 32.75 - lr: 0.100000\n",
      "2025-02-04 17:06:48,482 epoch 8 - iter 280/400 - loss 0.04802768 - samples/sec: 33.09 - lr: 0.100000\n",
      "2025-02-04 17:07:08,077 epoch 8 - iter 320/400 - loss 0.04737875 - samples/sec: 32.70 - lr: 0.100000\n",
      "2025-02-04 17:07:27,853 epoch 8 - iter 360/400 - loss 0.04866044 - samples/sec: 32.43 - lr: 0.100000\n",
      "2025-02-04 17:07:46,676 epoch 8 - iter 400/400 - loss 0.04852980 - samples/sec: 34.05 - lr: 0.100000\n",
      "2025-02-04 17:07:46,713 ----------------------------------------------------------------------------------------------------\n",
      "2025-02-04 17:07:46,714 EPOCH 8 done: loss 0.0485 - lr 0.100000\n"
     ]
    },
    {
     "name": "stderr",
     "output_type": "stream",
     "text": [
      "100%|█████████████████████████████████████████| 100/100 [00:26<00:00,  3.76it/s]"
     ]
    },
    {
     "name": "stdout",
     "output_type": "stream",
     "text": [
      "2025-02-04 17:08:13,426 Evaluating as a multi-label problem: False\n",
      "2025-02-04 17:08:13,480 DEV : loss 0.027305997908115387 - f1-score (micro avg)  0.9549\n"
     ]
    },
    {
     "name": "stderr",
     "output_type": "stream",
     "text": [
      "\n"
     ]
    },
    {
     "name": "stdout",
     "output_type": "stream",
     "text": [
      "2025-02-04 17:08:13,912 BAD EPOCHS (no improvement): 0\n",
      "2025-02-04 17:08:14,145 saving best model\n",
      "2025-02-04 17:08:14,355 ----------------------------------------------------------------------------------------------------\n",
      "2025-02-04 17:08:32,423 epoch 9 - iter 40/400 - loss 0.04976298 - samples/sec: 35.43 - lr: 0.100000\n",
      "2025-02-04 17:08:51,525 epoch 9 - iter 80/400 - loss 0.04655541 - samples/sec: 33.62 - lr: 0.100000\n",
      "2025-02-04 17:09:10,749 epoch 9 - iter 120/400 - loss 0.04675405 - samples/sec: 33.36 - lr: 0.100000\n",
      "2025-02-04 17:09:30,437 epoch 9 - iter 160/400 - loss 0.04649884 - samples/sec: 32.57 - lr: 0.100000\n",
      "2025-02-04 17:09:49,765 epoch 9 - iter 200/400 - loss 0.04548735 - samples/sec: 33.16 - lr: 0.100000\n",
      "2025-02-04 17:10:08,798 epoch 9 - iter 240/400 - loss 0.04534492 - samples/sec: 33.68 - lr: 0.100000\n",
      "2025-02-04 17:10:28,230 epoch 9 - iter 280/400 - loss 0.04597513 - samples/sec: 33.02 - lr: 0.100000\n",
      "2025-02-04 17:10:47,865 epoch 9 - iter 320/400 - loss 0.04557658 - samples/sec: 32.63 - lr: 0.100000\n",
      "2025-02-04 17:11:07,723 epoch 9 - iter 360/400 - loss 0.04533503 - samples/sec: 32.29 - lr: 0.100000\n",
      "2025-02-04 17:11:27,343 epoch 9 - iter 400/400 - loss 0.04523694 - samples/sec: 32.65 - lr: 0.100000\n",
      "2025-02-04 17:11:27,364 ----------------------------------------------------------------------------------------------------\n",
      "2025-02-04 17:11:27,364 EPOCH 9 done: loss 0.0452 - lr 0.100000\n"
     ]
    },
    {
     "name": "stderr",
     "output_type": "stream",
     "text": [
      "100%|█████████████████████████████████████████| 100/100 [00:27<00:00,  3.68it/s]"
     ]
    },
    {
     "name": "stdout",
     "output_type": "stream",
     "text": [
      "2025-02-04 17:11:54,570 Evaluating as a multi-label problem: False\n",
      "2025-02-04 17:11:54,627 DEV : loss 0.02693457528948784 - f1-score (micro avg)  0.9553\n"
     ]
    },
    {
     "name": "stderr",
     "output_type": "stream",
     "text": [
      "\n"
     ]
    },
    {
     "name": "stdout",
     "output_type": "stream",
     "text": [
      "2025-02-04 17:11:55,172 BAD EPOCHS (no improvement): 0\n",
      "2025-02-04 17:11:55,396 saving best model\n",
      "2025-02-04 17:11:55,606 ----------------------------------------------------------------------------------------------------\n",
      "2025-02-04 17:12:14,930 epoch 10 - iter 40/400 - loss 0.04187051 - samples/sec: 33.13 - lr: 0.100000\n",
      "2025-02-04 17:12:34,590 epoch 10 - iter 80/400 - loss 0.04367077 - samples/sec: 32.59 - lr: 0.100000\n",
      "2025-02-04 17:12:54,036 epoch 10 - iter 120/400 - loss 0.04330861 - samples/sec: 32.95 - lr: 0.100000\n",
      "2025-02-04 17:13:13,093 epoch 10 - iter 160/400 - loss 0.04336419 - samples/sec: 33.63 - lr: 0.100000\n",
      "2025-02-04 17:13:32,622 epoch 10 - iter 200/400 - loss 0.04350743 - samples/sec: 32.81 - lr: 0.100000\n",
      "2025-02-04 17:13:52,303 epoch 10 - iter 240/400 - loss 0.04443383 - samples/sec: 32.58 - lr: 0.100000\n",
      "2025-02-04 17:14:11,190 epoch 10 - iter 280/400 - loss 0.04384145 - samples/sec: 33.92 - lr: 0.100000\n",
      "2025-02-04 17:14:29,580 epoch 10 - iter 320/400 - loss 0.04383338 - samples/sec: 34.85 - lr: 0.100000\n",
      "2025-02-04 17:14:48,304 epoch 10 - iter 360/400 - loss 0.04397700 - samples/sec: 34.22 - lr: 0.100000\n",
      "2025-02-04 17:15:07,618 epoch 10 - iter 400/400 - loss 0.04363050 - samples/sec: 33.18 - lr: 0.100000\n",
      "2025-02-04 17:15:07,634 ----------------------------------------------------------------------------------------------------\n",
      "2025-02-04 17:15:07,635 EPOCH 10 done: loss 0.0436 - lr 0.100000\n"
     ]
    },
    {
     "name": "stderr",
     "output_type": "stream",
     "text": [
      "100%|█████████████████████████████████████████| 100/100 [00:26<00:00,  3.75it/s]"
     ]
    },
    {
     "name": "stdout",
     "output_type": "stream",
     "text": [
      "2025-02-04 17:15:34,326 Evaluating as a multi-label problem: False\n",
      "2025-02-04 17:15:34,379 DEV : loss 0.025254493579268456 - f1-score (micro avg)  0.956\n"
     ]
    },
    {
     "name": "stderr",
     "output_type": "stream",
     "text": [
      "\n"
     ]
    },
    {
     "name": "stdout",
     "output_type": "stream",
     "text": [
      "2025-02-04 17:15:34,802 BAD EPOCHS (no improvement): 0\n",
      "2025-02-04 17:15:35,033 saving best model\n",
      "2025-02-04 17:15:35,240 ----------------------------------------------------------------------------------------------------\n",
      "2025-02-04 17:15:54,342 epoch 11 - iter 40/400 - loss 0.03745311 - samples/sec: 33.52 - lr: 0.100000\n",
      "2025-02-04 17:16:13,406 epoch 11 - iter 80/400 - loss 0.04344268 - samples/sec: 33.65 - lr: 0.100000\n",
      "2025-02-04 17:16:32,749 epoch 11 - iter 120/400 - loss 0.04322460 - samples/sec: 33.12 - lr: 0.100000\n",
      "2025-02-04 17:16:52,543 epoch 11 - iter 160/400 - loss 0.04176600 - samples/sec: 32.37 - lr: 0.100000\n",
      "2025-02-04 17:17:12,056 epoch 11 - iter 200/400 - loss 0.04214742 - samples/sec: 32.83 - lr: 0.100000\n",
      "2025-02-04 17:17:31,118 epoch 11 - iter 240/400 - loss 0.04250267 - samples/sec: 33.62 - lr: 0.100000\n",
      "2025-02-04 17:17:50,549 epoch 11 - iter 280/400 - loss 0.04394948 - samples/sec: 32.97 - lr: 0.100000\n",
      "2025-02-04 17:18:09,600 epoch 11 - iter 320/400 - loss 0.04329610 - samples/sec: 33.69 - lr: 0.100000\n",
      "2025-02-04 17:18:28,630 epoch 11 - iter 360/400 - loss 0.04306558 - samples/sec: 33.67 - lr: 0.100000\n",
      "2025-02-04 17:18:48,472 epoch 11 - iter 400/400 - loss 0.04281328 - samples/sec: 32.29 - lr: 0.100000\n",
      "2025-02-04 17:18:48,491 ----------------------------------------------------------------------------------------------------\n",
      "2025-02-04 17:18:48,491 EPOCH 11 done: loss 0.0428 - lr 0.100000\n"
     ]
    },
    {
     "name": "stderr",
     "output_type": "stream",
     "text": [
      "100%|█████████████████████████████████████████| 100/100 [00:26<00:00,  3.75it/s]"
     ]
    },
    {
     "name": "stdout",
     "output_type": "stream",
     "text": [
      "2025-02-04 17:19:15,260 Evaluating as a multi-label problem: False\n",
      "2025-02-04 17:19:15,313 DEV : loss 0.026088442653417587 - f1-score (micro avg)  0.9578\n"
     ]
    },
    {
     "name": "stderr",
     "output_type": "stream",
     "text": [
      "\n"
     ]
    },
    {
     "name": "stdout",
     "output_type": "stream",
     "text": [
      "2025-02-04 17:19:15,790 BAD EPOCHS (no improvement): 0\n",
      "2025-02-04 17:19:16,014 saving best model\n",
      "2025-02-04 17:19:16,226 ----------------------------------------------------------------------------------------------------\n",
      "2025-02-04 17:19:35,453 epoch 12 - iter 40/400 - loss 0.04247852 - samples/sec: 33.30 - lr: 0.100000\n",
      "2025-02-04 17:19:54,815 epoch 12 - iter 80/400 - loss 0.04084038 - samples/sec: 33.10 - lr: 0.100000\n",
      "2025-02-04 17:20:14,621 epoch 12 - iter 120/400 - loss 0.04302314 - samples/sec: 32.35 - lr: 0.100000\n",
      "2025-02-04 17:20:33,589 epoch 12 - iter 160/400 - loss 0.04222267 - samples/sec: 33.78 - lr: 0.100000\n",
      "2025-02-04 17:20:52,890 epoch 12 - iter 200/400 - loss 0.04189849 - samples/sec: 33.20 - lr: 0.100000\n",
      "2025-02-04 17:21:12,530 epoch 12 - iter 240/400 - loss 0.04142551 - samples/sec: 32.63 - lr: 0.100000\n",
      "2025-02-04 17:21:31,740 epoch 12 - iter 280/400 - loss 0.04096585 - samples/sec: 33.35 - lr: 0.100000\n",
      "2025-02-04 17:21:50,320 epoch 12 - iter 320/400 - loss 0.04050609 - samples/sec: 34.49 - lr: 0.100000\n",
      "2025-02-04 17:22:09,745 epoch 12 - iter 360/400 - loss 0.04047987 - samples/sec: 32.98 - lr: 0.100000\n",
      "2025-02-04 17:22:29,094 epoch 12 - iter 400/400 - loss 0.04066991 - samples/sec: 33.12 - lr: 0.100000\n",
      "2025-02-04 17:22:29,113 ----------------------------------------------------------------------------------------------------\n",
      "2025-02-04 17:22:29,113 EPOCH 12 done: loss 0.0407 - lr 0.100000\n"
     ]
    },
    {
     "name": "stderr",
     "output_type": "stream",
     "text": [
      "100%|█████████████████████████████████████████| 100/100 [00:26<00:00,  3.74it/s]"
     ]
    },
    {
     "name": "stdout",
     "output_type": "stream",
     "text": [
      "2025-02-04 17:22:55,876 Evaluating as a multi-label problem: False\n",
      "2025-02-04 17:22:55,930 DEV : loss 0.024718884378671646 - f1-score (micro avg)  0.9593\n"
     ]
    },
    {
     "name": "stderr",
     "output_type": "stream",
     "text": [
      "\n"
     ]
    },
    {
     "name": "stdout",
     "output_type": "stream",
     "text": [
      "2025-02-04 17:22:56,388 BAD EPOCHS (no improvement): 0\n",
      "2025-02-04 17:22:56,617 saving best model\n",
      "2025-02-04 17:22:56,830 ----------------------------------------------------------------------------------------------------\n",
      "2025-02-04 17:23:16,567 epoch 13 - iter 40/400 - loss 0.03647609 - samples/sec: 32.44 - lr: 0.100000\n",
      "2025-02-04 17:23:35,658 epoch 13 - iter 80/400 - loss 0.03698784 - samples/sec: 33.59 - lr: 0.100000\n",
      "2025-02-04 17:23:54,856 epoch 13 - iter 120/400 - loss 0.03677502 - samples/sec: 33.37 - lr: 0.100000\n",
      "2025-02-04 17:24:14,422 epoch 13 - iter 160/400 - loss 0.03681790 - samples/sec: 32.75 - lr: 0.100000\n",
      "2025-02-04 17:24:33,041 epoch 13 - iter 200/400 - loss 0.03821195 - samples/sec: 34.41 - lr: 0.100000\n",
      "2025-02-04 17:24:52,566 epoch 13 - iter 240/400 - loss 0.03808551 - samples/sec: 32.82 - lr: 0.100000\n",
      "2025-02-04 17:25:12,776 epoch 13 - iter 280/400 - loss 0.03749034 - samples/sec: 31.70 - lr: 0.100000\n",
      "2025-02-04 17:25:32,088 epoch 13 - iter 320/400 - loss 0.03809272 - samples/sec: 33.18 - lr: 0.100000\n",
      "2025-02-04 17:25:51,160 epoch 13 - iter 360/400 - loss 0.03833044 - samples/sec: 33.59 - lr: 0.100000\n",
      "2025-02-04 17:26:10,609 epoch 13 - iter 400/400 - loss 0.03849667 - samples/sec: 32.95 - lr: 0.100000\n",
      "2025-02-04 17:26:10,626 ----------------------------------------------------------------------------------------------------\n",
      "2025-02-04 17:26:10,626 EPOCH 13 done: loss 0.0385 - lr 0.100000\n"
     ]
    },
    {
     "name": "stderr",
     "output_type": "stream",
     "text": [
      "100%|█████████████████████████████████████████| 100/100 [00:26<00:00,  3.72it/s]"
     ]
    },
    {
     "name": "stdout",
     "output_type": "stream",
     "text": [
      "2025-02-04 17:26:37,544 Evaluating as a multi-label problem: False\n",
      "2025-02-04 17:26:37,598 DEV : loss 0.022686270996928215 - f1-score (micro avg)  0.9597\n"
     ]
    },
    {
     "name": "stderr",
     "output_type": "stream",
     "text": [
      "\n"
     ]
    },
    {
     "name": "stdout",
     "output_type": "stream",
     "text": [
      "2025-02-04 17:26:38,047 BAD EPOCHS (no improvement): 0\n",
      "2025-02-04 17:26:38,278 saving best model\n",
      "2025-02-04 17:26:38,490 ----------------------------------------------------------------------------------------------------\n",
      "2025-02-04 17:26:56,522 epoch 14 - iter 40/400 - loss 0.03553029 - samples/sec: 35.50 - lr: 0.100000\n",
      "2025-02-04 17:27:15,135 epoch 14 - iter 80/400 - loss 0.03750300 - samples/sec: 34.43 - lr: 0.100000\n",
      "2025-02-04 17:27:34,585 epoch 14 - iter 120/400 - loss 0.03736386 - samples/sec: 32.94 - lr: 0.100000\n",
      "2025-02-04 17:27:54,222 epoch 14 - iter 160/400 - loss 0.03857027 - samples/sec: 32.65 - lr: 0.100000\n",
      "2025-02-04 17:28:13,836 epoch 14 - iter 200/400 - loss 0.03901896 - samples/sec: 32.67 - lr: 0.100000\n",
      "2025-02-04 17:28:33,941 epoch 14 - iter 240/400 - loss 0.03868699 - samples/sec: 31.88 - lr: 0.100000\n",
      "2025-02-04 17:28:53,670 epoch 14 - iter 280/400 - loss 0.03877263 - samples/sec: 32.47 - lr: 0.100000\n",
      "2025-02-04 17:29:12,921 epoch 14 - iter 320/400 - loss 0.03899947 - samples/sec: 33.29 - lr: 0.100000\n",
      "2025-02-04 17:29:32,148 epoch 14 - iter 360/400 - loss 0.03871882 - samples/sec: 33.32 - lr: 0.100000\n",
      "2025-02-04 17:29:51,394 epoch 14 - iter 400/400 - loss 0.03875943 - samples/sec: 33.30 - lr: 0.100000\n",
      "2025-02-04 17:29:51,411 ----------------------------------------------------------------------------------------------------\n",
      "2025-02-04 17:29:51,412 EPOCH 14 done: loss 0.0388 - lr 0.100000\n"
     ]
    },
    {
     "name": "stderr",
     "output_type": "stream",
     "text": [
      "100%|█████████████████████████████████████████| 100/100 [00:26<00:00,  3.74it/s]"
     ]
    },
    {
     "name": "stdout",
     "output_type": "stream",
     "text": [
      "2025-02-04 17:30:18,202 Evaluating as a multi-label problem: False\n",
      "2025-02-04 17:30:18,256 DEV : loss 0.023438148200511932 - f1-score (micro avg)  0.9603\n"
     ]
    },
    {
     "name": "stderr",
     "output_type": "stream",
     "text": [
      "\n"
     ]
    },
    {
     "name": "stdout",
     "output_type": "stream",
     "text": [
      "2025-02-04 17:30:18,833 BAD EPOCHS (no improvement): 0\n",
      "2025-02-04 17:30:19,064 saving best model\n",
      "2025-02-04 17:30:19,279 ----------------------------------------------------------------------------------------------------\n",
      "2025-02-04 17:30:38,373 epoch 15 - iter 40/400 - loss 0.03430095 - samples/sec: 33.53 - lr: 0.100000\n",
      "2025-02-04 17:30:57,610 epoch 15 - iter 80/400 - loss 0.03491344 - samples/sec: 33.32 - lr: 0.100000\n",
      "2025-02-04 17:31:16,987 epoch 15 - iter 120/400 - loss 0.03682132 - samples/sec: 33.07 - lr: 0.100000\n",
      "2025-02-04 17:31:36,040 epoch 15 - iter 160/400 - loss 0.03703610 - samples/sec: 33.63 - lr: 0.100000\n",
      "2025-02-04 17:31:55,608 epoch 15 - iter 200/400 - loss 0.03782681 - samples/sec: 32.74 - lr: 0.100000\n",
      "2025-02-04 17:32:14,888 epoch 15 - iter 240/400 - loss 0.03754108 - samples/sec: 33.24 - lr: 0.100000\n",
      "2025-02-04 17:32:33,917 epoch 15 - iter 280/400 - loss 0.03753569 - samples/sec: 33.67 - lr: 0.100000\n",
      "2025-02-04 17:32:53,603 epoch 15 - iter 320/400 - loss 0.03788593 - samples/sec: 32.56 - lr: 0.100000\n",
      "2025-02-04 17:33:13,247 epoch 15 - iter 360/400 - loss 0.03764053 - samples/sec: 32.61 - lr: 0.100000\n",
      "2025-02-04 17:33:32,721 epoch 15 - iter 400/400 - loss 0.03781296 - samples/sec: 32.91 - lr: 0.100000\n",
      "2025-02-04 17:33:32,739 ----------------------------------------------------------------------------------------------------\n",
      "2025-02-04 17:33:32,739 EPOCH 15 done: loss 0.0378 - lr 0.100000\n"
     ]
    },
    {
     "name": "stderr",
     "output_type": "stream",
     "text": [
      "100%|█████████████████████████████████████████| 100/100 [00:26<00:00,  3.73it/s]"
     ]
    },
    {
     "name": "stdout",
     "output_type": "stream",
     "text": [
      "2025-02-04 17:33:59,663 Evaluating as a multi-label problem: False\n",
      "2025-02-04 17:33:59,716 DEV : loss 0.022732382640242577 - f1-score (micro avg)  0.9619\n"
     ]
    },
    {
     "name": "stderr",
     "output_type": "stream",
     "text": [
      "\n"
     ]
    },
    {
     "name": "stdout",
     "output_type": "stream",
     "text": [
      "2025-02-04 17:34:00,177 BAD EPOCHS (no improvement): 0\n",
      "2025-02-04 17:34:00,404 saving best model\n",
      "2025-02-04 17:34:00,619 ----------------------------------------------------------------------------------------------------\n",
      "2025-02-04 17:34:20,202 epoch 16 - iter 40/400 - loss 0.03800895 - samples/sec: 32.69 - lr: 0.100000\n",
      "2025-02-04 17:34:39,630 epoch 16 - iter 80/400 - loss 0.03724052 - samples/sec: 32.98 - lr: 0.100000\n",
      "2025-02-04 17:34:59,792 epoch 16 - iter 120/400 - loss 0.03673007 - samples/sec: 31.78 - lr: 0.100000\n",
      "2025-02-04 17:35:18,986 epoch 16 - iter 160/400 - loss 0.03673666 - samples/sec: 33.38 - lr: 0.100000\n",
      "2025-02-04 17:35:37,624 epoch 16 - iter 200/400 - loss 0.03635011 - samples/sec: 34.38 - lr: 0.100000\n",
      "2025-02-04 17:35:56,779 epoch 16 - iter 240/400 - loss 0.03695289 - samples/sec: 33.46 - lr: 0.100000\n",
      "2025-02-04 17:36:15,397 epoch 16 - iter 280/400 - loss 0.03626105 - samples/sec: 34.42 - lr: 0.100000\n",
      "2025-02-04 17:36:35,285 epoch 16 - iter 320/400 - loss 0.03586290 - samples/sec: 32.22 - lr: 0.100000\n",
      "2025-02-04 17:36:54,140 epoch 16 - iter 360/400 - loss 0.03586563 - samples/sec: 33.98 - lr: 0.100000\n",
      "2025-02-04 17:37:13,787 epoch 16 - iter 400/400 - loss 0.03651835 - samples/sec: 32.84 - lr: 0.100000\n",
      "2025-02-04 17:37:13,806 ----------------------------------------------------------------------------------------------------\n",
      "2025-02-04 17:37:13,806 EPOCH 16 done: loss 0.0365 - lr 0.100000\n"
     ]
    },
    {
     "name": "stderr",
     "output_type": "stream",
     "text": [
      "100%|█████████████████████████████████████████| 100/100 [00:27<00:00,  3.67it/s]"
     ]
    },
    {
     "name": "stdout",
     "output_type": "stream",
     "text": [
      "2025-02-04 17:37:41,067 Evaluating as a multi-label problem: False\n",
      "2025-02-04 17:37:41,122 DEV : loss 0.021806009113788605 - f1-score (micro avg)  0.9592\n"
     ]
    },
    {
     "name": "stderr",
     "output_type": "stream",
     "text": [
      "\n"
     ]
    },
    {
     "name": "stdout",
     "output_type": "stream",
     "text": [
      "2025-02-04 17:37:41,757 BAD EPOCHS (no improvement): 1\n",
      "2025-02-04 17:37:42,100 ----------------------------------------------------------------------------------------------------\n",
      "2025-02-04 17:38:01,697 epoch 17 - iter 40/400 - loss 0.03688926 - samples/sec: 32.67 - lr: 0.100000\n",
      "2025-02-04 17:38:20,836 epoch 17 - iter 80/400 - loss 0.03673261 - samples/sec: 33.49 - lr: 0.100000\n",
      "2025-02-04 17:38:40,341 epoch 17 - iter 120/400 - loss 0.03528793 - samples/sec: 32.85 - lr: 0.100000\n",
      "2025-02-04 17:38:59,971 epoch 17 - iter 160/400 - loss 0.03576086 - samples/sec: 32.65 - lr: 0.100000\n",
      "2025-02-04 17:39:19,100 epoch 17 - iter 200/400 - loss 0.03541706 - samples/sec: 33.49 - lr: 0.100000\n",
      "2025-02-04 17:39:38,805 epoch 17 - iter 240/400 - loss 0.03533748 - samples/sec: 32.52 - lr: 0.100000\n",
      "2025-02-04 17:39:59,101 epoch 17 - iter 280/400 - loss 0.03502423 - samples/sec: 31.57 - lr: 0.100000\n",
      "2025-02-04 17:40:19,072 epoch 17 - iter 320/400 - loss 0.03467627 - samples/sec: 32.09 - lr: 0.100000\n",
      "2025-02-04 17:40:37,905 epoch 17 - iter 360/400 - loss 0.03420174 - samples/sec: 34.03 - lr: 0.100000\n",
      "2025-02-04 17:40:57,599 epoch 17 - iter 400/400 - loss 0.03438468 - samples/sec: 32.60 - lr: 0.100000\n",
      "2025-02-04 17:40:57,616 ----------------------------------------------------------------------------------------------------\n",
      "2025-02-04 17:40:57,616 EPOCH 17 done: loss 0.0344 - lr 0.100000\n"
     ]
    },
    {
     "name": "stderr",
     "output_type": "stream",
     "text": [
      "100%|█████████████████████████████████████████| 100/100 [00:26<00:00,  3.72it/s]"
     ]
    },
    {
     "name": "stdout",
     "output_type": "stream",
     "text": [
      "2025-02-04 17:41:24,543 Evaluating as a multi-label problem: False\n",
      "2025-02-04 17:41:24,598 DEV : loss 0.021529754623770714 - f1-score (micro avg)  0.962\n"
     ]
    },
    {
     "name": "stderr",
     "output_type": "stream",
     "text": [
      "\n"
     ]
    },
    {
     "name": "stdout",
     "output_type": "stream",
     "text": [
      "2025-02-04 17:41:25,050 BAD EPOCHS (no improvement): 0\n",
      "2025-02-04 17:41:25,271 saving best model\n",
      "2025-02-04 17:41:25,481 ----------------------------------------------------------------------------------------------------\n",
      "2025-02-04 17:41:45,335 epoch 18 - iter 40/400 - loss 0.03482136 - samples/sec: 32.25 - lr: 0.100000\n",
      "2025-02-04 17:42:04,751 epoch 18 - iter 80/400 - loss 0.03540670 - samples/sec: 33.21 - lr: 0.100000\n",
      "2025-02-04 17:42:23,786 epoch 18 - iter 120/400 - loss 0.03567753 - samples/sec: 33.66 - lr: 0.100000\n",
      "2025-02-04 17:42:43,285 epoch 18 - iter 160/400 - loss 0.03518360 - samples/sec: 32.86 - lr: 0.100000\n",
      "2025-02-04 17:43:02,651 epoch 18 - iter 200/400 - loss 0.03436865 - samples/sec: 33.08 - lr: 0.100000\n",
      "2025-02-04 17:43:21,731 epoch 18 - iter 240/400 - loss 0.03404681 - samples/sec: 33.60 - lr: 0.100000\n",
      "2025-02-04 17:43:40,617 epoch 18 - iter 280/400 - loss 0.03477473 - samples/sec: 33.92 - lr: 0.100000\n",
      "2025-02-04 17:43:59,638 epoch 18 - iter 320/400 - loss 0.03460647 - samples/sec: 33.69 - lr: 0.100000\n",
      "2025-02-04 17:44:18,959 epoch 18 - iter 360/400 - loss 0.03488684 - samples/sec: 33.16 - lr: 0.100000\n",
      "2025-02-04 17:44:38,190 epoch 18 - iter 400/400 - loss 0.03465967 - samples/sec: 33.45 - lr: 0.100000\n",
      "2025-02-04 17:44:38,206 ----------------------------------------------------------------------------------------------------\n",
      "2025-02-04 17:44:38,207 EPOCH 18 done: loss 0.0347 - lr 0.100000\n"
     ]
    },
    {
     "name": "stderr",
     "output_type": "stream",
     "text": [
      "100%|█████████████████████████████████████████| 100/100 [00:27<00:00,  3.68it/s]"
     ]
    },
    {
     "name": "stdout",
     "output_type": "stream",
     "text": [
      "2025-02-04 17:45:05,454 Evaluating as a multi-label problem: False\n",
      "2025-02-04 17:45:05,508 DEV : loss 0.022084740921854973 - f1-score (micro avg)  0.9608\n"
     ]
    },
    {
     "name": "stderr",
     "output_type": "stream",
     "text": [
      "\n"
     ]
    },
    {
     "name": "stdout",
     "output_type": "stream",
     "text": [
      "2025-02-04 17:45:06,086 BAD EPOCHS (no improvement): 1\n",
      "2025-02-04 17:45:06,318 ----------------------------------------------------------------------------------------------------\n",
      "2025-02-04 17:45:25,178 epoch 19 - iter 40/400 - loss 0.03378564 - samples/sec: 33.95 - lr: 0.100000\n",
      "2025-02-04 17:45:43,850 epoch 19 - iter 80/400 - loss 0.03319428 - samples/sec: 34.34 - lr: 0.100000\n",
      "2025-02-04 17:46:03,183 epoch 19 - iter 120/400 - loss 0.03355667 - samples/sec: 33.14 - lr: 0.100000\n",
      "2025-02-04 17:46:22,584 epoch 19 - iter 160/400 - loss 0.03415565 - samples/sec: 33.05 - lr: 0.100000\n",
      "2025-02-04 17:46:41,807 epoch 19 - iter 200/400 - loss 0.03348856 - samples/sec: 33.33 - lr: 0.100000\n",
      "2025-02-04 17:47:01,400 epoch 19 - iter 240/400 - loss 0.03292803 - samples/sec: 32.72 - lr: 0.100000\n",
      "2025-02-04 17:47:19,896 epoch 19 - iter 280/400 - loss 0.03305491 - samples/sec: 34.64 - lr: 0.100000\n",
      "2025-02-04 17:47:39,325 epoch 19 - iter 320/400 - loss 0.03346455 - samples/sec: 33.01 - lr: 0.100000\n",
      "2025-02-04 17:47:59,203 epoch 19 - iter 360/400 - loss 0.03322535 - samples/sec: 32.23 - lr: 0.100000\n",
      "2025-02-04 17:48:19,227 epoch 19 - iter 400/400 - loss 0.03326829 - samples/sec: 32.01 - lr: 0.100000\n",
      "2025-02-04 17:48:19,247 ----------------------------------------------------------------------------------------------------\n",
      "2025-02-04 17:48:19,248 EPOCH 19 done: loss 0.0333 - lr 0.100000\n"
     ]
    },
    {
     "name": "stderr",
     "output_type": "stream",
     "text": [
      "100%|█████████████████████████████████████████| 100/100 [00:25<00:00,  3.92it/s]"
     ]
    },
    {
     "name": "stdout",
     "output_type": "stream",
     "text": [
      "2025-02-04 17:48:44,807 Evaluating as a multi-label problem: False\n",
      "2025-02-04 17:48:44,862 DEV : loss 0.023018257692456245 - f1-score (micro avg)  0.9612\n"
     ]
    },
    {
     "name": "stderr",
     "output_type": "stream",
     "text": [
      "\n"
     ]
    },
    {
     "name": "stdout",
     "output_type": "stream",
     "text": [
      "2025-02-04 17:48:45,355 BAD EPOCHS (no improvement): 2\n",
      "2025-02-04 17:48:45,591 ----------------------------------------------------------------------------------------------------\n",
      "2025-02-04 17:49:05,564 epoch 20 - iter 40/400 - loss 0.02684626 - samples/sec: 32.05 - lr: 0.100000\n",
      "2025-02-04 17:49:26,142 epoch 20 - iter 80/400 - loss 0.03052800 - samples/sec: 31.15 - lr: 0.100000\n",
      "2025-02-04 17:49:45,421 epoch 20 - iter 120/400 - loss 0.03213705 - samples/sec: 33.23 - lr: 0.100000\n",
      "2025-02-04 17:50:04,494 epoch 20 - iter 160/400 - loss 0.03129538 - samples/sec: 33.61 - lr: 0.100000\n",
      "2025-02-04 17:50:24,751 epoch 20 - iter 200/400 - loss 0.03157379 - samples/sec: 31.63 - lr: 0.100000\n",
      "2025-02-04 17:50:43,642 epoch 20 - iter 240/400 - loss 0.03189910 - samples/sec: 33.92 - lr: 0.100000\n",
      "2025-02-04 17:51:02,556 epoch 20 - iter 280/400 - loss 0.03230323 - samples/sec: 33.88 - lr: 0.100000\n",
      "2025-02-04 17:51:21,923 epoch 20 - iter 320/400 - loss 0.03221437 - samples/sec: 33.14 - lr: 0.100000\n",
      "2025-02-04 17:51:41,563 epoch 20 - iter 360/400 - loss 0.03258959 - samples/sec: 32.62 - lr: 0.100000\n",
      "2025-02-04 17:52:00,973 epoch 20 - iter 400/400 - loss 0.03261391 - samples/sec: 33.02 - lr: 0.100000\n",
      "2025-02-04 17:52:00,991 ----------------------------------------------------------------------------------------------------\n",
      "2025-02-04 17:52:00,991 EPOCH 20 done: loss 0.0326 - lr 0.100000\n"
     ]
    },
    {
     "name": "stderr",
     "output_type": "stream",
     "text": [
      "100%|█████████████████████████████████████████| 100/100 [00:25<00:00,  3.87it/s]"
     ]
    },
    {
     "name": "stdout",
     "output_type": "stream",
     "text": [
      "2025-02-04 17:52:26,857 Evaluating as a multi-label problem: False\n",
      "2025-02-04 17:52:26,912 DEV : loss 0.020468130707740784 - f1-score (micro avg)  0.9609\n"
     ]
    },
    {
     "name": "stderr",
     "output_type": "stream",
     "text": [
      "\n"
     ]
    },
    {
     "name": "stdout",
     "output_type": "stream",
     "text": [
      "2025-02-04 17:52:27,493 BAD EPOCHS (no improvement): 3\n",
      "2025-02-04 17:52:27,723 ----------------------------------------------------------------------------------------------------\n",
      "2025-02-04 17:52:48,428 epoch 21 - iter 40/400 - loss 0.02928484 - samples/sec: 30.92 - lr: 0.100000\n",
      "2025-02-04 17:53:06,787 epoch 21 - iter 80/400 - loss 0.02996465 - samples/sec: 34.92 - lr: 0.100000\n",
      "2025-02-04 17:53:25,960 epoch 21 - iter 120/400 - loss 0.02981762 - samples/sec: 33.42 - lr: 0.100000\n",
      "2025-02-04 17:53:44,707 epoch 21 - iter 160/400 - loss 0.03128454 - samples/sec: 34.24 - lr: 0.100000\n",
      "2025-02-04 17:54:05,324 epoch 21 - iter 200/400 - loss 0.03160152 - samples/sec: 31.08 - lr: 0.100000\n",
      "2025-02-04 17:54:24,859 epoch 21 - iter 240/400 - loss 0.03114978 - samples/sec: 32.85 - lr: 0.100000\n",
      "2025-02-04 17:54:44,140 epoch 21 - iter 280/400 - loss 0.03154218 - samples/sec: 33.23 - lr: 0.100000\n",
      "2025-02-04 17:55:03,254 epoch 21 - iter 320/400 - loss 0.03210850 - samples/sec: 33.56 - lr: 0.100000\n",
      "2025-02-04 17:55:23,564 epoch 21 - iter 360/400 - loss 0.03201058 - samples/sec: 31.55 - lr: 0.100000\n",
      "2025-02-04 17:55:43,043 epoch 21 - iter 400/400 - loss 0.03189537 - samples/sec: 32.94 - lr: 0.100000\n",
      "2025-02-04 17:55:43,061 ----------------------------------------------------------------------------------------------------\n",
      "2025-02-04 17:55:43,062 EPOCH 21 done: loss 0.0319 - lr 0.100000\n"
     ]
    },
    {
     "name": "stderr",
     "output_type": "stream",
     "text": [
      "100%|█████████████████████████████████████████| 100/100 [00:25<00:00,  3.93it/s]"
     ]
    },
    {
     "name": "stdout",
     "output_type": "stream",
     "text": [
      "2025-02-04 17:56:08,541 Evaluating as a multi-label problem: False\n",
      "2025-02-04 17:56:08,595 DEV : loss 0.01966206356883049 - f1-score (micro avg)  0.9635\n"
     ]
    },
    {
     "name": "stderr",
     "output_type": "stream",
     "text": [
      "\n"
     ]
    },
    {
     "name": "stdout",
     "output_type": "stream",
     "text": [
      "2025-02-04 17:56:09,074 BAD EPOCHS (no improvement): 0\n",
      "2025-02-04 17:56:09,302 saving best model\n",
      "2025-02-04 17:56:09,520 ----------------------------------------------------------------------------------------------------\n",
      "2025-02-04 17:56:28,861 epoch 22 - iter 40/400 - loss 0.02906538 - samples/sec: 33.10 - lr: 0.100000\n",
      "2025-02-04 17:56:48,225 epoch 22 - iter 80/400 - loss 0.03072038 - samples/sec: 33.15 - lr: 0.100000\n",
      "2025-02-04 17:57:07,713 epoch 22 - iter 120/400 - loss 0.03053030 - samples/sec: 32.88 - lr: 0.100000\n",
      "2025-02-04 17:57:27,541 epoch 22 - iter 160/400 - loss 0.03116990 - samples/sec: 32.38 - lr: 0.100000\n",
      "2025-02-04 17:57:46,926 epoch 22 - iter 200/400 - loss 0.03129969 - samples/sec: 33.05 - lr: 0.100000\n",
      "2025-02-04 17:58:05,714 epoch 22 - iter 240/400 - loss 0.03167153 - samples/sec: 34.14 - lr: 0.100000\n",
      "2025-02-04 17:58:25,056 epoch 22 - iter 280/400 - loss 0.03176090 - samples/sec: 33.12 - lr: 0.100000\n",
      "2025-02-04 17:58:46,529 epoch 22 - iter 320/400 - loss 0.03184662 - samples/sec: 29.84 - lr: 0.100000\n",
      "2025-02-04 17:59:06,085 epoch 22 - iter 360/400 - loss 0.03205885 - samples/sec: 32.76 - lr: 0.100000\n",
      "2025-02-04 17:59:25,104 epoch 22 - iter 400/400 - loss 0.03234138 - samples/sec: 33.70 - lr: 0.100000\n",
      "2025-02-04 17:59:25,120 ----------------------------------------------------------------------------------------------------\n",
      "2025-02-04 17:59:25,120 EPOCH 22 done: loss 0.0323 - lr 0.100000\n"
     ]
    },
    {
     "name": "stderr",
     "output_type": "stream",
     "text": [
      "100%|█████████████████████████████████████████| 100/100 [00:25<00:00,  3.97it/s]"
     ]
    },
    {
     "name": "stdout",
     "output_type": "stream",
     "text": [
      "2025-02-04 17:59:50,367 Evaluating as a multi-label problem: False\n",
      "2025-02-04 17:59:50,422 DEV : loss 0.019409334287047386 - f1-score (micro avg)  0.9654\n"
     ]
    },
    {
     "name": "stderr",
     "output_type": "stream",
     "text": [
      "\n"
     ]
    },
    {
     "name": "stdout",
     "output_type": "stream",
     "text": [
      "2025-02-04 17:59:50,851 BAD EPOCHS (no improvement): 0\n",
      "2025-02-04 17:59:51,076 saving best model\n",
      "2025-02-04 17:59:51,290 ----------------------------------------------------------------------------------------------------\n",
      "2025-02-04 18:00:09,717 epoch 23 - iter 40/400 - loss 0.03056407 - samples/sec: 34.74 - lr: 0.100000\n",
      "2025-02-04 18:00:29,545 epoch 23 - iter 80/400 - loss 0.03023305 - samples/sec: 32.33 - lr: 0.100000\n",
      "2025-02-04 18:00:48,462 epoch 23 - iter 120/400 - loss 0.03076080 - samples/sec: 33.87 - lr: 0.100000\n",
      "2025-02-04 18:01:07,828 epoch 23 - iter 160/400 - loss 0.03034466 - samples/sec: 33.20 - lr: 0.100000\n",
      "2025-02-04 18:01:27,000 epoch 23 - iter 200/400 - loss 0.03171547 - samples/sec: 33.42 - lr: 0.100000\n",
      "2025-02-04 18:01:46,116 epoch 23 - iter 240/400 - loss 0.03118967 - samples/sec: 33.52 - lr: 0.100000\n",
      "2025-02-04 18:02:05,693 epoch 23 - iter 280/400 - loss 0.03085893 - samples/sec: 32.73 - lr: 0.100000\n",
      "2025-02-04 18:02:25,292 epoch 23 - iter 320/400 - loss 0.03100703 - samples/sec: 32.71 - lr: 0.100000\n",
      "2025-02-04 18:02:43,663 epoch 23 - iter 360/400 - loss 0.03129064 - samples/sec: 34.88 - lr: 0.100000\n",
      "2025-02-04 18:03:02,054 epoch 23 - iter 400/400 - loss 0.03122569 - samples/sec: 34.86 - lr: 0.100000\n",
      "2025-02-04 18:03:02,072 ----------------------------------------------------------------------------------------------------\n",
      "2025-02-04 18:03:02,072 EPOCH 23 done: loss 0.0312 - lr 0.100000\n"
     ]
    },
    {
     "name": "stderr",
     "output_type": "stream",
     "text": [
      "100%|█████████████████████████████████████████| 100/100 [00:26<00:00,  3.73it/s]"
     ]
    },
    {
     "name": "stdout",
     "output_type": "stream",
     "text": [
      "2025-02-04 18:03:28,884 Evaluating as a multi-label problem: False\n",
      "2025-02-04 18:03:28,937 DEV : loss 0.019228262826800346 - f1-score (micro avg)  0.9655\n"
     ]
    },
    {
     "name": "stderr",
     "output_type": "stream",
     "text": [
      "\n"
     ]
    },
    {
     "name": "stdout",
     "output_type": "stream",
     "text": [
      "2025-02-04 18:03:29,408 BAD EPOCHS (no improvement): 0\n",
      "2025-02-04 18:03:29,640 saving best model\n",
      "2025-02-04 18:03:29,856 ----------------------------------------------------------------------------------------------------\n",
      "2025-02-04 18:03:48,949 epoch 24 - iter 40/400 - loss 0.03044465 - samples/sec: 33.53 - lr: 0.100000\n",
      "2025-02-04 18:04:07,653 epoch 24 - iter 80/400 - loss 0.03072051 - samples/sec: 34.26 - lr: 0.100000\n",
      "2025-02-04 18:04:27,015 epoch 24 - iter 120/400 - loss 0.03016879 - samples/sec: 33.09 - lr: 0.100000\n",
      "2025-02-04 18:04:46,111 epoch 24 - iter 160/400 - loss 0.02934261 - samples/sec: 33.56 - lr: 0.100000\n",
      "2025-02-04 18:05:04,996 epoch 24 - iter 200/400 - loss 0.02907831 - samples/sec: 33.93 - lr: 0.100000\n",
      "2025-02-04 18:05:24,564 epoch 24 - iter 240/400 - loss 0.02949576 - samples/sec: 32.75 - lr: 0.100000\n",
      "2025-02-04 18:05:44,255 epoch 24 - iter 280/400 - loss 0.02990538 - samples/sec: 32.54 - lr: 0.100000\n",
      "2025-02-04 18:06:03,684 epoch 24 - iter 320/400 - loss 0.03033992 - samples/sec: 33.40 - lr: 0.100000\n",
      "2025-02-04 18:06:22,633 epoch 24 - iter 360/400 - loss 0.03038128 - samples/sec: 33.81 - lr: 0.100000\n",
      "2025-02-04 18:06:41,939 epoch 24 - iter 400/400 - loss 0.03027722 - samples/sec: 33.19 - lr: 0.100000\n",
      "2025-02-04 18:06:41,957 ----------------------------------------------------------------------------------------------------\n",
      "2025-02-04 18:06:41,957 EPOCH 24 done: loss 0.0303 - lr 0.100000\n"
     ]
    },
    {
     "name": "stderr",
     "output_type": "stream",
     "text": [
      "100%|█████████████████████████████████████████| 100/100 [00:26<00:00,  3.76it/s]"
     ]
    },
    {
     "name": "stdout",
     "output_type": "stream",
     "text": [
      "2025-02-04 18:07:08,674 Evaluating as a multi-label problem: False\n",
      "2025-02-04 18:07:08,727 DEV : loss 0.019567037001252174 - f1-score (micro avg)  0.9649\n"
     ]
    },
    {
     "name": "stderr",
     "output_type": "stream",
     "text": [
      "\n"
     ]
    },
    {
     "name": "stdout",
     "output_type": "stream",
     "text": [
      "2025-02-04 18:07:09,149 BAD EPOCHS (no improvement): 1\n",
      "2025-02-04 18:07:09,372 ----------------------------------------------------------------------------------------------------\n",
      "2025-02-04 18:07:29,683 epoch 25 - iter 40/400 - loss 0.02830837 - samples/sec: 31.52 - lr: 0.100000\n",
      "2025-02-04 18:07:48,934 epoch 25 - iter 80/400 - loss 0.02900817 - samples/sec: 33.30 - lr: 0.100000\n",
      "2025-02-04 18:08:07,746 epoch 25 - iter 120/400 - loss 0.03124556 - samples/sec: 34.06 - lr: 0.100000\n",
      "2025-02-04 18:08:27,407 epoch 25 - iter 160/400 - loss 0.03056720 - samples/sec: 32.59 - lr: 0.100000\n",
      "2025-02-04 18:08:47,041 epoch 25 - iter 200/400 - loss 0.03058990 - samples/sec: 32.63 - lr: 0.100000\n",
      "2025-02-04 18:09:06,131 epoch 25 - iter 240/400 - loss 0.03009240 - samples/sec: 33.57 - lr: 0.100000\n",
      "2025-02-04 18:09:25,732 epoch 25 - iter 280/400 - loss 0.02971044 - samples/sec: 32.69 - lr: 0.100000\n",
      "2025-02-04 18:09:45,014 epoch 25 - iter 320/400 - loss 0.03042644 - samples/sec: 33.28 - lr: 0.100000\n",
      "2025-02-04 18:10:04,585 epoch 25 - iter 360/400 - loss 0.03064343 - samples/sec: 32.74 - lr: 0.100000\n",
      "2025-02-04 18:10:23,858 epoch 25 - iter 400/400 - loss 0.03079934 - samples/sec: 33.25 - lr: 0.100000\n",
      "2025-02-04 18:10:23,875 ----------------------------------------------------------------------------------------------------\n",
      "2025-02-04 18:10:23,875 EPOCH 25 done: loss 0.0308 - lr 0.100000\n"
     ]
    },
    {
     "name": "stderr",
     "output_type": "stream",
     "text": [
      "100%|█████████████████████████████████████████| 100/100 [00:26<00:00,  3.73it/s]"
     ]
    },
    {
     "name": "stdout",
     "output_type": "stream",
     "text": [
      "2025-02-04 18:10:50,708 Evaluating as a multi-label problem: False\n",
      "2025-02-04 18:10:50,763 DEV : loss 0.019447388127446175 - f1-score (micro avg)  0.9649\n"
     ]
    },
    {
     "name": "stderr",
     "output_type": "stream",
     "text": [
      "\n"
     ]
    },
    {
     "name": "stdout",
     "output_type": "stream",
     "text": [
      "2025-02-04 18:10:51,276 BAD EPOCHS (no improvement): 2\n",
      "2025-02-04 18:10:51,510 ----------------------------------------------------------------------------------------------------\n",
      "2025-02-04 18:11:11,618 epoch 26 - iter 40/400 - loss 0.02672865 - samples/sec: 31.84 - lr: 0.100000\n",
      "2025-02-04 18:11:30,568 epoch 26 - iter 80/400 - loss 0.02810484 - samples/sec: 33.85 - lr: 0.100000\n",
      "2025-02-04 18:11:50,581 epoch 26 - iter 120/400 - loss 0.02785670 - samples/sec: 32.01 - lr: 0.100000\n",
      "2025-02-04 18:12:10,104 epoch 26 - iter 160/400 - loss 0.02775113 - samples/sec: 32.86 - lr: 0.100000\n",
      "2025-02-04 18:12:28,610 epoch 26 - iter 200/400 - loss 0.02817640 - samples/sec: 34.62 - lr: 0.100000\n",
      "2025-02-04 18:12:48,708 epoch 26 - iter 240/400 - loss 0.02814146 - samples/sec: 31.88 - lr: 0.100000\n",
      "2025-02-04 18:13:07,400 epoch 26 - iter 280/400 - loss 0.02762104 - samples/sec: 34.28 - lr: 0.100000\n",
      "2025-02-04 18:13:26,110 epoch 26 - iter 320/400 - loss 0.02808546 - samples/sec: 34.38 - lr: 0.100000\n",
      "2025-02-04 18:13:44,582 epoch 26 - iter 360/400 - loss 0.02846613 - samples/sec: 34.69 - lr: 0.100000\n",
      "2025-02-04 18:14:03,874 epoch 26 - iter 400/400 - loss 0.02911841 - samples/sec: 33.44 - lr: 0.100000\n",
      "2025-02-04 18:14:03,891 ----------------------------------------------------------------------------------------------------\n",
      "2025-02-04 18:14:03,891 EPOCH 26 done: loss 0.0291 - lr 0.100000\n"
     ]
    },
    {
     "name": "stderr",
     "output_type": "stream",
     "text": [
      "100%|█████████████████████████████████████████| 100/100 [00:26<00:00,  3.73it/s]"
     ]
    },
    {
     "name": "stdout",
     "output_type": "stream",
     "text": [
      "2025-02-04 18:14:30,803 Evaluating as a multi-label problem: False\n",
      "2025-02-04 18:14:30,857 DEV : loss 0.019050568342208862 - f1-score (micro avg)  0.9652\n"
     ]
    },
    {
     "name": "stderr",
     "output_type": "stream",
     "text": [
      "\n"
     ]
    },
    {
     "name": "stdout",
     "output_type": "stream",
     "text": [
      "2025-02-04 18:14:31,296 BAD EPOCHS (no improvement): 3\n",
      "2025-02-04 18:14:31,573 ----------------------------------------------------------------------------------------------------\n",
      "2025-02-04 18:14:51,287 epoch 27 - iter 40/400 - loss 0.03201067 - samples/sec: 32.47 - lr: 0.100000\n",
      "2025-02-04 18:15:11,644 epoch 27 - iter 80/400 - loss 0.02789428 - samples/sec: 31.62 - lr: 0.100000\n",
      "2025-02-04 18:15:30,102 epoch 27 - iter 120/400 - loss 0.02930007 - samples/sec: 34.71 - lr: 0.100000\n",
      "2025-02-04 18:15:49,721 epoch 27 - iter 160/400 - loss 0.02888054 - samples/sec: 32.66 - lr: 0.100000\n",
      "2025-02-04 18:16:09,380 epoch 27 - iter 200/400 - loss 0.02878354 - samples/sec: 32.59 - lr: 0.100000\n",
      "2025-02-04 18:16:28,226 epoch 27 - iter 240/400 - loss 0.02929031 - samples/sec: 34.08 - lr: 0.100000\n",
      "2025-02-04 18:16:47,791 epoch 27 - iter 280/400 - loss 0.02908778 - samples/sec: 32.75 - lr: 0.100000\n",
      "2025-02-04 18:17:06,891 epoch 27 - iter 320/400 - loss 0.02937275 - samples/sec: 33.63 - lr: 0.100000\n",
      "2025-02-04 18:17:26,484 epoch 27 - iter 360/400 - loss 0.02967872 - samples/sec: 32.70 - lr: 0.100000\n",
      "2025-02-04 18:17:45,346 epoch 27 - iter 400/400 - loss 0.02980268 - samples/sec: 33.97 - lr: 0.100000\n",
      "2025-02-04 18:17:45,362 ----------------------------------------------------------------------------------------------------\n",
      "2025-02-04 18:17:45,363 EPOCH 27 done: loss 0.0298 - lr 0.100000\n"
     ]
    },
    {
     "name": "stderr",
     "output_type": "stream",
     "text": [
      "100%|█████████████████████████████████████████| 100/100 [00:26<00:00,  3.74it/s]"
     ]
    },
    {
     "name": "stdout",
     "output_type": "stream",
     "text": [
      "2025-02-04 18:18:12,183 Evaluating as a multi-label problem: False\n",
      "2025-02-04 18:18:12,236 DEV : loss 0.019721219316124916 - f1-score (micro avg)  0.9644\n"
     ]
    },
    {
     "name": "stderr",
     "output_type": "stream",
     "text": [
      "\n"
     ]
    },
    {
     "name": "stdout",
     "output_type": "stream",
     "text": [
      "2025-02-04 18:18:12,731 Epoch    27: reducing learning rate of group 0 to 5.0000e-02.\n",
      "2025-02-04 18:18:12,737 BAD EPOCHS (no improvement): 4\n",
      "2025-02-04 18:18:12,958 ----------------------------------------------------------------------------------------------------\n",
      "2025-02-04 18:18:31,476 epoch 28 - iter 40/400 - loss 0.02913991 - samples/sec: 34.57 - lr: 0.050000\n",
      "2025-02-04 18:18:49,752 epoch 28 - iter 80/400 - loss 0.02861429 - samples/sec: 35.06 - lr: 0.050000\n",
      "2025-02-04 18:19:09,326 epoch 28 - iter 120/400 - loss 0.02751970 - samples/sec: 32.73 - lr: 0.050000\n",
      "2025-02-04 18:19:28,951 epoch 28 - iter 160/400 - loss 0.02798720 - samples/sec: 32.65 - lr: 0.050000\n",
      "2025-02-04 18:19:48,779 epoch 28 - iter 200/400 - loss 0.02844643 - samples/sec: 32.31 - lr: 0.050000\n",
      "2025-02-04 18:20:07,185 epoch 28 - iter 240/400 - loss 0.02810859 - samples/sec: 34.86 - lr: 0.050000\n",
      "2025-02-04 18:20:26,888 epoch 28 - iter 280/400 - loss 0.02791723 - samples/sec: 32.51 - lr: 0.050000\n",
      "2025-02-04 18:20:46,881 epoch 28 - iter 320/400 - loss 0.02740974 - samples/sec: 32.05 - lr: 0.050000\n",
      "2025-02-04 18:21:06,520 epoch 28 - iter 360/400 - loss 0.02700683 - samples/sec: 32.63 - lr: 0.050000\n",
      "2025-02-04 18:21:26,562 epoch 28 - iter 400/400 - loss 0.02698553 - samples/sec: 32.01 - lr: 0.050000\n",
      "2025-02-04 18:21:26,579 ----------------------------------------------------------------------------------------------------\n",
      "2025-02-04 18:21:26,580 EPOCH 28 done: loss 0.0270 - lr 0.050000\n"
     ]
    },
    {
     "name": "stderr",
     "output_type": "stream",
     "text": [
      "100%|█████████████████████████████████████████| 100/100 [00:26<00:00,  3.75it/s]"
     ]
    },
    {
     "name": "stdout",
     "output_type": "stream",
     "text": [
      "2025-02-04 18:21:53,304 Evaluating as a multi-label problem: False\n",
      "2025-02-04 18:21:53,358 DEV : loss 0.018792493268847466 - f1-score (micro avg)  0.9666\n"
     ]
    },
    {
     "name": "stderr",
     "output_type": "stream",
     "text": [
      "\n"
     ]
    },
    {
     "name": "stdout",
     "output_type": "stream",
     "text": [
      "2025-02-04 18:21:53,902 BAD EPOCHS (no improvement): 0\n",
      "2025-02-04 18:21:54,125 saving best model\n",
      "2025-02-04 18:21:54,340 ----------------------------------------------------------------------------------------------------\n",
      "2025-02-04 18:22:13,828 epoch 29 - iter 40/400 - loss 0.02434758 - samples/sec: 32.85 - lr: 0.050000\n",
      "2025-02-04 18:22:34,152 epoch 29 - iter 80/400 - loss 0.02393164 - samples/sec: 31.55 - lr: 0.050000\n",
      "2025-02-04 18:22:53,507 epoch 29 - iter 120/400 - loss 0.02435385 - samples/sec: 33.11 - lr: 0.050000\n",
      "2025-02-04 18:23:12,885 epoch 29 - iter 160/400 - loss 0.02464319 - samples/sec: 33.07 - lr: 0.050000\n",
      "2025-02-04 18:23:32,059 epoch 29 - iter 200/400 - loss 0.02535206 - samples/sec: 33.42 - lr: 0.050000\n",
      "2025-02-04 18:23:51,531 epoch 29 - iter 240/400 - loss 0.02567204 - samples/sec: 32.95 - lr: 0.050000\n",
      "2025-02-04 18:24:10,639 epoch 29 - iter 280/400 - loss 0.02596977 - samples/sec: 33.53 - lr: 0.050000\n",
      "2025-02-04 18:24:29,974 epoch 29 - iter 320/400 - loss 0.02580234 - samples/sec: 33.14 - lr: 0.050000\n",
      "2025-02-04 18:24:48,590 epoch 29 - iter 360/400 - loss 0.02576923 - samples/sec: 34.42 - lr: 0.050000\n",
      "2025-02-04 18:25:07,668 epoch 29 - iter 400/400 - loss 0.02569949 - samples/sec: 33.59 - lr: 0.050000\n",
      "2025-02-04 18:25:07,684 ----------------------------------------------------------------------------------------------------\n",
      "2025-02-04 18:25:07,685 EPOCH 29 done: loss 0.0257 - lr 0.050000\n"
     ]
    },
    {
     "name": "stderr",
     "output_type": "stream",
     "text": [
      "100%|█████████████████████████████████████████| 100/100 [00:26<00:00,  3.74it/s]"
     ]
    },
    {
     "name": "stdout",
     "output_type": "stream",
     "text": [
      "2025-02-04 18:25:34,449 Evaluating as a multi-label problem: False\n",
      "2025-02-04 18:25:34,502 DEV : loss 0.017981605604290962 - f1-score (micro avg)  0.9658\n"
     ]
    },
    {
     "name": "stderr",
     "output_type": "stream",
     "text": [
      "\n"
     ]
    },
    {
     "name": "stdout",
     "output_type": "stream",
     "text": [
      "2025-02-04 18:25:34,938 BAD EPOCHS (no improvement): 1\n",
      "2025-02-04 18:25:35,163 ----------------------------------------------------------------------------------------------------\n",
      "2025-02-04 18:25:54,192 epoch 30 - iter 40/400 - loss 0.02325861 - samples/sec: 33.65 - lr: 0.050000\n",
      "2025-02-04 18:26:14,077 epoch 30 - iter 80/400 - loss 0.02403550 - samples/sec: 32.23 - lr: 0.050000\n",
      "2025-02-04 18:26:33,322 epoch 30 - iter 120/400 - loss 0.02399848 - samples/sec: 33.29 - lr: 0.050000\n",
      "2025-02-04 18:26:52,729 epoch 30 - iter 160/400 - loss 0.02379811 - samples/sec: 33.04 - lr: 0.050000\n",
      "2025-02-04 18:27:11,977 epoch 30 - iter 200/400 - loss 0.02417450 - samples/sec: 33.29 - lr: 0.050000\n",
      "2025-02-04 18:27:30,948 epoch 30 - iter 240/400 - loss 0.02443342 - samples/sec: 33.78 - lr: 0.050000\n",
      "2025-02-04 18:27:50,816 epoch 30 - iter 280/400 - loss 0.02483384 - samples/sec: 32.25 - lr: 0.050000\n",
      "2025-02-04 18:28:10,190 epoch 30 - iter 320/400 - loss 0.02499422 - samples/sec: 33.08 - lr: 0.050000\n",
      "2025-02-04 18:28:29,862 epoch 30 - iter 360/400 - loss 0.02489938 - samples/sec: 32.57 - lr: 0.050000\n",
      "2025-02-04 18:28:49,197 epoch 30 - iter 400/400 - loss 0.02491912 - samples/sec: 33.14 - lr: 0.050000\n",
      "2025-02-04 18:28:49,214 ----------------------------------------------------------------------------------------------------\n",
      "2025-02-04 18:28:49,214 EPOCH 30 done: loss 0.0249 - lr 0.050000\n"
     ]
    },
    {
     "name": "stderr",
     "output_type": "stream",
     "text": [
      "100%|█████████████████████████████████████████| 100/100 [00:26<00:00,  3.77it/s]"
     ]
    },
    {
     "name": "stdout",
     "output_type": "stream",
     "text": [
      "2025-02-04 18:29:15,749 Evaluating as a multi-label problem: False\n",
      "2025-02-04 18:29:15,802 DEV : loss 0.0179731585085392 - f1-score (micro avg)  0.9664\n"
     ]
    },
    {
     "name": "stderr",
     "output_type": "stream",
     "text": [
      "\n"
     ]
    },
    {
     "name": "stdout",
     "output_type": "stream",
     "text": [
      "2025-02-04 18:29:16,229 BAD EPOCHS (no improvement): 2\n",
      "2025-02-04 18:29:16,450 ----------------------------------------------------------------------------------------------------\n",
      "2025-02-04 18:29:35,497 epoch 31 - iter 40/400 - loss 0.02499375 - samples/sec: 33.61 - lr: 0.050000\n",
      "2025-02-04 18:29:54,474 epoch 31 - iter 80/400 - loss 0.02399351 - samples/sec: 33.77 - lr: 0.050000\n",
      "2025-02-04 18:30:14,721 epoch 31 - iter 120/400 - loss 0.02542492 - samples/sec: 31.64 - lr: 0.050000\n",
      "2025-02-04 18:30:33,876 epoch 31 - iter 160/400 - loss 0.02567883 - samples/sec: 33.48 - lr: 0.050000\n",
      "2025-02-04 18:30:52,439 epoch 31 - iter 200/400 - loss 0.02551592 - samples/sec: 34.52 - lr: 0.050000\n",
      "2025-02-04 18:31:11,511 epoch 31 - iter 240/400 - loss 0.02537500 - samples/sec: 33.60 - lr: 0.050000\n",
      "2025-02-04 18:31:30,917 epoch 31 - iter 280/400 - loss 0.02538915 - samples/sec: 33.01 - lr: 0.050000\n",
      "2025-02-04 18:31:50,354 epoch 31 - iter 320/400 - loss 0.02533069 - samples/sec: 32.97 - lr: 0.050000\n",
      "2025-02-04 18:32:09,908 epoch 31 - iter 360/400 - loss 0.02534563 - samples/sec: 32.77 - lr: 0.050000\n",
      "2025-02-04 18:32:28,987 epoch 31 - iter 400/400 - loss 0.02515717 - samples/sec: 33.59 - lr: 0.050000\n",
      "2025-02-04 18:32:29,004 ----------------------------------------------------------------------------------------------------\n",
      "2025-02-04 18:32:29,004 EPOCH 31 done: loss 0.0252 - lr 0.050000\n"
     ]
    },
    {
     "name": "stderr",
     "output_type": "stream",
     "text": [
      "100%|█████████████████████████████████████████| 100/100 [00:26<00:00,  3.75it/s]"
     ]
    },
    {
     "name": "stdout",
     "output_type": "stream",
     "text": [
      "2025-02-04 18:32:55,733 Evaluating as a multi-label problem: False\n",
      "2025-02-04 18:32:55,786 DEV : loss 0.01820288971066475 - f1-score (micro avg)  0.9674\n"
     ]
    },
    {
     "name": "stderr",
     "output_type": "stream",
     "text": [
      "\n"
     ]
    },
    {
     "name": "stdout",
     "output_type": "stream",
     "text": [
      "2025-02-04 18:32:56,240 BAD EPOCHS (no improvement): 0\n",
      "2025-02-04 18:32:56,459 saving best model\n",
      "2025-02-04 18:32:56,669 ----------------------------------------------------------------------------------------------------\n",
      "2025-02-04 18:33:16,038 epoch 32 - iter 40/400 - loss 0.02397948 - samples/sec: 33.05 - lr: 0.050000\n",
      "2025-02-04 18:33:35,763 epoch 32 - iter 80/400 - loss 0.02368726 - samples/sec: 32.50 - lr: 0.050000\n",
      "2025-02-04 18:33:54,676 epoch 32 - iter 120/400 - loss 0.02377113 - samples/sec: 33.88 - lr: 0.050000\n",
      "2025-02-04 18:34:14,234 epoch 32 - iter 160/400 - loss 0.02350643 - samples/sec: 32.77 - lr: 0.050000\n",
      "2025-02-04 18:34:32,792 epoch 32 - iter 200/400 - loss 0.02327954 - samples/sec: 34.52 - lr: 0.050000\n",
      "2025-02-04 18:34:52,158 epoch 32 - iter 240/400 - loss 0.02355208 - samples/sec: 33.09 - lr: 0.050000\n",
      "2025-02-04 18:35:10,800 epoch 32 - iter 280/400 - loss 0.02345000 - samples/sec: 34.37 - lr: 0.050000\n",
      "2025-02-04 18:35:30,138 epoch 32 - iter 320/400 - loss 0.02372048 - samples/sec: 33.14 - lr: 0.050000\n",
      "2025-02-04 18:35:49,432 epoch 32 - iter 360/400 - loss 0.02421873 - samples/sec: 33.21 - lr: 0.050000\n",
      "2025-02-04 18:36:08,833 epoch 32 - iter 400/400 - loss 0.02446482 - samples/sec: 33.03 - lr: 0.050000\n",
      "2025-02-04 18:36:08,850 ----------------------------------------------------------------------------------------------------\n",
      "2025-02-04 18:36:08,850 EPOCH 32 done: loss 0.0245 - lr 0.050000\n"
     ]
    },
    {
     "name": "stderr",
     "output_type": "stream",
     "text": [
      "100%|█████████████████████████████████████████| 100/100 [00:26<00:00,  3.79it/s]"
     ]
    },
    {
     "name": "stdout",
     "output_type": "stream",
     "text": [
      "2025-02-04 18:36:35,269 Evaluating as a multi-label problem: False\n",
      "2025-02-04 18:36:35,322 DEV : loss 0.018596533685922623 - f1-score (micro avg)  0.9663\n"
     ]
    },
    {
     "name": "stderr",
     "output_type": "stream",
     "text": [
      "\n"
     ]
    },
    {
     "name": "stdout",
     "output_type": "stream",
     "text": [
      "2025-02-04 18:36:35,734 BAD EPOCHS (no improvement): 1\n",
      "2025-02-04 18:36:35,954 ----------------------------------------------------------------------------------------------------\n",
      "2025-02-04 18:36:55,058 epoch 33 - iter 40/400 - loss 0.02495232 - samples/sec: 33.51 - lr: 0.050000\n",
      "2025-02-04 18:37:14,653 epoch 33 - iter 80/400 - loss 0.02516721 - samples/sec: 32.71 - lr: 0.050000\n",
      "2025-02-04 18:37:34,005 epoch 33 - iter 120/400 - loss 0.02424035 - samples/sec: 33.11 - lr: 0.050000\n",
      "2025-02-04 18:37:53,733 epoch 33 - iter 160/400 - loss 0.02343598 - samples/sec: 32.48 - lr: 0.050000\n",
      "2025-02-04 18:38:12,567 epoch 33 - iter 200/400 - loss 0.02335764 - samples/sec: 34.02 - lr: 0.050000\n",
      "2025-02-04 18:38:31,999 epoch 33 - iter 240/400 - loss 0.02307728 - samples/sec: 32.98 - lr: 0.050000\n",
      "2025-02-04 18:38:51,506 epoch 33 - iter 280/400 - loss 0.02308594 - samples/sec: 32.85 - lr: 0.050000\n",
      "2025-02-04 18:39:11,046 epoch 33 - iter 320/400 - loss 0.02307197 - samples/sec: 32.80 - lr: 0.050000\n",
      "2025-02-04 18:39:30,247 epoch 33 - iter 360/400 - loss 0.02303835 - samples/sec: 33.37 - lr: 0.050000\n",
      "2025-02-04 18:39:50,176 epoch 33 - iter 400/400 - loss 0.02324364 - samples/sec: 32.15 - lr: 0.050000\n",
      "2025-02-04 18:39:50,194 ----------------------------------------------------------------------------------------------------\n",
      "2025-02-04 18:39:50,194 EPOCH 33 done: loss 0.0232 - lr 0.050000\n"
     ]
    },
    {
     "name": "stderr",
     "output_type": "stream",
     "text": [
      "100%|█████████████████████████████████████████| 100/100 [00:25<00:00,  3.94it/s]"
     ]
    },
    {
     "name": "stdout",
     "output_type": "stream",
     "text": [
      "2025-02-04 18:40:15,615 Evaluating as a multi-label problem: False\n",
      "2025-02-04 18:40:15,670 DEV : loss 0.01805790886282921 - f1-score (micro avg)  0.9657\n"
     ]
    },
    {
     "name": "stderr",
     "output_type": "stream",
     "text": [
      "\n"
     ]
    },
    {
     "name": "stdout",
     "output_type": "stream",
     "text": [
      "2025-02-04 18:40:16,211 BAD EPOCHS (no improvement): 2\n",
      "2025-02-04 18:40:16,472 ----------------------------------------------------------------------------------------------------\n",
      "2025-02-04 18:40:37,814 epoch 34 - iter 40/400 - loss 0.02249728 - samples/sec: 30.00 - lr: 0.050000\n",
      "2025-02-04 18:40:58,046 epoch 34 - iter 80/400 - loss 0.02331263 - samples/sec: 31.67 - lr: 0.050000\n",
      "2025-02-04 18:41:17,717 epoch 34 - iter 120/400 - loss 0.02353539 - samples/sec: 32.57 - lr: 0.050000\n",
      "2025-02-04 18:41:35,915 epoch 34 - iter 160/400 - loss 0.02355873 - samples/sec: 35.22 - lr: 0.050000\n",
      "2025-02-04 18:41:55,410 epoch 34 - iter 200/400 - loss 0.02367612 - samples/sec: 32.86 - lr: 0.050000\n",
      "2025-02-04 18:42:14,553 epoch 34 - iter 240/400 - loss 0.02373661 - samples/sec: 33.48 - lr: 0.050000\n",
      "2025-02-04 18:42:32,982 epoch 34 - iter 280/400 - loss 0.02356353 - samples/sec: 34.77 - lr: 0.050000\n",
      "2025-02-04 18:42:51,585 epoch 34 - iter 320/400 - loss 0.02357194 - samples/sec: 34.52 - lr: 0.050000\n",
      "2025-02-04 18:43:11,889 epoch 34 - iter 360/400 - loss 0.02363978 - samples/sec: 31.55 - lr: 0.050000\n",
      "2025-02-04 18:43:31,065 epoch 34 - iter 400/400 - loss 0.02339395 - samples/sec: 33.44 - lr: 0.050000\n",
      "2025-02-04 18:43:31,082 ----------------------------------------------------------------------------------------------------\n",
      "2025-02-04 18:43:31,082 EPOCH 34 done: loss 0.0234 - lr 0.050000\n"
     ]
    },
    {
     "name": "stderr",
     "output_type": "stream",
     "text": [
      "100%|█████████████████████████████████████████| 100/100 [00:25<00:00,  3.96it/s]"
     ]
    },
    {
     "name": "stdout",
     "output_type": "stream",
     "text": [
      "2025-02-04 18:43:56,388 Evaluating as a multi-label problem: False\n",
      "2025-02-04 18:43:56,442 DEV : loss 0.018032165244221687 - f1-score (micro avg)  0.9688\n"
     ]
    },
    {
     "name": "stderr",
     "output_type": "stream",
     "text": [
      "\n"
     ]
    },
    {
     "name": "stdout",
     "output_type": "stream",
     "text": [
      "2025-02-04 18:43:56,862 BAD EPOCHS (no improvement): 0\n",
      "2025-02-04 18:43:57,088 saving best model\n",
      "2025-02-04 18:43:57,302 ----------------------------------------------------------------------------------------------------\n",
      "2025-02-04 18:44:17,260 epoch 35 - iter 40/400 - loss 0.02074678 - samples/sec: 32.08 - lr: 0.050000\n",
      "2025-02-04 18:44:36,296 epoch 35 - iter 80/400 - loss 0.02376426 - samples/sec: 33.68 - lr: 0.050000\n",
      "2025-02-04 18:44:56,447 epoch 35 - iter 120/400 - loss 0.02333988 - samples/sec: 31.79 - lr: 0.050000\n",
      "2025-02-04 18:45:15,767 epoch 35 - iter 160/400 - loss 0.02298353 - samples/sec: 33.18 - lr: 0.050000\n",
      "2025-02-04 18:45:35,367 epoch 35 - iter 200/400 - loss 0.02291920 - samples/sec: 32.69 - lr: 0.050000\n",
      "2025-02-04 18:45:54,732 epoch 35 - iter 240/400 - loss 0.02349558 - samples/sec: 33.09 - lr: 0.050000\n",
      "2025-02-04 18:46:13,858 epoch 35 - iter 280/400 - loss 0.02326897 - samples/sec: 33.50 - lr: 0.050000\n",
      "2025-02-04 18:46:33,007 epoch 35 - iter 320/400 - loss 0.02338308 - samples/sec: 33.46 - lr: 0.050000\n",
      "2025-02-04 18:46:52,883 epoch 35 - iter 360/400 - loss 0.02350171 - samples/sec: 32.24 - lr: 0.050000\n",
      "2025-02-04 18:47:11,662 epoch 35 - iter 400/400 - loss 0.02368421 - samples/sec: 34.12 - lr: 0.050000\n",
      "2025-02-04 18:47:11,679 ----------------------------------------------------------------------------------------------------\n",
      "2025-02-04 18:47:11,680 EPOCH 35 done: loss 0.0237 - lr 0.050000\n"
     ]
    },
    {
     "name": "stderr",
     "output_type": "stream",
     "text": [
      "100%|█████████████████████████████████████████| 100/100 [00:25<00:00,  3.96it/s]"
     ]
    },
    {
     "name": "stdout",
     "output_type": "stream",
     "text": [
      "2025-02-04 18:47:36,934 Evaluating as a multi-label problem: False\n",
      "2025-02-04 18:47:36,988 DEV : loss 0.01769116520881653 - f1-score (micro avg)  0.9684\n"
     ]
    },
    {
     "name": "stderr",
     "output_type": "stream",
     "text": [
      "\n"
     ]
    },
    {
     "name": "stdout",
     "output_type": "stream",
     "text": [
      "2025-02-04 18:47:37,440 BAD EPOCHS (no improvement): 1\n",
      "2025-02-04 18:47:37,668 ----------------------------------------------------------------------------------------------------\n",
      "2025-02-04 18:47:56,633 epoch 36 - iter 40/400 - loss 0.02358189 - samples/sec: 33.76 - lr: 0.050000\n",
      "2025-02-04 18:48:16,519 epoch 36 - iter 80/400 - loss 0.02307943 - samples/sec: 32.23 - lr: 0.050000\n",
      "2025-02-04 18:48:36,055 epoch 36 - iter 120/400 - loss 0.02371168 - samples/sec: 32.80 - lr: 0.050000\n",
      "2025-02-04 18:48:54,730 epoch 36 - iter 160/400 - loss 0.02357851 - samples/sec: 34.33 - lr: 0.050000\n",
      "2025-02-04 18:49:15,246 epoch 36 - iter 200/400 - loss 0.02366796 - samples/sec: 31.23 - lr: 0.050000\n",
      "2025-02-04 18:49:34,995 epoch 36 - iter 240/400 - loss 0.02350524 - samples/sec: 32.45 - lr: 0.050000\n",
      "2025-02-04 18:49:54,511 epoch 36 - iter 280/400 - loss 0.02333584 - samples/sec: 32.83 - lr: 0.050000\n",
      "2025-02-04 18:50:13,800 epoch 36 - iter 320/400 - loss 0.02308721 - samples/sec: 33.22 - lr: 0.050000\n",
      "2025-02-04 18:50:32,694 epoch 36 - iter 360/400 - loss 0.02305251 - samples/sec: 33.91 - lr: 0.050000\n",
      "2025-02-04 18:50:52,023 epoch 36 - iter 400/400 - loss 0.02283944 - samples/sec: 33.15 - lr: 0.050000\n",
      "2025-02-04 18:50:52,041 ----------------------------------------------------------------------------------------------------\n",
      "2025-02-04 18:50:52,041 EPOCH 36 done: loss 0.0228 - lr 0.050000\n"
     ]
    },
    {
     "name": "stderr",
     "output_type": "stream",
     "text": [
      "100%|█████████████████████████████████████████| 100/100 [00:25<00:00,  3.93it/s]"
     ]
    },
    {
     "name": "stdout",
     "output_type": "stream",
     "text": [
      "2025-02-04 18:51:17,539 Evaluating as a multi-label problem: False\n",
      "2025-02-04 18:51:17,593 DEV : loss 0.017815686762332916 - f1-score (micro avg)  0.9675\n"
     ]
    },
    {
     "name": "stderr",
     "output_type": "stream",
     "text": [
      "\n"
     ]
    },
    {
     "name": "stdout",
     "output_type": "stream",
     "text": [
      "2025-02-04 18:51:18,076 BAD EPOCHS (no improvement): 2\n",
      "2025-02-04 18:51:18,304 ----------------------------------------------------------------------------------------------------\n",
      "2025-02-04 18:51:37,557 epoch 37 - iter 40/400 - loss 0.02401776 - samples/sec: 33.25 - lr: 0.050000\n",
      "2025-02-04 18:51:57,186 epoch 37 - iter 80/400 - loss 0.02207739 - samples/sec: 32.65 - lr: 0.050000\n",
      "2025-02-04 18:52:17,557 epoch 37 - iter 120/400 - loss 0.02125326 - samples/sec: 31.45 - lr: 0.050000\n",
      "2025-02-04 18:52:36,957 epoch 37 - iter 160/400 - loss 0.02141727 - samples/sec: 33.06 - lr: 0.050000\n",
      "2025-02-04 18:52:56,137 epoch 37 - iter 200/400 - loss 0.02155903 - samples/sec: 33.41 - lr: 0.050000\n",
      "2025-02-04 18:53:15,074 epoch 37 - iter 240/400 - loss 0.02154265 - samples/sec: 33.84 - lr: 0.050000\n",
      "2025-02-04 18:53:33,841 epoch 37 - iter 280/400 - loss 0.02172222 - samples/sec: 34.14 - lr: 0.050000\n",
      "2025-02-04 18:53:54,229 epoch 37 - iter 320/400 - loss 0.02195834 - samples/sec: 31.42 - lr: 0.050000\n",
      "2025-02-04 18:54:12,493 epoch 37 - iter 360/400 - loss 0.02172477 - samples/sec: 35.08 - lr: 0.050000\n",
      "2025-02-04 18:54:32,760 epoch 37 - iter 400/400 - loss 0.02178281 - samples/sec: 31.62 - lr: 0.050000\n",
      "2025-02-04 18:54:32,777 ----------------------------------------------------------------------------------------------------\n",
      "2025-02-04 18:54:32,778 EPOCH 37 done: loss 0.0218 - lr 0.050000\n"
     ]
    },
    {
     "name": "stderr",
     "output_type": "stream",
     "text": [
      "100%|█████████████████████████████████████████| 100/100 [00:25<00:00,  3.95it/s]"
     ]
    },
    {
     "name": "stdout",
     "output_type": "stream",
     "text": [
      "2025-02-04 18:54:58,248 Evaluating as a multi-label problem: False\n",
      "2025-02-04 18:54:58,302 DEV : loss 0.018010128289461136 - f1-score (micro avg)  0.9676\n"
     ]
    },
    {
     "name": "stderr",
     "output_type": "stream",
     "text": [
      "\n"
     ]
    },
    {
     "name": "stdout",
     "output_type": "stream",
     "text": [
      "2025-02-04 18:54:58,723 BAD EPOCHS (no improvement): 3\n",
      "2025-02-04 18:54:58,946 ----------------------------------------------------------------------------------------------------\n",
      "2025-02-04 18:55:18,981 epoch 38 - iter 40/400 - loss 0.02017493 - samples/sec: 31.95 - lr: 0.050000\n",
      "2025-02-04 18:55:39,100 epoch 38 - iter 80/400 - loss 0.02028739 - samples/sec: 31.88 - lr: 0.050000\n",
      "2025-02-04 18:55:58,663 epoch 38 - iter 120/400 - loss 0.02179143 - samples/sec: 32.75 - lr: 0.050000\n",
      "2025-02-04 18:56:17,661 epoch 38 - iter 160/400 - loss 0.02227902 - samples/sec: 33.81 - lr: 0.050000\n",
      "2025-02-04 18:56:37,149 epoch 38 - iter 200/400 - loss 0.02287938 - samples/sec: 32.87 - lr: 0.050000\n",
      "2025-02-04 18:56:55,661 epoch 38 - iter 240/400 - loss 0.02299868 - samples/sec: 34.62 - lr: 0.050000\n",
      "2025-02-04 18:57:14,707 epoch 38 - iter 280/400 - loss 0.02234019 - samples/sec: 33.64 - lr: 0.050000\n",
      "2025-02-04 18:57:33,544 epoch 38 - iter 320/400 - loss 0.02250337 - samples/sec: 34.02 - lr: 0.050000\n",
      "2025-02-04 18:57:52,538 epoch 38 - iter 360/400 - loss 0.02268149 - samples/sec: 33.73 - lr: 0.050000\n",
      "2025-02-04 18:58:12,952 epoch 38 - iter 400/400 - loss 0.02267905 - samples/sec: 31.46 - lr: 0.050000\n",
      "2025-02-04 18:58:12,968 ----------------------------------------------------------------------------------------------------\n",
      "2025-02-04 18:58:12,969 EPOCH 38 done: loss 0.0227 - lr 0.050000\n"
     ]
    },
    {
     "name": "stderr",
     "output_type": "stream",
     "text": [
      "100%|█████████████████████████████████████████| 100/100 [00:25<00:00,  3.97it/s]"
     ]
    },
    {
     "name": "stdout",
     "output_type": "stream",
     "text": [
      "2025-02-04 18:58:38,191 Evaluating as a multi-label problem: False\n",
      "2025-02-04 18:58:38,245 DEV : loss 0.01794375479221344 - f1-score (micro avg)  0.9689\n"
     ]
    },
    {
     "name": "stderr",
     "output_type": "stream",
     "text": [
      "\n"
     ]
    },
    {
     "name": "stdout",
     "output_type": "stream",
     "text": [
      "2025-02-04 18:58:38,672 BAD EPOCHS (no improvement): 0\n",
      "2025-02-04 18:58:38,898 saving best model\n",
      "2025-02-04 18:58:39,109 ----------------------------------------------------------------------------------------------------\n",
      "2025-02-04 18:58:58,253 epoch 39 - iter 40/400 - loss 0.02251100 - samples/sec: 33.44 - lr: 0.050000\n",
      "2025-02-04 18:59:17,480 epoch 39 - iter 80/400 - loss 0.02215454 - samples/sec: 33.36 - lr: 0.050000\n",
      "2025-02-04 18:59:36,685 epoch 39 - iter 120/400 - loss 0.02241615 - samples/sec: 33.36 - lr: 0.050000\n",
      "2025-02-04 18:59:55,667 epoch 39 - iter 160/400 - loss 0.02178869 - samples/sec: 33.76 - lr: 0.050000\n",
      "2025-02-04 19:00:14,926 epoch 39 - iter 200/400 - loss 0.02227028 - samples/sec: 33.27 - lr: 0.050000\n",
      "2025-02-04 19:00:34,186 epoch 39 - iter 240/400 - loss 0.02195812 - samples/sec: 33.30 - lr: 0.050000\n",
      "2025-02-04 19:00:54,220 epoch 39 - iter 280/400 - loss 0.02188510 - samples/sec: 31.98 - lr: 0.050000\n",
      "2025-02-04 19:01:12,760 epoch 39 - iter 320/400 - loss 0.02185859 - samples/sec: 34.56 - lr: 0.050000\n",
      "2025-02-04 19:01:32,035 epoch 39 - iter 360/400 - loss 0.02176714 - samples/sec: 33.24 - lr: 0.050000\n",
      "2025-02-04 19:01:51,400 epoch 39 - iter 400/400 - loss 0.02203336 - samples/sec: 33.09 - lr: 0.050000\n",
      "2025-02-04 19:01:51,419 ----------------------------------------------------------------------------------------------------\n",
      "2025-02-04 19:01:51,419 EPOCH 39 done: loss 0.0220 - lr 0.050000\n"
     ]
    },
    {
     "name": "stderr",
     "output_type": "stream",
     "text": [
      "100%|█████████████████████████████████████████| 100/100 [00:26<00:00,  3.70it/s]"
     ]
    },
    {
     "name": "stdout",
     "output_type": "stream",
     "text": [
      "2025-02-04 19:02:18,540 Evaluating as a multi-label problem: False\n",
      "2025-02-04 19:02:18,595 DEV : loss 0.018390728160738945 - f1-score (micro avg)  0.9679\n"
     ]
    },
    {
     "name": "stderr",
     "output_type": "stream",
     "text": [
      "\n"
     ]
    },
    {
     "name": "stdout",
     "output_type": "stream",
     "text": [
      "2025-02-04 19:02:19,139 BAD EPOCHS (no improvement): 1\n",
      "2025-02-04 19:02:19,365 ----------------------------------------------------------------------------------------------------\n",
      "2025-02-04 19:02:38,673 epoch 40 - iter 40/400 - loss 0.02070054 - samples/sec: 33.16 - lr: 0.050000\n",
      "2025-02-04 19:02:58,159 epoch 40 - iter 80/400 - loss 0.02132024 - samples/sec: 32.93 - lr: 0.050000\n",
      "2025-02-04 19:03:19,147 epoch 40 - iter 120/400 - loss 0.02158993 - samples/sec: 30.53 - lr: 0.050000\n",
      "2025-02-04 19:03:38,483 epoch 40 - iter 160/400 - loss 0.02105331 - samples/sec: 33.17 - lr: 0.050000\n",
      "2025-02-04 19:03:57,147 epoch 40 - iter 200/400 - loss 0.02142731 - samples/sec: 34.33 - lr: 0.050000\n",
      "2025-02-04 19:04:16,630 epoch 40 - iter 240/400 - loss 0.02208673 - samples/sec: 32.90 - lr: 0.050000\n",
      "2025-02-04 19:04:35,623 epoch 40 - iter 280/400 - loss 0.02237998 - samples/sec: 33.74 - lr: 0.050000\n",
      "2025-02-04 19:04:55,076 epoch 40 - iter 320/400 - loss 0.02255440 - samples/sec: 32.94 - lr: 0.050000\n",
      "2025-02-04 19:05:14,614 epoch 40 - iter 360/400 - loss 0.02224805 - samples/sec: 32.80 - lr: 0.050000\n",
      "2025-02-04 19:05:33,960 epoch 40 - iter 400/400 - loss 0.02243354 - samples/sec: 33.13 - lr: 0.050000\n",
      "2025-02-04 19:05:33,978 ----------------------------------------------------------------------------------------------------\n",
      "2025-02-04 19:05:33,978 EPOCH 40 done: loss 0.0224 - lr 0.050000\n"
     ]
    },
    {
     "name": "stderr",
     "output_type": "stream",
     "text": [
      "100%|█████████████████████████████████████████| 100/100 [00:26<00:00,  3.72it/s]"
     ]
    },
    {
     "name": "stdout",
     "output_type": "stream",
     "text": [
      "2025-02-04 19:06:00,895 Evaluating as a multi-label problem: False\n",
      "2025-02-04 19:06:00,949 DEV : loss 0.017300302162766457 - f1-score (micro avg)  0.9689\n"
     ]
    },
    {
     "name": "stderr",
     "output_type": "stream",
     "text": [
      "\n"
     ]
    },
    {
     "name": "stdout",
     "output_type": "stream",
     "text": [
      "2025-02-04 19:06:01,433 BAD EPOCHS (no improvement): 2\n",
      "2025-02-04 19:06:01,659 ----------------------------------------------------------------------------------------------------\n",
      "2025-02-04 19:06:22,032 epoch 41 - iter 40/400 - loss 0.01811496 - samples/sec: 31.43 - lr: 0.050000\n",
      "2025-02-04 19:06:42,094 epoch 41 - iter 80/400 - loss 0.02040263 - samples/sec: 32.11 - lr: 0.050000\n",
      "2025-02-04 19:07:01,482 epoch 41 - iter 120/400 - loss 0.02109627 - samples/sec: 33.05 - lr: 0.050000\n",
      "2025-02-04 19:07:21,082 epoch 41 - iter 160/400 - loss 0.02129787 - samples/sec: 32.70 - lr: 0.050000\n",
      "2025-02-04 19:07:39,538 epoch 41 - iter 200/400 - loss 0.02134619 - samples/sec: 34.72 - lr: 0.050000\n",
      "2025-02-04 19:07:57,678 epoch 41 - iter 240/400 - loss 0.02136060 - samples/sec: 35.33 - lr: 0.050000\n",
      "2025-02-04 19:08:17,773 epoch 41 - iter 280/400 - loss 0.02141442 - samples/sec: 31.88 - lr: 0.050000\n",
      "2025-02-04 19:08:36,512 epoch 41 - iter 320/400 - loss 0.02136960 - samples/sec: 34.22 - lr: 0.050000\n",
      "2025-02-04 19:08:56,651 epoch 41 - iter 360/400 - loss 0.02142016 - samples/sec: 31.81 - lr: 0.050000\n",
      "2025-02-04 19:09:15,382 epoch 41 - iter 400/400 - loss 0.02165396 - samples/sec: 34.22 - lr: 0.050000\n",
      "2025-02-04 19:09:15,399 ----------------------------------------------------------------------------------------------------\n",
      "2025-02-04 19:09:15,400 EPOCH 41 done: loss 0.0217 - lr 0.050000\n"
     ]
    },
    {
     "name": "stderr",
     "output_type": "stream",
     "text": [
      "100%|█████████████████████████████████████████| 100/100 [00:26<00:00,  3.74it/s]"
     ]
    },
    {
     "name": "stdout",
     "output_type": "stream",
     "text": [
      "2025-02-04 19:09:42,180 Evaluating as a multi-label problem: False\n",
      "2025-02-04 19:09:42,235 DEV : loss 0.01747402735054493 - f1-score (micro avg)  0.9701\n"
     ]
    },
    {
     "name": "stderr",
     "output_type": "stream",
     "text": [
      "\n"
     ]
    },
    {
     "name": "stdout",
     "output_type": "stream",
     "text": [
      "2025-02-04 19:09:42,655 BAD EPOCHS (no improvement): 0\n",
      "2025-02-04 19:09:42,882 saving best model\n",
      "2025-02-04 19:09:43,094 ----------------------------------------------------------------------------------------------------\n",
      "2025-02-04 19:10:02,858 epoch 42 - iter 40/400 - loss 0.02137882 - samples/sec: 32.39 - lr: 0.050000\n",
      "2025-02-04 19:10:23,057 epoch 42 - iter 80/400 - loss 0.02059086 - samples/sec: 31.76 - lr: 0.050000\n",
      "2025-02-04 19:10:42,654 epoch 42 - iter 120/400 - loss 0.02144863 - samples/sec: 32.69 - lr: 0.050000\n",
      "2025-02-04 19:11:02,113 epoch 42 - iter 160/400 - loss 0.02140038 - samples/sec: 32.96 - lr: 0.050000\n",
      "2025-02-04 19:11:20,460 epoch 42 - iter 200/400 - loss 0.02125130 - samples/sec: 34.93 - lr: 0.050000\n",
      "2025-02-04 19:11:39,109 epoch 42 - iter 240/400 - loss 0.02249103 - samples/sec: 34.39 - lr: 0.050000\n",
      "2025-02-04 19:11:58,141 epoch 42 - iter 280/400 - loss 0.02232274 - samples/sec: 33.66 - lr: 0.050000\n",
      "2025-02-04 19:12:17,828 epoch 42 - iter 320/400 - loss 0.02235680 - samples/sec: 32.55 - lr: 0.050000\n",
      "2025-02-04 19:12:37,058 epoch 42 - iter 360/400 - loss 0.02228834 - samples/sec: 33.32 - lr: 0.050000\n",
      "2025-02-04 19:12:56,365 epoch 42 - iter 400/400 - loss 0.02227713 - samples/sec: 33.19 - lr: 0.050000\n",
      "2025-02-04 19:12:56,384 ----------------------------------------------------------------------------------------------------\n",
      "2025-02-04 19:12:56,384 EPOCH 42 done: loss 0.0223 - lr 0.050000\n"
     ]
    },
    {
     "name": "stderr",
     "output_type": "stream",
     "text": [
      "100%|█████████████████████████████████████████| 100/100 [00:26<00:00,  3.79it/s]"
     ]
    },
    {
     "name": "stdout",
     "output_type": "stream",
     "text": [
      "2025-02-04 19:13:22,833 Evaluating as a multi-label problem: False\n",
      "2025-02-04 19:13:22,886 DEV : loss 0.017845451831817627 - f1-score (micro avg)  0.9679\n"
     ]
    },
    {
     "name": "stderr",
     "output_type": "stream",
     "text": [
      "\n"
     ]
    },
    {
     "name": "stdout",
     "output_type": "stream",
     "text": [
      "2025-02-04 19:13:23,421 BAD EPOCHS (no improvement): 1\n",
      "2025-02-04 19:13:23,663 ----------------------------------------------------------------------------------------------------\n",
      "2025-02-04 19:13:42,758 epoch 43 - iter 40/400 - loss 0.02131383 - samples/sec: 33.53 - lr: 0.050000\n",
      "2025-02-04 19:14:01,886 epoch 43 - iter 80/400 - loss 0.02110896 - samples/sec: 33.53 - lr: 0.050000\n",
      "2025-02-04 19:14:20,630 epoch 43 - iter 120/400 - loss 0.02155953 - samples/sec: 34.18 - lr: 0.050000\n",
      "2025-02-04 19:14:39,551 epoch 43 - iter 160/400 - loss 0.02149901 - samples/sec: 33.87 - lr: 0.050000\n",
      "2025-02-04 19:14:59,571 epoch 43 - iter 200/400 - loss 0.02200921 - samples/sec: 32.00 - lr: 0.050000\n",
      "2025-02-04 19:15:18,899 epoch 43 - iter 240/400 - loss 0.02219357 - samples/sec: 33.15 - lr: 0.050000\n",
      "2025-02-04 19:15:38,548 epoch 43 - iter 280/400 - loss 0.02218620 - samples/sec: 32.61 - lr: 0.050000\n",
      "2025-02-04 19:15:57,764 epoch 43 - iter 320/400 - loss 0.02226086 - samples/sec: 33.35 - lr: 0.050000\n",
      "2025-02-04 19:16:17,267 epoch 43 - iter 360/400 - loss 0.02203456 - samples/sec: 32.85 - lr: 0.050000\n",
      "2025-02-04 19:16:35,963 epoch 43 - iter 400/400 - loss 0.02189984 - samples/sec: 34.28 - lr: 0.050000\n",
      "2025-02-04 19:16:35,979 ----------------------------------------------------------------------------------------------------\n",
      "2025-02-04 19:16:35,979 EPOCH 43 done: loss 0.0219 - lr 0.050000\n"
     ]
    },
    {
     "name": "stderr",
     "output_type": "stream",
     "text": [
      "100%|█████████████████████████████████████████| 100/100 [00:26<00:00,  3.76it/s]"
     ]
    },
    {
     "name": "stdout",
     "output_type": "stream",
     "text": [
      "2025-02-04 19:17:02,634 Evaluating as a multi-label problem: False\n",
      "2025-02-04 19:17:02,689 DEV : loss 0.0186600461602211 - f1-score (micro avg)  0.9691\n"
     ]
    },
    {
     "name": "stderr",
     "output_type": "stream",
     "text": [
      "\n"
     ]
    },
    {
     "name": "stdout",
     "output_type": "stream",
     "text": [
      "2025-02-04 19:17:03,107 BAD EPOCHS (no improvement): 2\n",
      "2025-02-04 19:17:03,327 ----------------------------------------------------------------------------------------------------\n",
      "2025-02-04 19:17:22,952 epoch 44 - iter 40/400 - loss 0.02261830 - samples/sec: 32.62 - lr: 0.050000\n",
      "2025-02-04 19:17:41,723 epoch 44 - iter 80/400 - loss 0.02146000 - samples/sec: 34.14 - lr: 0.050000\n",
      "2025-02-04 19:18:00,858 epoch 44 - iter 120/400 - loss 0.02075340 - samples/sec: 33.49 - lr: 0.050000\n",
      "2025-02-04 19:18:20,060 epoch 44 - iter 160/400 - loss 0.02059762 - samples/sec: 33.37 - lr: 0.050000\n",
      "2025-02-04 19:18:40,294 epoch 44 - iter 200/400 - loss 0.02119467 - samples/sec: 31.66 - lr: 0.050000\n",
      "2025-02-04 19:18:59,311 epoch 44 - iter 240/400 - loss 0.02200838 - samples/sec: 33.70 - lr: 0.050000\n",
      "2025-02-04 19:19:18,380 epoch 44 - iter 280/400 - loss 0.02177494 - samples/sec: 33.60 - lr: 0.050000\n",
      "2025-02-04 19:19:38,446 epoch 44 - iter 320/400 - loss 0.02208071 - samples/sec: 31.94 - lr: 0.050000\n",
      "2025-02-04 19:19:57,639 epoch 44 - iter 360/400 - loss 0.02171715 - samples/sec: 33.38 - lr: 0.050000\n",
      "2025-02-04 19:20:17,084 epoch 44 - iter 400/400 - loss 0.02167237 - samples/sec: 32.96 - lr: 0.050000\n",
      "2025-02-04 19:20:17,100 ----------------------------------------------------------------------------------------------------\n",
      "2025-02-04 19:20:17,101 EPOCH 44 done: loss 0.0217 - lr 0.050000\n"
     ]
    },
    {
     "name": "stderr",
     "output_type": "stream",
     "text": [
      "100%|█████████████████████████████████████████| 100/100 [00:26<00:00,  3.73it/s]"
     ]
    },
    {
     "name": "stdout",
     "output_type": "stream",
     "text": [
      "2025-02-04 19:20:43,954 Evaluating as a multi-label problem: False\n",
      "2025-02-04 19:20:44,007 DEV : loss 0.017647070810198784 - f1-score (micro avg)  0.9686\n"
     ]
    },
    {
     "name": "stderr",
     "output_type": "stream",
     "text": [
      "\n"
     ]
    },
    {
     "name": "stdout",
     "output_type": "stream",
     "text": [
      "2025-02-04 19:20:44,461 BAD EPOCHS (no improvement): 3\n",
      "2025-02-04 19:20:44,686 ----------------------------------------------------------------------------------------------------\n",
      "2025-02-04 19:21:03,690 epoch 45 - iter 40/400 - loss 0.02459098 - samples/sec: 33.69 - lr: 0.050000\n",
      "2025-02-04 19:21:23,291 epoch 45 - iter 80/400 - loss 0.02200262 - samples/sec: 32.73 - lr: 0.050000\n",
      "2025-02-04 19:21:42,195 epoch 45 - iter 120/400 - loss 0.02199014 - samples/sec: 33.89 - lr: 0.050000\n",
      "2025-02-04 19:22:01,621 epoch 45 - iter 160/400 - loss 0.02124277 - samples/sec: 33.00 - lr: 0.050000\n",
      "2025-02-04 19:22:20,782 epoch 45 - iter 200/400 - loss 0.02121328 - samples/sec: 33.44 - lr: 0.050000\n",
      "2025-02-04 19:22:40,037 epoch 45 - iter 240/400 - loss 0.02107119 - samples/sec: 33.28 - lr: 0.050000\n",
      "2025-02-04 19:22:59,239 epoch 45 - iter 280/400 - loss 0.02130043 - samples/sec: 33.37 - lr: 0.050000\n",
      "2025-02-04 19:23:19,037 epoch 45 - iter 320/400 - loss 0.02132444 - samples/sec: 32.49 - lr: 0.050000\n",
      "2025-02-04 19:23:37,828 epoch 45 - iter 360/400 - loss 0.02150519 - samples/sec: 34.10 - lr: 0.050000\n",
      "2025-02-04 19:23:57,463 epoch 45 - iter 400/400 - loss 0.02170951 - samples/sec: 32.67 - lr: 0.050000\n",
      "2025-02-04 19:23:57,480 ----------------------------------------------------------------------------------------------------\n",
      "2025-02-04 19:23:57,481 EPOCH 45 done: loss 0.0217 - lr 0.050000\n"
     ]
    },
    {
     "name": "stderr",
     "output_type": "stream",
     "text": [
      "100%|█████████████████████████████████████████| 100/100 [00:26<00:00,  3.75it/s]"
     ]
    },
    {
     "name": "stdout",
     "output_type": "stream",
     "text": [
      "2025-02-04 19:24:24,158 Evaluating as a multi-label problem: False\n",
      "2025-02-04 19:24:24,213 DEV : loss 0.01737215556204319 - f1-score (micro avg)  0.9694\n"
     ]
    },
    {
     "name": "stderr",
     "output_type": "stream",
     "text": [
      "\n"
     ]
    },
    {
     "name": "stdout",
     "output_type": "stream",
     "text": [
      "2025-02-04 19:24:24,629 Epoch    45: reducing learning rate of group 0 to 2.5000e-02.\n",
      "2025-02-04 19:24:24,634 BAD EPOCHS (no improvement): 4\n",
      "2025-02-04 19:24:24,856 ----------------------------------------------------------------------------------------------------\n",
      "2025-02-04 19:24:45,527 epoch 46 - iter 40/400 - loss 0.01755582 - samples/sec: 30.97 - lr: 0.025000\n",
      "2025-02-04 19:25:04,897 epoch 46 - iter 80/400 - loss 0.01823214 - samples/sec: 33.14 - lr: 0.025000\n",
      "2025-02-04 19:25:24,202 epoch 46 - iter 120/400 - loss 0.01956949 - samples/sec: 33.18 - lr: 0.025000\n",
      "2025-02-04 19:25:43,299 epoch 46 - iter 160/400 - loss 0.01943995 - samples/sec: 33.55 - lr: 0.025000\n",
      "2025-02-04 19:26:02,521 epoch 46 - iter 200/400 - loss 0.01954107 - samples/sec: 33.33 - lr: 0.025000\n",
      "2025-02-04 19:26:21,600 epoch 46 - iter 240/400 - loss 0.02014295 - samples/sec: 33.61 - lr: 0.025000\n",
      "2025-02-04 19:26:40,940 epoch 46 - iter 280/400 - loss 0.02052140 - samples/sec: 33.13 - lr: 0.025000\n",
      "2025-02-04 19:27:00,001 epoch 46 - iter 320/400 - loss 0.02008725 - samples/sec: 33.62 - lr: 0.025000\n",
      "2025-02-04 19:27:19,345 epoch 46 - iter 360/400 - loss 0.02018046 - samples/sec: 33.12 - lr: 0.025000\n",
      "2025-02-04 19:27:39,058 epoch 46 - iter 400/400 - loss 0.02038670 - samples/sec: 32.54 - lr: 0.025000\n",
      "2025-02-04 19:27:39,076 ----------------------------------------------------------------------------------------------------\n",
      "2025-02-04 19:27:39,076 EPOCH 46 done: loss 0.0204 - lr 0.025000\n"
     ]
    },
    {
     "name": "stderr",
     "output_type": "stream",
     "text": [
      "100%|█████████████████████████████████████████| 100/100 [00:26<00:00,  3.73it/s]"
     ]
    },
    {
     "name": "stdout",
     "output_type": "stream",
     "text": [
      "2025-02-04 19:28:05,999 Evaluating as a multi-label problem: False\n",
      "2025-02-04 19:28:06,053 DEV : loss 0.017166731879115105 - f1-score (micro avg)  0.9706\n"
     ]
    },
    {
     "name": "stderr",
     "output_type": "stream",
     "text": [
      "\n"
     ]
    },
    {
     "name": "stdout",
     "output_type": "stream",
     "text": [
      "2025-02-04 19:28:06,498 BAD EPOCHS (no improvement): 0\n",
      "2025-02-04 19:28:06,721 saving best model\n",
      "2025-02-04 19:28:06,999 ----------------------------------------------------------------------------------------------------\n",
      "2025-02-04 19:28:26,264 epoch 47 - iter 40/400 - loss 0.02066578 - samples/sec: 33.23 - lr: 0.025000\n",
      "2025-02-04 19:28:45,672 epoch 47 - iter 80/400 - loss 0.02071912 - samples/sec: 33.19 - lr: 0.025000\n",
      "2025-02-04 19:29:06,270 epoch 47 - iter 120/400 - loss 0.02042639 - samples/sec: 31.11 - lr: 0.025000\n",
      "2025-02-04 19:29:25,280 epoch 47 - iter 160/400 - loss 0.02077845 - samples/sec: 33.82 - lr: 0.025000\n",
      "2025-02-04 19:29:44,033 epoch 47 - iter 200/400 - loss 0.02005720 - samples/sec: 34.17 - lr: 0.025000\n",
      "2025-02-04 19:30:03,497 epoch 47 - iter 240/400 - loss 0.01968270 - samples/sec: 33.13 - lr: 0.025000\n",
      "2025-02-04 19:30:22,635 epoch 47 - iter 280/400 - loss 0.02015738 - samples/sec: 33.48 - lr: 0.025000\n",
      "2025-02-04 19:30:41,708 epoch 47 - iter 320/400 - loss 0.01990668 - samples/sec: 33.61 - lr: 0.025000\n",
      "2025-02-04 19:31:01,166 epoch 47 - iter 360/400 - loss 0.02011564 - samples/sec: 32.93 - lr: 0.025000\n",
      "2025-02-04 19:31:20,617 epoch 47 - iter 400/400 - loss 0.02000789 - samples/sec: 33.14 - lr: 0.025000\n",
      "2025-02-04 19:31:20,633 ----------------------------------------------------------------------------------------------------\n",
      "2025-02-04 19:31:20,634 EPOCH 47 done: loss 0.0200 - lr 0.025000\n"
     ]
    },
    {
     "name": "stderr",
     "output_type": "stream",
     "text": [
      "100%|█████████████████████████████████████████| 100/100 [00:26<00:00,  3.75it/s]"
     ]
    },
    {
     "name": "stdout",
     "output_type": "stream",
     "text": [
      "2025-02-04 19:31:47,313 Evaluating as a multi-label problem: False\n",
      "2025-02-04 19:31:47,367 DEV : loss 0.01705673709511757 - f1-score (micro avg)  0.9696\n"
     ]
    },
    {
     "name": "stderr",
     "output_type": "stream",
     "text": [
      "\n"
     ]
    },
    {
     "name": "stdout",
     "output_type": "stream",
     "text": [
      "2025-02-04 19:31:47,781 BAD EPOCHS (no improvement): 1\n",
      "2025-02-04 19:31:48,015 ----------------------------------------------------------------------------------------------------\n",
      "2025-02-04 19:32:07,445 epoch 48 - iter 40/400 - loss 0.02116831 - samples/sec: 32.95 - lr: 0.025000\n",
      "2025-02-04 19:32:26,732 epoch 48 - iter 80/400 - loss 0.02124857 - samples/sec: 33.32 - lr: 0.025000\n",
      "2025-02-04 19:32:45,802 epoch 48 - iter 120/400 - loss 0.02023888 - samples/sec: 33.60 - lr: 0.025000\n",
      "2025-02-04 19:33:04,437 epoch 48 - iter 160/400 - loss 0.02042330 - samples/sec: 34.41 - lr: 0.025000\n",
      "2025-02-04 19:33:23,581 epoch 48 - iter 200/400 - loss 0.02058058 - samples/sec: 33.47 - lr: 0.025000\n",
      "2025-02-04 19:33:42,824 epoch 48 - iter 240/400 - loss 0.01983175 - samples/sec: 33.33 - lr: 0.025000\n",
      "2025-02-04 19:34:02,100 epoch 48 - iter 280/400 - loss 0.01982526 - samples/sec: 33.24 - lr: 0.025000\n",
      "2025-02-04 19:34:21,615 epoch 48 - iter 320/400 - loss 0.01985402 - samples/sec: 32.84 - lr: 0.025000\n",
      "2025-02-04 19:34:40,953 epoch 48 - iter 360/400 - loss 0.01974299 - samples/sec: 33.13 - lr: 0.025000\n",
      "2025-02-04 19:35:00,375 epoch 48 - iter 400/400 - loss 0.01959320 - samples/sec: 33.02 - lr: 0.025000\n",
      "2025-02-04 19:35:00,392 ----------------------------------------------------------------------------------------------------\n",
      "2025-02-04 19:35:00,392 EPOCH 48 done: loss 0.0196 - lr 0.025000\n"
     ]
    },
    {
     "name": "stderr",
     "output_type": "stream",
     "text": [
      "100%|█████████████████████████████████████████| 100/100 [00:26<00:00,  3.76it/s]"
     ]
    },
    {
     "name": "stdout",
     "output_type": "stream",
     "text": [
      "2025-02-04 19:35:27,009 Evaluating as a multi-label problem: False\n",
      "2025-02-04 19:35:27,062 DEV : loss 0.01739860512316227 - f1-score (micro avg)  0.9697\n"
     ]
    },
    {
     "name": "stderr",
     "output_type": "stream",
     "text": [
      "\n"
     ]
    },
    {
     "name": "stdout",
     "output_type": "stream",
     "text": [
      "2025-02-04 19:35:27,498 BAD EPOCHS (no improvement): 2\n",
      "2025-02-04 19:35:27,811 ----------------------------------------------------------------------------------------------------\n",
      "2025-02-04 19:35:47,320 epoch 49 - iter 40/400 - loss 0.01725496 - samples/sec: 32.82 - lr: 0.025000\n",
      "2025-02-04 19:36:05,700 epoch 49 - iter 80/400 - loss 0.01879073 - samples/sec: 34.89 - lr: 0.025000\n",
      "2025-02-04 19:36:24,617 epoch 49 - iter 120/400 - loss 0.01924428 - samples/sec: 33.87 - lr: 0.025000\n",
      "2025-02-04 19:36:43,686 epoch 49 - iter 160/400 - loss 0.01921109 - samples/sec: 33.61 - lr: 0.025000\n",
      "2025-02-04 19:37:03,634 epoch 49 - iter 200/400 - loss 0.01888798 - samples/sec: 32.12 - lr: 0.025000\n",
      "2025-02-04 19:37:22,858 epoch 49 - iter 240/400 - loss 0.01925168 - samples/sec: 33.34 - lr: 0.025000\n",
      "2025-02-04 19:37:41,941 epoch 49 - iter 280/400 - loss 0.01945073 - samples/sec: 33.58 - lr: 0.025000\n",
      "2025-02-04 19:38:02,082 epoch 49 - iter 320/400 - loss 0.01925332 - samples/sec: 31.82 - lr: 0.025000\n",
      "2025-02-04 19:38:21,979 epoch 49 - iter 360/400 - loss 0.01922481 - samples/sec: 32.20 - lr: 0.025000\n",
      "2025-02-04 19:38:41,059 epoch 49 - iter 400/400 - loss 0.01889947 - samples/sec: 33.59 - lr: 0.025000\n",
      "2025-02-04 19:38:41,077 ----------------------------------------------------------------------------------------------------\n",
      "2025-02-04 19:38:41,077 EPOCH 49 done: loss 0.0189 - lr 0.025000\n"
     ]
    },
    {
     "name": "stderr",
     "output_type": "stream",
     "text": [
      "100%|█████████████████████████████████████████| 100/100 [00:26<00:00,  3.73it/s]"
     ]
    },
    {
     "name": "stdout",
     "output_type": "stream",
     "text": [
      "2025-02-04 19:39:07,946 Evaluating as a multi-label problem: False\n",
      "2025-02-04 19:39:07,999 DEV : loss 0.017084473744034767 - f1-score (micro avg)  0.9703\n"
     ]
    },
    {
     "name": "stderr",
     "output_type": "stream",
     "text": [
      "\n"
     ]
    },
    {
     "name": "stdout",
     "output_type": "stream",
     "text": [
      "2025-02-04 19:39:08,460 BAD EPOCHS (no improvement): 3\n",
      "2025-02-04 19:39:08,681 ----------------------------------------------------------------------------------------------------\n",
      "2025-02-04 19:39:28,422 epoch 50 - iter 40/400 - loss 0.01811580 - samples/sec: 32.43 - lr: 0.025000\n",
      "2025-02-04 19:39:47,472 epoch 50 - iter 80/400 - loss 0.01882917 - samples/sec: 33.70 - lr: 0.025000\n",
      "2025-02-04 19:40:06,238 epoch 50 - iter 120/400 - loss 0.01883845 - samples/sec: 34.14 - lr: 0.025000\n",
      "2025-02-04 19:40:25,156 epoch 50 - iter 160/400 - loss 0.01940813 - samples/sec: 33.89 - lr: 0.025000\n",
      "2025-02-04 19:40:44,046 epoch 50 - iter 200/400 - loss 0.01905987 - samples/sec: 33.92 - lr: 0.025000\n",
      "2025-02-04 19:41:03,822 epoch 50 - iter 240/400 - loss 0.01940608 - samples/sec: 32.40 - lr: 0.025000\n",
      "2025-02-04 19:41:22,804 epoch 50 - iter 280/400 - loss 0.01905278 - samples/sec: 33.76 - lr: 0.025000\n",
      "2025-02-04 19:41:41,843 epoch 50 - iter 320/400 - loss 0.01923643 - samples/sec: 33.66 - lr: 0.025000\n",
      "2025-02-04 19:42:00,747 epoch 50 - iter 360/400 - loss 0.01900184 - samples/sec: 33.89 - lr: 0.025000\n",
      "2025-02-04 19:42:21,347 epoch 50 - iter 400/400 - loss 0.01901363 - samples/sec: 31.11 - lr: 0.025000\n",
      "2025-02-04 19:42:21,364 ----------------------------------------------------------------------------------------------------\n",
      "2025-02-04 19:42:21,364 EPOCH 50 done: loss 0.0190 - lr 0.025000\n"
     ]
    },
    {
     "name": "stderr",
     "output_type": "stream",
     "text": [
      "100%|█████████████████████████████████████████| 100/100 [00:25<00:00,  3.96it/s]"
     ]
    },
    {
     "name": "stdout",
     "output_type": "stream",
     "text": [
      "2025-02-04 19:42:46,647 Evaluating as a multi-label problem: False\n",
      "2025-02-04 19:42:46,701 DEV : loss 0.017171330749988556 - f1-score (micro avg)  0.9699\n"
     ]
    },
    {
     "name": "stderr",
     "output_type": "stream",
     "text": [
      "\n"
     ]
    },
    {
     "name": "stdout",
     "output_type": "stream",
     "text": [
      "2025-02-04 19:42:47,174 Epoch    50: reducing learning rate of group 0 to 1.2500e-02.\n",
      "2025-02-04 19:42:47,179 BAD EPOCHS (no improvement): 4\n",
      "2025-02-04 19:42:47,406 ----------------------------------------------------------------------------------------------------\n",
      "2025-02-04 19:43:09,030 epoch 51 - iter 40/400 - loss 0.01914914 - samples/sec: 29.60 - lr: 0.012500\n",
      "2025-02-04 19:43:28,460 epoch 51 - iter 80/400 - loss 0.01868034 - samples/sec: 32.99 - lr: 0.012500\n",
      "2025-02-04 19:43:47,461 epoch 51 - iter 120/400 - loss 0.01838377 - samples/sec: 33.72 - lr: 0.012500\n",
      "2025-02-04 19:44:06,992 epoch 51 - iter 160/400 - loss 0.01816513 - samples/sec: 32.81 - lr: 0.012500\n",
      "2025-02-04 19:44:26,385 epoch 51 - iter 200/400 - loss 0.01833273 - samples/sec: 33.04 - lr: 0.012500\n",
      "2025-02-04 19:44:45,066 epoch 51 - iter 240/400 - loss 0.01843451 - samples/sec: 34.30 - lr: 0.012500\n",
      "2025-02-04 19:45:04,399 epoch 51 - iter 280/400 - loss 0.01831365 - samples/sec: 33.14 - lr: 0.012500\n",
      "2025-02-04 19:45:23,345 epoch 51 - iter 320/400 - loss 0.01823020 - samples/sec: 33.82 - lr: 0.012500\n",
      "2025-02-04 19:45:43,231 epoch 51 - iter 360/400 - loss 0.01853839 - samples/sec: 32.22 - lr: 0.012500\n",
      "2025-02-04 19:46:01,749 epoch 51 - iter 400/400 - loss 0.01827953 - samples/sec: 34.61 - lr: 0.012500\n",
      "2025-02-04 19:46:01,766 ----------------------------------------------------------------------------------------------------\n",
      "2025-02-04 19:46:01,767 EPOCH 51 done: loss 0.0183 - lr 0.012500\n"
     ]
    },
    {
     "name": "stderr",
     "output_type": "stream",
     "text": [
      "100%|█████████████████████████████████████████| 100/100 [00:25<00:00,  3.97it/s]"
     ]
    },
    {
     "name": "stdout",
     "output_type": "stream",
     "text": [
      "2025-02-04 19:46:26,975 Evaluating as a multi-label problem: False\n",
      "2025-02-04 19:46:27,029 DEV : loss 0.01721413992345333 - f1-score (micro avg)  0.9704\n"
     ]
    },
    {
     "name": "stderr",
     "output_type": "stream",
     "text": [
      "\n"
     ]
    },
    {
     "name": "stdout",
     "output_type": "stream",
     "text": [
      "2025-02-04 19:46:27,455 BAD EPOCHS (no improvement): 1\n",
      "2025-02-04 19:46:27,680 ----------------------------------------------------------------------------------------------------\n",
      "2025-02-04 19:46:47,030 epoch 52 - iter 40/400 - loss 0.01834311 - samples/sec: 33.09 - lr: 0.012500\n",
      "2025-02-04 19:47:06,914 epoch 52 - iter 80/400 - loss 0.01841460 - samples/sec: 32.23 - lr: 0.012500\n",
      "2025-02-04 19:47:28,146 epoch 52 - iter 120/400 - loss 0.01829098 - samples/sec: 30.17 - lr: 0.012500\n",
      "2025-02-04 19:47:46,303 epoch 52 - iter 160/400 - loss 0.01888152 - samples/sec: 35.30 - lr: 0.012500\n",
      "2025-02-04 19:48:05,379 epoch 52 - iter 200/400 - loss 0.01891802 - samples/sec: 33.59 - lr: 0.012500\n",
      "2025-02-04 19:48:24,776 epoch 52 - iter 240/400 - loss 0.01872575 - samples/sec: 33.03 - lr: 0.012500\n",
      "2025-02-04 19:48:44,395 epoch 52 - iter 280/400 - loss 0.01861772 - samples/sec: 32.66 - lr: 0.012500\n",
      "2025-02-04 19:49:03,828 epoch 52 - iter 320/400 - loss 0.01854280 - samples/sec: 32.99 - lr: 0.012500\n",
      "2025-02-04 19:49:23,879 epoch 52 - iter 360/400 - loss 0.01858892 - samples/sec: 31.95 - lr: 0.012500\n",
      "2025-02-04 19:49:42,476 epoch 52 - iter 400/400 - loss 0.01850509 - samples/sec: 34.50 - lr: 0.012500\n",
      "2025-02-04 19:49:42,492 ----------------------------------------------------------------------------------------------------\n",
      "2025-02-04 19:49:42,493 EPOCH 52 done: loss 0.0185 - lr 0.012500\n"
     ]
    },
    {
     "name": "stderr",
     "output_type": "stream",
     "text": [
      "100%|█████████████████████████████████████████| 100/100 [00:25<00:00,  3.97it/s]"
     ]
    },
    {
     "name": "stdout",
     "output_type": "stream",
     "text": [
      "2025-02-04 19:50:07,727 Evaluating as a multi-label problem: False\n",
      "2025-02-04 19:50:07,782 DEV : loss 0.01706371270120144 - f1-score (micro avg)  0.9704\n"
     ]
    },
    {
     "name": "stderr",
     "output_type": "stream",
     "text": [
      "\n"
     ]
    },
    {
     "name": "stdout",
     "output_type": "stream",
     "text": [
      "2025-02-04 19:50:08,207 BAD EPOCHS (no improvement): 2\n",
      "2025-02-04 19:50:08,435 ----------------------------------------------------------------------------------------------------\n",
      "2025-02-04 19:50:27,168 epoch 53 - iter 40/400 - loss 0.01786619 - samples/sec: 34.18 - lr: 0.012500\n",
      "2025-02-04 19:50:45,732 epoch 53 - iter 80/400 - loss 0.01926109 - samples/sec: 34.53 - lr: 0.012500\n",
      "2025-02-04 19:51:05,646 epoch 53 - iter 120/400 - loss 0.01972312 - samples/sec: 32.17 - lr: 0.012500\n",
      "2025-02-04 19:51:24,885 epoch 53 - iter 160/400 - loss 0.01924971 - samples/sec: 33.31 - lr: 0.012500\n",
      "2025-02-04 19:51:44,117 epoch 53 - iter 200/400 - loss 0.01861159 - samples/sec: 33.32 - lr: 0.012500\n",
      "2025-02-04 19:52:04,991 epoch 53 - iter 240/400 - loss 0.01845719 - samples/sec: 30.69 - lr: 0.012500\n",
      "2025-02-04 19:52:24,703 epoch 53 - iter 280/400 - loss 0.01851313 - samples/sec: 32.50 - lr: 0.012500\n",
      "2025-02-04 19:52:43,895 epoch 53 - iter 320/400 - loss 0.01877938 - samples/sec: 33.39 - lr: 0.012500\n",
      "2025-02-04 19:53:03,625 epoch 53 - iter 360/400 - loss 0.01901073 - samples/sec: 32.47 - lr: 0.012500\n",
      "2025-02-04 19:53:23,108 epoch 53 - iter 400/400 - loss 0.01877150 - samples/sec: 32.91 - lr: 0.012500\n",
      "2025-02-04 19:53:23,128 ----------------------------------------------------------------------------------------------------\n",
      "2025-02-04 19:53:23,128 EPOCH 53 done: loss 0.0188 - lr 0.012500\n"
     ]
    },
    {
     "name": "stderr",
     "output_type": "stream",
     "text": [
      "100%|█████████████████████████████████████████| 100/100 [00:25<00:00,  3.94it/s]"
     ]
    },
    {
     "name": "stdout",
     "output_type": "stream",
     "text": [
      "2025-02-04 19:53:48,546 Evaluating as a multi-label problem: False\n",
      "2025-02-04 19:53:48,601 DEV : loss 0.01695786602795124 - f1-score (micro avg)  0.9706\n"
     ]
    },
    {
     "name": "stderr",
     "output_type": "stream",
     "text": [
      "\n"
     ]
    },
    {
     "name": "stdout",
     "output_type": "stream",
     "text": [
      "2025-02-04 19:53:49,133 BAD EPOCHS (no improvement): 3\n",
      "2025-02-04 19:53:49,362 ----------------------------------------------------------------------------------------------------\n",
      "2025-02-04 19:54:08,337 epoch 54 - iter 40/400 - loss 0.02190813 - samples/sec: 33.74 - lr: 0.012500\n",
      "2025-02-04 19:54:28,248 epoch 54 - iter 80/400 - loss 0.01979631 - samples/sec: 32.20 - lr: 0.012500\n",
      "2025-02-04 19:54:47,642 epoch 54 - iter 120/400 - loss 0.01879177 - samples/sec: 33.04 - lr: 0.012500\n",
      "2025-02-04 19:55:05,537 epoch 54 - iter 160/400 - loss 0.01857718 - samples/sec: 35.81 - lr: 0.012500\n",
      "2025-02-04 19:55:25,737 epoch 54 - iter 200/400 - loss 0.01880440 - samples/sec: 31.72 - lr: 0.012500\n",
      "2025-02-04 19:55:45,493 epoch 54 - iter 240/400 - loss 0.01820803 - samples/sec: 32.43 - lr: 0.012500\n",
      "2025-02-04 19:56:04,521 epoch 54 - iter 280/400 - loss 0.01813915 - samples/sec: 33.67 - lr: 0.012500\n",
      "2025-02-04 19:56:24,276 epoch 54 - iter 320/400 - loss 0.01790886 - samples/sec: 32.43 - lr: 0.012500\n",
      "2025-02-04 19:56:43,988 epoch 54 - iter 360/400 - loss 0.01800309 - samples/sec: 32.50 - lr: 0.012500\n",
      "2025-02-04 19:57:04,046 epoch 54 - iter 400/400 - loss 0.01809626 - samples/sec: 31.96 - lr: 0.012500\n",
      "2025-02-04 19:57:04,063 ----------------------------------------------------------------------------------------------------\n",
      "2025-02-04 19:57:04,064 EPOCH 54 done: loss 0.0181 - lr 0.012500\n"
     ]
    },
    {
     "name": "stderr",
     "output_type": "stream",
     "text": [
      "100%|█████████████████████████████████████████| 100/100 [00:25<00:00,  3.97it/s]"
     ]
    },
    {
     "name": "stdout",
     "output_type": "stream",
     "text": [
      "2025-02-04 19:57:29,288 Evaluating as a multi-label problem: False\n",
      "2025-02-04 19:57:29,342 DEV : loss 0.01687067188322544 - f1-score (micro avg)  0.9709\n"
     ]
    },
    {
     "name": "stderr",
     "output_type": "stream",
     "text": [
      "\n"
     ]
    },
    {
     "name": "stdout",
     "output_type": "stream",
     "text": [
      "2025-02-04 19:57:29,777 BAD EPOCHS (no improvement): 0\n",
      "2025-02-04 19:57:30,001 saving best model\n",
      "2025-02-04 19:57:30,213 ----------------------------------------------------------------------------------------------------\n",
      "2025-02-04 19:57:49,777 epoch 55 - iter 40/400 - loss 0.01951525 - samples/sec: 32.72 - lr: 0.012500\n",
      "2025-02-04 19:58:09,457 epoch 55 - iter 80/400 - loss 0.01947625 - samples/sec: 32.56 - lr: 0.012500\n",
      "2025-02-04 19:58:28,569 epoch 55 - iter 120/400 - loss 0.01884871 - samples/sec: 33.52 - lr: 0.012500\n",
      "2025-02-04 19:58:47,553 epoch 55 - iter 160/400 - loss 0.01865588 - samples/sec: 33.76 - lr: 0.012500\n",
      "2025-02-04 19:59:06,175 epoch 55 - iter 200/400 - loss 0.01947351 - samples/sec: 34.41 - lr: 0.012500\n",
      "2025-02-04 19:59:26,472 epoch 55 - iter 240/400 - loss 0.01927992 - samples/sec: 31.57 - lr: 0.012500\n",
      "2025-02-04 19:59:45,477 epoch 55 - iter 280/400 - loss 0.01918901 - samples/sec: 33.72 - lr: 0.012500\n",
      "2025-02-04 20:00:04,670 epoch 55 - iter 320/400 - loss 0.01905486 - samples/sec: 33.39 - lr: 0.012500\n",
      "2025-02-04 20:00:23,985 epoch 55 - iter 360/400 - loss 0.01862480 - samples/sec: 33.17 - lr: 0.012500\n",
      "2025-02-04 20:00:43,702 epoch 55 - iter 400/400 - loss 0.01865951 - samples/sec: 32.50 - lr: 0.012500\n",
      "2025-02-04 20:00:43,720 ----------------------------------------------------------------------------------------------------\n",
      "2025-02-04 20:00:43,720 EPOCH 55 done: loss 0.0187 - lr 0.012500\n"
     ]
    },
    {
     "name": "stderr",
     "output_type": "stream",
     "text": [
      "100%|█████████████████████████████████████████| 100/100 [00:26<00:00,  3.76it/s]"
     ]
    },
    {
     "name": "stdout",
     "output_type": "stream",
     "text": [
      "2025-02-04 20:01:10,321 Evaluating as a multi-label problem: False\n",
      "2025-02-04 20:01:10,375 DEV : loss 0.01692836917936802 - f1-score (micro avg)  0.9717\n"
     ]
    },
    {
     "name": "stderr",
     "output_type": "stream",
     "text": [
      "\n"
     ]
    },
    {
     "name": "stdout",
     "output_type": "stream",
     "text": [
      "2025-02-04 20:01:10,788 BAD EPOCHS (no improvement): 0\n",
      "2025-02-04 20:01:11,015 saving best model\n",
      "2025-02-04 20:01:11,229 ----------------------------------------------------------------------------------------------------\n",
      "2025-02-04 20:01:31,118 epoch 56 - iter 40/400 - loss 0.01651651 - samples/sec: 32.19 - lr: 0.012500\n",
      "2025-02-04 20:01:49,975 epoch 56 - iter 80/400 - loss 0.01712470 - samples/sec: 33.98 - lr: 0.012500\n",
      "2025-02-04 20:02:08,552 epoch 56 - iter 120/400 - loss 0.01709502 - samples/sec: 34.49 - lr: 0.012500\n",
      "2025-02-04 20:02:28,153 epoch 56 - iter 160/400 - loss 0.01694357 - samples/sec: 32.69 - lr: 0.012500\n",
      "2025-02-04 20:02:46,696 epoch 56 - iter 200/400 - loss 0.01727711 - samples/sec: 34.56 - lr: 0.012500\n",
      "2025-02-04 20:03:06,459 epoch 56 - iter 240/400 - loss 0.01790451 - samples/sec: 32.43 - lr: 0.012500\n",
      "2025-02-04 20:03:26,411 epoch 56 - iter 280/400 - loss 0.01817372 - samples/sec: 32.11 - lr: 0.012500\n",
      "2025-02-04 20:03:45,617 epoch 56 - iter 320/400 - loss 0.01825987 - samples/sec: 33.37 - lr: 0.012500\n",
      "2025-02-04 20:04:05,273 epoch 56 - iter 360/400 - loss 0.01801085 - samples/sec: 32.59 - lr: 0.012500\n",
      "2025-02-04 20:04:24,603 epoch 56 - iter 400/400 - loss 0.01811333 - samples/sec: 33.15 - lr: 0.012500\n",
      "2025-02-04 20:04:24,620 ----------------------------------------------------------------------------------------------------\n",
      "2025-02-04 20:04:24,621 EPOCH 56 done: loss 0.0181 - lr 0.012500\n"
     ]
    },
    {
     "name": "stderr",
     "output_type": "stream",
     "text": [
      "100%|█████████████████████████████████████████| 100/100 [00:26<00:00,  3.76it/s]"
     ]
    },
    {
     "name": "stdout",
     "output_type": "stream",
     "text": [
      "2025-02-04 20:04:51,302 Evaluating as a multi-label problem: False\n",
      "2025-02-04 20:04:51,355 DEV : loss 0.016740230843424797 - f1-score (micro avg)  0.971\n"
     ]
    },
    {
     "name": "stderr",
     "output_type": "stream",
     "text": [
      "\n"
     ]
    },
    {
     "name": "stdout",
     "output_type": "stream",
     "text": [
      "2025-02-04 20:04:51,846 BAD EPOCHS (no improvement): 1\n",
      "2025-02-04 20:04:52,068 ----------------------------------------------------------------------------------------------------\n",
      "2025-02-04 20:05:11,028 epoch 57 - iter 40/400 - loss 0.01801293 - samples/sec: 33.77 - lr: 0.012500\n",
      "2025-02-04 20:05:30,090 epoch 57 - iter 80/400 - loss 0.01870936 - samples/sec: 33.76 - lr: 0.012500\n",
      "2025-02-04 20:05:49,003 epoch 57 - iter 120/400 - loss 0.01786621 - samples/sec: 33.88 - lr: 0.012500\n",
      "2025-02-04 20:06:07,060 epoch 57 - iter 160/400 - loss 0.01803819 - samples/sec: 35.51 - lr: 0.012500\n",
      "2025-02-04 20:06:25,852 epoch 57 - iter 200/400 - loss 0.01793476 - samples/sec: 34.10 - lr: 0.012500\n",
      "2025-02-04 20:06:44,837 epoch 57 - iter 240/400 - loss 0.01802676 - samples/sec: 33.75 - lr: 0.012500\n",
      "2025-02-04 20:07:04,477 epoch 57 - iter 280/400 - loss 0.01784628 - samples/sec: 32.62 - lr: 0.012500\n",
      "2025-02-04 20:07:24,578 epoch 57 - iter 320/400 - loss 0.01777736 - samples/sec: 31.92 - lr: 0.012500\n",
      "2025-02-04 20:07:43,795 epoch 57 - iter 360/400 - loss 0.01824021 - samples/sec: 33.34 - lr: 0.012500\n",
      "2025-02-04 20:08:03,517 epoch 57 - iter 400/400 - loss 0.01812144 - samples/sec: 32.52 - lr: 0.012500\n",
      "2025-02-04 20:08:03,534 ----------------------------------------------------------------------------------------------------\n",
      "2025-02-04 20:08:03,535 EPOCH 57 done: loss 0.0181 - lr 0.012500\n"
     ]
    },
    {
     "name": "stderr",
     "output_type": "stream",
     "text": [
      "100%|█████████████████████████████████████████| 100/100 [00:26<00:00,  3.75it/s]"
     ]
    },
    {
     "name": "stdout",
     "output_type": "stream",
     "text": [
      "2025-02-04 20:08:30,281 Evaluating as a multi-label problem: False\n",
      "2025-02-04 20:08:30,335 DEV : loss 0.01691521890461445 - f1-score (micro avg)  0.9714\n"
     ]
    },
    {
     "name": "stderr",
     "output_type": "stream",
     "text": [
      "\n"
     ]
    },
    {
     "name": "stdout",
     "output_type": "stream",
     "text": [
      "2025-02-04 20:08:30,853 BAD EPOCHS (no improvement): 2\n",
      "2025-02-04 20:08:31,109 ----------------------------------------------------------------------------------------------------\n",
      "2025-02-04 20:08:50,844 epoch 58 - iter 40/400 - loss 0.01654914 - samples/sec: 32.44 - lr: 0.012500\n",
      "2025-02-04 20:09:09,431 epoch 58 - iter 80/400 - loss 0.01751282 - samples/sec: 34.48 - lr: 0.012500\n",
      "2025-02-04 20:09:29,357 epoch 58 - iter 120/400 - loss 0.01784659 - samples/sec: 32.15 - lr: 0.012500\n",
      "2025-02-04 20:09:48,604 epoch 58 - iter 160/400 - loss 0.01734642 - samples/sec: 33.29 - lr: 0.012500\n",
      "2025-02-04 20:10:07,833 epoch 58 - iter 200/400 - loss 0.01759132 - samples/sec: 33.32 - lr: 0.012500\n",
      "2025-02-04 20:10:27,228 epoch 58 - iter 240/400 - loss 0.01757762 - samples/sec: 33.05 - lr: 0.012500\n",
      "2025-02-04 20:10:46,743 epoch 58 - iter 280/400 - loss 0.01779574 - samples/sec: 32.83 - lr: 0.012500\n",
      "2025-02-04 20:11:06,116 epoch 58 - iter 320/400 - loss 0.01783072 - samples/sec: 33.07 - lr: 0.012500\n",
      "2025-02-04 20:11:24,745 epoch 58 - iter 360/400 - loss 0.01763170 - samples/sec: 34.39 - lr: 0.012500\n",
      "2025-02-04 20:11:43,545 epoch 58 - iter 400/400 - loss 0.01781534 - samples/sec: 34.09 - lr: 0.012500\n",
      "2025-02-04 20:11:43,562 ----------------------------------------------------------------------------------------------------\n",
      "2025-02-04 20:11:43,562 EPOCH 58 done: loss 0.0178 - lr 0.012500\n"
     ]
    },
    {
     "name": "stderr",
     "output_type": "stream",
     "text": [
      "100%|█████████████████████████████████████████| 100/100 [00:26<00:00,  3.72it/s]"
     ]
    },
    {
     "name": "stdout",
     "output_type": "stream",
     "text": [
      "2025-02-04 20:12:10,477 Evaluating as a multi-label problem: False\n",
      "2025-02-04 20:12:10,530 DEV : loss 0.017003072425723076 - f1-score (micro avg)  0.9704\n"
     ]
    },
    {
     "name": "stderr",
     "output_type": "stream",
     "text": [
      "\n"
     ]
    },
    {
     "name": "stdout",
     "output_type": "stream",
     "text": [
      "2025-02-04 20:12:11,045 BAD EPOCHS (no improvement): 3\n",
      "2025-02-04 20:12:11,277 ----------------------------------------------------------------------------------------------------\n",
      "2025-02-04 20:12:31,016 epoch 59 - iter 40/400 - loss 0.01986676 - samples/sec: 32.43 - lr: 0.012500\n",
      "2025-02-04 20:12:50,380 epoch 59 - iter 80/400 - loss 0.01921486 - samples/sec: 33.17 - lr: 0.012500\n",
      "2025-02-04 20:13:09,476 epoch 59 - iter 120/400 - loss 0.01992679 - samples/sec: 33.55 - lr: 0.012500\n",
      "2025-02-04 20:13:29,506 epoch 59 - iter 160/400 - loss 0.01916285 - samples/sec: 32.10 - lr: 0.012500\n",
      "2025-02-04 20:13:48,847 epoch 59 - iter 200/400 - loss 0.01897091 - samples/sec: 33.13 - lr: 0.012500\n",
      "2025-02-04 20:14:07,953 epoch 59 - iter 240/400 - loss 0.01905459 - samples/sec: 33.61 - lr: 0.012500\n",
      "2025-02-04 20:14:27,103 epoch 59 - iter 280/400 - loss 0.01882698 - samples/sec: 33.46 - lr: 0.012500\n",
      "2025-02-04 20:14:46,404 epoch 59 - iter 320/400 - loss 0.01891451 - samples/sec: 33.20 - lr: 0.012500\n",
      "2025-02-04 20:15:05,240 epoch 59 - iter 360/400 - loss 0.01908582 - samples/sec: 34.02 - lr: 0.012500\n",
      "2025-02-04 20:15:24,707 epoch 59 - iter 400/400 - loss 0.01893983 - samples/sec: 32.96 - lr: 0.012500\n",
      "2025-02-04 20:15:24,724 ----------------------------------------------------------------------------------------------------\n",
      "2025-02-04 20:15:24,724 EPOCH 59 done: loss 0.0189 - lr 0.012500\n"
     ]
    },
    {
     "name": "stderr",
     "output_type": "stream",
     "text": [
      "100%|█████████████████████████████████████████| 100/100 [00:26<00:00,  3.77it/s]"
     ]
    },
    {
     "name": "stdout",
     "output_type": "stream",
     "text": [
      "2025-02-04 20:15:51,404 Evaluating as a multi-label problem: False\n",
      "2025-02-04 20:15:51,457 DEV : loss 0.01703004352748394 - f1-score (micro avg)  0.9704\n"
     ]
    },
    {
     "name": "stderr",
     "output_type": "stream",
     "text": [
      "\n"
     ]
    },
    {
     "name": "stdout",
     "output_type": "stream",
     "text": [
      "2025-02-04 20:15:51,878 Epoch    59: reducing learning rate of group 0 to 6.2500e-03.\n",
      "2025-02-04 20:15:51,882 BAD EPOCHS (no improvement): 4\n",
      "2025-02-04 20:15:52,137 ----------------------------------------------------------------------------------------------------\n",
      "2025-02-04 20:16:11,707 epoch 60 - iter 40/400 - loss 0.01843812 - samples/sec: 32.71 - lr: 0.006250\n",
      "2025-02-04 20:16:31,179 epoch 60 - iter 80/400 - loss 0.01736988 - samples/sec: 32.95 - lr: 0.006250\n",
      "2025-02-04 20:16:50,051 epoch 60 - iter 120/400 - loss 0.01762373 - samples/sec: 33.95 - lr: 0.006250\n",
      "2025-02-04 20:17:09,200 epoch 60 - iter 160/400 - loss 0.01814640 - samples/sec: 33.47 - lr: 0.006250\n",
      "2025-02-04 20:17:27,712 epoch 60 - iter 200/400 - loss 0.01786779 - samples/sec: 34.61 - lr: 0.006250\n",
      "2025-02-04 20:17:47,803 epoch 60 - iter 240/400 - loss 0.01774453 - samples/sec: 31.89 - lr: 0.006250\n",
      "2025-02-04 20:18:07,104 epoch 60 - iter 280/400 - loss 0.01764571 - samples/sec: 33.20 - lr: 0.006250\n",
      "2025-02-04 20:18:26,492 epoch 60 - iter 320/400 - loss 0.01766046 - samples/sec: 33.11 - lr: 0.006250\n",
      "2025-02-04 20:18:46,359 epoch 60 - iter 360/400 - loss 0.01771409 - samples/sec: 32.25 - lr: 0.006250\n",
      "2025-02-04 20:19:06,232 epoch 60 - iter 400/400 - loss 0.01776799 - samples/sec: 32.24 - lr: 0.006250\n",
      "2025-02-04 20:19:06,249 ----------------------------------------------------------------------------------------------------\n",
      "2025-02-04 20:19:06,249 EPOCH 60 done: loss 0.0178 - lr 0.006250\n"
     ]
    },
    {
     "name": "stderr",
     "output_type": "stream",
     "text": [
      "100%|█████████████████████████████████████████| 100/100 [00:26<00:00,  3.82it/s]"
     ]
    },
    {
     "name": "stdout",
     "output_type": "stream",
     "text": [
      "2025-02-04 20:19:32,541 Evaluating as a multi-label problem: False\n",
      "2025-02-04 20:19:32,594 DEV : loss 0.016908105462789536 - f1-score (micro avg)  0.9704\n"
     ]
    },
    {
     "name": "stderr",
     "output_type": "stream",
     "text": [
      "\n"
     ]
    },
    {
     "name": "stdout",
     "output_type": "stream",
     "text": [
      "2025-02-04 20:19:33,021 BAD EPOCHS (no improvement): 1\n",
      "2025-02-04 20:19:33,247 ----------------------------------------------------------------------------------------------------\n",
      "2025-02-04 20:19:53,145 epoch 61 - iter 40/400 - loss 0.01614844 - samples/sec: 32.18 - lr: 0.006250\n",
      "2025-02-04 20:20:12,595 epoch 61 - iter 80/400 - loss 0.01703925 - samples/sec: 33.34 - lr: 0.006250\n",
      "2025-02-04 20:20:31,499 epoch 61 - iter 120/400 - loss 0.01690882 - samples/sec: 33.89 - lr: 0.006250\n",
      "2025-02-04 20:20:50,617 epoch 61 - iter 160/400 - loss 0.01748669 - samples/sec: 33.64 - lr: 0.006250\n",
      "2025-02-04 20:21:10,080 epoch 61 - iter 200/400 - loss 0.01734093 - samples/sec: 32.92 - lr: 0.006250\n",
      "2025-02-04 20:21:29,091 epoch 61 - iter 240/400 - loss 0.01727689 - samples/sec: 33.72 - lr: 0.006250\n",
      "2025-02-04 20:21:48,683 epoch 61 - iter 280/400 - loss 0.01735745 - samples/sec: 32.70 - lr: 0.006250\n",
      "2025-02-04 20:22:07,749 epoch 61 - iter 320/400 - loss 0.01728203 - samples/sec: 33.61 - lr: 0.006250\n",
      "2025-02-04 20:22:26,186 epoch 61 - iter 360/400 - loss 0.01735161 - samples/sec: 34.75 - lr: 0.006250\n",
      "2025-02-04 20:22:45,299 epoch 61 - iter 400/400 - loss 0.01736827 - samples/sec: 33.53 - lr: 0.006250\n",
      "2025-02-04 20:22:45,316 ----------------------------------------------------------------------------------------------------\n",
      "2025-02-04 20:22:45,317 EPOCH 61 done: loss 0.0174 - lr 0.006250\n"
     ]
    },
    {
     "name": "stderr",
     "output_type": "stream",
     "text": [
      "100%|█████████████████████████████████████████| 100/100 [00:26<00:00,  3.78it/s]"
     ]
    },
    {
     "name": "stdout",
     "output_type": "stream",
     "text": [
      "2025-02-04 20:23:11,783 Evaluating as a multi-label problem: False\n",
      "2025-02-04 20:23:11,835 DEV : loss 0.016861693933606148 - f1-score (micro avg)  0.9708\n"
     ]
    },
    {
     "name": "stderr",
     "output_type": "stream",
     "text": [
      "\n"
     ]
    },
    {
     "name": "stdout",
     "output_type": "stream",
     "text": [
      "2025-02-04 20:23:12,245 BAD EPOCHS (no improvement): 2\n",
      "2025-02-04 20:23:12,464 ----------------------------------------------------------------------------------------------------\n",
      "2025-02-04 20:23:32,157 epoch 62 - iter 40/400 - loss 0.01793244 - samples/sec: 32.51 - lr: 0.006250\n",
      "2025-02-04 20:23:51,590 epoch 62 - iter 80/400 - loss 0.01695878 - samples/sec: 32.97 - lr: 0.006250\n",
      "2025-02-04 20:24:10,797 epoch 62 - iter 120/400 - loss 0.01650063 - samples/sec: 33.36 - lr: 0.006250\n",
      "2025-02-04 20:24:29,785 epoch 62 - iter 160/400 - loss 0.01639362 - samples/sec: 33.75 - lr: 0.006250\n",
      "2025-02-04 20:24:48,486 epoch 62 - iter 200/400 - loss 0.01660704 - samples/sec: 34.26 - lr: 0.006250\n",
      "2025-02-04 20:25:07,405 epoch 62 - iter 240/400 - loss 0.01691847 - samples/sec: 33.87 - lr: 0.006250\n",
      "2025-02-04 20:25:26,822 epoch 62 - iter 280/400 - loss 0.01688957 - samples/sec: 33.00 - lr: 0.006250\n",
      "2025-02-04 20:25:46,345 epoch 62 - iter 320/400 - loss 0.01674396 - samples/sec: 32.82 - lr: 0.006250\n",
      "2025-02-04 20:26:05,984 epoch 62 - iter 360/400 - loss 0.01692225 - samples/sec: 32.62 - lr: 0.006250\n",
      "2025-02-04 20:26:24,987 epoch 62 - iter 400/400 - loss 0.01706785 - samples/sec: 33.79 - lr: 0.006250\n",
      "2025-02-04 20:26:25,004 ----------------------------------------------------------------------------------------------------\n",
      "2025-02-04 20:26:25,005 EPOCH 62 done: loss 0.0171 - lr 0.006250\n"
     ]
    },
    {
     "name": "stderr",
     "output_type": "stream",
     "text": [
      "100%|█████████████████████████████████████████| 100/100 [00:26<00:00,  3.79it/s]"
     ]
    },
    {
     "name": "stdout",
     "output_type": "stream",
     "text": [
      "2025-02-04 20:26:51,441 Evaluating as a multi-label problem: False\n",
      "2025-02-04 20:26:51,494 DEV : loss 0.016776956617832184 - f1-score (micro avg)  0.9705\n"
     ]
    },
    {
     "name": "stderr",
     "output_type": "stream",
     "text": [
      "\n"
     ]
    },
    {
     "name": "stdout",
     "output_type": "stream",
     "text": [
      "2025-02-04 20:26:51,949 BAD EPOCHS (no improvement): 3\n",
      "2025-02-04 20:26:52,169 ----------------------------------------------------------------------------------------------------\n",
      "2025-02-04 20:27:11,124 epoch 63 - iter 40/400 - loss 0.01510326 - samples/sec: 33.77 - lr: 0.006250\n",
      "2025-02-04 20:27:30,209 epoch 63 - iter 80/400 - loss 0.01622310 - samples/sec: 33.58 - lr: 0.006250\n",
      "2025-02-04 20:27:49,371 epoch 63 - iter 120/400 - loss 0.01713930 - samples/sec: 33.43 - lr: 0.006250\n",
      "2025-02-04 20:28:09,267 epoch 63 - iter 160/400 - loss 0.01744783 - samples/sec: 32.21 - lr: 0.006250\n",
      "2025-02-04 20:28:28,941 epoch 63 - iter 200/400 - loss 0.01665875 - samples/sec: 32.57 - lr: 0.006250\n",
      "2025-02-04 20:28:48,932 epoch 63 - iter 240/400 - loss 0.01723242 - samples/sec: 32.05 - lr: 0.006250\n",
      "2025-02-04 20:29:08,037 epoch 63 - iter 280/400 - loss 0.01779887 - samples/sec: 33.53 - lr: 0.006250\n",
      "2025-02-04 20:29:27,112 epoch 63 - iter 320/400 - loss 0.01783080 - samples/sec: 33.59 - lr: 0.006250\n",
      "2025-02-04 20:29:46,212 epoch 63 - iter 360/400 - loss 0.01774556 - samples/sec: 33.54 - lr: 0.006250\n",
      "2025-02-04 20:30:05,047 epoch 63 - iter 400/400 - loss 0.01790583 - samples/sec: 34.03 - lr: 0.006250\n",
      "2025-02-04 20:30:05,065 ----------------------------------------------------------------------------------------------------\n",
      "2025-02-04 20:30:05,066 EPOCH 63 done: loss 0.0179 - lr 0.006250\n"
     ]
    },
    {
     "name": "stderr",
     "output_type": "stream",
     "text": [
      "100%|█████████████████████████████████████████| 100/100 [00:26<00:00,  3.77it/s]"
     ]
    },
    {
     "name": "stdout",
     "output_type": "stream",
     "text": [
      "2025-02-04 20:30:31,591 Evaluating as a multi-label problem: False\n",
      "2025-02-04 20:30:31,643 DEV : loss 0.016863176599144936 - f1-score (micro avg)  0.9708\n"
     ]
    },
    {
     "name": "stderr",
     "output_type": "stream",
     "text": [
      "\n"
     ]
    },
    {
     "name": "stdout",
     "output_type": "stream",
     "text": [
      "2025-02-04 20:30:32,087 Epoch    63: reducing learning rate of group 0 to 3.1250e-03.\n",
      "2025-02-04 20:30:32,092 BAD EPOCHS (no improvement): 4\n",
      "2025-02-04 20:30:32,317 ----------------------------------------------------------------------------------------------------\n",
      "2025-02-04 20:30:50,935 epoch 64 - iter 40/400 - loss 0.01698756 - samples/sec: 34.38 - lr: 0.003125\n",
      "2025-02-04 20:31:10,533 epoch 64 - iter 80/400 - loss 0.01731797 - samples/sec: 32.70 - lr: 0.003125\n",
      "2025-02-04 20:31:29,679 epoch 64 - iter 120/400 - loss 0.01810635 - samples/sec: 33.47 - lr: 0.003125\n",
      "2025-02-04 20:31:48,245 epoch 64 - iter 160/400 - loss 0.01799709 - samples/sec: 34.52 - lr: 0.003125\n",
      "2025-02-04 20:32:07,827 epoch 64 - iter 200/400 - loss 0.01780229 - samples/sec: 32.72 - lr: 0.003125\n",
      "2025-02-04 20:32:28,300 epoch 64 - iter 240/400 - loss 0.01748439 - samples/sec: 31.30 - lr: 0.003125\n",
      "2025-02-04 20:32:47,614 epoch 64 - iter 280/400 - loss 0.01723914 - samples/sec: 33.17 - lr: 0.003125\n",
      "2025-02-04 20:33:06,450 epoch 64 - iter 320/400 - loss 0.01734466 - samples/sec: 34.03 - lr: 0.003125\n",
      "2025-02-04 20:33:25,541 epoch 64 - iter 360/400 - loss 0.01752592 - samples/sec: 33.56 - lr: 0.003125\n",
      "2025-02-04 20:33:45,409 epoch 64 - iter 400/400 - loss 0.01727622 - samples/sec: 32.27 - lr: 0.003125\n",
      "2025-02-04 20:33:45,425 ----------------------------------------------------------------------------------------------------\n",
      "2025-02-04 20:33:45,425 EPOCH 64 done: loss 0.0173 - lr 0.003125\n"
     ]
    },
    {
     "name": "stderr",
     "output_type": "stream",
     "text": [
      "100%|█████████████████████████████████████████| 100/100 [00:26<00:00,  3.75it/s]"
     ]
    },
    {
     "name": "stdout",
     "output_type": "stream",
     "text": [
      "2025-02-04 20:34:12,119 Evaluating as a multi-label problem: False\n",
      "2025-02-04 20:34:12,173 DEV : loss 0.016873985528945923 - f1-score (micro avg)  0.9705\n"
     ]
    },
    {
     "name": "stderr",
     "output_type": "stream",
     "text": [
      "\n"
     ]
    },
    {
     "name": "stdout",
     "output_type": "stream",
     "text": [
      "2025-02-04 20:34:12,590 BAD EPOCHS (no improvement): 1\n",
      "2025-02-04 20:34:12,812 ----------------------------------------------------------------------------------------------------\n",
      "2025-02-04 20:34:32,297 epoch 65 - iter 40/400 - loss 0.01737481 - samples/sec: 32.85 - lr: 0.003125\n",
      "2025-02-04 20:34:51,619 epoch 65 - iter 80/400 - loss 0.01709670 - samples/sec: 33.17 - lr: 0.003125\n",
      "2025-02-04 20:35:10,820 epoch 65 - iter 120/400 - loss 0.01683922 - samples/sec: 33.37 - lr: 0.003125\n",
      "2025-02-04 20:35:30,093 epoch 65 - iter 160/400 - loss 0.01685083 - samples/sec: 33.25 - lr: 0.003125\n",
      "2025-02-04 20:35:49,696 epoch 65 - iter 200/400 - loss 0.01698116 - samples/sec: 32.68 - lr: 0.003125\n",
      "2025-02-04 20:36:09,486 epoch 65 - iter 240/400 - loss 0.01719348 - samples/sec: 32.38 - lr: 0.003125\n",
      "2025-02-04 20:36:27,471 epoch 65 - iter 280/400 - loss 0.01712402 - samples/sec: 35.63 - lr: 0.003125\n",
      "2025-02-04 20:36:47,231 epoch 65 - iter 320/400 - loss 0.01734083 - samples/sec: 32.43 - lr: 0.003125\n",
      "2025-02-04 20:37:07,103 epoch 65 - iter 360/400 - loss 0.01721533 - samples/sec: 32.24 - lr: 0.003125\n",
      "2025-02-04 20:37:26,393 epoch 65 - iter 400/400 - loss 0.01717031 - samples/sec: 33.22 - lr: 0.003125\n",
      "2025-02-04 20:37:26,411 ----------------------------------------------------------------------------------------------------\n",
      "2025-02-04 20:37:26,411 EPOCH 65 done: loss 0.0172 - lr 0.003125\n"
     ]
    },
    {
     "name": "stderr",
     "output_type": "stream",
     "text": [
      "100%|█████████████████████████████████████████| 100/100 [00:26<00:00,  3.76it/s]"
     ]
    },
    {
     "name": "stdout",
     "output_type": "stream",
     "text": [
      "2025-02-04 20:37:53,036 Evaluating as a multi-label problem: False\n",
      "2025-02-04 20:37:53,089 DEV : loss 0.016847269609570503 - f1-score (micro avg)  0.9709\n"
     ]
    },
    {
     "name": "stderr",
     "output_type": "stream",
     "text": [
      "\n"
     ]
    },
    {
     "name": "stdout",
     "output_type": "stream",
     "text": [
      "2025-02-04 20:37:53,501 BAD EPOCHS (no improvement): 2\n",
      "2025-02-04 20:37:53,724 ----------------------------------------------------------------------------------------------------\n",
      "2025-02-04 20:38:12,913 epoch 66 - iter 40/400 - loss 0.01734819 - samples/sec: 33.36 - lr: 0.003125\n",
      "2025-02-04 20:38:31,899 epoch 66 - iter 80/400 - loss 0.01596737 - samples/sec: 33.79 - lr: 0.003125\n",
      "2025-02-04 20:38:51,239 epoch 66 - iter 120/400 - loss 0.01584449 - samples/sec: 33.13 - lr: 0.003125\n",
      "2025-02-04 20:39:10,926 epoch 66 - iter 160/400 - loss 0.01650957 - samples/sec: 32.55 - lr: 0.003125\n",
      "2025-02-04 20:39:30,852 epoch 66 - iter 200/400 - loss 0.01645686 - samples/sec: 32.15 - lr: 0.003125\n",
      "2025-02-04 20:39:49,839 epoch 66 - iter 240/400 - loss 0.01665645 - samples/sec: 33.75 - lr: 0.003125\n",
      "2025-02-04 20:40:09,450 epoch 66 - iter 280/400 - loss 0.01692597 - samples/sec: 32.67 - lr: 0.003125\n",
      "2025-02-04 20:40:28,974 epoch 66 - iter 320/400 - loss 0.01694861 - samples/sec: 32.84 - lr: 0.003125\n",
      "2025-02-04 20:40:48,701 epoch 66 - iter 360/400 - loss 0.01710251 - samples/sec: 32.48 - lr: 0.003125\n",
      "2025-02-04 20:41:07,387 epoch 66 - iter 400/400 - loss 0.01695703 - samples/sec: 34.31 - lr: 0.003125\n",
      "2025-02-04 20:41:07,403 ----------------------------------------------------------------------------------------------------\n",
      "2025-02-04 20:41:07,404 EPOCH 66 done: loss 0.0170 - lr 0.003125\n"
     ]
    },
    {
     "name": "stderr",
     "output_type": "stream",
     "text": [
      "100%|█████████████████████████████████████████| 100/100 [00:25<00:00,  3.97it/s]"
     ]
    },
    {
     "name": "stdout",
     "output_type": "stream",
     "text": [
      "2025-02-04 20:41:32,599 Evaluating as a multi-label problem: False\n",
      "2025-02-04 20:41:32,653 DEV : loss 0.016857128590345383 - f1-score (micro avg)  0.9705\n"
     ]
    },
    {
     "name": "stderr",
     "output_type": "stream",
     "text": [
      "\n"
     ]
    },
    {
     "name": "stdout",
     "output_type": "stream",
     "text": [
      "2025-02-04 20:41:33,068 BAD EPOCHS (no improvement): 3\n",
      "2025-02-04 20:41:33,297 ----------------------------------------------------------------------------------------------------\n",
      "2025-02-04 20:41:53,496 epoch 67 - iter 40/400 - loss 0.01623354 - samples/sec: 31.69 - lr: 0.003125\n",
      "2025-02-04 20:42:12,961 epoch 67 - iter 80/400 - loss 0.01641378 - samples/sec: 32.94 - lr: 0.003125\n",
      "2025-02-04 20:42:32,642 epoch 67 - iter 120/400 - loss 0.01713193 - samples/sec: 32.55 - lr: 0.003125\n",
      "2025-02-04 20:42:51,275 epoch 67 - iter 160/400 - loss 0.01744790 - samples/sec: 34.39 - lr: 0.003125\n",
      "2025-02-04 20:43:10,620 epoch 67 - iter 200/400 - loss 0.01773485 - samples/sec: 33.12 - lr: 0.003125\n",
      "2025-02-04 20:43:29,656 epoch 67 - iter 240/400 - loss 0.01779248 - samples/sec: 33.66 - lr: 0.003125\n",
      "2025-02-04 20:43:49,948 epoch 67 - iter 280/400 - loss 0.01742373 - samples/sec: 31.57 - lr: 0.003125\n",
      "2025-02-04 20:44:09,562 epoch 67 - iter 320/400 - loss 0.01779578 - samples/sec: 32.67 - lr: 0.003125\n",
      "2025-02-04 20:44:29,403 epoch 67 - iter 360/400 - loss 0.01730469 - samples/sec: 32.29 - lr: 0.003125\n",
      "2025-02-04 20:44:48,933 epoch 67 - iter 400/400 - loss 0.01732070 - samples/sec: 32.81 - lr: 0.003125\n",
      "2025-02-04 20:44:48,950 ----------------------------------------------------------------------------------------------------\n",
      "2025-02-04 20:44:48,950 EPOCH 67 done: loss 0.0173 - lr 0.003125\n"
     ]
    },
    {
     "name": "stderr",
     "output_type": "stream",
     "text": [
      "100%|█████████████████████████████████████████| 100/100 [00:25<00:00,  3.97it/s]"
     ]
    },
    {
     "name": "stdout",
     "output_type": "stream",
     "text": [
      "2025-02-04 20:45:14,198 Evaluating as a multi-label problem: False\n",
      "2025-02-04 20:45:14,253 DEV : loss 0.016843805089592934 - f1-score (micro avg)  0.9707\n"
     ]
    },
    {
     "name": "stderr",
     "output_type": "stream",
     "text": [
      "\n"
     ]
    },
    {
     "name": "stdout",
     "output_type": "stream",
     "text": [
      "2025-02-04 20:45:14,681 Epoch    67: reducing learning rate of group 0 to 1.5625e-03.\n",
      "2025-02-04 20:45:14,685 BAD EPOCHS (no improvement): 4\n",
      "2025-02-04 20:45:14,907 ----------------------------------------------------------------------------------------------------\n",
      "2025-02-04 20:45:33,815 epoch 68 - iter 40/400 - loss 0.01748559 - samples/sec: 33.86 - lr: 0.001563\n",
      "2025-02-04 20:45:52,865 epoch 68 - iter 80/400 - loss 0.01857048 - samples/sec: 33.64 - lr: 0.001563\n",
      "2025-02-04 20:46:13,291 epoch 68 - iter 120/400 - loss 0.01791163 - samples/sec: 31.36 - lr: 0.001563\n",
      "2025-02-04 20:46:33,552 epoch 68 - iter 160/400 - loss 0.01777805 - samples/sec: 31.62 - lr: 0.001563\n",
      "2025-02-04 20:46:52,701 epoch 68 - iter 200/400 - loss 0.01749723 - samples/sec: 33.46 - lr: 0.001563\n",
      "2025-02-04 20:47:12,820 epoch 68 - iter 240/400 - loss 0.01756609 - samples/sec: 31.85 - lr: 0.001563\n",
      "2025-02-04 20:47:31,642 epoch 68 - iter 280/400 - loss 0.01789327 - samples/sec: 34.04 - lr: 0.001563\n",
      "2025-02-04 20:47:50,992 epoch 68 - iter 320/400 - loss 0.01740865 - samples/sec: 33.12 - lr: 0.001563\n",
      "2025-02-04 20:48:10,716 epoch 68 - iter 360/400 - loss 0.01719747 - samples/sec: 32.48 - lr: 0.001563\n",
      "2025-02-04 20:48:30,240 epoch 68 - iter 400/400 - loss 0.01725805 - samples/sec: 32.82 - lr: 0.001563\n",
      "2025-02-04 20:48:30,258 ----------------------------------------------------------------------------------------------------\n",
      "2025-02-04 20:48:30,258 EPOCH 68 done: loss 0.0173 - lr 0.001563\n"
     ]
    },
    {
     "name": "stderr",
     "output_type": "stream",
     "text": [
      "100%|█████████████████████████████████████████| 100/100 [00:25<00:00,  3.96it/s]"
     ]
    },
    {
     "name": "stdout",
     "output_type": "stream",
     "text": [
      "2025-02-04 20:48:55,526 Evaluating as a multi-label problem: False\n",
      "2025-02-04 20:48:55,581 DEV : loss 0.016839763149619102 - f1-score (micro avg)  0.9706\n"
     ]
    },
    {
     "name": "stderr",
     "output_type": "stream",
     "text": [
      "\n"
     ]
    },
    {
     "name": "stdout",
     "output_type": "stream",
     "text": [
      "2025-02-04 20:48:56,004 BAD EPOCHS (no improvement): 1\n",
      "2025-02-04 20:48:56,233 ----------------------------------------------------------------------------------------------------\n",
      "2025-02-04 20:49:16,109 epoch 69 - iter 40/400 - loss 0.01545382 - samples/sec: 32.21 - lr: 0.001563\n",
      "2025-02-04 20:49:34,534 epoch 69 - iter 80/400 - loss 0.01634832 - samples/sec: 34.78 - lr: 0.001563\n",
      "2025-02-04 20:49:53,358 epoch 69 - iter 120/400 - loss 0.01680007 - samples/sec: 34.04 - lr: 0.001563\n",
      "2025-02-04 20:50:12,490 epoch 69 - iter 160/400 - loss 0.01627763 - samples/sec: 33.50 - lr: 0.001563\n",
      "2025-02-04 20:50:31,943 epoch 69 - iter 200/400 - loss 0.01672992 - samples/sec: 32.94 - lr: 0.001563\n",
      "2025-02-04 20:50:52,205 epoch 69 - iter 240/400 - loss 0.01700200 - samples/sec: 31.63 - lr: 0.001563\n",
      "2025-02-04 20:51:12,735 epoch 69 - iter 280/400 - loss 0.01716953 - samples/sec: 31.20 - lr: 0.001563\n",
      "2025-02-04 20:51:32,021 epoch 69 - iter 320/400 - loss 0.01730393 - samples/sec: 33.22 - lr: 0.001563\n",
      "2025-02-04 20:51:51,395 epoch 69 - iter 360/400 - loss 0.01735716 - samples/sec: 33.07 - lr: 0.001563\n",
      "2025-02-04 20:52:10,204 epoch 69 - iter 400/400 - loss 0.01724477 - samples/sec: 34.07 - lr: 0.001563\n",
      "2025-02-04 20:52:10,220 ----------------------------------------------------------------------------------------------------\n",
      "2025-02-04 20:52:10,221 EPOCH 69 done: loss 0.0172 - lr 0.001563\n"
     ]
    },
    {
     "name": "stderr",
     "output_type": "stream",
     "text": [
      "100%|█████████████████████████████████████████| 100/100 [00:25<00:00,  3.97it/s]"
     ]
    },
    {
     "name": "stdout",
     "output_type": "stream",
     "text": [
      "2025-02-04 20:52:35,436 Evaluating as a multi-label problem: False\n",
      "2025-02-04 20:52:35,491 DEV : loss 0.016811447218060493 - f1-score (micro avg)  0.9707\n"
     ]
    },
    {
     "name": "stderr",
     "output_type": "stream",
     "text": [
      "\n"
     ]
    },
    {
     "name": "stdout",
     "output_type": "stream",
     "text": [
      "2025-02-04 20:52:35,909 BAD EPOCHS (no improvement): 2\n",
      "2025-02-04 20:52:36,134 ----------------------------------------------------------------------------------------------------\n",
      "2025-02-04 20:52:54,980 epoch 70 - iter 40/400 - loss 0.01689670 - samples/sec: 33.97 - lr: 0.001563\n",
      "2025-02-04 20:53:14,398 epoch 70 - iter 80/400 - loss 0.01565094 - samples/sec: 33.00 - lr: 0.001563\n",
      "2025-02-04 20:53:33,190 epoch 70 - iter 120/400 - loss 0.01577128 - samples/sec: 34.09 - lr: 0.001563\n",
      "2025-02-04 20:53:52,436 epoch 70 - iter 160/400 - loss 0.01655820 - samples/sec: 33.30 - lr: 0.001563\n",
      "2025-02-04 20:54:12,434 epoch 70 - iter 200/400 - loss 0.01693978 - samples/sec: 32.04 - lr: 0.001563\n",
      "2025-02-04 20:54:32,840 epoch 70 - iter 240/400 - loss 0.01684973 - samples/sec: 31.40 - lr: 0.001563\n",
      "2025-02-04 20:54:52,113 epoch 70 - iter 280/400 - loss 0.01673579 - samples/sec: 33.24 - lr: 0.001563\n",
      "2025-02-04 20:55:12,585 epoch 70 - iter 320/400 - loss 0.01698254 - samples/sec: 31.30 - lr: 0.001563\n",
      "2025-02-04 20:55:31,242 epoch 70 - iter 360/400 - loss 0.01692811 - samples/sec: 34.34 - lr: 0.001563\n",
      "2025-02-04 20:55:50,840 epoch 70 - iter 400/400 - loss 0.01678661 - samples/sec: 32.70 - lr: 0.001563\n",
      "2025-02-04 20:55:50,858 ----------------------------------------------------------------------------------------------------\n",
      "2025-02-04 20:55:50,858 EPOCH 70 done: loss 0.0168 - lr 0.001563\n"
     ]
    },
    {
     "name": "stderr",
     "output_type": "stream",
     "text": [
      "100%|█████████████████████████████████████████| 100/100 [00:25<00:00,  3.95it/s]"
     ]
    },
    {
     "name": "stdout",
     "output_type": "stream",
     "text": [
      "2025-02-04 20:56:16,191 Evaluating as a multi-label problem: False\n",
      "2025-02-04 20:56:16,245 DEV : loss 0.01682567410171032 - f1-score (micro avg)  0.9707\n"
     ]
    },
    {
     "name": "stderr",
     "output_type": "stream",
     "text": [
      "\n"
     ]
    },
    {
     "name": "stdout",
     "output_type": "stream",
     "text": [
      "2025-02-04 20:56:16,740 BAD EPOCHS (no improvement): 3\n",
      "2025-02-04 20:56:16,963 ----------------------------------------------------------------------------------------------------\n",
      "2025-02-04 20:56:36,408 epoch 71 - iter 40/400 - loss 0.01685989 - samples/sec: 32.92 - lr: 0.001563\n",
      "2025-02-04 20:56:56,389 epoch 71 - iter 80/400 - loss 0.01595345 - samples/sec: 32.07 - lr: 0.001563\n",
      "2025-02-04 20:57:15,808 epoch 71 - iter 120/400 - loss 0.01652597 - samples/sec: 32.99 - lr: 0.001563\n",
      "2025-02-04 20:57:35,080 epoch 71 - iter 160/400 - loss 0.01699407 - samples/sec: 33.25 - lr: 0.001563\n",
      "2025-02-04 20:57:54,947 epoch 71 - iter 200/400 - loss 0.01752462 - samples/sec: 32.25 - lr: 0.001563\n",
      "2025-02-04 20:58:14,117 epoch 71 - iter 240/400 - loss 0.01720934 - samples/sec: 33.43 - lr: 0.001563\n",
      "2025-02-04 20:58:32,796 epoch 71 - iter 280/400 - loss 0.01716627 - samples/sec: 34.30 - lr: 0.001563\n",
      "2025-02-04 20:58:50,808 epoch 71 - iter 320/400 - loss 0.01727785 - samples/sec: 35.58 - lr: 0.001563\n",
      "2025-02-04 20:59:09,840 epoch 71 - iter 360/400 - loss 0.01745880 - samples/sec: 33.66 - lr: 0.001563\n",
      "2025-02-04 20:59:29,107 epoch 71 - iter 400/400 - loss 0.01734337 - samples/sec: 33.26 - lr: 0.001563\n",
      "2025-02-04 20:59:29,124 ----------------------------------------------------------------------------------------------------\n",
      "2025-02-04 20:59:29,125 EPOCH 71 done: loss 0.0173 - lr 0.001563\n"
     ]
    },
    {
     "name": "stderr",
     "output_type": "stream",
     "text": [
      "100%|█████████████████████████████████████████| 100/100 [00:26<00:00,  3.73it/s]"
     ]
    },
    {
     "name": "stdout",
     "output_type": "stream",
     "text": [
      "2025-02-04 20:59:55,953 Evaluating as a multi-label problem: False\n",
      "2025-02-04 20:59:56,006 DEV : loss 0.016799455508589745 - f1-score (micro avg)  0.9705\n"
     ]
    },
    {
     "name": "stderr",
     "output_type": "stream",
     "text": [
      "\n"
     ]
    },
    {
     "name": "stdout",
     "output_type": "stream",
     "text": [
      "2025-02-04 20:59:56,520 Epoch    71: reducing learning rate of group 0 to 7.8125e-04.\n",
      "2025-02-04 20:59:56,524 BAD EPOCHS (no improvement): 4\n",
      "2025-02-04 20:59:56,745 ----------------------------------------------------------------------------------------------------\n",
      "2025-02-04 21:00:15,701 epoch 72 - iter 40/400 - loss 0.01556524 - samples/sec: 33.77 - lr: 0.000781\n",
      "2025-02-04 21:00:35,304 epoch 72 - iter 80/400 - loss 0.01610052 - samples/sec: 32.69 - lr: 0.000781\n",
      "2025-02-04 21:00:54,594 epoch 72 - iter 120/400 - loss 0.01637583 - samples/sec: 33.21 - lr: 0.000781\n",
      "2025-02-04 21:01:14,184 epoch 72 - iter 160/400 - loss 0.01664698 - samples/sec: 32.71 - lr: 0.000781\n",
      "2025-02-04 21:01:33,371 epoch 72 - iter 200/400 - loss 0.01684959 - samples/sec: 33.39 - lr: 0.000781\n",
      "2025-02-04 21:01:53,083 epoch 72 - iter 240/400 - loss 0.01671809 - samples/sec: 32.57 - lr: 0.000781\n",
      "2025-02-04 21:02:12,189 epoch 72 - iter 280/400 - loss 0.01686697 - samples/sec: 33.54 - lr: 0.000781\n",
      "2025-02-04 21:02:31,621 epoch 72 - iter 320/400 - loss 0.01699510 - samples/sec: 33.12 - lr: 0.000781\n",
      "2025-02-04 21:02:51,142 epoch 72 - iter 360/400 - loss 0.01712176 - samples/sec: 32.82 - lr: 0.000781\n",
      "2025-02-04 21:03:10,994 epoch 72 - iter 400/400 - loss 0.01731847 - samples/sec: 32.28 - lr: 0.000781\n",
      "2025-02-04 21:03:11,010 ----------------------------------------------------------------------------------------------------\n",
      "2025-02-04 21:03:11,011 EPOCH 72 done: loss 0.0173 - lr 0.000781\n"
     ]
    },
    {
     "name": "stderr",
     "output_type": "stream",
     "text": [
      "100%|█████████████████████████████████████████| 100/100 [00:26<00:00,  3.76it/s]"
     ]
    },
    {
     "name": "stdout",
     "output_type": "stream",
     "text": [
      "2025-02-04 21:03:37,744 Evaluating as a multi-label problem: False\n",
      "2025-02-04 21:03:37,797 DEV : loss 0.01677359640598297 - f1-score (micro avg)  0.9707\n"
     ]
    },
    {
     "name": "stderr",
     "output_type": "stream",
     "text": [
      "\n"
     ]
    },
    {
     "name": "stdout",
     "output_type": "stream",
     "text": [
      "2025-02-04 21:03:38,255 BAD EPOCHS (no improvement): 1\n",
      "2025-02-04 21:03:38,919 ----------------------------------------------------------------------------------------------------\n",
      "2025-02-04 21:03:58,226 epoch 73 - iter 40/400 - loss 0.01720803 - samples/sec: 33.16 - lr: 0.000781\n",
      "2025-02-04 21:04:17,293 epoch 73 - iter 80/400 - loss 0.01799318 - samples/sec: 33.66 - lr: 0.000781\n",
      "2025-02-04 21:04:36,470 epoch 73 - iter 120/400 - loss 0.01743140 - samples/sec: 33.41 - lr: 0.000781\n",
      "2025-02-04 21:04:56,256 epoch 73 - iter 160/400 - loss 0.01704860 - samples/sec: 32.56 - lr: 0.000781\n",
      "2025-02-04 21:05:15,891 epoch 73 - iter 200/400 - loss 0.01715089 - samples/sec: 32.63 - lr: 0.000781\n",
      "2025-02-04 21:05:35,911 epoch 73 - iter 240/400 - loss 0.01696302 - samples/sec: 32.01 - lr: 0.000781\n",
      "2025-02-04 21:05:54,696 epoch 73 - iter 280/400 - loss 0.01663158 - samples/sec: 34.11 - lr: 0.000781\n",
      "2025-02-04 21:06:13,502 epoch 73 - iter 320/400 - loss 0.01672768 - samples/sec: 34.19 - lr: 0.000781\n",
      "2025-02-04 21:06:33,079 epoch 73 - iter 360/400 - loss 0.01672614 - samples/sec: 32.73 - lr: 0.000781\n",
      "2025-02-04 21:06:52,482 epoch 73 - iter 400/400 - loss 0.01676650 - samples/sec: 33.12 - lr: 0.000781\n",
      "2025-02-04 21:06:52,498 ----------------------------------------------------------------------------------------------------\n",
      "2025-02-04 21:06:52,498 EPOCH 73 done: loss 0.0168 - lr 0.000781\n"
     ]
    },
    {
     "name": "stderr",
     "output_type": "stream",
     "text": [
      "100%|█████████████████████████████████████████| 100/100 [00:26<00:00,  3.73it/s]\n"
     ]
    },
    {
     "name": "stdout",
     "output_type": "stream",
     "text": [
      "2025-02-04 21:07:19,605 Evaluating as a multi-label problem: False\n",
      "2025-02-04 21:07:19,660 DEV : loss 0.016791844740509987 - f1-score (micro avg)  0.9706\n",
      "2025-02-04 21:07:20,106 BAD EPOCHS (no improvement): 2\n",
      "2025-02-04 21:07:20,537 ----------------------------------------------------------------------------------------------------\n",
      "2025-02-04 21:07:40,425 epoch 74 - iter 40/400 - loss 0.01839993 - samples/sec: 32.19 - lr: 0.000781\n",
      "2025-02-04 21:08:00,095 epoch 74 - iter 80/400 - loss 0.01760156 - samples/sec: 32.76 - lr: 0.000781\n",
      "2025-02-04 21:08:18,992 epoch 74 - iter 120/400 - loss 0.01782107 - samples/sec: 33.91 - lr: 0.000781\n",
      "2025-02-04 21:08:38,975 epoch 74 - iter 160/400 - loss 0.01737717 - samples/sec: 32.14 - lr: 0.000781\n",
      "2025-02-04 21:08:58,676 epoch 74 - iter 200/400 - loss 0.01700058 - samples/sec: 32.52 - lr: 0.000781\n",
      "2025-02-04 21:09:18,384 epoch 74 - iter 240/400 - loss 0.01700956 - samples/sec: 32.72 - lr: 0.000781\n",
      "2025-02-04 21:09:37,713 epoch 74 - iter 280/400 - loss 0.01714141 - samples/sec: 33.15 - lr: 0.000781\n",
      "2025-02-04 21:09:57,122 epoch 74 - iter 320/400 - loss 0.01721060 - samples/sec: 33.18 - lr: 0.000781\n",
      "2025-02-04 21:10:15,753 epoch 74 - iter 360/400 - loss 0.01694118 - samples/sec: 34.39 - lr: 0.000781\n",
      "2025-02-04 21:10:34,971 epoch 74 - iter 400/400 - loss 0.01707812 - samples/sec: 33.49 - lr: 0.000781\n",
      "2025-02-04 21:10:34,989 ----------------------------------------------------------------------------------------------------\n",
      "2025-02-04 21:10:34,990 EPOCH 74 done: loss 0.0171 - lr 0.000781\n"
     ]
    },
    {
     "name": "stderr",
     "output_type": "stream",
     "text": [
      "100%|█████████████████████████████████████████| 100/100 [00:26<00:00,  3.77it/s]"
     ]
    },
    {
     "name": "stdout",
     "output_type": "stream",
     "text": [
      "2025-02-04 21:11:01,560 Evaluating as a multi-label problem: False\n",
      "2025-02-04 21:11:01,613 DEV : loss 0.016780942678451538 - f1-score (micro avg)  0.9707\n"
     ]
    },
    {
     "name": "stderr",
     "output_type": "stream",
     "text": [
      "\n"
     ]
    },
    {
     "name": "stdout",
     "output_type": "stream",
     "text": [
      "2025-02-04 21:11:02,035 BAD EPOCHS (no improvement): 3\n",
      "2025-02-04 21:11:02,429 ----------------------------------------------------------------------------------------------------\n",
      "2025-02-04 21:11:21,363 epoch 75 - iter 40/400 - loss 0.01851542 - samples/sec: 33.81 - lr: 0.000781\n",
      "2025-02-04 21:11:41,273 epoch 75 - iter 80/400 - loss 0.01747645 - samples/sec: 32.30 - lr: 0.000781\n",
      "2025-02-04 21:12:00,983 epoch 75 - iter 120/400 - loss 0.01811831 - samples/sec: 32.51 - lr: 0.000781\n",
      "2025-02-04 21:12:20,369 epoch 75 - iter 160/400 - loss 0.01779968 - samples/sec: 33.16 - lr: 0.000781\n",
      "2025-02-04 21:12:39,964 epoch 75 - iter 200/400 - loss 0.01734906 - samples/sec: 32.69 - lr: 0.000781\n",
      "2025-02-04 21:12:59,202 epoch 75 - iter 240/400 - loss 0.01729206 - samples/sec: 33.61 - lr: 0.000781\n",
      "2025-02-04 21:13:18,527 epoch 75 - iter 280/400 - loss 0.01762300 - samples/sec: 33.15 - lr: 0.000781\n",
      "2025-02-04 21:13:38,535 epoch 75 - iter 320/400 - loss 0.01746900 - samples/sec: 32.02 - lr: 0.000781\n",
      "2025-02-04 21:13:57,728 epoch 75 - iter 360/400 - loss 0.01733741 - samples/sec: 33.38 - lr: 0.000781\n",
      "2025-02-04 21:14:16,977 epoch 75 - iter 400/400 - loss 0.01723208 - samples/sec: 33.31 - lr: 0.000781\n",
      "2025-02-04 21:14:16,994 ----------------------------------------------------------------------------------------------------\n",
      "2025-02-04 21:14:16,994 EPOCH 75 done: loss 0.0172 - lr 0.000781\n"
     ]
    },
    {
     "name": "stderr",
     "output_type": "stream",
     "text": [
      "100%|█████████████████████████████████████████| 100/100 [00:26<00:00,  3.77it/s]"
     ]
    },
    {
     "name": "stdout",
     "output_type": "stream",
     "text": [
      "2025-02-04 21:14:43,673 Evaluating as a multi-label problem: False\n",
      "2025-02-04 21:14:43,727 DEV : loss 0.016830632463097572 - f1-score (micro avg)  0.9706\n"
     ]
    },
    {
     "name": "stderr",
     "output_type": "stream",
     "text": [
      "\n"
     ]
    },
    {
     "name": "stdout",
     "output_type": "stream",
     "text": [
      "2025-02-04 21:14:44,155 Epoch    75: reducing learning rate of group 0 to 3.9063e-04.\n",
      "2025-02-04 21:14:44,160 BAD EPOCHS (no improvement): 4\n",
      "2025-02-04 21:14:44,507 ----------------------------------------------------------------------------------------------------\n",
      "2025-02-04 21:15:05,095 epoch 76 - iter 40/400 - loss 0.01458827 - samples/sec: 31.10 - lr: 0.000391\n",
      "2025-02-04 21:15:23,654 epoch 76 - iter 80/400 - loss 0.01464789 - samples/sec: 34.53 - lr: 0.000391\n",
      "2025-02-04 21:15:42,757 epoch 76 - iter 120/400 - loss 0.01514904 - samples/sec: 33.54 - lr: 0.000391\n",
      "2025-02-04 21:16:02,684 epoch 76 - iter 160/400 - loss 0.01668604 - samples/sec: 32.30 - lr: 0.000391\n",
      "2025-02-04 21:16:21,872 epoch 76 - iter 200/400 - loss 0.01686750 - samples/sec: 33.39 - lr: 0.000391\n",
      "2025-02-04 21:16:42,017 epoch 76 - iter 240/400 - loss 0.01695489 - samples/sec: 32.27 - lr: 0.000391\n",
      "2025-02-04 21:17:01,080 epoch 76 - iter 280/400 - loss 0.01688237 - samples/sec: 33.61 - lr: 0.000391\n",
      "2025-02-04 21:17:20,385 epoch 76 - iter 320/400 - loss 0.01672022 - samples/sec: 33.36 - lr: 0.000391\n",
      "2025-02-04 21:17:39,684 epoch 76 - iter 360/400 - loss 0.01675638 - samples/sec: 33.20 - lr: 0.000391\n",
      "2025-02-04 21:17:58,511 epoch 76 - iter 400/400 - loss 0.01688638 - samples/sec: 34.04 - lr: 0.000391\n",
      "2025-02-04 21:17:58,527 ----------------------------------------------------------------------------------------------------\n",
      "2025-02-04 21:17:58,527 EPOCH 76 done: loss 0.0169 - lr 0.000391\n"
     ]
    },
    {
     "name": "stderr",
     "output_type": "stream",
     "text": [
      "100%|█████████████████████████████████████████| 100/100 [00:26<00:00,  3.72it/s]"
     ]
    },
    {
     "name": "stdout",
     "output_type": "stream",
     "text": [
      "2025-02-04 21:18:25,472 Evaluating as a multi-label problem: False\n",
      "2025-02-04 21:18:25,525 DEV : loss 0.01680288463830948 - f1-score (micro avg)  0.9707\n"
     ]
    },
    {
     "name": "stderr",
     "output_type": "stream",
     "text": [
      "\n"
     ]
    },
    {
     "name": "stdout",
     "output_type": "stream",
     "text": [
      "2025-02-04 21:18:25,969 BAD EPOCHS (no improvement): 1\n",
      "2025-02-04 21:18:26,195 ----------------------------------------------------------------------------------------------------\n",
      "2025-02-04 21:18:45,112 epoch 77 - iter 40/400 - loss 0.01580671 - samples/sec: 33.84 - lr: 0.000391\n",
      "2025-02-04 21:19:04,190 epoch 77 - iter 80/400 - loss 0.01657169 - samples/sec: 33.79 - lr: 0.000391\n",
      "2025-02-04 21:19:22,752 epoch 77 - iter 120/400 - loss 0.01738425 - samples/sec: 34.52 - lr: 0.000391\n",
      "2025-02-04 21:19:42,957 epoch 77 - iter 160/400 - loss 0.01754638 - samples/sec: 32.14 - lr: 0.000391\n",
      "2025-02-04 21:20:02,190 epoch 77 - iter 200/400 - loss 0.01704194 - samples/sec: 33.31 - lr: 0.000391\n",
      "2025-02-04 21:20:22,460 epoch 77 - iter 240/400 - loss 0.01748808 - samples/sec: 31.63 - lr: 0.000391\n",
      "2025-02-04 21:20:41,538 epoch 77 - iter 280/400 - loss 0.01709989 - samples/sec: 33.59 - lr: 0.000391\n",
      "2025-02-04 21:21:01,616 epoch 77 - iter 320/400 - loss 0.01701396 - samples/sec: 31.92 - lr: 0.000391\n",
      "2025-02-04 21:21:21,095 epoch 77 - iter 360/400 - loss 0.01694739 - samples/sec: 32.89 - lr: 0.000391\n",
      "2025-02-04 21:21:40,462 epoch 77 - iter 400/400 - loss 0.01708600 - samples/sec: 33.09 - lr: 0.000391\n",
      "2025-02-04 21:21:40,479 ----------------------------------------------------------------------------------------------------\n",
      "2025-02-04 21:21:40,479 EPOCH 77 done: loss 0.0171 - lr 0.000391\n"
     ]
    },
    {
     "name": "stderr",
     "output_type": "stream",
     "text": [
      "100%|█████████████████████████████████████████| 100/100 [00:26<00:00,  3.74it/s]"
     ]
    },
    {
     "name": "stdout",
     "output_type": "stream",
     "text": [
      "2025-02-04 21:22:07,218 Evaluating as a multi-label problem: False\n",
      "2025-02-04 21:22:07,272 DEV : loss 0.016817009076476097 - f1-score (micro avg)  0.9706\n"
     ]
    },
    {
     "name": "stderr",
     "output_type": "stream",
     "text": [
      "\n"
     ]
    },
    {
     "name": "stdout",
     "output_type": "stream",
     "text": [
      "2025-02-04 21:22:07,695 BAD EPOCHS (no improvement): 2\n",
      "2025-02-04 21:22:07,920 ----------------------------------------------------------------------------------------------------\n",
      "2025-02-04 21:22:26,853 epoch 78 - iter 40/400 - loss 0.01561889 - samples/sec: 33.82 - lr: 0.000391\n",
      "2025-02-04 21:22:45,612 epoch 78 - iter 80/400 - loss 0.01608173 - samples/sec: 34.16 - lr: 0.000391\n",
      "2025-02-04 21:23:04,202 epoch 78 - iter 120/400 - loss 0.01670027 - samples/sec: 34.47 - lr: 0.000391\n",
      "2025-02-04 21:23:23,504 epoch 78 - iter 160/400 - loss 0.01690600 - samples/sec: 33.20 - lr: 0.000391\n",
      "2025-02-04 21:23:42,899 epoch 78 - iter 200/400 - loss 0.01699653 - samples/sec: 33.03 - lr: 0.000391\n",
      "2025-02-04 21:24:02,003 epoch 78 - iter 240/400 - loss 0.01709756 - samples/sec: 33.54 - lr: 0.000391\n",
      "2025-02-04 21:24:21,781 epoch 78 - iter 280/400 - loss 0.01696082 - samples/sec: 32.39 - lr: 0.000391\n",
      "2025-02-04 21:24:41,300 epoch 78 - iter 320/400 - loss 0.01702790 - samples/sec: 32.85 - lr: 0.000391\n",
      "2025-02-04 21:25:00,462 epoch 78 - iter 360/400 - loss 0.01709315 - samples/sec: 33.44 - lr: 0.000391\n",
      "2025-02-04 21:25:19,825 epoch 78 - iter 400/400 - loss 0.01716220 - samples/sec: 33.10 - lr: 0.000391\n",
      "2025-02-04 21:25:19,843 ----------------------------------------------------------------------------------------------------\n",
      "2025-02-04 21:25:19,843 EPOCH 78 done: loss 0.0172 - lr 0.000391\n"
     ]
    },
    {
     "name": "stderr",
     "output_type": "stream",
     "text": [
      "100%|█████████████████████████████████████████| 100/100 [00:26<00:00,  3.74it/s]"
     ]
    },
    {
     "name": "stdout",
     "output_type": "stream",
     "text": [
      "2025-02-04 21:25:46,585 Evaluating as a multi-label problem: False\n",
      "2025-02-04 21:25:46,639 DEV : loss 0.016826091334223747 - f1-score (micro avg)  0.9705\n"
     ]
    },
    {
     "name": "stderr",
     "output_type": "stream",
     "text": [
      "\n"
     ]
    },
    {
     "name": "stdout",
     "output_type": "stream",
     "text": [
      "2025-02-04 21:25:47,070 BAD EPOCHS (no improvement): 3\n",
      "2025-02-04 21:25:47,312 ----------------------------------------------------------------------------------------------------\n",
      "2025-02-04 21:26:06,629 epoch 79 - iter 40/400 - loss 0.01625999 - samples/sec: 33.14 - lr: 0.000391\n",
      "2025-02-04 21:26:26,406 epoch 79 - iter 80/400 - loss 0.01727767 - samples/sec: 32.42 - lr: 0.000391\n",
      "2025-02-04 21:26:45,491 epoch 79 - iter 120/400 - loss 0.01737910 - samples/sec: 33.57 - lr: 0.000391\n",
      "2025-02-04 21:27:05,216 epoch 79 - iter 160/400 - loss 0.01745804 - samples/sec: 32.49 - lr: 0.000391\n",
      "2025-02-04 21:27:24,631 epoch 79 - iter 200/400 - loss 0.01756034 - samples/sec: 33.00 - lr: 0.000391\n",
      "2025-02-04 21:27:43,376 epoch 79 - iter 240/400 - loss 0.01733130 - samples/sec: 34.19 - lr: 0.000391\n",
      "2025-02-04 21:28:02,591 epoch 79 - iter 280/400 - loss 0.01712721 - samples/sec: 33.34 - lr: 0.000391\n",
      "2025-02-04 21:28:23,026 epoch 79 - iter 320/400 - loss 0.01694764 - samples/sec: 31.35 - lr: 0.000391\n",
      "2025-02-04 21:28:41,758 epoch 79 - iter 360/400 - loss 0.01697071 - samples/sec: 34.20 - lr: 0.000391\n",
      "2025-02-04 21:29:01,022 epoch 79 - iter 400/400 - loss 0.01687669 - samples/sec: 33.27 - lr: 0.000391\n",
      "2025-02-04 21:29:01,038 ----------------------------------------------------------------------------------------------------\n",
      "2025-02-04 21:29:01,039 EPOCH 79 done: loss 0.0169 - lr 0.000391\n"
     ]
    },
    {
     "name": "stderr",
     "output_type": "stream",
     "text": [
      "100%|█████████████████████████████████████████| 100/100 [00:26<00:00,  3.75it/s]"
     ]
    },
    {
     "name": "stdout",
     "output_type": "stream",
     "text": [
      "2025-02-04 21:29:27,752 Evaluating as a multi-label problem: False\n",
      "2025-02-04 21:29:27,806 DEV : loss 0.016827469691634178 - f1-score (micro avg)  0.9705\n"
     ]
    },
    {
     "name": "stderr",
     "output_type": "stream",
     "text": [
      "\n"
     ]
    },
    {
     "name": "stdout",
     "output_type": "stream",
     "text": [
      "2025-02-04 21:29:28,227 Epoch    79: reducing learning rate of group 0 to 1.9531e-04.\n",
      "2025-02-04 21:29:28,231 BAD EPOCHS (no improvement): 4\n",
      "2025-02-04 21:29:28,458 ----------------------------------------------------------------------------------------------------\n",
      "2025-02-04 21:29:47,840 epoch 80 - iter 40/400 - loss 0.01811467 - samples/sec: 33.03 - lr: 0.000195\n",
      "2025-02-04 21:30:07,315 epoch 80 - iter 80/400 - loss 0.01814713 - samples/sec: 32.91 - lr: 0.000195\n",
      "2025-02-04 21:30:26,337 epoch 80 - iter 120/400 - loss 0.01816023 - samples/sec: 33.68 - lr: 0.000195\n",
      "2025-02-04 21:30:45,762 epoch 80 - iter 160/400 - loss 0.01766636 - samples/sec: 32.99 - lr: 0.000195\n",
      "2025-02-04 21:31:05,104 epoch 80 - iter 200/400 - loss 0.01718349 - samples/sec: 33.12 - lr: 0.000195\n",
      "2025-02-04 21:31:23,955 epoch 80 - iter 240/400 - loss 0.01713235 - samples/sec: 33.99 - lr: 0.000195\n",
      "2025-02-04 21:31:44,006 epoch 80 - iter 280/400 - loss 0.01741098 - samples/sec: 31.95 - lr: 0.000195\n",
      "2025-02-04 21:32:03,662 epoch 80 - iter 320/400 - loss 0.01755394 - samples/sec: 32.60 - lr: 0.000195\n",
      "2025-02-04 21:32:22,296 epoch 80 - iter 360/400 - loss 0.01734206 - samples/sec: 34.38 - lr: 0.000195\n",
      "2025-02-04 21:32:42,588 epoch 80 - iter 400/400 - loss 0.01744868 - samples/sec: 31.58 - lr: 0.000195\n",
      "2025-02-04 21:32:42,604 ----------------------------------------------------------------------------------------------------\n",
      "2025-02-04 21:32:42,604 EPOCH 80 done: loss 0.0174 - lr 0.000195\n"
     ]
    },
    {
     "name": "stderr",
     "output_type": "stream",
     "text": [
      "100%|█████████████████████████████████████████| 100/100 [00:26<00:00,  3.74it/s]"
     ]
    },
    {
     "name": "stdout",
     "output_type": "stream",
     "text": [
      "2025-02-04 21:33:09,370 Evaluating as a multi-label problem: False\n",
      "2025-02-04 21:33:09,425 DEV : loss 0.01682947389781475 - f1-score (micro avg)  0.9706\n"
     ]
    },
    {
     "name": "stderr",
     "output_type": "stream",
     "text": [
      "\n"
     ]
    },
    {
     "name": "stdout",
     "output_type": "stream",
     "text": [
      "2025-02-04 21:33:09,844 BAD EPOCHS (no improvement): 1\n",
      "2025-02-04 21:33:10,068 ----------------------------------------------------------------------------------------------------\n",
      "2025-02-04 21:33:29,974 epoch 81 - iter 40/400 - loss 0.01549638 - samples/sec: 32.16 - lr: 0.000195\n",
      "2025-02-04 21:33:49,173 epoch 81 - iter 80/400 - loss 0.01770573 - samples/sec: 33.37 - lr: 0.000195\n",
      "2025-02-04 21:34:09,056 epoch 81 - iter 120/400 - loss 0.01729680 - samples/sec: 32.22 - lr: 0.000195\n",
      "2025-02-04 21:34:28,752 epoch 81 - iter 160/400 - loss 0.01696696 - samples/sec: 32.53 - lr: 0.000195\n",
      "2025-02-04 21:34:48,210 epoch 81 - iter 200/400 - loss 0.01713883 - samples/sec: 32.93 - lr: 0.000195\n",
      "2025-02-04 21:35:07,773 epoch 81 - iter 240/400 - loss 0.01736095 - samples/sec: 32.77 - lr: 0.000195\n",
      "2025-02-04 21:35:27,465 epoch 81 - iter 280/400 - loss 0.01716044 - samples/sec: 32.54 - lr: 0.000195\n",
      "2025-02-04 21:35:46,390 epoch 81 - iter 320/400 - loss 0.01713929 - samples/sec: 33.87 - lr: 0.000195\n",
      "2025-02-04 21:36:04,736 epoch 81 - iter 360/400 - loss 0.01753164 - samples/sec: 34.93 - lr: 0.000195\n",
      "2025-02-04 21:36:24,262 epoch 81 - iter 400/400 - loss 0.01733661 - samples/sec: 32.82 - lr: 0.000195\n",
      "2025-02-04 21:36:24,279 ----------------------------------------------------------------------------------------------------\n",
      "2025-02-04 21:36:24,280 EPOCH 81 done: loss 0.0173 - lr 0.000195\n"
     ]
    },
    {
     "name": "stderr",
     "output_type": "stream",
     "text": [
      "100%|█████████████████████████████████████████| 100/100 [00:26<00:00,  3.72it/s]"
     ]
    },
    {
     "name": "stdout",
     "output_type": "stream",
     "text": [
      "2025-02-04 21:36:51,184 Evaluating as a multi-label problem: False\n",
      "2025-02-04 21:36:51,238 DEV : loss 0.016814423725008965 - f1-score (micro avg)  0.9706\n"
     ]
    },
    {
     "name": "stderr",
     "output_type": "stream",
     "text": [
      "\n"
     ]
    },
    {
     "name": "stdout",
     "output_type": "stream",
     "text": [
      "2025-02-04 21:36:51,756 BAD EPOCHS (no improvement): 2\n",
      "2025-02-04 21:36:51,983 ----------------------------------------------------------------------------------------------------\n",
      "2025-02-04 21:37:11,524 epoch 82 - iter 40/400 - loss 0.01647740 - samples/sec: 32.76 - lr: 0.000195\n",
      "2025-02-04 21:37:30,282 epoch 82 - iter 80/400 - loss 0.01628940 - samples/sec: 34.16 - lr: 0.000195\n",
      "2025-02-04 21:37:49,687 epoch 82 - iter 120/400 - loss 0.01629863 - samples/sec: 33.02 - lr: 0.000195\n",
      "2025-02-04 21:38:08,451 epoch 82 - iter 160/400 - loss 0.01712411 - samples/sec: 34.15 - lr: 0.000195\n",
      "2025-02-04 21:38:27,302 epoch 82 - iter 200/400 - loss 0.01748834 - samples/sec: 33.99 - lr: 0.000195\n",
      "2025-02-04 21:38:47,283 epoch 82 - iter 240/400 - loss 0.01730514 - samples/sec: 32.09 - lr: 0.000195\n",
      "2025-02-04 21:39:07,218 epoch 82 - iter 280/400 - loss 0.01720532 - samples/sec: 32.14 - lr: 0.000195\n",
      "2025-02-04 21:39:26,593 epoch 82 - iter 320/400 - loss 0.01718320 - samples/sec: 33.08 - lr: 0.000195\n",
      "2025-02-04 21:39:45,663 epoch 82 - iter 360/400 - loss 0.01666085 - samples/sec: 33.60 - lr: 0.000195\n",
      "2025-02-04 21:40:04,986 epoch 82 - iter 400/400 - loss 0.01687671 - samples/sec: 33.16 - lr: 0.000195\n",
      "2025-02-04 21:40:05,005 ----------------------------------------------------------------------------------------------------\n",
      "2025-02-04 21:40:05,005 EPOCH 82 done: loss 0.0169 - lr 0.000195\n"
     ]
    },
    {
     "name": "stderr",
     "output_type": "stream",
     "text": [
      "100%|█████████████████████████████████████████| 100/100 [00:25<00:00,  3.98it/s]"
     ]
    },
    {
     "name": "stdout",
     "output_type": "stream",
     "text": [
      "2025-02-04 21:40:30,183 Evaluating as a multi-label problem: False\n",
      "2025-02-04 21:40:30,238 DEV : loss 0.016818571835756302 - f1-score (micro avg)  0.9705\n"
     ]
    },
    {
     "name": "stderr",
     "output_type": "stream",
     "text": [
      "\n"
     ]
    },
    {
     "name": "stdout",
     "output_type": "stream",
     "text": [
      "2025-02-04 21:40:30,708 BAD EPOCHS (no improvement): 3\n",
      "2025-02-04 21:40:30,934 ----------------------------------------------------------------------------------------------------\n",
      "2025-02-04 21:40:52,295 epoch 83 - iter 40/400 - loss 0.01821881 - samples/sec: 29.97 - lr: 0.000195\n",
      "2025-02-04 21:41:11,397 epoch 83 - iter 80/400 - loss 0.01852847 - samples/sec: 33.54 - lr: 0.000195\n",
      "2025-02-04 21:41:30,368 epoch 83 - iter 120/400 - loss 0.01893324 - samples/sec: 33.77 - lr: 0.000195\n",
      "2025-02-04 21:41:49,421 epoch 83 - iter 160/400 - loss 0.01869718 - samples/sec: 33.64 - lr: 0.000195\n",
      "2025-02-04 21:42:08,593 epoch 83 - iter 200/400 - loss 0.01866293 - samples/sec: 33.42 - lr: 0.000195\n",
      "2025-02-04 21:42:28,043 epoch 83 - iter 240/400 - loss 0.01803819 - samples/sec: 32.97 - lr: 0.000195\n",
      "2025-02-04 21:42:47,055 epoch 83 - iter 280/400 - loss 0.01791257 - samples/sec: 33.70 - lr: 0.000195\n",
      "2025-02-04 21:43:06,082 epoch 83 - iter 320/400 - loss 0.01793351 - samples/sec: 33.68 - lr: 0.000195\n",
      "2025-02-04 21:43:24,887 epoch 83 - iter 360/400 - loss 0.01772973 - samples/sec: 34.07 - lr: 0.000195\n",
      "2025-02-04 21:43:44,296 epoch 83 - iter 400/400 - loss 0.01739909 - samples/sec: 33.02 - lr: 0.000195\n",
      "2025-02-04 21:43:44,313 ----------------------------------------------------------------------------------------------------\n",
      "2025-02-04 21:43:44,313 EPOCH 83 done: loss 0.0174 - lr 0.000195\n"
     ]
    },
    {
     "name": "stderr",
     "output_type": "stream",
     "text": [
      "100%|█████████████████████████████████████████| 100/100 [00:25<00:00,  3.95it/s]"
     ]
    },
    {
     "name": "stdout",
     "output_type": "stream",
     "text": [
      "2025-02-04 21:44:09,664 Evaluating as a multi-label problem: False\n",
      "2025-02-04 21:44:09,718 DEV : loss 0.016816487535834312 - f1-score (micro avg)  0.9705\n"
     ]
    },
    {
     "name": "stderr",
     "output_type": "stream",
     "text": [
      "\n"
     ]
    },
    {
     "name": "stdout",
     "output_type": "stream",
     "text": [
      "2025-02-04 21:44:10,176 Epoch    83: reducing learning rate of group 0 to 9.7656e-05.\n",
      "2025-02-04 21:44:10,181 BAD EPOCHS (no improvement): 4\n",
      "2025-02-04 21:44:10,402 ----------------------------------------------------------------------------------------------------\n",
      "2025-02-04 21:44:10,403 ----------------------------------------------------------------------------------------------------\n",
      "2025-02-04 21:44:10,403 learning rate too small - quitting training!\n",
      "2025-02-04 21:44:10,404 ----------------------------------------------------------------------------------------------------\n",
      "2025-02-04 21:44:10,624 ----------------------------------------------------------------------------------------------------\n",
      "2025-02-04 21:44:10,625 loading file logs/BiLSTM_CRF/NER/10K/k5/best-model.pt\n",
      "2025-02-04 21:44:10,893 SequenceTagger predicts: Dictionary with 59 tags: O, S-MALE, B-MALE, E-MALE, I-MALE, S-FAMILY, B-FAMILY, E-FAMILY, I-FAMILY, S-URL, B-URL, E-URL, I-URL, S-EMAIL, B-EMAIL, E-EMAIL, I-EMAIL, S-PHONE, B-PHONE, E-PHONE, I-PHONE, S-CITY, B-CITY, E-CITY, I-CITY, S-DATE, B-DATE, E-DATE, I-DATE, S-STREET, B-STREET, E-STREET, I-STREET, S-ZIP, B-ZIP, E-ZIP, I-ZIP, S-STREETNO, B-STREETNO, E-STREETNO, I-STREETNO, S-FEMALE, B-FEMALE, E-FEMALE, I-FEMALE, S-UFID, B-UFID, E-UFID, I-UFID, S-ORG\n"
     ]
    },
    {
     "name": "stderr",
     "output_type": "stream",
     "text": [
      "100%|█████████████████████████████████████████| 125/125 [00:36<00:00,  3.41it/s]"
     ]
    },
    {
     "name": "stdout",
     "output_type": "stream",
     "text": [
      "2025-02-04 21:44:47,727 Evaluating as a multi-label problem: False\n",
      "2025-02-04 21:44:47,792 0.9816\t0.97\t0.9758\t0.9573\n",
      "2025-02-04 21:44:47,793 \n",
      "Results:\n",
      "- F-score (micro) 0.9758\n",
      "- F-score (macro) 0.9522\n",
      "- Accuracy 0.9573\n",
      "\n",
      "By class:\n",
      "              precision    recall  f1-score   support\n",
      "\n",
      "        MALE     0.9911    0.9937    0.9924      2690\n",
      "      FAMILY     0.9779    0.9659    0.9719      1789\n",
      "         URL     0.9888    0.9897    0.9892      1067\n",
      "       EMAIL     0.9933    0.9955    0.9944       890\n",
      "       PHONE     0.9922    0.9922    0.9922       773\n",
      "        CITY     0.9499    0.9046    0.9267       587\n",
      "        DATE     0.9711    0.9874    0.9792       476\n",
      "      STREET     0.9870    0.9806    0.9838       309\n",
      "         ZIP     0.9966    0.9966    0.9966       295\n",
      "    STREETNO     0.9929    0.9894    0.9911       282\n",
      "      FEMALE     0.9627    0.9547    0.9587       243\n",
      "        UFID     0.9624    0.9579    0.9602       214\n",
      "         ORG     0.8345    0.5273    0.6462       220\n",
      "        USER     0.9200    0.9787    0.9485        47\n",
      "\n",
      "   micro avg     0.9816    0.9700    0.9758      9882\n",
      "   macro avg     0.9657    0.9439    0.9522      9882\n",
      "weighted avg     0.9803    0.9700    0.9743      9882\n",
      "\n",
      "2025-02-04 21:44:47,793 ----------------------------------------------------------------------------------------------------\n"
     ]
    },
    {
     "name": "stderr",
     "output_type": "stream",
     "text": [
      "\n"
     ]
    },
    {
     "data": {
      "text/plain": [
       "{'test_score': 0.9757736156351792,\n",
       " 'dev_score_history': [0.8443011047828175,\n",
       "  0.912908550676791,\n",
       "  0.9305916017834565,\n",
       "  0.9393476383445161,\n",
       "  0.9402800390752197,\n",
       "  0.9478439970766064,\n",
       "  0.9497585801905258,\n",
       "  0.9548728113643872,\n",
       "  0.9553228158557604,\n",
       "  0.9559847589015898,\n",
       "  0.9577780709856181,\n",
       "  0.9593227065282095,\n",
       "  0.9597421391922114,\n",
       "  0.9602566620834152,\n",
       "  0.9618501680173948,\n",
       "  0.9592222874665622,\n",
       "  0.9620153513087975,\n",
       "  0.9607625514134622,\n",
       "  0.9612301222236825,\n",
       "  0.9608996992284556,\n",
       "  0.9635103321998431,\n",
       "  0.9654178674351583,\n",
       "  0.9654584780756374,\n",
       "  0.9649145860709593,\n",
       "  0.9649238045191803,\n",
       "  0.9652060170045781,\n",
       "  0.964390721986279,\n",
       "  0.9665685312397776,\n",
       "  0.9657968739781571,\n",
       "  0.9664086077942527,\n",
       "  0.9673955741783422,\n",
       "  0.966340791286661,\n",
       "  0.9656615867617241,\n",
       "  0.9688422433584782,\n",
       "  0.9683577405857741,\n",
       "  0.9674844618907426,\n",
       "  0.9676491732566498,\n",
       "  0.9688848215453001,\n",
       "  0.9679281170066243,\n",
       "  0.9688807531380753,\n",
       "  0.9701336127849096,\n",
       "  0.9678730658274325,\n",
       "  0.9691317483252331,\n",
       "  0.9685542797494782,\n",
       "  0.9693837498364517,\n",
       "  0.9706478394456429,\n",
       "  0.9695822454308095,\n",
       "  0.9697128622000787,\n",
       "  0.9702957341010205,\n",
       "  0.969875187871659,\n",
       "  0.9704304592437525,\n",
       "  0.9703786045903354,\n",
       "  0.9706209513838906,\n",
       "  0.9709397244171619,\n",
       "  0.9716752796493753,\n",
       "  0.9709803921568627,\n",
       "  0.9714023951312086,\n",
       "  0.9704459265071269,\n",
       "  0.9703669784784458,\n",
       "  0.9704459265071269,\n",
       "  0.9708420502092051,\n",
       "  0.9704845239649994,\n",
       "  0.9707785840360854,\n",
       "  0.9705209490816393,\n",
       "  0.970920734496504,\n",
       "  0.9704613775976997,\n",
       "  0.970726607422896,\n",
       "  0.9705882352941176,\n",
       "  0.9706670150911347,\n",
       "  0.9707151261602824,\n",
       "  0.9705286545121871,\n",
       "  0.9706631819666776,\n",
       "  0.9705959226346054,\n",
       "  0.970726607422896,\n",
       "  0.9706401621656967,\n",
       "  0.9707189542483661,\n",
       "  0.9706440013076169,\n",
       "  0.9704536540724278,\n",
       "  0.9705209490816393,\n",
       "  0.970584390116355,\n",
       "  0.9705959226346054,\n",
       "  0.9704613775976997,\n",
       "  0.9704652378463148],\n",
       " 'train_loss_history': [0.3072927381835323,\n",
       "  0.10575006085906613,\n",
       "  0.07904821081534127,\n",
       "  0.06650351551833142,\n",
       "  0.05993155668146052,\n",
       "  0.05372707112364503,\n",
       "  0.0508111664803522,\n",
       "  0.048529797892711064,\n",
       "  0.04523693719103212,\n",
       "  0.04363050393672011,\n",
       "  0.04281327908648281,\n",
       "  0.04066990573557915,\n",
       "  0.038496666629873735,\n",
       "  0.038759432227696435,\n",
       "  0.0378129601242216,\n",
       "  0.03651835422012464,\n",
       "  0.034384683942370764,\n",
       "  0.03465967439785119,\n",
       "  0.03326828559280278,\n",
       "  0.03261390860041911,\n",
       "  0.03189536813462429,\n",
       "  0.03234138195738896,\n",
       "  0.031225689417622913,\n",
       "  0.030277220176761904,\n",
       "  0.030799339716814384,\n",
       "  0.02911840946981446,\n",
       "  0.029802675405822956,\n",
       "  0.026985526162743242,\n",
       "  0.025699494325973262,\n",
       "  0.024919117964882106,\n",
       "  0.025157165726622698,\n",
       "  0.024464817036475833,\n",
       "  0.023243642888507398,\n",
       "  0.023393948491687643,\n",
       "  0.02368420878715406,\n",
       "  0.02283943996302403,\n",
       "  0.021782813703499916,\n",
       "  0.022679051569716363,\n",
       "  0.022033364588774976,\n",
       "  0.022433542804155732,\n",
       "  0.021653963558857313,\n",
       "  0.022277125496797345,\n",
       "  0.021899837548381162,\n",
       "  0.02167236968716237,\n",
       "  0.021709512384501112,\n",
       "  0.02038670017575273,\n",
       "  0.020007890460823134,\n",
       "  0.01959320473801453,\n",
       "  0.018899473414292624,\n",
       "  0.01901362619301857,\n",
       "  0.0182795332734567,\n",
       "  0.018505086607471476,\n",
       "  0.018771502995624918,\n",
       "  0.01809626475829455,\n",
       "  0.0186595140239509,\n",
       "  0.018113330282766363,\n",
       "  0.018121436225727795,\n",
       "  0.017815335065507497,\n",
       "  0.018939833560831145,\n",
       "  0.017767989286021704,\n",
       "  0.01736827049919785,\n",
       "  0.017067854948531944,\n",
       "  0.017905825099600634,\n",
       "  0.01727621811815095,\n",
       "  0.017170306067420482,\n",
       "  0.016957032664518208,\n",
       "  0.017320702976591534,\n",
       "  0.01725804677667939,\n",
       "  0.017244771175476688,\n",
       "  0.016786606409427796,\n",
       "  0.01734337439903846,\n",
       "  0.017318473950974748,\n",
       "  0.016766501699833486,\n",
       "  0.017078116002736652,\n",
       "  0.017232078193453404,\n",
       "  0.016886382117855616,\n",
       "  0.01708600020257756,\n",
       "  0.017162204472363374,\n",
       "  0.01687668629121303,\n",
       "  0.017448679192465004,\n",
       "  0.017336613407814595,\n",
       "  0.016876710929337534,\n",
       "  0.01739908844504657],\n",
       " 'dev_loss_history': [0.09586566686630249,\n",
       "  0.05648304894566536,\n",
       "  0.04492875561118126,\n",
       "  0.03792620077729225,\n",
       "  0.035507526248693466,\n",
       "  0.033323973417282104,\n",
       "  0.02927461825311184,\n",
       "  0.027305997908115387,\n",
       "  0.02693457528948784,\n",
       "  0.025254493579268456,\n",
       "  0.026088442653417587,\n",
       "  0.024718884378671646,\n",
       "  0.022686270996928215,\n",
       "  0.023438148200511932,\n",
       "  0.022732382640242577,\n",
       "  0.021806009113788605,\n",
       "  0.021529754623770714,\n",
       "  0.022084740921854973,\n",
       "  0.023018257692456245,\n",
       "  0.020468130707740784,\n",
       "  0.01966206356883049,\n",
       "  0.019409334287047386,\n",
       "  0.019228262826800346,\n",
       "  0.019567037001252174,\n",
       "  0.019447388127446175,\n",
       "  0.019050568342208862,\n",
       "  0.019721219316124916,\n",
       "  0.018792493268847466,\n",
       "  0.017981605604290962,\n",
       "  0.0179731585085392,\n",
       "  0.01820288971066475,\n",
       "  0.018596533685922623,\n",
       "  0.01805790886282921,\n",
       "  0.018032165244221687,\n",
       "  0.01769116520881653,\n",
       "  0.017815686762332916,\n",
       "  0.018010128289461136,\n",
       "  0.01794375479221344,\n",
       "  0.018390728160738945,\n",
       "  0.017300302162766457,\n",
       "  0.01747402735054493,\n",
       "  0.017845451831817627,\n",
       "  0.0186600461602211,\n",
       "  0.017647070810198784,\n",
       "  0.01737215556204319,\n",
       "  0.017166731879115105,\n",
       "  0.01705673709511757,\n",
       "  0.01739860512316227,\n",
       "  0.017084473744034767,\n",
       "  0.017171330749988556,\n",
       "  0.01721413992345333,\n",
       "  0.01706371270120144,\n",
       "  0.01695786602795124,\n",
       "  0.01687067188322544,\n",
       "  0.01692836917936802,\n",
       "  0.016740230843424797,\n",
       "  0.01691521890461445,\n",
       "  0.017003072425723076,\n",
       "  0.01703004352748394,\n",
       "  0.016908105462789536,\n",
       "  0.016861693933606148,\n",
       "  0.016776956617832184,\n",
       "  0.016863176599144936,\n",
       "  0.016873985528945923,\n",
       "  0.016847269609570503,\n",
       "  0.016857128590345383,\n",
       "  0.016843805089592934,\n",
       "  0.016839763149619102,\n",
       "  0.016811447218060493,\n",
       "  0.01682567410171032,\n",
       "  0.016799455508589745,\n",
       "  0.01677359640598297,\n",
       "  0.016791844740509987,\n",
       "  0.016780942678451538,\n",
       "  0.016830632463097572,\n",
       "  0.01680288463830948,\n",
       "  0.016817009076476097,\n",
       "  0.016826091334223747,\n",
       "  0.016827469691634178,\n",
       "  0.01682947389781475,\n",
       "  0.016814423725008965,\n",
       "  0.016818571835756302,\n",
       "  0.016816487535834312]}"
      ]
     },
     "execution_count": 18,
     "metadata": {},
     "output_type": "execute_result"
    }
   ],
   "source": [
    "trainer.train(\n",
    "    model_dir_path,\n",
    "    learning_rate=0.1,\n",
    "    mini_batch_size=16,\n",
    "    max_epochs=100,\n",
    "    checkpoint=True,\n",
    "    write_weights=True,\n",
    "    use_tensorboard=True,\n",
    "    tensorboard_log_dir=model_dir_path\n",
    ")"
   ]
  },
  {
   "cell_type": "code",
   "execution_count": 19,
   "id": "a6e3d9a0",
   "metadata": {},
   "outputs": [],
   "source": [
    "loss_df = pd.read_csv(os.path.join(model_dir_path, 'loss.tsv'), sep='\\t', header=0)"
   ]
  },
  {
   "cell_type": "code",
   "execution_count": 20,
   "id": "3792a791",
   "metadata": {
    "scrolled": true
   },
   "outputs": [
    {
     "data": {
      "image/png": "[encoded data removed]",
      "text/plain": [
       "<Figure size 1080x288 with 1 Axes>"
      ]
     },
     "metadata": {
      "needs_background": "light"
     },
     "output_type": "display_data"
    }
   ],
   "source": [
    "%matplotlib inline\n",
    "plt.figure(figsize=[15, 4])\n",
    "plt.plot(loss_df['TRAIN_LOSS'], 'r', linewidth=1.0)\n",
    "plt.plot(loss_df['DEV_LOSS'], 'b', linewidth=1.0)\n",
    "plt.legend(['Training Loss', 'Dev Loss'], fontsize=14)\n",
    "plt.xlabel('Epochs', fontsize=16)\n",
    "plt.ylabel('Loss', fontsize=16)\n",
    "plt.title('Loss Curves', fontsize=16);"
   ]
  }
 ],
 "metadata": {
  "kernelspec": {
   "display_name": "Python 3 (ipykernel)",
   "language": "python",
   "name": "python3"
  },
  "language_info": {
   "codemirror_mode": {
    "name": "ipython",
    "version": 3
   },
   "file_extension": ".py",
   "mimetype": "text/x-python",
   "name": "python",
   "nbconvert_exporter": "python",
   "pygments_lexer": "ipython3",
   "version": "3.9.10"
  }
 },
 "nbformat": 4,
 "nbformat_minor": 5
}
