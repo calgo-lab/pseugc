{
 "cells": [
  {
   "cell_type": "code",
   "execution_count": 1,
   "id": "545bec19",
   "metadata": {},
   "outputs": [],
   "source": [
    "import ast\n",
    "import os\n",
    "import random\n",
    "import re\n",
    "\n",
    "import matplotlib.pyplot as plt\n",
    "import numpy as np\n",
    "import pandas as pd\n",
    "import seaborn as sns\n",
    "\n",
    "from __future__ import annotations\n",
    "from codealltag_data_processor_v2025 import CodealltagDataProcessor\n",
    "from concurrent.futures import ThreadPoolExecutor, as_completed\n",
    "from pandas import DataFrame\n",
    "from pandas.core.series import Series\n",
    "from tqdm import tqdm\n",
    "from typing import Any, Dict, Generator, List, Tuple"
   ]
  },
  {
   "cell_type": "code",
   "execution_count": 2,
   "id": "33a50128",
   "metadata": {},
   "outputs": [],
   "source": [
    "cdp_2022 = CodealltagDataProcessor(data_version='20220513', config_path=['codealltag_data_processor.yml'])"
   ]
  },
  {
   "cell_type": "code",
   "execution_count": 3,
   "id": "8c112c7a",
   "metadata": {},
   "outputs": [],
   "source": [
    "sample_size = 10_000\n",
    "k = 3"
   ]
  },
  {
   "cell_type": "code",
   "execution_count": 4,
   "id": "8db06769",
   "metadata": {},
   "outputs": [],
   "source": [
    "predicted_text_df_name = f'PredictedText_DF_{cdp_2022.get_data_version()}_{sample_size // 1000}K_k{k}.csv'\n",
    "predicted_text_df = pd.read_csv(predicted_text_df_name, index_col=0)"
   ]
  },
  {
   "cell_type": "code",
   "execution_count": 5,
   "id": "946897ad",
   "metadata": {},
   "outputs": [],
   "source": [
    "def prepare_performance_metrics_dict(predicted_text_df: DataFrame, \n",
    "                                     idx: int, \n",
    "                                     cdp: CodealltagDataProcessor) -> Dict[str, Tuple]:\n",
    "    \n",
    "    def update_label_dict(tp_fp_fn_dict: Dict[str, Dict[str, int]], \n",
    "                          label: str, \n",
    "                          metric: str, \n",
    "                          value: int):\n",
    "        \n",
    "        label_dict = tp_fp_fn_dict.get(label, dict())\n",
    "        label_metric_value = label_dict.get(metric, 0)\n",
    "        label_dict[metric] = label_metric_value + value\n",
    "        tp_fp_fn_dict[label] = label_dict\n",
    "        return tp_fp_fn_dict\n",
    "    \n",
    "    def update_confusion_matrix_dict(confusion_matrix_dict: Dict[str, Dict[str, int]], \n",
    "                                     label: str, \n",
    "                                     other_label: str):\n",
    "        \n",
    "        label_dict = confusion_matrix_dict.get(label, dict())\n",
    "        label_current_value = label_dict.get(other_label, 0)\n",
    "        label_dict[other_label] = label_current_value + 1\n",
    "        confusion_matrix_dict[label] = label_dict\n",
    "        return confusion_matrix_dict\n",
    "    \n",
    "    penalty_count = 0\n",
    "    tp_fp_fn_dict_pq: Dict[str, Dict[str, int]] = dict()\n",
    "    tp_fp_fn_dict_ner: Dict[str, Dict[str, int]] = dict()\n",
    "    confusion_matrix_dict_ner: Dict[str, Dict[str, int]] = dict()\n",
    "        \n",
    "    original_adf = pd.DataFrame(ast.literal_eval(predicted_text_df.iloc[idx].OriginalADF))\n",
    "    mT5_adf = pd.DataFrame(ast.literal_eval(predicted_text_df.iloc[idx].MT5_OriginalTextADF))\n",
    "    gelectra_adf = pd.DataFrame(ast.literal_eval(predicted_text_df.iloc[idx].GELECTRA_PseudonymizedTextADF))\n",
    "    \n",
    "    for _, row in original_adf.iterrows():\n",
    "        original_label = row.Label\n",
    "        original_token = row.Token\n",
    "        mT5_token_matched = mT5_adf[mT5_adf.Token == original_token]\n",
    "        if not mT5_token_matched.empty:\n",
    "            mT5_label_matched = mT5_token_matched[mT5_token_matched.Label == original_label]\n",
    "            if not mT5_label_matched.empty:\n",
    "                # update ner dictionaries\n",
    "                tp_fp_fn_dict_ner = update_label_dict(tp_fp_fn_dict_ner, original_label, \"TP\", 1)\n",
    "                confusion_matrix_dict_ner = update_confusion_matrix_dict(confusion_matrix_dict_ner, original_label, original_label)\n",
    "                \n",
    "                mT5_pseudonym = mT5_adf.loc[mT5_label_matched.index[0]].Pseudonym\n",
    "                gelectra_token_label_matched = gelectra_adf[\n",
    "                    (gelectra_adf.Token == mT5_pseudonym) & (gelectra_adf.Label == original_label)\n",
    "                ]\n",
    "                if not gelectra_token_label_matched.empty:\n",
    "                    # update pseudonym_quality dictionaries\n",
    "                    tp_fp_fn_dict_pq = update_label_dict(tp_fp_fn_dict_pq, original_label, \"TP\", 1)\n",
    "                    \n",
    "                    gelectra_adf = gelectra_adf.drop(gelectra_token_label_matched.index[0])\n",
    "                else:\n",
    "                    # update pseudonym_quality dictionaries with penalties\n",
    "                    penalty_count += 1\n",
    "                    # print(f'{predicted_text_df.iloc[idx].FilePath} | PENL | {original_label}| FN+FP | {original_token} | {mT5_pseudonym}')\n",
    "                    tp_fp_fn_dict_pq = update_label_dict(tp_fp_fn_dict_pq, original_label, \"FN\", 1)\n",
    "                    tp_fp_fn_dict_pq = update_label_dict(tp_fp_fn_dict_pq, original_label, \"FP\", 1)\n",
    "                    \n",
    "                mT5_adf = mT5_adf.drop(mT5_label_matched.index[0])\n",
    "            else:\n",
    "                # update both ner & pseudonym_quality dictionaries\n",
    "                mT5_label = mT5_adf.loc[mT5_token_matched.index[0]].Label\n",
    "                tp_fp_fn_dict_ner = update_label_dict(tp_fp_fn_dict_ner, original_label, \"FN\", 1)\n",
    "                tp_fp_fn_dict_ner = update_label_dict(tp_fp_fn_dict_ner, mT5_label, \"FP\", 1)\n",
    "                confusion_matrix_dict_ner = update_confusion_matrix_dict(confusion_matrix_dict_ner, original_label, mT5_label)\n",
    "                \n",
    "                tp_fp_fn_dict_pq = update_label_dict(tp_fp_fn_dict_pq, original_label, \"FN\", 1)\n",
    "                tp_fp_fn_dict_pq = update_label_dict(tp_fp_fn_dict_pq, mT5_label, \"FP\", 1)\n",
    "                \n",
    "                mT5_adf = mT5_adf.drop(mT5_token_matched.index[0])\n",
    "        else:\n",
    "            # update both ner & pseudonym_quality dictionaries\n",
    "            # print(f'{predicted_text_df.iloc[idx].FilePath} | INCR | {original_label}| FN | {original_token}')\n",
    "            tp_fp_fn_dict_ner = update_label_dict(tp_fp_fn_dict_ner, original_label, \"FN\", 1)\n",
    "            tp_fp_fn_dict_pq = update_label_dict(tp_fp_fn_dict_pq, original_label, \"FN\", 1)\n",
    "            confusion_matrix_dict_ner = update_confusion_matrix_dict(confusion_matrix_dict_ner, original_label, \"O\")\n",
    "    \n",
    "    original_tokens = original_adf.Token.tolist()\n",
    "    mT5_tokens = mT5_adf.Token.tolist()\n",
    "    mT5_false_positive_tokens = [token for token in mT5_tokens if token not in original_tokens]\n",
    "    for fp_token in mT5_false_positive_tokens:\n",
    "        mT5_fp_filtered = mT5_adf[mT5_adf.Token == fp_token]\n",
    "        fp_label = mT5_adf.loc[mT5_fp_filtered.index[0]].Label\n",
    "        # print(f'{predicted_text_df.iloc[idx].FilePath} | INCR | {fp_label}| FP | {fp_token}')\n",
    "        \n",
    "        # update both ner & pseudonym_quality dictionaries\n",
    "        tp_fp_fn_dict_ner = update_label_dict(tp_fp_fn_dict_ner, fp_label, \"FP\", 1)\n",
    "        tp_fp_fn_dict_pq = update_label_dict(tp_fp_fn_dict_pq, fp_label, \"FP\", 1)\n",
    "        \n",
    "        mT5_adf = mT5_adf.drop(mT5_fp_filtered.index[0])\n",
    "    \n",
    "    tp_fp_fn_dict_pq[\"penalty_count\"] = penalty_count\n",
    "    return {predicted_text_df.iloc[idx].FilePath: (tp_fp_fn_dict_pq, tp_fp_fn_dict_ner, confusion_matrix_dict_ner)}"
   ]
  },
  {
   "cell_type": "code",
   "execution_count": 6,
   "id": "9aafca54",
   "metadata": {},
   "outputs": [],
   "source": [
    "def collect_performance_metrics_dict(max_workers: int = 10) -> Generator[Dict[str, Tuple]]:\n",
    "    with tqdm(total=len(predicted_text_df), smoothing=0) as progress_bar:\n",
    "        with ThreadPoolExecutor(max_workers=max_workers) as executor:\n",
    "            futures = [\n",
    "                executor.submit(prepare_performance_metrics_dict, predicted_text_df, idx, cdp_2022)\n",
    "                for idx in range(0, len(predicted_text_df))\n",
    "            ]\n",
    "            for future in as_completed(futures):\n",
    "                progress_bar.update(1)\n",
    "                yield future.result()"
   ]
  },
  {
   "cell_type": "code",
   "execution_count": 7,
   "id": "28764be9",
   "metadata": {},
   "outputs": [
    {
     "name": "stderr",
     "output_type": "stream",
     "text": [
      "100%|██████████████████████████████████████| 2000/2000 [00:17<00:00, 115.52it/s]\n"
     ]
    }
   ],
   "source": [
    "merged_dict: Dict[str, Tuple] = dict()\n",
    "for result in collect_performance_metrics_dict():\n",
    "    merged_dict.update(result)"
   ]
  },
  {
   "cell_type": "code",
   "execution_count": 8,
   "id": "7d36e6d6",
   "metadata": {},
   "outputs": [],
   "source": [
    "aggregated_tp_fp_fn_dict_pq: Dict[str, Dict[str, int]] = dict()\n",
    "aggregated_tp_fp_fn_dict_ner: Dict[str, Dict[str, int]] = dict()\n",
    "aggregated_confusion_matrix_dict_ner: Dict[str, Dict[str, int]] = dict()\n",
    "\n",
    "for dict_tuple in merged_dict.values():\n",
    "    \n",
    "    tp_fp_fn_dict_pq = dict_tuple[0]\n",
    "    tp_fp_fn_dict_ner = dict_tuple[1]\n",
    "    confusion_matrix_dict_ner = dict_tuple[2]\n",
    "    \n",
    "    for label_key, label_val in tp_fp_fn_dict_pq.items():\n",
    "        if label_key != \"penalty_count\":\n",
    "            agg_lable_dict= aggregated_tp_fp_fn_dict_pq.get(label_key, dict())\n",
    "            for metric_key, metric_value in label_val.items():\n",
    "                agg_metric_value = agg_lable_dict.get(metric_key, 0)\n",
    "                agg_metric_value += metric_value\n",
    "                agg_lable_dict[metric_key] = agg_metric_value\n",
    "            aggregated_tp_fp_fn_dict_pq[label_key] = agg_lable_dict\n",
    "        else:\n",
    "            agg_penalty_count = aggregated_tp_fp_fn_dict_pq.get(label_key, 0)\n",
    "            agg_penalty_count += label_val\n",
    "            aggregated_tp_fp_fn_dict_pq['penalty_count'] = agg_penalty_count\n",
    "    \n",
    "    for label_key, label_val in tp_fp_fn_dict_ner.items():\n",
    "        agg_lable_dict= aggregated_tp_fp_fn_dict_ner.get(label_key, dict())\n",
    "        for metric_key, metric_value in label_val.items():\n",
    "            agg_metric_value = agg_lable_dict.get(metric_key, 0)\n",
    "            agg_metric_value += metric_value\n",
    "            agg_lable_dict[metric_key] = agg_metric_value\n",
    "        aggregated_tp_fp_fn_dict_ner[label_key] = agg_lable_dict\n",
    "    \n",
    "    for label_key, label_val in confusion_matrix_dict_ner.items():\n",
    "        agg_lable_dict= aggregated_confusion_matrix_dict_ner.get(label_key, dict())\n",
    "        for other_label_key, other_label_value in label_val.items():\n",
    "            agg_other_label_value = agg_lable_dict.get(other_label_key, 0)\n",
    "            agg_other_label_value += other_label_value\n",
    "            agg_lable_dict[other_label_key] = agg_other_label_value\n",
    "        aggregated_confusion_matrix_dict_ner[label_key] = agg_lable_dict"
   ]
  },
  {
   "cell_type": "code",
   "execution_count": 9,
   "id": "dab5686b",
   "metadata": {},
   "outputs": [
    {
     "data": {
      "text/plain": [
       "{'FEMALE': {'TP': 205, 'FN': 38, 'FP': 28},\n",
       " 'FAMILY': {'TP': 1694, 'FN': 95, 'FP': 61},\n",
       " 'UFID': {'TP': 158, 'FN': 56, 'FP': 35},\n",
       " 'URL': {'TP': 974, 'FN': 93, 'FP': 31},\n",
       " 'penalty_count': 381,\n",
       " 'STREET': {'TP': 286, 'FN': 23, 'FP': 8},\n",
       " 'STREETNO': {'TP': 266, 'FN': 16, 'FP': 8},\n",
       " 'ZIP': {'TP': 259, 'FP': 29, 'FN': 36},\n",
       " 'CITY': {'TP': 520, 'FN': 67, 'FP': 78},\n",
       " 'PHONE': {'TP': 631, 'FN': 142, 'FP': 88},\n",
       " 'MALE': {'TP': 2530, 'FN': 160, 'FP': 113},\n",
       " 'USER': {'FN': 10, 'TP': 37, 'FP': 13},\n",
       " 'ORG': {'FP': 141, 'FN': 104, 'TP': 116},\n",
       " 'EMAIL': {'FN': 154, 'TP': 736, 'FP': 93},\n",
       " 'DATE': {'FN': 57, 'TP': 419, 'FP': 15}}"
      ]
     },
     "execution_count": 9,
     "metadata": {},
     "output_type": "execute_result"
    }
   ],
   "source": [
    "aggregated_tp_fp_fn_dict_pq"
   ]
  },
  {
   "cell_type": "code",
   "execution_count": 10,
   "id": "86e832a4",
   "metadata": {},
   "outputs": [
    {
     "data": {
      "text/plain": [
       "{'FEMALE': {'TP': 222, 'FP': 11, 'FN': 21},\n",
       " 'FAMILY': {'TP': 1728, 'FN': 61, 'FP': 27},\n",
       " 'UFID': {'TP': 173, 'FN': 41, 'FP': 20},\n",
       " 'URL': {'TP': 994, 'FN': 73, 'FP': 11},\n",
       " 'STREET': {'TP': 288, 'FN': 21, 'FP': 6},\n",
       " 'STREETNO': {'TP': 268, 'FN': 14, 'FP': 6},\n",
       " 'ZIP': {'TP': 287, 'FP': 1, 'FN': 8},\n",
       " 'CITY': {'TP': 540, 'FN': 47, 'FP': 58},\n",
       " 'PHONE': {'TP': 706, 'FN': 67, 'FP': 13},\n",
       " 'MALE': {'TP': 2611, 'FN': 79, 'FP': 32},\n",
       " 'USER': {'FN': 6, 'TP': 41, 'FP': 9},\n",
       " 'ORG': {'FP': 100, 'FN': 63, 'TP': 157},\n",
       " 'EMAIL': {'FN': 117, 'TP': 773, 'FP': 56},\n",
       " 'DATE': {'FN': 52, 'TP': 424, 'FP': 10}}"
      ]
     },
     "execution_count": 10,
     "metadata": {},
     "output_type": "execute_result"
    }
   ],
   "source": [
    "aggregated_tp_fp_fn_dict_ner"
   ]
  },
  {
   "cell_type": "code",
   "execution_count": 11,
   "id": "93182f91",
   "metadata": {},
   "outputs": [
    {
     "data": {
      "text/plain": [
       "{'FEMALE': {'FEMALE': 222, 'O': 16, 'MALE': 4, 'ORG': 1},\n",
       " 'FAMILY': {'FAMILY': 1728, 'O': 46, 'CITY': 4, 'ORG': 4, 'MALE': 7},\n",
       " 'UFID': {'UFID': 173, 'O': 41},\n",
       " 'URL': {'URL': 994, 'O': 72, 'EMAIL': 1},\n",
       " 'STREET': {'STREET': 288, 'O': 17, 'CITY': 1, 'ORG': 2, 'FAMILY': 1},\n",
       " 'STREETNO': {'STREETNO': 268, 'O': 14},\n",
       " 'ZIP': {'ZIP': 287, 'O': 7, 'DATE': 1},\n",
       " 'CITY': {'CITY': 540, 'O': 38, 'ORG': 5, 'MALE': 1, 'FEMALE': 1, 'FAMILY': 2},\n",
       " 'PHONE': {'PHONE': 706, 'O': 64, 'UFID': 2, 'EMAIL': 1},\n",
       " 'MALE': {'MALE': 2611, 'O': 75, 'FEMALE': 2, 'FAMILY': 2},\n",
       " 'USER': {'O': 5, 'USER': 41, 'FAMILY': 1},\n",
       " 'EMAIL': {'O': 117, 'EMAIL': 773},\n",
       " 'DATE': {'O': 52, 'DATE': 424},\n",
       " 'ORG': {'CITY': 10, 'ORG': 157, 'O': 51, 'FAMILY': 2}}"
      ]
     },
     "execution_count": 11,
     "metadata": {},
     "output_type": "execute_result"
    }
   ],
   "source": [
    "aggregated_confusion_matrix_dict_ner"
   ]
  },
  {
   "cell_type": "code",
   "execution_count": 12,
   "id": "72a03ed0",
   "metadata": {},
   "outputs": [],
   "source": [
    "labels = ['CITY', 'DATE', 'EMAIL', 'FAMILY', 'FEMALE', 'MALE', 'ORG', \n",
    "          'PHONE', 'STREET', 'STREETNO', 'UFID', 'URL', 'USER', 'ZIP']"
   ]
  },
  {
   "cell_type": "code",
   "execution_count": 13,
   "id": "6f6cdb22",
   "metadata": {},
   "outputs": [],
   "source": [
    "def prepare_precision_recall_f1_score_dict(aggregated_tp_fp_fn_dict: Dict[str, Dict[str, int]],\n",
    "                                          labels: List[str]) -> Dict[str, Dict[str, Any]]:\n",
    "    \n",
    "    precision_recall_f1_score_dict: Dict[str, Dict[str, Any]] = dict()\n",
    "    \n",
    "    # label wise precision, recall and f1-score\n",
    "    tp = np.array([aggregated_tp_fp_fn_dict[label][\"TP\"] if \"TP\" in aggregated_tp_fp_fn_dict[label] else 0 for label in labels])\n",
    "    fp = np.array([aggregated_tp_fp_fn_dict[label][\"FP\"] if \"FP\" in aggregated_tp_fp_fn_dict[label] else 0 for label in labels])\n",
    "    fn = np.array([aggregated_tp_fp_fn_dict[label][\"FN\"] if \"FN\" in aggregated_tp_fp_fn_dict[label] else 0 for label in labels])\n",
    "    \n",
    "    precision = tp / (tp + fp)\n",
    "    recall = tp / (tp + fn)\n",
    "    f1_score = 2 * (precision * recall) / (precision + recall)\n",
    "    support = tp + fn\n",
    "\n",
    "    precision = np.nan_to_num(precision, nan=0.0)\n",
    "    recall = np.nan_to_num(recall, nan=0.0)\n",
    "    f1_score = np.nan_to_num(f1_score, nan=0.0)\n",
    "\n",
    "    for i in range(len(labels)):\n",
    "        precision_recall_f1_score_dict[labels[i]] = {\n",
    "            \"precision\": round(precision[i], 4),\n",
    "            \"recall\": round(recall[i], 4),\n",
    "            \"f1-score\": round(f1_score[i], 4),\n",
    "            \"support\": support[i]\n",
    "        }\n",
    "    \n",
    "    # micro avg    \n",
    "    total_tp = tp.sum()\n",
    "    total_fp = fp.sum()\n",
    "    total_fn = fn.sum()\n",
    "    \n",
    "    micro_precision = total_tp / (total_tp + total_fp)\n",
    "    micro_recall = total_tp / (total_tp + total_fn)\n",
    "    micro_f1_score = 2 * (micro_precision * micro_recall) / (micro_precision + micro_recall)\n",
    "    \n",
    "    precision_recall_f1_score_dict[\"micro avg\"] = {\n",
    "        \"precision\": round(micro_precision, 4),\n",
    "        \"recall\": round(micro_recall, 4),\n",
    "        \"f1-score\": round(micro_f1_score, 4),\n",
    "        \"support\": support.sum()\n",
    "    }\n",
    "\n",
    "    # macro avg\n",
    "    macro_precision = precision.mean()\n",
    "    macro_recall = recall.mean()\n",
    "    macro_f1_score = f1_score.mean()\n",
    "    \n",
    "    precision_recall_f1_score_dict[\"macro avg\"] = {\n",
    "        \"precision\": round(macro_precision, 4),\n",
    "        \"recall\": round(macro_recall, 4),\n",
    "        \"f1-score\": round(macro_f1_score, 4),\n",
    "        \"support\": support.sum()\n",
    "    }\n",
    "\n",
    "    # weighted avg\n",
    "    weighted_precision = np.average(precision, weights=support)\n",
    "    weighted_recall = np.average(recall, weights=support)\n",
    "    weighted_f1_score = np.average(f1_score, weights=support)\n",
    "\n",
    "    precision_recall_f1_score_dict[\"weighted avg\"] = {\n",
    "        \"precision\": round(weighted_precision, 4),\n",
    "        \"recall\": round(weighted_recall, 4),\n",
    "        \"f1-score\": round(weighted_f1_score, 4),\n",
    "        \"support\": support.sum()\n",
    "    }\n",
    "    \n",
    "    return precision_recall_f1_score_dict"
   ]
  },
  {
   "cell_type": "code",
   "execution_count": 14,
   "id": "c10aecbe",
   "metadata": {},
   "outputs": [],
   "source": [
    "precision_recall_f1_score_dict_ner = prepare_precision_recall_f1_score_dict(aggregated_tp_fp_fn_dict_ner, labels)"
   ]
  },
  {
   "cell_type": "code",
   "execution_count": 15,
   "id": "bf2bada7",
   "metadata": {},
   "outputs": [
    {
     "name": "stdout",
     "output_type": "stream",
     "text": [
      "{'CITY': {'precision': 0.903, 'recall': 0.9199, 'f1-score': 0.9114, 'support': 587}, 'DATE': {'precision': 0.977, 'recall': 0.8908, 'f1-score': 0.9319, 'support': 476}, 'EMAIL': {'precision': 0.9324, 'recall': 0.8685, 'f1-score': 0.8994, 'support': 890}, 'FAMILY': {'precision': 0.9846, 'recall': 0.9659, 'f1-score': 0.9752, 'support': 1789}, 'FEMALE': {'precision': 0.9528, 'recall': 0.9136, 'f1-score': 0.9328, 'support': 243}, 'MALE': {'precision': 0.9879, 'recall': 0.9706, 'f1-score': 0.9792, 'support': 2690}, 'ORG': {'precision': 0.6109, 'recall': 0.7136, 'f1-score': 0.6583, 'support': 220}, 'PHONE': {'precision': 0.9819, 'recall': 0.9133, 'f1-score': 0.9464, 'support': 773}, 'STREET': {'precision': 0.9796, 'recall': 0.932, 'f1-score': 0.9552, 'support': 309}, 'STREETNO': {'precision': 0.9781, 'recall': 0.9504, 'f1-score': 0.964, 'support': 282}, 'UFID': {'precision': 0.8964, 'recall': 0.8084, 'f1-score': 0.8501, 'support': 214}, 'URL': {'precision': 0.9891, 'recall': 0.9316, 'f1-score': 0.9595, 'support': 1067}, 'USER': {'precision': 0.82, 'recall': 0.8723, 'f1-score': 0.8454, 'support': 47}, 'ZIP': {'precision': 0.9965, 'recall': 0.9729, 'f1-score': 0.9846, 'support': 295}, 'micro avg': {'precision': 0.9624, 'recall': 0.9322, 'f1-score': 0.9471, 'support': 9882}, 'macro avg': {'precision': 0.9279, 'recall': 0.9017, 'f1-score': 0.9138, 'support': 9882}, 'weighted avg': {'precision': 0.9641, 'recall': 0.9322, 'f1-score': 0.9475, 'support': 9882}}\n"
     ]
    }
   ],
   "source": [
    "print(precision_recall_f1_score_dict_ner)"
   ]
  },
  {
   "cell_type": "code",
   "execution_count": 16,
   "id": "d7fbf4c8",
   "metadata": {},
   "outputs": [],
   "source": [
    "precision_recall_f1_score_dict_pq = prepare_precision_recall_f1_score_dict(aggregated_tp_fp_fn_dict_pq, labels)"
   ]
  },
  {
   "cell_type": "code",
   "execution_count": 17,
   "id": "7c398e39",
   "metadata": {},
   "outputs": [
    {
     "name": "stdout",
     "output_type": "stream",
     "text": [
      "{'CITY': {'precision': 0.8696, 'recall': 0.8859, 'f1-score': 0.8776, 'support': 587}, 'DATE': {'precision': 0.9654, 'recall': 0.8803, 'f1-score': 0.9209, 'support': 476}, 'EMAIL': {'precision': 0.8878, 'recall': 0.827, 'f1-score': 0.8563, 'support': 890}, 'FAMILY': {'precision': 0.9652, 'recall': 0.9469, 'f1-score': 0.956, 'support': 1789}, 'FEMALE': {'precision': 0.8798, 'recall': 0.8436, 'f1-score': 0.8613, 'support': 243}, 'MALE': {'precision': 0.9572, 'recall': 0.9405, 'f1-score': 0.9488, 'support': 2690}, 'ORG': {'precision': 0.4514, 'recall': 0.5273, 'f1-score': 0.4864, 'support': 220}, 'PHONE': {'precision': 0.8776, 'recall': 0.8163, 'f1-score': 0.8458, 'support': 773}, 'STREET': {'precision': 0.9728, 'recall': 0.9256, 'f1-score': 0.9486, 'support': 309}, 'STREETNO': {'precision': 0.9708, 'recall': 0.9433, 'f1-score': 0.9568, 'support': 282}, 'UFID': {'precision': 0.8187, 'recall': 0.7383, 'f1-score': 0.7764, 'support': 214}, 'URL': {'precision': 0.9692, 'recall': 0.9128, 'f1-score': 0.9402, 'support': 1067}, 'USER': {'precision': 0.74, 'recall': 0.7872, 'f1-score': 0.7629, 'support': 47}, 'ZIP': {'precision': 0.8993, 'recall': 0.878, 'f1-score': 0.8885, 'support': 295}, 'micro avg': {'precision': 0.9226, 'recall': 0.8936, 'f1-score': 0.9079, 'support': 9882}, 'macro avg': {'precision': 0.8732, 'recall': 0.8466, 'f1-score': 0.859, 'support': 9882}, 'weighted avg': {'precision': 0.9246, 'recall': 0.8936, 'f1-score': 0.9086, 'support': 9882}}\n"
     ]
    }
   ],
   "source": [
    "print(precision_recall_f1_score_dict_pq)"
   ]
  },
  {
   "cell_type": "code",
   "execution_count": 18,
   "id": "15fe58fc",
   "metadata": {},
   "outputs": [],
   "source": [
    "def plot_ner_confusion_matrix(aggregated_confusion_matrix_dict: Dict[str, Dict[str, int]]) -> None:\n",
    "    \n",
    "    plots_dir = \"plots\"\n",
    "    os.makedirs(plots_dir, exist_ok=True)\n",
    "    \n",
    "    all_labels = sorted(\n",
    "        set(pred for true in aggregated_confusion_matrix_dict for pred in aggregated_confusion_matrix_dict[true].keys())\n",
    "    )\n",
    "    # move 'O' to the end\n",
    "    all_labels.remove('O')\n",
    "    all_labels.append('O')\n",
    "    \n",
    "    # get true labels, excluding 'O'\n",
    "    true_labels = sorted([label for label in aggregated_confusion_matrix_dict.keys() if label != 'O'])\n",
    "\n",
    "    # initialize dataframe: rows exclude 'O', columns ordered with 'O' last\n",
    "    conf_matrix = pd.DataFrame(0, index=true_labels, columns=all_labels)\n",
    "\n",
    "    # fill in the counts\n",
    "    for true_label in aggregated_confusion_matrix_dict:\n",
    "        if true_label != 'O':\n",
    "            for pred_label, count in aggregated_confusion_matrix_dict[true_label].items():\n",
    "                conf_matrix.loc[true_label, pred_label] = count\n",
    "    \n",
    "    # set up the plot\n",
    "    plt.figure(figsize=(8.5, 5))\n",
    "    # sns.set(font_scale=1.2)\n",
    "\n",
    "    ax = sns.heatmap(\n",
    "        conf_matrix,\n",
    "        annot=True,\n",
    "        fmt='d',\n",
    "        cmap='YlOrRd',\n",
    "        cbar_kws={'label': 'Count', 'shrink': 0.8, 'pad': 0.03},\n",
    "        linewidths=1,\n",
    "        linecolor='gray',\n",
    "        annot_kws={\"size\": 10, \"weight\": \"bold\"}\n",
    "    )\n",
    "\n",
    "    ax.xaxis.set_label_position('top')\n",
    "    ax.xaxis.tick_top()\n",
    "\n",
    "    plt.xlabel('Predicted Label', fontsize=14, labelpad=5)\n",
    "    plt.ylabel('True Label', fontsize=14)\n",
    "\n",
    "    ax.set_xticklabels(ax.get_xticklabels(), rotation=55, ha='left')\n",
    "    ax.set_yticklabels(ax.get_yticklabels(), rotation=0)\n",
    "    \n",
    "    plot_file_ext = \"pdf\"\n",
    "    plot_name = f\"confusion_matrix_of_ner_pg_model_predictions_on_10K_k{k}\"\n",
    "    plot_file_name = f\"{plot_name}.{plot_file_ext}\"\n",
    "    plot_file_path = os.path.join(plots_dir, plot_file_name)\n",
    "    plt.savefig(plot_file_path, format=plot_file_ext, dpi=600, bbox_inches='tight')\n",
    "\n",
    "    plt.tight_layout()\n",
    "\n",
    "    plt.show()"
   ]
  },
  {
   "cell_type": "code",
   "execution_count": 19,
   "id": "22ccedfe",
   "metadata": {},
   "outputs": [
    {
     "data": {
      "image/png": "[encoded data removed]",
      "text/plain": [
       "<Figure size 612x360 with 2 Axes>"
      ]
     },
     "metadata": {
      "needs_background": "light"
     },
     "output_type": "display_data"
    }
   ],
   "source": [
    "plot_ner_confusion_matrix(aggregated_confusion_matrix_dict_ner)"
   ]
  },
  {
   "cell_type": "code",
   "execution_count": 20,
   "id": "64293759",
   "metadata": {},
   "outputs": [],
   "source": [
    "# files_with_penalty = list()\n",
    "# for fp, dict_tuple in merged_dict.items():\n",
    "#     file_d = dict_tuple[0]\n",
    "#     if \"penalty_count\" in file_d and file_d[\"penalty_count\"] > 0:\n",
    "#         files_with_penalty.append(fp)"
   ]
  },
  {
   "cell_type": "code",
   "execution_count": 21,
   "id": "1e575ff1",
   "metadata": {
    "scrolled": false
   },
   "outputs": [],
   "source": [
    "# len(files_with_penalty)"
   ]
  },
  {
   "cell_type": "code",
   "execution_count": 22,
   "id": "9ebd0abe",
   "metadata": {},
   "outputs": [],
   "source": [
    "# fp = files_with_penalty[56]\n",
    "# fp = 'CodEAlltag_pXL_GERMAN/1-/16-/166201.txt'\n",
    "# filtered = predicted_text_df[predicted_text_df.FilePath==fp]\n",
    "# display(pd.DataFrame(ast.literal_eval(filtered.MT5_OriginalTextADF.values[0])))"
   ]
  },
  {
   "cell_type": "code",
   "execution_count": 23,
   "id": "c86b4b02",
   "metadata": {},
   "outputs": [],
   "source": [
    "# print(filtered['PseudonymizedText'].values[0])"
   ]
  },
  {
   "cell_type": "code",
   "execution_count": 24,
   "id": "a99a4f27",
   "metadata": {},
   "outputs": [],
   "source": [
    "# pd.DataFrame(ast.literal_eval(filtered.GELECTRA_PseudonymizedTextADF.values[0]))"
   ]
  },
  {
   "cell_type": "code",
   "execution_count": 25,
   "id": "b91002e6",
   "metadata": {},
   "outputs": [],
   "source": [
    "# cdp_2022.get_annotation_df_by_file(fp).drop(columns=\"FilePath\")"
   ]
  },
  {
   "cell_type": "code",
   "execution_count": 26,
   "id": "72429ffd",
   "metadata": {},
   "outputs": [],
   "source": [
    "# print(cdp_2022.read_email(fp)[1])"
   ]
  }
 ],
 "metadata": {
  "kernelspec": {
   "display_name": "Python 3 (ipykernel)",
   "language": "python",
   "name": "python3"
  },
  "language_info": {
   "codemirror_mode": {
    "name": "ipython",
    "version": 3
   },
   "file_extension": ".py",
   "mimetype": "text/x-python",
   "name": "python",
   "nbconvert_exporter": "python",
   "pygments_lexer": "ipython3",
   "version": "3.9.10"
  }
 },
 "nbformat": 4,
 "nbformat_minor": 5
}
