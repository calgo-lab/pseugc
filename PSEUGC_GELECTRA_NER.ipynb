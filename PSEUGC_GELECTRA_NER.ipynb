{
 "cells": [
  {
   "cell_type": "code",
   "execution_count": 1,
   "id": "d562e706",
   "metadata": {},
   "outputs": [
    {
     "name": "stdout",
     "output_type": "stream",
     "text": [
      "Thu Feb  6 15:30:15 2025       \r\n",
      "+-----------------------------------------------------------------------------------------+\r\n",
      "| NVIDIA-SMI 550.127.08             Driver Version: 550.127.08     CUDA Version: 12.4     |\r\n",
      "|-----------------------------------------+------------------------+----------------------+\r\n",
      "| GPU  Name                 Persistence-M | Bus-Id          Disp.A | Volatile Uncorr. ECC |\r\n",
      "| Fan  Temp   Perf          Pwr:Usage/Cap |           Memory-Usage | GPU-Util  Compute M. |\r\n",
      "|                                         |                        |               MIG M. |\r\n",
      "|=========================================+========================+======================|\r\n",
      "|   0  Tesla V100S-PCIE-32GB          On  |   00000000:81:00.0 Off |                    0 |\r\n",
      "| N/A   28C    P0             24W /  250W |       1MiB /  32768MiB |      0%      Default |\r\n",
      "|                                         |                        |                  N/A |\r\n",
      "+-----------------------------------------+------------------------+----------------------+\r\n",
      "                                                                                         \r\n",
      "+-----------------------------------------------------------------------------------------+\r\n",
      "| Processes:                                                                              |\r\n",
      "|  GPU   GI   CI        PID   Type   Process name                              GPU Memory |\r\n",
      "|        ID   ID                                                               Usage      |\r\n",
      "|=========================================================================================|\r\n",
      "|  No running processes found                                                             |\r\n",
      "+-----------------------------------------------------------------------------------------+\r\n"
     ]
    }
   ],
   "source": [
    "!nvidia-smi"
   ]
  },
  {
   "cell_type": "code",
   "execution_count": 2,
   "id": "c3863314",
   "metadata": {},
   "outputs": [],
   "source": [
    "import flair\n",
    "import matplotlib.pyplot as plt\n",
    "import os\n",
    "import pandas as pd\n",
    "\n",
    "from codealltag_data_processor_v2025 import CodealltagDataProcessor\n",
    "from flair.data import Corpus, Dictionary, Sentence\n",
    "from flair.datasets import ColumnCorpus\n",
    "from flair.embeddings import (\n",
    "    BytePairEmbeddings,\n",
    "    StackedEmbeddings,\n",
    "    TokenEmbeddings,\n",
    "    TransformerWordEmbeddings,\n",
    "    WordEmbeddings    \n",
    ")\n",
    "from flair.models import SequenceTagger\n",
    "from flair.nn import Model\n",
    "from flair.trainers import ModelTrainer\n",
    "from pathlib import Path"
   ]
  },
  {
   "cell_type": "code",
   "execution_count": 3,
   "id": "40816482",
   "metadata": {},
   "outputs": [],
   "source": [
    "flair.cache_root = Path(os.path.join(*['/home', 's81481', '.flair']))"
   ]
  },
  {
   "cell_type": "code",
   "execution_count": 4,
   "id": "0fc4264a",
   "metadata": {},
   "outputs": [],
   "source": [
    "cdp_2022 = CodealltagDataProcessor(data_version='20220513', config_path=['codealltag_data_processor.yml'])\n",
    "cdp_2020 = CodealltagDataProcessor(data_version='20200518', config_path=['codealltag_data_processor.yml'])"
   ]
  },
  {
   "cell_type": "code",
   "execution_count": 5,
   "id": "1c8d844c",
   "metadata": {},
   "outputs": [],
   "source": [
    "sample_size = 10_000\n",
    "k = 5"
   ]
  },
  {
   "cell_type": "code",
   "execution_count": 6,
   "id": "7f340fe4",
   "metadata": {},
   "outputs": [],
   "source": [
    "model_dir_path = os.path.join(*[\"logs\", \"GELECTRA\", \"NER\", str(sample_size//1000)+\"K\", \"k\"+str(k)])\n",
    "os.makedirs(model_dir_path, exist_ok=True)"
   ]
  },
  {
   "cell_type": "code",
   "execution_count": 7,
   "id": "14582556",
   "metadata": {},
   "outputs": [],
   "source": [
    "dataset = cdp_2022.get_train_dev_test_datasetdict_for_sample_size(cdp_2020, sample_size, k)"
   ]
  },
  {
   "cell_type": "code",
   "execution_count": 8,
   "id": "e8563aa3",
   "metadata": {},
   "outputs": [],
   "source": [
    "tmp_data_dir = Path(\"tmp_data_dir\")\n",
    "tmp_data_dir.mkdir(parents=True, exist_ok=True)\n",
    "for file in tmp_data_dir.glob(\"*\"):\n",
    "    if file.is_file():\n",
    "        file.unlink()"
   ]
  },
  {
   "cell_type": "code",
   "execution_count": 9,
   "id": "93b9bfa6",
   "metadata": {},
   "outputs": [],
   "source": [
    "train_df = dataset[\"train\"].to_pandas()\n",
    "dev_df = dataset[\"dev\"].to_pandas()\n",
    "test_df = dataset[\"test\"].to_pandas()"
   ]
  },
  {
   "cell_type": "code",
   "execution_count": 10,
   "id": "9c156bab",
   "metadata": {},
   "outputs": [],
   "source": [
    "train_text = train_df.InputType1.str.cat(sep=\"\\n\")\n",
    "dev_text = dev_df.InputType1.str.cat(sep=\"\\n\")\n",
    "test_text = test_df.InputType1.str.cat(sep=\"\\n\")"
   ]
  },
  {
   "cell_type": "code",
   "execution_count": 11,
   "id": "4d1900df",
   "metadata": {},
   "outputs": [],
   "source": [
    "with open(os.path.join(tmp_data_dir, \"train.txt\"), \"w\", encoding=\"utf-8\") as writer:        \n",
    "    writer.write(train_text)\n",
    "\n",
    "with open(os.path.join(tmp_data_dir, \"dev.txt\"), \"w\", encoding=\"utf-8\") as writer:        \n",
    "    writer.write(dev_text)\n",
    "    \n",
    "with open(os.path.join(tmp_data_dir, \"test.txt\"), \"w\", encoding=\"utf-8\") as writer:        \n",
    "    writer.write(test_text)"
   ]
  },
  {
   "cell_type": "code",
   "execution_count": 12,
   "id": "a7a466da",
   "metadata": {
    "scrolled": true
   },
   "outputs": [
    {
     "name": "stdout",
     "output_type": "stream",
     "text": [
      "total 4404\r\n",
      "drwxr-xr-x 2 root root       3 Feb  6 15:33 .\r\n",
      "drwxr-xr-x 7 root root      19 Feb  6 15:32 ..\r\n",
      "-rw-r--r-- 1 root root  709147 Feb  6 15:33 dev.txt\r\n",
      "-rw-r--r-- 1 root root  927496 Feb  6 15:33 test.txt\r\n",
      "-rw-r--r-- 1 root root 2871907 Feb  6 15:33 train.txt\r\n"
     ]
    }
   ],
   "source": [
    "!ls -la tmp_data_dir"
   ]
  },
  {
   "cell_type": "code",
   "execution_count": 13,
   "id": "159cef5b",
   "metadata": {
    "scrolled": true
   },
   "outputs": [
    {
     "name": "stdout",
     "output_type": "stream",
     "text": [
      "2025-02-06 15:33:00,714 Reading data from tmp_data_dir\n",
      "2025-02-06 15:33:00,714 Train: tmp_data_dir/train.txt\n",
      "2025-02-06 15:33:00,714 Dev: tmp_data_dir/dev.txt\n",
      "2025-02-06 15:33:00,715 Test: tmp_data_dir/test.txt\n"
     ]
    }
   ],
   "source": [
    "corpus: Corpus = ColumnCorpus(tmp_data_dir, {0: 'text', 1: 'ner'})"
   ]
  },
  {
   "cell_type": "code",
   "execution_count": 14,
   "id": "aa6582e2",
   "metadata": {
    "scrolled": false
   },
   "outputs": [
    {
     "name": "stdout",
     "output_type": "stream",
     "text": [
      "2025-02-06 15:33:07,906 Computing label dictionary. Progress:\n"
     ]
    },
    {
     "name": "stderr",
     "output_type": "stream",
     "text": [
      "6400it [00:00, 26970.06it/s]"
     ]
    },
    {
     "name": "stdout",
     "output_type": "stream",
     "text": [
      "2025-02-06 15:33:08,195 Dictionary created for label 'ner' with 15 values: MALE (seen 8689 times), FAMILY (seen 5832 times), URL (seen 3273 times), EMAIL (seen 2692 times), PHONE (seen 2265 times), CITY (seen 2034 times), DATE (seen 1457 times), STREET (seen 967 times), ZIP (seen 964 times), STREETNO (seen 913 times), FEMALE (seen 887 times), UFID (seen 726 times), ORG (seen 660 times), USER (seen 146 times)\n"
     ]
    },
    {
     "name": "stderr",
     "output_type": "stream",
     "text": [
      "\n"
     ]
    }
   ],
   "source": [
    "label_dict: Dictionary = corpus.make_label_dictionary(label_type=\"ner\")"
   ]
  },
  {
   "cell_type": "code",
   "execution_count": 15,
   "id": "e68514b2",
   "metadata": {},
   "outputs": [
    {
     "name": "stdout",
     "output_type": "stream",
     "text": [
      "[b'<unk>', b'MALE', b'FAMILY', b'URL', b'EMAIL', b'PHONE', b'CITY', b'DATE', b'STREET', b'ZIP', b'STREETNO', b'FEMALE', b'UFID', b'ORG', b'USER']\n"
     ]
    }
   ],
   "source": [
    "print(label_dict.idx2item)"
   ]
  },
  {
   "cell_type": "code",
   "execution_count": 16,
   "id": "86de50b7",
   "metadata": {
    "scrolled": true
   },
   "outputs": [
    {
     "name": "stderr",
     "output_type": "stream",
     "text": [
      "/home/s81481/pseugc/lib/python3.9/site-packages/transformers/modeling_utils.py:349: FutureWarning: You are using `torch.load` with `weights_only=False` (the current default value), which uses the default pickle module implicitly. It is possible to construct malicious pickle data which will execute arbitrary code during unpickling (See https://github.com/pytorch/pytorch/blob/main/SECURITY.md#untrusted-models for more details). In a future release, the default value for `weights_only` will be flipped to `True`. This limits the functions that could be executed during unpickling. Arbitrary objects will no longer be allowed to be loaded via this mode unless they are explicitly allowlisted by the user via `torch.serialization.add_safe_globals`. We recommend you start setting `weights_only=True` for any use case where you don't have full control of the loaded file. Please open an issue on GitHub for any issues related to this experimental feature.\n",
      "  return torch.load(checkpoint_file, map_location=\"cpu\")\n"
     ]
    }
   ],
   "source": [
    "embeddings: TokenEmbeddings = StackedEmbeddings(\n",
    "    [\n",
    "        BytePairEmbeddings(\"de\", dim=100),\n",
    "        WordEmbeddings(\"de-crawl\"),\n",
    "        TransformerWordEmbeddings(\n",
    "            model=\"deepset/gelectra-large\",\n",
    "            layers=\"-1\",\n",
    "            subtoken_pooling=\"first\",\n",
    "            use_context=True,\n",
    "            fine_tune=True\n",
    "        )\n",
    "    ]\n",
    ")"
   ]
  },
  {
   "cell_type": "code",
   "execution_count": 17,
   "id": "70456058",
   "metadata": {
    "scrolled": true
   },
   "outputs": [
    {
     "name": "stdout",
     "output_type": "stream",
     "text": [
      "2025-02-06 15:33:32,605 SequenceTagger predicts: Dictionary with 57 tags: O, S-MALE, B-MALE, E-MALE, I-MALE, S-FAMILY, B-FAMILY, E-FAMILY, I-FAMILY, S-URL, B-URL, E-URL, I-URL, S-EMAIL, B-EMAIL, E-EMAIL, I-EMAIL, S-PHONE, B-PHONE, E-PHONE, I-PHONE, S-CITY, B-CITY, E-CITY, I-CITY, S-DATE, B-DATE, E-DATE, I-DATE, S-STREET, B-STREET, E-STREET, I-STREET, S-ZIP, B-ZIP, E-ZIP, I-ZIP, S-STREETNO, B-STREETNO, E-STREETNO, I-STREETNO, S-FEMALE, B-FEMALE, E-FEMALE, I-FEMALE, S-UFID, B-UFID, E-UFID, I-UFID, S-ORG\n"
     ]
    }
   ],
   "source": [
    "tagger: SequenceTagger = SequenceTagger(\n",
    "    hidden_size=256,\n",
    "    embeddings=embeddings,\n",
    "    tag_dictionary=label_dict,\n",
    "    tag_type=\"ner\",\n",
    "    use_crf=False,\n",
    "    use_rnn=False,\n",
    "    reproject_embeddings=False\n",
    ")\n",
    "tagger.label_dictionary.add_unk = True"
   ]
  },
  {
   "cell_type": "code",
   "execution_count": 19,
   "id": "4ab28e1e",
   "metadata": {},
   "outputs": [],
   "source": [
    "trainer: ModelTrainer = ModelTrainer(tagger, corpus)"
   ]
  },
  {
   "cell_type": "code",
   "execution_count": 20,
   "id": "367dfdc5",
   "metadata": {},
   "outputs": [
    {
     "name": "stdout",
     "output_type": "stream",
     "text": [
      "2025-02-06 15:43:02,162 tensorboard logging path is logs/GELECTRA/NER/10K/k5\n",
      "2025-02-06 15:43:09,733 ----------------------------------------------------------------------------------------------------\n",
      "2025-02-06 15:43:09,738 Model: \"SequenceTagger(\n",
      "  (embeddings): StackedEmbeddings(\n",
      "    (list_embedding_0): BytePairEmbeddings(model=0-bpe-de-100000-100)\n",
      "    (list_embedding_1): WordEmbeddings(\n",
      "      'de-crawl'\n",
      "      (embedding): Embedding(1000000, 300)\n",
      "    )\n",
      "    (list_embedding_2): TransformerWordEmbeddings(\n",
      "      (model): ElectraModel(\n",
      "        (embeddings): ElectraEmbeddings(\n",
      "          (word_embeddings): Embedding(31102, 1024, padding_idx=0)\n",
      "          (position_embeddings): Embedding(512, 1024)\n",
      "          (token_type_embeddings): Embedding(2, 1024)\n",
      "          (LayerNorm): LayerNorm((1024,), eps=1e-12, elementwise_affine=True)\n",
      "          (dropout): Dropout(p=0.1, inplace=False)\n",
      "        )\n",
      "        (encoder): ElectraEncoder(\n",
      "          (layer): ModuleList(\n",
      "            (0-23): 24 x ElectraLayer(\n",
      "              (attention): ElectraAttention(\n",
      "                (self): ElectraSelfAttention(\n",
      "                  (query): Linear(in_features=1024, out_features=1024, bias=True)\n",
      "                  (key): Linear(in_features=1024, out_features=1024, bias=True)\n",
      "                  (value): Linear(in_features=1024, out_features=1024, bias=True)\n",
      "                  (dropout): Dropout(p=0.1, inplace=False)\n",
      "                )\n",
      "                (output): ElectraSelfOutput(\n",
      "                  (dense): Linear(in_features=1024, out_features=1024, bias=True)\n",
      "                  (LayerNorm): LayerNorm((1024,), eps=1e-12, elementwise_affine=True)\n",
      "                  (dropout): Dropout(p=0.1, inplace=False)\n",
      "                )\n",
      "              )\n",
      "              (intermediate): ElectraIntermediate(\n",
      "                (dense): Linear(in_features=1024, out_features=4096, bias=True)\n",
      "                (intermediate_act_fn): GELUActivation()\n",
      "              )\n",
      "              (output): ElectraOutput(\n",
      "                (dense): Linear(in_features=4096, out_features=1024, bias=True)\n",
      "                (LayerNorm): LayerNorm((1024,), eps=1e-12, elementwise_affine=True)\n",
      "                (dropout): Dropout(p=0.1, inplace=False)\n",
      "              )\n",
      "            )\n",
      "          )\n",
      "        )\n",
      "      )\n",
      "    )\n",
      "  )\n",
      "  (word_dropout): WordDropout(p=0.05)\n",
      "  (locked_dropout): LockedDropout(p=0.5)\n",
      "  (linear): Linear(in_features=1524, out_features=57, bias=True)\n",
      "  (loss_function): CrossEntropyLoss()\n",
      ")\"\n",
      "2025-02-06 15:43:09,739 ----------------------------------------------------------------------------------------------------\n",
      "2025-02-06 15:43:09,739 Corpus: \"Corpus: 6400 train + 1600 dev + 2000 test sentences\"\n",
      "2025-02-06 15:43:09,740 ----------------------------------------------------------------------------------------------------\n",
      "2025-02-06 15:43:09,740 Parameters:\n",
      "2025-02-06 15:43:09,740  - learning_rate: \"0.000005\"\n",
      "2025-02-06 15:43:09,741  - mini_batch_size: \"4\"\n",
      "2025-02-06 15:43:09,741  - patience: \"3\"\n",
      "2025-02-06 15:43:09,741  - anneal_factor: \"0.5\"\n",
      "2025-02-06 15:43:09,741  - max_epochs: \"15\"\n",
      "2025-02-06 15:43:09,742  - shuffle: \"True\"\n",
      "2025-02-06 15:43:09,742  - train_with_dev: \"False\"\n",
      "2025-02-06 15:43:09,742  - batch_growth_annealing: \"False\"\n",
      "2025-02-06 15:43:09,743 ----------------------------------------------------------------------------------------------------\n",
      "2025-02-06 15:43:09,743 Model training base path: \"logs/GELECTRA/NER/10K/k5\"\n",
      "2025-02-06 15:43:09,743 ----------------------------------------------------------------------------------------------------\n",
      "2025-02-06 15:43:09,744 Device: cuda:0\n",
      "2025-02-06 15:43:09,744 ----------------------------------------------------------------------------------------------------\n",
      "2025-02-06 15:43:09,744 Embeddings storage mode: none\n",
      "2025-02-06 15:43:09,744 ----------------------------------------------------------------------------------------------------\n",
      "2025-02-06 15:44:26,602 epoch 1 - iter 160/1600 - loss 4.29449878 - samples/sec: 8.33 - lr: 0.000000\n",
      "2025-02-06 15:45:36,185 epoch 1 - iter 320/1600 - loss 4.20914406 - samples/sec: 9.24 - lr: 0.000001\n",
      "2025-02-06 15:46:32,369 epoch 1 - iter 480/1600 - loss 3.89952521 - samples/sec: 11.44 - lr: 0.000001\n",
      "2025-02-06 15:47:24,191 epoch 1 - iter 640/1600 - loss 3.37519676 - samples/sec: 12.41 - lr: 0.000001\n",
      "2025-02-06 15:48:20,274 epoch 1 - iter 800/1600 - loss 3.03996671 - samples/sec: 11.47 - lr: 0.000002\n",
      "2025-02-06 15:49:15,680 epoch 1 - iter 960/1600 - loss 2.73624244 - samples/sec: 11.61 - lr: 0.000002\n",
      "2025-02-06 15:50:13,776 epoch 1 - iter 1120/1600 - loss 2.37462684 - samples/sec: 11.07 - lr: 0.000002\n",
      "2025-02-06 15:51:18,131 epoch 1 - iter 1280/1600 - loss 2.08928426 - samples/sec: 9.99 - lr: 0.000003\n",
      "2025-02-06 15:52:23,580 epoch 1 - iter 1440/1600 - loss 1.90306093 - samples/sec: 9.82 - lr: 0.000003\n",
      "2025-02-06 15:53:28,050 epoch 1 - iter 1600/1600 - loss 1.73157298 - samples/sec: 9.97 - lr: 0.000003\n",
      "2025-02-06 15:53:28,314 saving model of current epoch\n",
      "2025-02-06 15:53:34,347 ----------------------------------------------------------------------------------------------------\n",
      "2025-02-06 15:53:34,348 EPOCH 1 done: loss 1.7316 - lr 0.000003\n"
     ]
    },
    {
     "name": "stderr",
     "output_type": "stream",
     "text": [
      "100%|█████████████████████████████████████████| 400/400 [01:16<00:00,  5.23it/s]"
     ]
    },
    {
     "name": "stdout",
     "output_type": "stream",
     "text": [
      "2025-02-06 15:54:50,861 Evaluating as a multi-label problem: False\n"
     ]
    },
    {
     "name": "stderr",
     "output_type": "stream",
     "text": [
      "\n"
     ]
    },
    {
     "name": "stdout",
     "output_type": "stream",
     "text": [
      "2025-02-06 15:54:50,944 DEV : loss 0.23784247040748596 - f1-score (micro avg)  0.6801\n",
      "2025-02-06 15:54:50,992 BAD EPOCHS (no improvement): 4\n",
      "2025-02-06 15:55:01,330 saving best model\n",
      "2025-02-06 15:55:12,714 ----------------------------------------------------------------------------------------------------\n",
      "2025-02-06 15:56:15,055 epoch 2 - iter 160/1600 - loss 0.47842747 - samples/sec: 10.27 - lr: 0.000004\n",
      "2025-02-06 15:57:15,887 epoch 2 - iter 320/1600 - loss 0.45097430 - samples/sec: 10.57 - lr: 0.000004\n",
      "2025-02-06 15:58:19,181 epoch 2 - iter 480/1600 - loss 0.42453513 - samples/sec: 10.16 - lr: 0.000004\n",
      "2025-02-06 15:59:24,384 epoch 2 - iter 640/1600 - loss 0.40568109 - samples/sec: 9.86 - lr: 0.000005\n",
      "2025-02-06 16:00:26,327 epoch 2 - iter 800/1600 - loss 0.39101080 - samples/sec: 10.38 - lr: 0.000005\n",
      "2025-02-06 16:01:30,590 epoch 2 - iter 960/1600 - loss 0.37599008 - samples/sec: 10.00 - lr: 0.000005\n",
      "2025-02-06 16:02:32,029 epoch 2 - iter 1120/1600 - loss 0.36416642 - samples/sec: 10.46 - lr: 0.000005\n",
      "2025-02-06 16:03:38,465 epoch 2 - iter 1280/1600 - loss 0.35403922 - samples/sec: 9.67 - lr: 0.000005\n",
      "2025-02-06 16:04:40,188 epoch 2 - iter 1440/1600 - loss 0.34596851 - samples/sec: 10.42 - lr: 0.000005\n",
      "2025-02-06 16:05:41,493 epoch 2 - iter 1600/1600 - loss 0.33887400 - samples/sec: 10.49 - lr: 0.000005\n",
      "2025-02-06 16:05:41,780 saving model of current epoch\n",
      "2025-02-06 16:05:52,960 ----------------------------------------------------------------------------------------------------\n",
      "2025-02-06 16:05:52,962 EPOCH 2 done: loss 0.3389 - lr 0.000005\n"
     ]
    },
    {
     "name": "stderr",
     "output_type": "stream",
     "text": [
      "100%|█████████████████████████████████████████| 400/400 [01:15<00:00,  5.28it/s]"
     ]
    },
    {
     "name": "stdout",
     "output_type": "stream",
     "text": [
      "2025-02-06 16:07:08,702 Evaluating as a multi-label problem: False\n",
      "2025-02-06 16:07:08,762 DEV : loss 0.05198300629854202 - f1-score (micro avg)  0.9577\n"
     ]
    },
    {
     "name": "stderr",
     "output_type": "stream",
     "text": [
      "\n"
     ]
    },
    {
     "name": "stdout",
     "output_type": "stream",
     "text": [
      "2025-02-06 16:07:08,811 BAD EPOCHS (no improvement): 4\n",
      "2025-02-06 16:07:19,260 saving best model\n",
      "2025-02-06 16:07:29,327 ----------------------------------------------------------------------------------------------------\n",
      "2025-02-06 16:08:32,220 epoch 3 - iter 160/1600 - loss 0.26273834 - samples/sec: 10.18 - lr: 0.000005\n",
      "2025-02-06 16:09:36,355 epoch 3 - iter 320/1600 - loss 0.25416846 - samples/sec: 10.02 - lr: 0.000005\n",
      "2025-02-06 16:10:40,353 epoch 3 - iter 480/1600 - loss 0.25329429 - samples/sec: 10.04 - lr: 0.000005\n",
      "2025-02-06 16:11:43,543 epoch 3 - iter 640/1600 - loss 0.25092362 - samples/sec: 10.17 - lr: 0.000005\n",
      "2025-02-06 16:12:46,020 epoch 3 - iter 800/1600 - loss 0.24801285 - samples/sec: 10.29 - lr: 0.000005\n",
      "2025-02-06 16:13:49,161 epoch 3 - iter 960/1600 - loss 0.24819608 - samples/sec: 10.18 - lr: 0.000005\n",
      "2025-02-06 16:14:53,409 epoch 3 - iter 1120/1600 - loss 0.24753897 - samples/sec: 10.00 - lr: 0.000005\n",
      "2025-02-06 16:16:00,032 epoch 3 - iter 1280/1600 - loss 0.24636100 - samples/sec: 9.64 - lr: 0.000005\n",
      "2025-02-06 16:17:03,634 epoch 3 - iter 1440/1600 - loss 0.24405671 - samples/sec: 10.11 - lr: 0.000004\n",
      "2025-02-06 16:18:09,132 epoch 3 - iter 1600/1600 - loss 0.24321751 - samples/sec: 9.81 - lr: 0.000004\n",
      "2025-02-06 16:18:09,398 saving model of current epoch\n",
      "2025-02-06 16:18:19,879 ----------------------------------------------------------------------------------------------------\n",
      "2025-02-06 16:18:19,880 EPOCH 3 done: loss 0.2432 - lr 0.000004\n"
     ]
    },
    {
     "name": "stderr",
     "output_type": "stream",
     "text": [
      "100%|█████████████████████████████████████████| 400/400 [01:16<00:00,  5.25it/s]"
     ]
    },
    {
     "name": "stdout",
     "output_type": "stream",
     "text": [
      "2025-02-06 16:19:36,098 Evaluating as a multi-label problem: False\n",
      "2025-02-06 16:19:36,159 DEV : loss 0.034439973533153534 - f1-score (micro avg)  0.9646\n"
     ]
    },
    {
     "name": "stderr",
     "output_type": "stream",
     "text": [
      "\n"
     ]
    },
    {
     "name": "stdout",
     "output_type": "stream",
     "text": [
      "2025-02-06 16:19:36,208 BAD EPOCHS (no improvement): 4\n",
      "2025-02-06 16:19:44,354 saving best model\n",
      "2025-02-06 16:19:51,996 ----------------------------------------------------------------------------------------------------\n",
      "2025-02-06 16:20:53,698 epoch 4 - iter 160/1600 - loss 0.24244274 - samples/sec: 10.38 - lr: 0.000004\n",
      "2025-02-06 16:21:58,490 epoch 4 - iter 320/1600 - loss 0.23578513 - samples/sec: 9.92 - lr: 0.000004\n",
      "2025-02-06 16:23:00,398 epoch 4 - iter 480/1600 - loss 0.23466975 - samples/sec: 10.39 - lr: 0.000004\n",
      "2025-02-06 16:24:06,855 epoch 4 - iter 640/1600 - loss 0.23323628 - samples/sec: 9.67 - lr: 0.000004\n",
      "2025-02-06 16:25:09,734 epoch 4 - iter 800/1600 - loss 0.23102491 - samples/sec: 10.22 - lr: 0.000004\n",
      "2025-02-06 16:26:15,154 epoch 4 - iter 960/1600 - loss 0.23039749 - samples/sec: 9.82 - lr: 0.000004\n",
      "2025-02-06 16:27:18,421 epoch 4 - iter 1120/1600 - loss 0.23101003 - samples/sec: 10.16 - lr: 0.000004\n",
      "2025-02-06 16:28:25,788 epoch 4 - iter 1280/1600 - loss 0.22923417 - samples/sec: 9.54 - lr: 0.000004\n",
      "2025-02-06 16:29:30,218 epoch 4 - iter 1440/1600 - loss 0.22953549 - samples/sec: 9.98 - lr: 0.000004\n",
      "2025-02-06 16:30:32,111 epoch 4 - iter 1600/1600 - loss 0.22816858 - samples/sec: 10.39 - lr: 0.000004\n",
      "2025-02-06 16:30:32,381 saving model of current epoch\n",
      "2025-02-06 16:30:39,801 ----------------------------------------------------------------------------------------------------\n",
      "2025-02-06 16:30:39,802 EPOCH 4 done: loss 0.2282 - lr 0.000004\n"
     ]
    },
    {
     "name": "stderr",
     "output_type": "stream",
     "text": [
      "100%|█████████████████████████████████████████| 400/400 [01:15<00:00,  5.27it/s]"
     ]
    },
    {
     "name": "stdout",
     "output_type": "stream",
     "text": [
      "2025-02-06 16:31:55,773 Evaluating as a multi-label problem: False\n",
      "2025-02-06 16:31:55,833 DEV : loss 0.029092581942677498 - f1-score (micro avg)  0.9719\n"
     ]
    },
    {
     "name": "stderr",
     "output_type": "stream",
     "text": [
      "\n"
     ]
    },
    {
     "name": "stdout",
     "output_type": "stream",
     "text": [
      "2025-02-06 16:31:55,883 BAD EPOCHS (no improvement): 4\n",
      "2025-02-06 16:32:04,001 saving best model\n",
      "2025-02-06 16:32:11,789 ----------------------------------------------------------------------------------------------------\n",
      "2025-02-06 16:33:11,500 epoch 5 - iter 160/1600 - loss 0.22974926 - samples/sec: 10.72 - lr: 0.000004\n",
      "2025-02-06 16:34:12,685 epoch 5 - iter 320/1600 - loss 0.23515284 - samples/sec: 10.51 - lr: 0.000004\n",
      "2025-02-06 16:35:16,934 epoch 5 - iter 480/1600 - loss 0.23177513 - samples/sec: 10.01 - lr: 0.000004\n",
      "2025-02-06 16:36:19,053 epoch 5 - iter 640/1600 - loss 0.22989058 - samples/sec: 10.35 - lr: 0.000004\n",
      "2025-02-06 16:37:21,920 epoch 5 - iter 800/1600 - loss 0.22663289 - samples/sec: 10.22 - lr: 0.000004\n",
      "2025-02-06 16:38:24,869 epoch 5 - iter 960/1600 - loss 0.22440343 - samples/sec: 10.21 - lr: 0.000004\n",
      "2025-02-06 16:39:28,644 epoch 5 - iter 1120/1600 - loss 0.22330229 - samples/sec: 10.08 - lr: 0.000004\n",
      "2025-02-06 16:40:30,628 epoch 5 - iter 1280/1600 - loss 0.22346312 - samples/sec: 10.37 - lr: 0.000004\n",
      "2025-02-06 16:41:38,119 epoch 5 - iter 1440/1600 - loss 0.22295845 - samples/sec: 9.52 - lr: 0.000004\n",
      "2025-02-06 16:42:41,530 epoch 5 - iter 1600/1600 - loss 0.22235734 - samples/sec: 10.14 - lr: 0.000004\n",
      "2025-02-06 16:42:41,798 saving model of current epoch\n",
      "2025-02-06 16:42:52,262 ----------------------------------------------------------------------------------------------------\n",
      "2025-02-06 16:42:52,263 EPOCH 5 done: loss 0.2224 - lr 0.000004\n"
     ]
    },
    {
     "name": "stderr",
     "output_type": "stream",
     "text": [
      "100%|█████████████████████████████████████████| 400/400 [01:15<00:00,  5.27it/s]\n"
     ]
    },
    {
     "name": "stdout",
     "output_type": "stream",
     "text": [
      "2025-02-06 16:44:08,228 Evaluating as a multi-label problem: False\n",
      "2025-02-06 16:44:08,289 DEV : loss 0.029272107407450676 - f1-score (micro avg)  0.9726\n",
      "2025-02-06 16:44:08,339 BAD EPOCHS (no improvement): 4\n",
      "2025-02-06 16:44:16,522 saving best model\n",
      "2025-02-06 16:44:24,188 ----------------------------------------------------------------------------------------------------\n",
      "2025-02-06 16:45:26,598 epoch 6 - iter 160/1600 - loss 0.21906460 - samples/sec: 10.26 - lr: 0.000004\n",
      "2025-02-06 16:46:30,228 epoch 6 - iter 320/1600 - loss 0.21310019 - samples/sec: 10.11 - lr: 0.000004\n",
      "2025-02-06 16:47:34,252 epoch 6 - iter 480/1600 - loss 0.21231026 - samples/sec: 10.04 - lr: 0.000004\n",
      "2025-02-06 16:48:38,974 epoch 6 - iter 640/1600 - loss 0.21303463 - samples/sec: 9.93 - lr: 0.000004\n",
      "2025-02-06 16:49:43,512 epoch 6 - iter 800/1600 - loss 0.21405087 - samples/sec: 9.97 - lr: 0.000004\n",
      "2025-02-06 16:50:46,456 epoch 6 - iter 960/1600 - loss 0.21406562 - samples/sec: 10.21 - lr: 0.000003\n",
      "2025-02-06 16:51:48,638 epoch 6 - iter 1120/1600 - loss 0.21624836 - samples/sec: 10.34 - lr: 0.000003\n",
      "2025-02-06 16:52:55,440 epoch 6 - iter 1280/1600 - loss 0.21653692 - samples/sec: 9.62 - lr: 0.000003\n",
      "2025-02-06 16:54:00,078 epoch 6 - iter 1440/1600 - loss 0.21648839 - samples/sec: 9.94 - lr: 0.000003\n",
      "2025-02-06 16:55:03,456 epoch 6 - iter 1600/1600 - loss 0.21605417 - samples/sec: 10.14 - lr: 0.000003\n",
      "2025-02-06 16:55:03,720 saving model of current epoch\n",
      "2025-02-06 16:55:14,090 ----------------------------------------------------------------------------------------------------\n",
      "2025-02-06 16:55:14,091 EPOCH 6 done: loss 0.2161 - lr 0.000003\n"
     ]
    },
    {
     "name": "stderr",
     "output_type": "stream",
     "text": [
      "100%|█████████████████████████████████████████| 400/400 [01:15<00:00,  5.27it/s]"
     ]
    },
    {
     "name": "stdout",
     "output_type": "stream",
     "text": [
      "2025-02-06 16:56:30,041 Evaluating as a multi-label problem: False\n",
      "2025-02-06 16:56:30,102 DEV : loss 0.027860181406140327 - f1-score (micro avg)  0.9741\n"
     ]
    },
    {
     "name": "stderr",
     "output_type": "stream",
     "text": [
      "\n"
     ]
    },
    {
     "name": "stdout",
     "output_type": "stream",
     "text": [
      "2025-02-06 16:56:30,153 BAD EPOCHS (no improvement): 4\n",
      "2025-02-06 16:56:38,325 saving best model\n",
      "2025-02-06 16:56:46,228 ----------------------------------------------------------------------------------------------------\n",
      "2025-02-06 16:57:49,015 epoch 7 - iter 160/1600 - loss 0.22161765 - samples/sec: 10.20 - lr: 0.000003\n",
      "2025-02-06 16:58:50,904 epoch 7 - iter 320/1600 - loss 0.21299316 - samples/sec: 10.39 - lr: 0.000003\n",
      "2025-02-06 16:59:55,018 epoch 7 - iter 480/1600 - loss 0.21619508 - samples/sec: 10.03 - lr: 0.000003\n",
      "2025-02-06 17:01:01,466 epoch 7 - iter 640/1600 - loss 0.21434869 - samples/sec: 9.67 - lr: 0.000003\n",
      "2025-02-06 17:02:02,745 epoch 7 - iter 800/1600 - loss 0.21418176 - samples/sec: 10.49 - lr: 0.000003\n",
      "2025-02-06 17:03:04,843 epoch 7 - iter 960/1600 - loss 0.21483346 - samples/sec: 10.35 - lr: 0.000003\n",
      "2025-02-06 17:04:06,325 epoch 7 - iter 1120/1600 - loss 0.21375536 - samples/sec: 10.46 - lr: 0.000003\n",
      "2025-02-06 17:05:09,184 epoch 7 - iter 1280/1600 - loss 0.21291255 - samples/sec: 10.23 - lr: 0.000003\n",
      "2025-02-06 17:06:12,802 epoch 7 - iter 1440/1600 - loss 0.21334383 - samples/sec: 10.10 - lr: 0.000003\n",
      "2025-02-06 17:07:14,326 epoch 7 - iter 1600/1600 - loss 0.21223544 - samples/sec: 10.45 - lr: 0.000003\n",
      "2025-02-06 17:07:14,591 saving model of current epoch\n",
      "2025-02-06 17:07:24,987 ----------------------------------------------------------------------------------------------------\n",
      "2025-02-06 17:07:24,988 EPOCH 7 done: loss 0.2122 - lr 0.000003\n"
     ]
    },
    {
     "name": "stderr",
     "output_type": "stream",
     "text": [
      "100%|█████████████████████████████████████████| 400/400 [01:15<00:00,  5.27it/s]"
     ]
    },
    {
     "name": "stdout",
     "output_type": "stream",
     "text": [
      "2025-02-06 17:08:40,877 Evaluating as a multi-label problem: False\n",
      "2025-02-06 17:08:40,939 DEV : loss 0.028620272874832153 - f1-score (micro avg)  0.9784\n"
     ]
    },
    {
     "name": "stderr",
     "output_type": "stream",
     "text": [
      "\n"
     ]
    },
    {
     "name": "stdout",
     "output_type": "stream",
     "text": [
      "2025-02-06 17:08:40,990 BAD EPOCHS (no improvement): 4\n",
      "2025-02-06 17:08:49,155 saving best model\n",
      "2025-02-06 17:08:56,786 ----------------------------------------------------------------------------------------------------\n",
      "2025-02-06 17:10:00,303 epoch 8 - iter 160/1600 - loss 0.21196028 - samples/sec: 10.08 - lr: 0.000003\n",
      "2025-02-06 17:11:03,541 epoch 8 - iter 320/1600 - loss 0.21516344 - samples/sec: 10.17 - lr: 0.000003\n",
      "2025-02-06 17:12:06,585 epoch 8 - iter 480/1600 - loss 0.21281728 - samples/sec: 10.20 - lr: 0.000003\n",
      "2025-02-06 17:13:11,048 epoch 8 - iter 640/1600 - loss 0.21153760 - samples/sec: 9.98 - lr: 0.000003\n",
      "2025-02-06 17:14:15,879 epoch 8 - iter 800/1600 - loss 0.21199781 - samples/sec: 9.91 - lr: 0.000003\n",
      "2025-02-06 17:15:19,239 epoch 8 - iter 960/1600 - loss 0.21103769 - samples/sec: 10.15 - lr: 0.000003\n",
      "2025-02-06 17:16:21,910 epoch 8 - iter 1120/1600 - loss 0.21192715 - samples/sec: 10.26 - lr: 0.000003\n",
      "2025-02-06 17:17:23,750 epoch 8 - iter 1280/1600 - loss 0.21277768 - samples/sec: 10.39 - lr: 0.000003\n",
      "2025-02-06 17:18:31,679 epoch 8 - iter 1440/1600 - loss 0.21276980 - samples/sec: 9.46 - lr: 0.000003\n",
      "2025-02-06 17:19:33,157 epoch 8 - iter 1600/1600 - loss 0.21235515 - samples/sec: 10.46 - lr: 0.000003\n",
      "2025-02-06 17:19:33,424 saving model of current epoch\n",
      "2025-02-06 17:19:44,002 ----------------------------------------------------------------------------------------------------\n",
      "2025-02-06 17:19:44,003 EPOCH 8 done: loss 0.2124 - lr 0.000003\n"
     ]
    },
    {
     "name": "stderr",
     "output_type": "stream",
     "text": [
      "100%|█████████████████████████████████████████| 400/400 [01:16<00:00,  5.26it/s]\n"
     ]
    },
    {
     "name": "stdout",
     "output_type": "stream",
     "text": [
      "2025-02-06 17:21:00,254 Evaluating as a multi-label problem: False\n",
      "2025-02-06 17:21:00,482 DEV : loss 0.02581440843641758 - f1-score (micro avg)  0.9793\n",
      "2025-02-06 17:21:00,533 BAD EPOCHS (no improvement): 4\n",
      "2025-02-06 17:21:08,669 saving best model\n",
      "2025-02-06 17:21:16,317 ----------------------------------------------------------------------------------------------------\n",
      "2025-02-06 17:22:19,669 epoch 9 - iter 160/1600 - loss 0.21146126 - samples/sec: 10.10 - lr: 0.000003\n",
      "2025-02-06 17:23:21,722 epoch 9 - iter 320/1600 - loss 0.20768064 - samples/sec: 10.36 - lr: 0.000003\n",
      "2025-02-06 17:24:22,617 epoch 9 - iter 480/1600 - loss 0.21038628 - samples/sec: 10.56 - lr: 0.000002\n",
      "2025-02-06 17:25:29,804 epoch 9 - iter 640/1600 - loss 0.21023574 - samples/sec: 9.57 - lr: 0.000002\n",
      "2025-02-06 17:26:33,115 epoch 9 - iter 800/1600 - loss 0.21085948 - samples/sec: 10.17 - lr: 0.000002\n",
      "2025-02-06 17:27:35,317 epoch 9 - iter 960/1600 - loss 0.21154772 - samples/sec: 10.33 - lr: 0.000002\n",
      "2025-02-06 17:28:37,141 epoch 9 - iter 1120/1600 - loss 0.21128368 - samples/sec: 10.40 - lr: 0.000002\n",
      "2025-02-06 17:29:38,804 epoch 9 - iter 1280/1600 - loss 0.21079268 - samples/sec: 10.43 - lr: 0.000002\n",
      "2025-02-06 17:30:43,839 epoch 9 - iter 1440/1600 - loss 0.20996189 - samples/sec: 9.88 - lr: 0.000002\n",
      "2025-02-06 17:31:46,690 epoch 9 - iter 1600/1600 - loss 0.21027972 - samples/sec: 10.23 - lr: 0.000002\n",
      "2025-02-06 17:31:46,951 saving model of current epoch\n",
      "2025-02-06 17:31:58,124 ----------------------------------------------------------------------------------------------------\n",
      "2025-02-06 17:31:58,125 EPOCH 9 done: loss 0.2103 - lr 0.000002\n"
     ]
    },
    {
     "name": "stderr",
     "output_type": "stream",
     "text": [
      "100%|█████████████████████████████████████████| 400/400 [01:15<00:00,  5.27it/s]"
     ]
    },
    {
     "name": "stdout",
     "output_type": "stream",
     "text": [
      "2025-02-06 17:33:14,128 Evaluating as a multi-label problem: False\n"
     ]
    },
    {
     "name": "stderr",
     "output_type": "stream",
     "text": [
      "\n"
     ]
    },
    {
     "name": "stdout",
     "output_type": "stream",
     "text": [
      "2025-02-06 17:33:14,193 DEV : loss 0.025851283222436905 - f1-score (micro avg)  0.9811\n",
      "2025-02-06 17:33:14,244 BAD EPOCHS (no improvement): 4\n",
      "2025-02-06 17:33:22,370 saving best model\n",
      "2025-02-06 17:33:30,014 ----------------------------------------------------------------------------------------------------\n",
      "2025-02-06 17:34:33,953 epoch 10 - iter 160/1600 - loss 0.20410833 - samples/sec: 10.01 - lr: 0.000002\n",
      "2025-02-06 17:35:37,063 epoch 10 - iter 320/1600 - loss 0.20701402 - samples/sec: 10.19 - lr: 0.000002\n",
      "2025-02-06 17:36:39,632 epoch 10 - iter 480/1600 - loss 0.20676485 - samples/sec: 10.27 - lr: 0.000002\n",
      "2025-02-06 17:37:42,324 epoch 10 - iter 640/1600 - loss 0.20775889 - samples/sec: 10.25 - lr: 0.000002\n",
      "2025-02-06 17:38:48,639 epoch 10 - iter 800/1600 - loss 0.20760820 - samples/sec: 9.69 - lr: 0.000002\n",
      "2025-02-06 17:39:50,977 epoch 10 - iter 960/1600 - loss 0.20793306 - samples/sec: 10.31 - lr: 0.000002\n",
      "2025-02-06 17:40:53,445 epoch 10 - iter 1120/1600 - loss 0.20887005 - samples/sec: 10.29 - lr: 0.000002\n",
      "2025-02-06 17:41:56,179 epoch 10 - iter 1280/1600 - loss 0.20859653 - samples/sec: 10.25 - lr: 0.000002\n",
      "2025-02-06 17:43:01,657 epoch 10 - iter 1440/1600 - loss 0.20819991 - samples/sec: 9.81 - lr: 0.000002\n",
      "2025-02-06 17:44:05,386 epoch 10 - iter 1600/1600 - loss 0.20831120 - samples/sec: 10.09 - lr: 0.000002\n",
      "2025-02-06 17:44:05,647 saving model of current epoch\n",
      "2025-02-06 17:44:16,048 ----------------------------------------------------------------------------------------------------\n",
      "2025-02-06 17:44:16,049 EPOCH 10 done: loss 0.2083 - lr 0.000002\n"
     ]
    },
    {
     "name": "stderr",
     "output_type": "stream",
     "text": [
      "100%|█████████████████████████████████████████| 400/400 [01:15<00:00,  5.27it/s]"
     ]
    },
    {
     "name": "stdout",
     "output_type": "stream",
     "text": [
      "2025-02-06 17:45:32,034 Evaluating as a multi-label problem: False\n",
      "2025-02-06 17:45:32,092 DEV : loss 0.02507823333144188 - f1-score (micro avg)  0.9816\n"
     ]
    },
    {
     "name": "stderr",
     "output_type": "stream",
     "text": [
      "\n"
     ]
    },
    {
     "name": "stdout",
     "output_type": "stream",
     "text": [
      "2025-02-06 17:45:32,144 BAD EPOCHS (no improvement): 4\n",
      "2025-02-06 17:45:40,317 saving best model\n",
      "2025-02-06 17:45:47,998 ----------------------------------------------------------------------------------------------------\n",
      "2025-02-06 17:46:49,179 epoch 11 - iter 160/1600 - loss 0.20990324 - samples/sec: 10.46 - lr: 0.000002\n",
      "2025-02-06 17:47:52,051 epoch 11 - iter 320/1600 - loss 0.20785496 - samples/sec: 10.22 - lr: 0.000002\n",
      "2025-02-06 17:48:54,942 epoch 11 - iter 480/1600 - loss 0.20574244 - samples/sec: 10.22 - lr: 0.000002\n",
      "2025-02-06 17:49:57,993 epoch 11 - iter 640/1600 - loss 0.20670105 - samples/sec: 10.20 - lr: 0.000002\n",
      "2025-02-06 17:51:02,863 epoch 11 - iter 800/1600 - loss 0.20781598 - samples/sec: 9.91 - lr: 0.000002\n",
      "2025-02-06 17:52:06,414 epoch 11 - iter 960/1600 - loss 0.20644251 - samples/sec: 10.11 - lr: 0.000002\n",
      "2025-02-06 17:53:11,246 epoch 11 - iter 1120/1600 - loss 0.20571126 - samples/sec: 9.91 - lr: 0.000002\n",
      "2025-02-06 17:54:11,434 epoch 11 - iter 1280/1600 - loss 0.20611186 - samples/sec: 10.68 - lr: 0.000002\n",
      "2025-02-06 17:55:15,835 epoch 11 - iter 1440/1600 - loss 0.20660326 - samples/sec: 9.98 - lr: 0.000002\n",
      "2025-02-06 17:56:18,566 epoch 11 - iter 1600/1600 - loss 0.20640115 - samples/sec: 10.25 - lr: 0.000001\n",
      "2025-02-06 17:56:18,830 saving model of current epoch\n",
      "2025-02-06 17:56:29,318 ----------------------------------------------------------------------------------------------------\n",
      "2025-02-06 17:56:29,319 EPOCH 11 done: loss 0.2064 - lr 0.000001\n"
     ]
    },
    {
     "name": "stderr",
     "output_type": "stream",
     "text": [
      "100%|█████████████████████████████████████████| 400/400 [01:14<00:00,  5.38it/s]"
     ]
    },
    {
     "name": "stdout",
     "output_type": "stream",
     "text": [
      "2025-02-06 17:57:43,676 Evaluating as a multi-label problem: False\n"
     ]
    },
    {
     "name": "stderr",
     "output_type": "stream",
     "text": [
      "\n"
     ]
    },
    {
     "name": "stdout",
     "output_type": "stream",
     "text": [
      "2025-02-06 17:57:43,736 DEV : loss 0.025172505527734756 - f1-score (micro avg)  0.9824\n",
      "2025-02-06 17:57:43,800 BAD EPOCHS (no improvement): 4\n",
      "2025-02-06 17:57:53,533 saving best model\n",
      "2025-02-06 17:58:01,154 ----------------------------------------------------------------------------------------------------\n",
      "2025-02-06 17:59:03,172 epoch 12 - iter 160/1600 - loss 0.21751123 - samples/sec: 10.32 - lr: 0.000001\n",
      "2025-02-06 18:00:07,611 epoch 12 - iter 320/1600 - loss 0.20916002 - samples/sec: 9.97 - lr: 0.000001\n",
      "2025-02-06 18:01:11,479 epoch 12 - iter 480/1600 - loss 0.20983842 - samples/sec: 10.06 - lr: 0.000001\n",
      "2025-02-06 18:02:16,566 epoch 12 - iter 640/1600 - loss 0.20882141 - samples/sec: 9.88 - lr: 0.000001\n",
      "2025-02-06 18:03:22,469 epoch 12 - iter 800/1600 - loss 0.20813307 - samples/sec: 9.75 - lr: 0.000001\n",
      "2025-02-06 18:04:27,273 epoch 12 - iter 960/1600 - loss 0.20825906 - samples/sec: 9.92 - lr: 0.000001\n",
      "2025-02-06 18:05:30,045 epoch 12 - iter 1120/1600 - loss 0.20852630 - samples/sec: 10.24 - lr: 0.000001\n",
      "2025-02-06 18:06:32,952 epoch 12 - iter 1280/1600 - loss 0.20817940 - samples/sec: 10.22 - lr: 0.000001\n",
      "2025-02-06 18:07:40,154 epoch 12 - iter 1440/1600 - loss 0.20763771 - samples/sec: 9.56 - lr: 0.000001\n",
      "2025-02-06 18:08:43,695 epoch 12 - iter 1600/1600 - loss 0.20680803 - samples/sec: 10.18 - lr: 0.000001\n",
      "2025-02-06 18:08:43,958 saving model of current epoch\n",
      "2025-02-06 18:08:54,250 ----------------------------------------------------------------------------------------------------\n",
      "2025-02-06 18:08:54,252 EPOCH 12 done: loss 0.2068 - lr 0.000001\n"
     ]
    },
    {
     "name": "stderr",
     "output_type": "stream",
     "text": [
      "100%|█████████████████████████████████████████| 400/400 [01:14<00:00,  5.35it/s]"
     ]
    },
    {
     "name": "stdout",
     "output_type": "stream",
     "text": [
      "2025-02-06 18:10:09,039 Evaluating as a multi-label problem: False\n"
     ]
    },
    {
     "name": "stderr",
     "output_type": "stream",
     "text": [
      "\n"
     ]
    },
    {
     "name": "stdout",
     "output_type": "stream",
     "text": [
      "2025-02-06 18:10:09,151 DEV : loss 0.026416568085551262 - f1-score (micro avg)  0.9815\n",
      "2025-02-06 18:10:09,209 BAD EPOCHS (no improvement): 4\n",
      "2025-02-06 18:10:17,406 ----------------------------------------------------------------------------------------------------\n",
      "2025-02-06 18:11:21,972 epoch 13 - iter 160/1600 - loss 0.20363847 - samples/sec: 9.91 - lr: 0.000001\n",
      "2025-02-06 18:12:26,373 epoch 13 - iter 320/1600 - loss 0.20670488 - samples/sec: 10.00 - lr: 0.000001\n",
      "2025-02-06 18:13:30,753 epoch 13 - iter 480/1600 - loss 0.20808959 - samples/sec: 9.98 - lr: 0.000001\n",
      "2025-02-06 18:14:34,485 epoch 13 - iter 640/1600 - loss 0.20860655 - samples/sec: 10.13 - lr: 0.000001\n",
      "2025-02-06 18:15:40,444 epoch 13 - iter 800/1600 - loss 0.20756360 - samples/sec: 9.76 - lr: 0.000001\n",
      "2025-02-06 18:16:44,099 epoch 13 - iter 960/1600 - loss 0.20675045 - samples/sec: 10.12 - lr: 0.000001\n",
      "2025-02-06 18:17:44,618 epoch 13 - iter 1120/1600 - loss 0.20641584 - samples/sec: 10.62 - lr: 0.000001\n",
      "2025-02-06 18:18:50,033 epoch 13 - iter 1280/1600 - loss 0.20632408 - samples/sec: 9.82 - lr: 0.000001\n",
      "2025-02-06 18:19:57,068 epoch 13 - iter 1440/1600 - loss 0.20675320 - samples/sec: 9.59 - lr: 0.000001\n",
      "2025-02-06 18:20:58,318 epoch 13 - iter 1600/1600 - loss 0.20654170 - samples/sec: 10.53 - lr: 0.000001\n",
      "2025-02-06 18:20:58,585 saving model of current epoch\n",
      "2025-02-06 18:21:09,218 ----------------------------------------------------------------------------------------------------\n",
      "2025-02-06 18:21:09,220 EPOCH 13 done: loss 0.2065 - lr 0.000001\n"
     ]
    },
    {
     "name": "stderr",
     "output_type": "stream",
     "text": [
      "100%|█████████████████████████████████████████| 400/400 [01:14<00:00,  5.38it/s]"
     ]
    },
    {
     "name": "stdout",
     "output_type": "stream",
     "text": [
      "2025-02-06 18:22:23,659 Evaluating as a multi-label problem: False\n"
     ]
    },
    {
     "name": "stderr",
     "output_type": "stream",
     "text": [
      "\n"
     ]
    },
    {
     "name": "stdout",
     "output_type": "stream",
     "text": [
      "2025-02-06 18:22:23,717 DEV : loss 0.025230558589100838 - f1-score (micro avg)  0.9822\n",
      "2025-02-06 18:22:23,783 BAD EPOCHS (no improvement): 4\n",
      "2025-02-06 18:22:32,113 ----------------------------------------------------------------------------------------------------\n",
      "2025-02-06 18:23:36,623 epoch 14 - iter 160/1600 - loss 0.21174905 - samples/sec: 9.92 - lr: 0.000001\n",
      "2025-02-06 18:24:38,360 epoch 14 - iter 320/1600 - loss 0.20526292 - samples/sec: 10.41 - lr: 0.000001\n",
      "2025-02-06 18:25:41,586 epoch 14 - iter 480/1600 - loss 0.20569406 - samples/sec: 10.17 - lr: 0.000001\n",
      "2025-02-06 18:26:45,922 epoch 14 - iter 640/1600 - loss 0.20326356 - samples/sec: 9.99 - lr: 0.000001\n",
      "2025-02-06 18:27:52,839 epoch 14 - iter 800/1600 - loss 0.20368031 - samples/sec: 9.60 - lr: 0.000001\n",
      "2025-02-06 18:28:55,558 epoch 14 - iter 960/1600 - loss 0.20372640 - samples/sec: 10.25 - lr: 0.000001\n",
      "2025-02-06 18:29:59,745 epoch 14 - iter 1120/1600 - loss 0.20421374 - samples/sec: 10.01 - lr: 0.000000\n",
      "2025-02-06 18:31:02,257 epoch 14 - iter 1280/1600 - loss 0.20442008 - samples/sec: 10.28 - lr: 0.000000\n",
      "2025-02-06 18:32:03,596 epoch 14 - iter 1440/1600 - loss 0.20405062 - samples/sec: 10.48 - lr: 0.000000\n",
      "2025-02-06 18:33:07,580 epoch 14 - iter 1600/1600 - loss 0.20463957 - samples/sec: 10.04 - lr: 0.000000\n",
      "2025-02-06 18:33:07,843 saving model of current epoch\n",
      "2025-02-06 18:33:16,944 ----------------------------------------------------------------------------------------------------\n",
      "2025-02-06 18:33:16,946 EPOCH 14 done: loss 0.2046 - lr 0.000000\n"
     ]
    },
    {
     "name": "stderr",
     "output_type": "stream",
     "text": [
      "100%|█████████████████████████████████████████| 400/400 [01:14<00:00,  5.39it/s]"
     ]
    },
    {
     "name": "stdout",
     "output_type": "stream",
     "text": [
      "2025-02-06 18:34:31,260 Evaluating as a multi-label problem: False\n"
     ]
    },
    {
     "name": "stderr",
     "output_type": "stream",
     "text": [
      "\n"
     ]
    },
    {
     "name": "stdout",
     "output_type": "stream",
     "text": [
      "2025-02-06 18:34:31,371 DEV : loss 0.02553500235080719 - f1-score (micro avg)  0.982\n",
      "2025-02-06 18:34:31,432 BAD EPOCHS (no improvement): 4\n",
      "2025-02-06 18:34:39,607 ----------------------------------------------------------------------------------------------------\n",
      "2025-02-06 18:35:44,447 epoch 15 - iter 160/1600 - loss 0.19883583 - samples/sec: 9.87 - lr: 0.000000\n",
      "2025-02-06 18:36:48,331 epoch 15 - iter 320/1600 - loss 0.19961529 - samples/sec: 10.06 - lr: 0.000000\n",
      "2025-02-06 18:37:49,596 epoch 15 - iter 480/1600 - loss 0.19989934 - samples/sec: 10.49 - lr: 0.000000\n",
      "2025-02-06 18:38:54,001 epoch 15 - iter 640/1600 - loss 0.20122313 - samples/sec: 9.98 - lr: 0.000000\n",
      "2025-02-06 18:40:01,476 epoch 15 - iter 800/1600 - loss 0.20163468 - samples/sec: 9.52 - lr: 0.000000\n",
      "2025-02-06 18:41:02,900 epoch 15 - iter 960/1600 - loss 0.20184783 - samples/sec: 10.47 - lr: 0.000000\n",
      "2025-02-06 18:42:07,619 epoch 15 - iter 1120/1600 - loss 0.20245800 - samples/sec: 9.93 - lr: 0.000000\n",
      "2025-02-06 18:43:10,210 epoch 15 - iter 1280/1600 - loss 0.20286317 - samples/sec: 10.27 - lr: 0.000000\n",
      "2025-02-06 18:44:12,509 epoch 15 - iter 1440/1600 - loss 0.20290373 - samples/sec: 10.32 - lr: 0.000000\n",
      "2025-02-06 18:45:17,553 epoch 15 - iter 1600/1600 - loss 0.20277086 - samples/sec: 9.88 - lr: 0.000000\n",
      "2025-02-06 18:45:17,816 saving model of current epoch\n",
      "2025-02-06 18:45:25,171 ----------------------------------------------------------------------------------------------------\n",
      "2025-02-06 18:45:25,172 EPOCH 15 done: loss 0.2028 - lr 0.000000\n"
     ]
    },
    {
     "name": "stderr",
     "output_type": "stream",
     "text": [
      "100%|█████████████████████████████████████████| 400/400 [01:13<00:00,  5.41it/s]"
     ]
    },
    {
     "name": "stdout",
     "output_type": "stream",
     "text": [
      "2025-02-06 18:46:39,129 Evaluating as a multi-label problem: False\n"
     ]
    },
    {
     "name": "stderr",
     "output_type": "stream",
     "text": [
      "\n"
     ]
    },
    {
     "name": "stdout",
     "output_type": "stream",
     "text": [
      "2025-02-06 18:46:39,192 DEV : loss 0.02557346038520336 - f1-score (micro avg)  0.982\n",
      "2025-02-06 18:46:39,259 BAD EPOCHS (no improvement): 4\n",
      "2025-02-06 18:46:47,569 ----------------------------------------------------------------------------------------------------\n",
      "2025-02-06 18:46:47,572 loading file logs/GELECTRA/NER/10K/k5/best-model.pt\n",
      "2025-02-06 18:47:00,395 SequenceTagger predicts: Dictionary with 57 tags: O, S-MALE, B-MALE, E-MALE, I-MALE, S-FAMILY, B-FAMILY, E-FAMILY, I-FAMILY, S-URL, B-URL, E-URL, I-URL, S-EMAIL, B-EMAIL, E-EMAIL, I-EMAIL, S-PHONE, B-PHONE, E-PHONE, I-PHONE, S-CITY, B-CITY, E-CITY, I-CITY, S-DATE, B-DATE, E-DATE, I-DATE, S-STREET, B-STREET, E-STREET, I-STREET, S-ZIP, B-ZIP, E-ZIP, I-ZIP, S-STREETNO, B-STREETNO, E-STREETNO, I-STREETNO, S-FEMALE, B-FEMALE, E-FEMALE, I-FEMALE, S-UFID, B-UFID, E-UFID, I-UFID, S-ORG\n"
     ]
    },
    {
     "name": "stderr",
     "output_type": "stream",
     "text": [
      "100%|█████████████████████████████████████████| 500/500 [01:38<00:00,  5.07it/s]"
     ]
    },
    {
     "name": "stdout",
     "output_type": "stream",
     "text": [
      "2025-02-06 18:48:40,099 Evaluating as a multi-label problem: False\n",
      "2025-02-06 18:48:40,174 0.9845\t0.9882\t0.9863\t0.9769\n",
      "2025-02-06 18:48:40,175 \n",
      "Results:\n",
      "- F-score (micro) 0.9863\n",
      "- F-score (macro) 0.9745\n",
      "- Accuracy 0.9769\n",
      "\n",
      "By class:\n",
      "              precision    recall  f1-score   support\n",
      "\n",
      "        MALE     0.9941    0.9959    0.9950      2690\n",
      "      FAMILY     0.9905    0.9899    0.9902      1789\n",
      "         URL     0.9796    0.9878    0.9837      1067\n",
      "       EMAIL     0.9978    1.0000    0.9989       890\n",
      "       PHONE     0.9845    0.9884    0.9864       773\n",
      "        CITY     0.9897    0.9813    0.9855       587\n",
      "        DATE     0.9854    0.9937    0.9895       476\n",
      "      STREET     0.9968    1.0000    0.9984       309\n",
      "         ZIP     1.0000    0.9932    0.9966       295\n",
      "    STREETNO     0.9755    0.9894    0.9824       282\n",
      "      FEMALE     0.9753    0.9753    0.9753       243\n",
      "         ORG     0.8062    0.8318    0.8188       220\n",
      "        UFID     0.9459    0.9813    0.9633       214\n",
      "        USER     0.9592    1.0000    0.9792        47\n",
      "\n",
      "   micro avg     0.9845    0.9882    0.9863      9882\n",
      "   macro avg     0.9700    0.9791    0.9745      9882\n",
      "weighted avg     0.9846    0.9882    0.9864      9882\n",
      "\n",
      "2025-02-06 18:48:40,175 ----------------------------------------------------------------------------------------------------\n"
     ]
    },
    {
     "name": "stderr",
     "output_type": "stream",
     "text": [
      "\n"
     ]
    },
    {
     "data": {
      "text/plain": [
       "{'test_score': 0.9863138225342154,\n",
       " 'dev_score_history': [0.680087801818752,\n",
       "  0.9576970563389434,\n",
       "  0.9645646420964307,\n",
       "  0.9719155529730777,\n",
       "  0.9726212716614057,\n",
       "  0.9740745517864053,\n",
       "  0.9783762786481937,\n",
       "  0.9793166050703495,\n",
       "  0.9811418910131358,\n",
       "  0.9815847490597847,\n",
       "  0.9823514144822216,\n",
       "  0.9814550641940086,\n",
       "  0.982176421025342,\n",
       "  0.9819761410788382,\n",
       "  0.9820328209119803],\n",
       " 'train_loss_history': [1.731572975225178,\n",
       "  0.3388740044252014,\n",
       "  0.24321750784434903,\n",
       "  0.2281685761699314,\n",
       "  0.2223573425707284,\n",
       "  0.21605416712010325,\n",
       "  0.21223544187661397,\n",
       "  0.21235514603420658,\n",
       "  0.21027971608489843,\n",
       "  0.20831119509765836,\n",
       "  0.2064011479773734,\n",
       "  0.20680803472455014,\n",
       "  0.20654169896237537,\n",
       "  0.20463956506192815,\n",
       "  0.2027708643273524],\n",
       " 'dev_loss_history': [0.23784247040748596,\n",
       "  0.05198300629854202,\n",
       "  0.034439973533153534,\n",
       "  0.029092581942677498,\n",
       "  0.029272107407450676,\n",
       "  0.027860181406140327,\n",
       "  0.028620272874832153,\n",
       "  0.02581440843641758,\n",
       "  0.025851283222436905,\n",
       "  0.02507823333144188,\n",
       "  0.025172505527734756,\n",
       "  0.026416568085551262,\n",
       "  0.025230558589100838,\n",
       "  0.02553500235080719,\n",
       "  0.02557346038520336]}"
      ]
     },
     "execution_count": 20,
     "metadata": {},
     "output_type": "execute_result"
    }
   ],
   "source": [
    "trainer.fine_tune(\n",
    "    model_dir_path,\n",
    "    learning_rate=5.0e-6,\n",
    "    mini_batch_size=4,\n",
    "    max_epochs=15,\n",
    "    checkpoint=True,\n",
    "    write_weights=True,\n",
    "    use_tensorboard=True,\n",
    "    tensorboard_log_dir=model_dir_path,\n",
    "    save_final_model=False,\n",
    "    save_model_each_k_epochs=1,\n",
    "    use_final_model_for_eval=False\n",
    ")"
   ]
  },
  {
   "cell_type": "code",
   "execution_count": 21,
   "id": "a6e3d9a0",
   "metadata": {},
   "outputs": [
    {
     "data": {
      "text/html": [
       "<div>\n",
       "<style scoped>\n",
       "    .dataframe tbody tr th:only-of-type {\n",
       "        vertical-align: middle;\n",
       "    }\n",
       "\n",
       "    .dataframe tbody tr th {\n",
       "        vertical-align: top;\n",
       "    }\n",
       "\n",
       "    .dataframe thead th {\n",
       "        text-align: right;\n",
       "    }\n",
       "</style>\n",
       "<table border=\"1\" class=\"dataframe\">\n",
       "  <thead>\n",
       "    <tr style=\"text-align: right;\">\n",
       "      <th></th>\n",
       "      <th>EPOCH</th>\n",
       "      <th>TIMESTAMP</th>\n",
       "      <th>BAD_EPOCHS</th>\n",
       "      <th>LEARNING_RATE</th>\n",
       "      <th>TRAIN_LOSS</th>\n",
       "      <th>DEV_LOSS</th>\n",
       "      <th>DEV_PRECISION</th>\n",
       "      <th>DEV_RECALL</th>\n",
       "      <th>DEV_F1</th>\n",
       "      <th>DEV_ACCURACY</th>\n",
       "    </tr>\n",
       "  </thead>\n",
       "  <tbody>\n",
       "    <tr>\n",
       "      <th>0</th>\n",
       "      <td>1</td>\n",
       "      <td>15:54:50</td>\n",
       "      <td>4</td>\n",
       "      <td>0.0</td>\n",
       "      <td>1.731573</td>\n",
       "      <td>0.237842</td>\n",
       "      <td>0.6571</td>\n",
       "      <td>0.7048</td>\n",
       "      <td>0.6801</td>\n",
       "      <td>0.6094</td>\n",
       "    </tr>\n",
       "    <tr>\n",
       "      <th>1</th>\n",
       "      <td>2</td>\n",
       "      <td>16:07:08</td>\n",
       "      <td>4</td>\n",
       "      <td>0.0</td>\n",
       "      <td>0.338874</td>\n",
       "      <td>0.051983</td>\n",
       "      <td>0.9575</td>\n",
       "      <td>0.9579</td>\n",
       "      <td>0.9577</td>\n",
       "      <td>0.9309</td>\n",
       "    </tr>\n",
       "    <tr>\n",
       "      <th>2</th>\n",
       "      <td>3</td>\n",
       "      <td>16:19:36</td>\n",
       "      <td>4</td>\n",
       "      <td>0.0</td>\n",
       "      <td>0.243218</td>\n",
       "      <td>0.034440</td>\n",
       "      <td>0.9579</td>\n",
       "      <td>0.9713</td>\n",
       "      <td>0.9646</td>\n",
       "      <td>0.9393</td>\n",
       "    </tr>\n",
       "    <tr>\n",
       "      <th>3</th>\n",
       "      <td>4</td>\n",
       "      <td>16:31:55</td>\n",
       "      <td>4</td>\n",
       "      <td>0.0</td>\n",
       "      <td>0.228169</td>\n",
       "      <td>0.029093</td>\n",
       "      <td>0.9655</td>\n",
       "      <td>0.9784</td>\n",
       "      <td>0.9719</td>\n",
       "      <td>0.9509</td>\n",
       "    </tr>\n",
       "    <tr>\n",
       "      <th>4</th>\n",
       "      <td>5</td>\n",
       "      <td>16:44:08</td>\n",
       "      <td>4</td>\n",
       "      <td>0.0</td>\n",
       "      <td>0.222357</td>\n",
       "      <td>0.029272</td>\n",
       "      <td>0.9641</td>\n",
       "      <td>0.9813</td>\n",
       "      <td>0.9726</td>\n",
       "      <td>0.9526</td>\n",
       "    </tr>\n",
       "    <tr>\n",
       "      <th>5</th>\n",
       "      <td>6</td>\n",
       "      <td>16:56:30</td>\n",
       "      <td>4</td>\n",
       "      <td>0.0</td>\n",
       "      <td>0.216054</td>\n",
       "      <td>0.027860</td>\n",
       "      <td>0.9666</td>\n",
       "      <td>0.9817</td>\n",
       "      <td>0.9741</td>\n",
       "      <td>0.9556</td>\n",
       "    </tr>\n",
       "    <tr>\n",
       "      <th>6</th>\n",
       "      <td>7</td>\n",
       "      <td>17:08:40</td>\n",
       "      <td>4</td>\n",
       "      <td>0.0</td>\n",
       "      <td>0.212235</td>\n",
       "      <td>0.028620</td>\n",
       "      <td>0.9746</td>\n",
       "      <td>0.9822</td>\n",
       "      <td>0.9784</td>\n",
       "      <td>0.9637</td>\n",
       "    </tr>\n",
       "    <tr>\n",
       "      <th>7</th>\n",
       "      <td>8</td>\n",
       "      <td>17:21:00</td>\n",
       "      <td>4</td>\n",
       "      <td>0.0</td>\n",
       "      <td>0.212355</td>\n",
       "      <td>0.025814</td>\n",
       "      <td>0.9770</td>\n",
       "      <td>0.9817</td>\n",
       "      <td>0.9793</td>\n",
       "      <td>0.9659</td>\n",
       "    </tr>\n",
       "    <tr>\n",
       "      <th>8</th>\n",
       "      <td>9</td>\n",
       "      <td>17:33:14</td>\n",
       "      <td>4</td>\n",
       "      <td>0.0</td>\n",
       "      <td>0.210280</td>\n",
       "      <td>0.025851</td>\n",
       "      <td>0.9817</td>\n",
       "      <td>0.9806</td>\n",
       "      <td>0.9811</td>\n",
       "      <td>0.9687</td>\n",
       "    </tr>\n",
       "    <tr>\n",
       "      <th>9</th>\n",
       "      <td>10</td>\n",
       "      <td>17:45:32</td>\n",
       "      <td>4</td>\n",
       "      <td>0.0</td>\n",
       "      <td>0.208311</td>\n",
       "      <td>0.025078</td>\n",
       "      <td>0.9793</td>\n",
       "      <td>0.9839</td>\n",
       "      <td>0.9816</td>\n",
       "      <td>0.9703</td>\n",
       "    </tr>\n",
       "    <tr>\n",
       "      <th>10</th>\n",
       "      <td>11</td>\n",
       "      <td>17:57:43</td>\n",
       "      <td>4</td>\n",
       "      <td>0.0</td>\n",
       "      <td>0.206401</td>\n",
       "      <td>0.025173</td>\n",
       "      <td>0.9807</td>\n",
       "      <td>0.9840</td>\n",
       "      <td>0.9824</td>\n",
       "      <td>0.9715</td>\n",
       "    </tr>\n",
       "    <tr>\n",
       "      <th>11</th>\n",
       "      <td>12</td>\n",
       "      <td>18:10:09</td>\n",
       "      <td>4</td>\n",
       "      <td>0.0</td>\n",
       "      <td>0.206808</td>\n",
       "      <td>0.026417</td>\n",
       "      <td>0.9792</td>\n",
       "      <td>0.9838</td>\n",
       "      <td>0.9815</td>\n",
       "      <td>0.9694</td>\n",
       "    </tr>\n",
       "    <tr>\n",
       "      <th>12</th>\n",
       "      <td>13</td>\n",
       "      <td>18:22:23</td>\n",
       "      <td>4</td>\n",
       "      <td>0.0</td>\n",
       "      <td>0.206542</td>\n",
       "      <td>0.025231</td>\n",
       "      <td>0.9794</td>\n",
       "      <td>0.9849</td>\n",
       "      <td>0.9822</td>\n",
       "      <td>0.9707</td>\n",
       "    </tr>\n",
       "    <tr>\n",
       "      <th>13</th>\n",
       "      <td>14</td>\n",
       "      <td>18:34:31</td>\n",
       "      <td>4</td>\n",
       "      <td>0.0</td>\n",
       "      <td>0.204640</td>\n",
       "      <td>0.025535</td>\n",
       "      <td>0.9796</td>\n",
       "      <td>0.9844</td>\n",
       "      <td>0.9820</td>\n",
       "      <td>0.9698</td>\n",
       "    </tr>\n",
       "    <tr>\n",
       "      <th>14</th>\n",
       "      <td>15</td>\n",
       "      <td>18:46:39</td>\n",
       "      <td>4</td>\n",
       "      <td>0.0</td>\n",
       "      <td>0.202771</td>\n",
       "      <td>0.025573</td>\n",
       "      <td>0.9801</td>\n",
       "      <td>0.9840</td>\n",
       "      <td>0.9820</td>\n",
       "      <td>0.9701</td>\n",
       "    </tr>\n",
       "  </tbody>\n",
       "</table>\n",
       "</div>"
      ],
      "text/plain": [
       "    EPOCH TIMESTAMP  BAD_EPOCHS  LEARNING_RATE  TRAIN_LOSS  DEV_LOSS  \\\n",
       "0       1  15:54:50           4            0.0    1.731573  0.237842   \n",
       "1       2  16:07:08           4            0.0    0.338874  0.051983   \n",
       "2       3  16:19:36           4            0.0    0.243218  0.034440   \n",
       "3       4  16:31:55           4            0.0    0.228169  0.029093   \n",
       "4       5  16:44:08           4            0.0    0.222357  0.029272   \n",
       "5       6  16:56:30           4            0.0    0.216054  0.027860   \n",
       "6       7  17:08:40           4            0.0    0.212235  0.028620   \n",
       "7       8  17:21:00           4            0.0    0.212355  0.025814   \n",
       "8       9  17:33:14           4            0.0    0.210280  0.025851   \n",
       "9      10  17:45:32           4            0.0    0.208311  0.025078   \n",
       "10     11  17:57:43           4            0.0    0.206401  0.025173   \n",
       "11     12  18:10:09           4            0.0    0.206808  0.026417   \n",
       "12     13  18:22:23           4            0.0    0.206542  0.025231   \n",
       "13     14  18:34:31           4            0.0    0.204640  0.025535   \n",
       "14     15  18:46:39           4            0.0    0.202771  0.025573   \n",
       "\n",
       "    DEV_PRECISION  DEV_RECALL  DEV_F1  DEV_ACCURACY  \n",
       "0          0.6571      0.7048  0.6801        0.6094  \n",
       "1          0.9575      0.9579  0.9577        0.9309  \n",
       "2          0.9579      0.9713  0.9646        0.9393  \n",
       "3          0.9655      0.9784  0.9719        0.9509  \n",
       "4          0.9641      0.9813  0.9726        0.9526  \n",
       "5          0.9666      0.9817  0.9741        0.9556  \n",
       "6          0.9746      0.9822  0.9784        0.9637  \n",
       "7          0.9770      0.9817  0.9793        0.9659  \n",
       "8          0.9817      0.9806  0.9811        0.9687  \n",
       "9          0.9793      0.9839  0.9816        0.9703  \n",
       "10         0.9807      0.9840  0.9824        0.9715  \n",
       "11         0.9792      0.9838  0.9815        0.9694  \n",
       "12         0.9794      0.9849  0.9822        0.9707  \n",
       "13         0.9796      0.9844  0.9820        0.9698  \n",
       "14         0.9801      0.9840  0.9820        0.9701  "
      ]
     },
     "execution_count": 21,
     "metadata": {},
     "output_type": "execute_result"
    }
   ],
   "source": [
    "loss_df = pd.read_csv(os.path.join(model_dir_path, 'loss.tsv'), sep='\\t', header=0); loss_df"
   ]
  },
  {
   "cell_type": "code",
   "execution_count": 22,
   "id": "3792a791",
   "metadata": {
    "scrolled": true
   },
   "outputs": [
    {
     "data": {
      "image/png": "[encoded data removed]",
      "text/plain": [
       "<Figure size 1080x288 with 1 Axes>"
      ]
     },
     "metadata": {
      "needs_background": "light"
     },
     "output_type": "display_data"
    }
   ],
   "source": [
    "%matplotlib inline\n",
    "plt.figure(figsize=[15, 4])\n",
    "plt.plot(loss_df['TRAIN_LOSS'], 'r', linewidth=1.0)\n",
    "plt.plot(loss_df['DEV_LOSS'], 'b', linewidth=1.0)\n",
    "plt.xticks([epoch-1 for epoch in loss_df['EPOCH']], labels = [str(epoch) for epoch in loss_df['EPOCH']])\n",
    "plt.legend(['Training Loss', 'Dev Loss'], fontsize=14)\n",
    "plt.xlabel('Epochs', fontsize=16)\n",
    "plt.ylabel('Loss', fontsize=16)\n",
    "plt.title('Loss Curves', fontsize=16);"
   ]
  },
  {
   "cell_type": "code",
   "execution_count": 23,
   "id": "09b4a5d4",
   "metadata": {},
   "outputs": [
    {
     "data": {
      "image/png": "[encoded data removed]",
      "text/plain": [
       "<Figure size 1080x288 with 1 Axes>"
      ]
     },
     "metadata": {
      "needs_background": "light"
     },
     "output_type": "display_data"
    }
   ],
   "source": [
    "from sklearn.preprocessing import MinMaxScaler\n",
    "scaler = MinMaxScaler()\n",
    "\n",
    "loss_df[\"DEV_LOSS_SCALED\"] = scaler.fit_transform(loss_df[[\"DEV_LOSS\"]])\n",
    "loss_df[\"TRAIN_LOSS_SCALED\"] = scaler.fit_transform(loss_df[[\"TRAIN_LOSS\"]])\n",
    "\n",
    "plt.figure(figsize=[15, 4])\n",
    "plt.plot(loss_df['TRAIN_LOSS_SCALED'][2:15], 'r', linewidth=1.0)\n",
    "plt.plot(loss_df['DEV_LOSS_SCALED'][2:15], 'b', linewidth=1.0)\n",
    "plt.xticks([epoch-1 for epoch in loss_df['EPOCH']], labels = [str(epoch) for epoch in loss_df['EPOCH']])\n",
    "plt.legend(['Training Loss', 'Dev Loss'], fontsize=14)\n",
    "plt.xlabel('Epochs', fontsize=16)\n",
    "plt.ylabel('Loss', fontsize=16)\n",
    "plt.title('Loss Curves', fontsize=16);"
   ]
  },
  {
   "cell_type": "code",
   "execution_count": 24,
   "id": "6ba14152",
   "metadata": {},
   "outputs": [
    {
     "name": "stdout",
     "output_type": "stream",
     "text": [
      "2025-02-06 18:50:49,518 loading file logs/GELECTRA/NER/10K/k5/best-model.pt\n",
      "2025-02-06 18:51:42,197 SequenceTagger predicts: Dictionary with 57 tags: O, S-MALE, B-MALE, E-MALE, I-MALE, S-FAMILY, B-FAMILY, E-FAMILY, I-FAMILY, S-URL, B-URL, E-URL, I-URL, S-EMAIL, B-EMAIL, E-EMAIL, I-EMAIL, S-PHONE, B-PHONE, E-PHONE, I-PHONE, S-CITY, B-CITY, E-CITY, I-CITY, S-DATE, B-DATE, E-DATE, I-DATE, S-STREET, B-STREET, E-STREET, I-STREET, S-ZIP, B-ZIP, E-ZIP, I-ZIP, S-STREETNO, B-STREETNO, E-STREETNO, I-STREETNO, S-FEMALE, B-FEMALE, E-FEMALE, I-FEMALE, S-UFID, B-UFID, E-UFID, I-UFID, S-ORG\n"
     ]
    }
   ],
   "source": [
    "model = SequenceTagger.load(os.path.join(model_dir_path, 'best-model.pt'))"
   ]
  },
  {
   "cell_type": "code",
   "execution_count": 25,
   "id": "6dcdf4d1",
   "metadata": {},
   "outputs": [
    {
     "name": "stderr",
     "output_type": "stream",
     "text": [
      "100%|█████████████████████████████████████████| 500/500 [01:35<00:00,  5.26it/s]"
     ]
    },
    {
     "name": "stdout",
     "output_type": "stream",
     "text": [
      "2025-02-06 18:53:17,782 Evaluating as a multi-label problem: False\n",
      "\n",
      "Results:\n",
      "- F-score (micro) 0.9852\n",
      "- F-score (macro) 0.9728\n",
      "- Accuracy 0.9746\n",
      "\n",
      "By class:\n",
      "              precision    recall  f1-score   support\n",
      "\n",
      "        MALE     0.9941    0.9948    0.9944      2690\n",
      "      FAMILY     0.9877    0.9899    0.9888      1789\n",
      "         URL     0.9786    0.9841    0.9813      1067\n",
      "       EMAIL     0.9978    1.0000    0.9989       890\n",
      "       PHONE     0.9808    0.9922    0.9865       773\n",
      "        CITY     0.9897    0.9830    0.9863       587\n",
      "        DATE     0.9854    0.9937    0.9895       476\n",
      "      STREET     0.9968    1.0000    0.9984       309\n",
      "         ZIP     1.0000    0.9932    0.9966       295\n",
      "    STREETNO     0.9755    0.9894    0.9824       282\n",
      "      FEMALE     0.9792    0.9671    0.9731       243\n",
      "         ORG     0.7845    0.8273    0.8053       220\n",
      "        UFID     0.9414    0.9766    0.9587       214\n",
      "        USER     0.9592    1.0000    0.9792        47\n",
      "\n",
      "   micro avg     0.9830    0.9875    0.9852      9882\n",
      "   macro avg     0.9679    0.9779    0.9728      9882\n",
      "weighted avg     0.9833    0.9875    0.9853      9882\n",
      "\n"
     ]
    },
    {
     "name": "stderr",
     "output_type": "stream",
     "text": [
      "\n"
     ]
    }
   ],
   "source": [
    "# run evaluation procedure\n",
    "result = model.evaluate(corpus.test, mini_batch_size=4, out_path=f\"predictions.txt\", gold_label_type=\"ner\")\n",
    "print(result.detailed_results)"
   ]
  }
 ],
 "metadata": {
  "kernelspec": {
   "display_name": "Python 3 (ipykernel)",
   "language": "python",
   "name": "python3"
  },
  "language_info": {
   "codemirror_mode": {
    "name": "ipython",
    "version": 3
   },
   "file_extension": ".py",
   "mimetype": "text/x-python",
   "name": "python",
   "nbconvert_exporter": "python",
   "pygments_lexer": "ipython3",
   "version": "3.9.10"
  }
 },
 "nbformat": 4,
 "nbformat_minor": 5
}
