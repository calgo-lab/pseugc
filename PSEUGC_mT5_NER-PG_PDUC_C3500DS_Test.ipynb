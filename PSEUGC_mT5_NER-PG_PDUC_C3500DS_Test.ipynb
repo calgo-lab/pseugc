{
 "cells": [
  {
   "cell_type": "code",
   "execution_count": 8,
   "id": "545bec19",
   "metadata": {},
   "outputs": [],
   "source": [
    "import ast\n",
    "import glob\n",
    "import os\n",
    "import random\n",
    "import re\n",
    "\n",
    "import numpy as np\n",
    "import pandas as pd\n",
    "\n",
    "from __future__ import annotations\n",
    "from codealltag_data_processor_v2025 import CodealltagDataProcessor\n",
    "from concurrent.futures import ThreadPoolExecutor, as_completed\n",
    "from pandas import DataFrame\n",
    "from pandas.core.series import Series\n",
    "from tqdm import tqdm\n",
    "from typing import Any, Dict, Generator, List, Tuple"
   ]
  },
  {
   "cell_type": "code",
   "execution_count": 9,
   "id": "33a50128",
   "metadata": {},
   "outputs": [],
   "source": [
    "cdp_2022 = CodealltagDataProcessor(data_version='20220513', config_path=['codealltag_data_processor.yml'])"
   ]
  },
  {
   "cell_type": "code",
   "execution_count": 10,
   "id": "d11b2dda",
   "metadata": {},
   "outputs": [],
   "source": [
    "sample_df = pd.read_csv(\"data_utility_dataset_3500.csv\", index_col=0)"
   ]
  },
  {
   "cell_type": "code",
   "execution_count": 11,
   "id": "e789cecb",
   "metadata": {},
   "outputs": [
    {
     "data": {
      "text/plain": [
       "3500"
      ]
     },
     "execution_count": 11,
     "metadata": {},
     "output_type": "execute_result"
    }
   ],
   "source": [
    "len(sample_df)"
   ]
  },
  {
   "cell_type": "code",
   "execution_count": 15,
   "id": "fea58444",
   "metadata": {},
   "outputs": [],
   "source": [
    "dataset = cdp_2022.get_train_dev_test_datasetdict_for_sample_df_10_8_2(sample_df, test_data_count=1000, k=10)"
   ]
  },
  {
   "cell_type": "code",
   "execution_count": 16,
   "id": "91ede073",
   "metadata": {},
   "outputs": [],
   "source": [
    "train_df = dataset[\"train\"].to_pandas()\n",
    "dev_df = dataset[\"dev\"].to_pandas()\n",
    "test_df = dataset[\"test\"].to_pandas()"
   ]
  },
  {
   "cell_type": "code",
   "execution_count": 17,
   "id": "ec543198",
   "metadata": {},
   "outputs": [
    {
     "data": {
      "text/plain": [
       "3500"
      ]
     },
     "execution_count": 17,
     "metadata": {},
     "output_type": "execute_result"
    }
   ],
   "source": [
    "len(set(train_df.FilePath.tolist() + dev_df.FilePath.tolist() + test_df.FilePath.tolist()))"
   ]
  },
  {
   "cell_type": "code",
   "execution_count": 21,
   "id": "4d8bf262",
   "metadata": {},
   "outputs": [
    {
     "data": {
      "text/html": [
       "<div>\n",
       "<style scoped>\n",
       "    .dataframe tbody tr th:only-of-type {\n",
       "        vertical-align: middle;\n",
       "    }\n",
       "\n",
       "    .dataframe tbody tr th {\n",
       "        vertical-align: top;\n",
       "    }\n",
       "\n",
       "    .dataframe thead th {\n",
       "        text-align: right;\n",
       "    }\n",
       "</style>\n",
       "<table border=\"1\" class=\"dataframe\">\n",
       "  <thead>\n",
       "    <tr style=\"text-align: right;\">\n",
       "      <th></th>\n",
       "      <th>FilePath</th>\n",
       "      <th>OT</th>\n",
       "      <th>OA</th>\n",
       "      <th>OTT</th>\n",
       "      <th>OTTL</th>\n",
       "      <th>MT5O</th>\n",
       "      <th>MT5PT</th>\n",
       "      <th>MT5PA</th>\n",
       "      <th>MT5PTT</th>\n",
       "      <th>MT5PTTL</th>\n",
       "    </tr>\n",
       "  </thead>\n",
       "  <tbody>\n",
       "    <tr>\n",
       "      <th>0</th>\n",
       "      <td>CodEAlltag_pXL_FINANCE/7-/76653.txt</td>\n",
       "      <td>...\\n\\ndie können doch nicht soooo von den US-...</td>\n",
       "      <td>{'Token_ID': {0: 'T1', 1: 'T2'}, 'Label': {0: ...</td>\n",
       "      <td>... die können doch nicht soooo von den US-Zin...</td>\n",
       "      <td>... O\\ndie O\\nkönnen O\\ndoch O\\nnicht O\\nsoooo...</td>\n",
       "      <td>FEMALE: Ella **Ülkü**; URL: http://xaj.dxkte.c...</td>\n",
       "      <td>...\\n\\ndie können doch nicht soooo von den US-...</td>\n",
       "      <td>{'Token_ID': {0: 'T1', 1: 'T2'}, 'Label': {0: ...</td>\n",
       "      <td>... die können doch nicht soooo von den US-Zin...</td>\n",
       "      <td>... O\\ndie O\\nkönnen O\\ndoch O\\nnicht O\\nsoooo...</td>\n",
       "    </tr>\n",
       "    <tr>\n",
       "      <th>1</th>\n",
       "      <td>CodEAlltag_pXL_FINANCE/7-/70681.txt</td>\n",
       "      <td>Was baut Ihr denn da an? Hoffentlich nix mit G...</td>\n",
       "      <td>{'Token_ID': {0: 'T1', 1: 'T2', 2: 'T3', 3: 'T...</td>\n",
       "      <td>Was baut Ihr denn da an ? Hoffentlich nix mit ...</td>\n",
       "      <td>Was O\\nbaut O\\nIhr O\\ndenn O\\nda O\\nan O\\n? O\\...</td>\n",
       "      <td>MALE: Valerian **David**; FAMILY: Bammert **Ae...</td>\n",
       "      <td>Was baut Ihr denn da an? Hoffentlich nix mit G...</td>\n",
       "      <td>{'Token_ID': {0: 'T1', 1: 'T2', 2: 'T3', 3: 'T...</td>\n",
       "      <td>Was baut Ihr denn da an ? Hoffentlich nix mit ...</td>\n",
       "      <td>Was O\\nbaut O\\nIhr O\\ndenn O\\nda O\\nan O\\n? O\\...</td>\n",
       "    </tr>\n",
       "    <tr>\n",
       "      <th>2</th>\n",
       "      <td>CodEAlltag_pXL_FINANCE/7-/74675.txt</td>\n",
       "      <td>Hallo Boerseninteressierte!\\n\\nDer naechste St...</td>\n",
       "      <td>{'Token_ID': {0: 'T1', 1: 'T2', 2: 'T3', 3: 'T...</td>\n",
       "      <td>Hallo Boerseninteressierte ! Der naechste Stam...</td>\n",
       "      <td>Hallo O\\nBoerseninteressierte O\\n! O\\nDer O\\nn...</td>\n",
       "      <td>ORG: Interaktiv **Rovers**; STREET: Feldkeller...</td>\n",
       "      <td>Hallo Boerseninteressierte!\\n\\nDer naechste St...</td>\n",
       "      <td>{'Token_ID': {0: 'T1', 1: 'T2', 2: 'T3', 3: 'T...</td>\n",
       "      <td>Hallo Boerseninteressierte ! Der naechste Stam...</td>\n",
       "      <td>Hallo O\\nBoerseninteressierte O\\n! O\\nDer O\\nn...</td>\n",
       "    </tr>\n",
       "    <tr>\n",
       "      <th>3</th>\n",
       "      <td>CodEAlltag_pXL_FINANCE/7-/71654.txt</td>\n",
       "      <td>Dann unter Newsgroup Ernestings.zugang.sonstig...</td>\n",
       "      <td>{'Token_ID': {0: 'T1', 1: 'T2', 2: 'T3', 3: 'T...</td>\n",
       "      <td>Dann unter Newsgroup Ernestings . zugang . son...</td>\n",
       "      <td>Dann O\\nunter O\\nNewsgroup O\\nErnestings B-ORG...</td>\n",
       "      <td>ORG: Ernestings **Nawes**; MALE: Othmar **Klaa...</td>\n",
       "      <td>Dann unter Newsgroup Nawes.zugang.sonstiges ei...</td>\n",
       "      <td>{'Token_ID': {0: 'T1', 1: 'T2', 2: 'T3', 3: 'T...</td>\n",
       "      <td>Dann unter Newsgroup Nawes . zugang . sonstige...</td>\n",
       "      <td>Dann O\\nunter O\\nNewsgroup O\\nNawes B-ORG\\n. O...</td>\n",
       "    </tr>\n",
       "    <tr>\n",
       "      <th>4</th>\n",
       "      <td>CodEAlltag_pXL_FINANCE/7-/71607.txt</td>\n",
       "      <td>Danke erstmal fuer Deine Antwort !\\nMich aerge...</td>\n",
       "      <td>{'Token_ID': {0: 'T1'}, 'Label': {0: 'FEMALE'}...</td>\n",
       "      <td>Danke erstmal fuer Deine Antwort ! Mich aerger...</td>\n",
       "      <td>Danke O\\nerstmal O\\nfuer O\\nDeine O\\nAntwort O...</td>\n",
       "      <td>FEMALE: SABINE **NATACH**</td>\n",
       "      <td>Danke erstmal fuer Deine Antwort !\\nMich aerge...</td>\n",
       "      <td>{'Token_ID': {0: 'T1'}, 'Label': {0: 'FEMALE'}...</td>\n",
       "      <td>Danke erstmal fuer Deine Antwort ! Mich aerger...</td>\n",
       "      <td>Danke O\\nerstmal O\\nfuer O\\nDeine O\\nAntwort O...</td>\n",
       "    </tr>\n",
       "  </tbody>\n",
       "</table>\n",
       "</div>"
      ],
      "text/plain": [
       "                              FilePath  \\\n",
       "0  CodEAlltag_pXL_FINANCE/7-/76653.txt   \n",
       "1  CodEAlltag_pXL_FINANCE/7-/70681.txt   \n",
       "2  CodEAlltag_pXL_FINANCE/7-/74675.txt   \n",
       "3  CodEAlltag_pXL_FINANCE/7-/71654.txt   \n",
       "4  CodEAlltag_pXL_FINANCE/7-/71607.txt   \n",
       "\n",
       "                                                  OT  \\\n",
       "0  ...\\n\\ndie können doch nicht soooo von den US-...   \n",
       "1  Was baut Ihr denn da an? Hoffentlich nix mit G...   \n",
       "2  Hallo Boerseninteressierte!\\n\\nDer naechste St...   \n",
       "3  Dann unter Newsgroup Ernestings.zugang.sonstig...   \n",
       "4  Danke erstmal fuer Deine Antwort !\\nMich aerge...   \n",
       "\n",
       "                                                  OA  \\\n",
       "0  {'Token_ID': {0: 'T1', 1: 'T2'}, 'Label': {0: ...   \n",
       "1  {'Token_ID': {0: 'T1', 1: 'T2', 2: 'T3', 3: 'T...   \n",
       "2  {'Token_ID': {0: 'T1', 1: 'T2', 2: 'T3', 3: 'T...   \n",
       "3  {'Token_ID': {0: 'T1', 1: 'T2', 2: 'T3', 3: 'T...   \n",
       "4  {'Token_ID': {0: 'T1'}, 'Label': {0: 'FEMALE'}...   \n",
       "\n",
       "                                                 OTT  \\\n",
       "0  ... die können doch nicht soooo von den US-Zin...   \n",
       "1  Was baut Ihr denn da an ? Hoffentlich nix mit ...   \n",
       "2  Hallo Boerseninteressierte ! Der naechste Stam...   \n",
       "3  Dann unter Newsgroup Ernestings . zugang . son...   \n",
       "4  Danke erstmal fuer Deine Antwort ! Mich aerger...   \n",
       "\n",
       "                                                OTTL  \\\n",
       "0  ... O\\ndie O\\nkönnen O\\ndoch O\\nnicht O\\nsoooo...   \n",
       "1  Was O\\nbaut O\\nIhr O\\ndenn O\\nda O\\nan O\\n? O\\...   \n",
       "2  Hallo O\\nBoerseninteressierte O\\n! O\\nDer O\\nn...   \n",
       "3  Dann O\\nunter O\\nNewsgroup O\\nErnestings B-ORG...   \n",
       "4  Danke O\\nerstmal O\\nfuer O\\nDeine O\\nAntwort O...   \n",
       "\n",
       "                                                MT5O  \\\n",
       "0  FEMALE: Ella **Ülkü**; URL: http://xaj.dxkte.c...   \n",
       "1  MALE: Valerian **David**; FAMILY: Bammert **Ae...   \n",
       "2  ORG: Interaktiv **Rovers**; STREET: Feldkeller...   \n",
       "3  ORG: Ernestings **Nawes**; MALE: Othmar **Klaa...   \n",
       "4                          FEMALE: SABINE **NATACH**   \n",
       "\n",
       "                                               MT5PT  \\\n",
       "0  ...\\n\\ndie können doch nicht soooo von den US-...   \n",
       "1  Was baut Ihr denn da an? Hoffentlich nix mit G...   \n",
       "2  Hallo Boerseninteressierte!\\n\\nDer naechste St...   \n",
       "3  Dann unter Newsgroup Nawes.zugang.sonstiges ei...   \n",
       "4  Danke erstmal fuer Deine Antwort !\\nMich aerge...   \n",
       "\n",
       "                                               MT5PA  \\\n",
       "0  {'Token_ID': {0: 'T1', 1: 'T2'}, 'Label': {0: ...   \n",
       "1  {'Token_ID': {0: 'T1', 1: 'T2', 2: 'T3', 3: 'T...   \n",
       "2  {'Token_ID': {0: 'T1', 1: 'T2', 2: 'T3', 3: 'T...   \n",
       "3  {'Token_ID': {0: 'T1', 1: 'T2', 2: 'T3', 3: 'T...   \n",
       "4  {'Token_ID': {0: 'T1'}, 'Label': {0: 'FEMALE'}...   \n",
       "\n",
       "                                              MT5PTT  \\\n",
       "0  ... die können doch nicht soooo von den US-Zin...   \n",
       "1  Was baut Ihr denn da an ? Hoffentlich nix mit ...   \n",
       "2  Hallo Boerseninteressierte ! Der naechste Stam...   \n",
       "3  Dann unter Newsgroup Nawes . zugang . sonstige...   \n",
       "4  Danke erstmal fuer Deine Antwort ! Mich aerger...   \n",
       "\n",
       "                                             MT5PTTL  \n",
       "0  ... O\\ndie O\\nkönnen O\\ndoch O\\nnicht O\\nsoooo...  \n",
       "1  Was O\\nbaut O\\nIhr O\\ndenn O\\nda O\\nan O\\n? O\\...  \n",
       "2  Hallo O\\nBoerseninteressierte O\\n! O\\nDer O\\nn...  \n",
       "3  Dann O\\nunter O\\nNewsgroup O\\nNawes B-ORG\\n. O...  \n",
       "4  Danke O\\nerstmal O\\nfuer O\\nDeine O\\nAntwort O...  "
      ]
     },
     "execution_count": 21,
     "metadata": {},
     "output_type": "execute_result"
    }
   ],
   "source": [
    "sample_df.head(n=5)"
   ]
  }
 ],
 "metadata": {
  "kernelspec": {
   "display_name": "Python 3 (ipykernel)",
   "language": "python",
   "name": "python3"
  },
  "language_info": {
   "codemirror_mode": {
    "name": "ipython",
    "version": 3
   },
   "file_extension": ".py",
   "mimetype": "text/x-python",
   "name": "python",
   "nbconvert_exporter": "python",
   "pygments_lexer": "ipython3",
   "version": "3.9.10"
  }
 },
 "nbformat": 4,
 "nbformat_minor": 5
}
