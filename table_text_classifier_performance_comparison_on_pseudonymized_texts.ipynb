{
 "cells": [
  {
   "cell_type": "code",
   "execution_count": 1,
   "id": "2913fb9d",
   "metadata": {},
   "outputs": [],
   "source": [
    "import ast\n",
    "import glob\n",
    "import os\n",
    "\n",
    "import numpy as np\n",
    "import pandas as pd\n",
    "\n",
    "from pathlib import Path\n",
    "from typing import Tuple, List, Dict"
   ]
  },
  {
   "cell_type": "code",
   "execution_count": 2,
   "id": "cb748f2b",
   "metadata": {},
   "outputs": [],
   "source": [
    "def get_sample_size_wise_performance_metrics(sample_sizes: List[int],\n",
    "                                             metrics_dir: str) -> Tuple[List[List[float]]]:\n",
    "    \n",
    "    orig_precision_list: List[List[float]] = list()\n",
    "    orig_recall_list: List[List[float]] = list()\n",
    "    orig_f1_score_list: List[List[float]] = list()\n",
    "        \n",
    "    pseud_precision_list: List[List[float]] = list()\n",
    "    pseud_recall_list: List[List[float]] = list()\n",
    "    pseud_f1_score_list: List[List[float]] = list()\n",
    "    \n",
    "    for sample_size in sample_sizes:\n",
    "\n",
    "        sample_orig_precision_list: List[float] = list()\n",
    "        sample_orig_recall_list: List[float] = list()\n",
    "        sample_orig_f1_score_list: List[float] = list()\n",
    "            \n",
    "        sample_pseud_precision_list: List[float] = list()\n",
    "        sample_pseud_recall_list: List[float] = list()\n",
    "        sample_pseud_f1_score_list: List[float] = list()\n",
    "\n",
    "        for item in glob.glob(os.path.join(metrics_dir, str(sample_size//1000)+\"*.txt\")):\n",
    "            with open((Path(item)), \"r\") as file_reader:\n",
    "                sample_fold_dict_str: str = file_reader.read()\n",
    "                sample_fold_dict: Dict = ast.literal_eval(sample_fold_dict_str)\n",
    "                \n",
    "                sample_orig_precision_list.append(sample_fold_dict[\"ORIG\"][\"precision\"])\n",
    "                sample_orig_recall_list.append(sample_fold_dict[\"ORIG\"][\"recall\"])\n",
    "                sample_orig_f1_score_list.append(sample_fold_dict[\"ORIG\"][\"f1-score\"])\n",
    "                \n",
    "                sample_pseud_precision_list.append(sample_fold_dict[\"PSEUD\"][\"precision\"])\n",
    "                sample_pseud_recall_list.append(sample_fold_dict[\"PSEUD\"][\"recall\"])\n",
    "                sample_pseud_f1_score_list.append(sample_fold_dict[\"PSEUD\"][\"f1-score\"])\n",
    "\n",
    "        orig_precision_list.append(sample_orig_precision_list)\n",
    "        orig_recall_list.append(sample_orig_recall_list)\n",
    "        orig_f1_score_list.append(sample_orig_f1_score_list)\n",
    "        \n",
    "        pseud_precision_list.append(sample_pseud_precision_list)\n",
    "        pseud_recall_list.append(sample_pseud_recall_list)\n",
    "        pseud_f1_score_list.append(sample_pseud_f1_score_list)\n",
    "    \n",
    "    return (\n",
    "        orig_precision_list,\n",
    "        orig_recall_list,\n",
    "        orig_f1_score_list,\n",
    "        pseud_precision_list,\n",
    "        pseud_recall_list,\n",
    "        pseud_f1_score_list\n",
    "    )"
   ]
  },
  {
   "cell_type": "code",
   "execution_count": 3,
   "id": "3e0aa1d1",
   "metadata": {},
   "outputs": [],
   "source": [
    "def get_mean_std_tuples(precisions: List[List[float]], \n",
    "                        recalls: List[List[float]], \n",
    "                        f1_scores: List[List[float]]) -> List[Tuple]:\n",
    "\n",
    "    output: List[Tuple] = list()\n",
    "    \n",
    "    precision_a = np.array(precisions)\n",
    "    recall_a = np.array(recalls)\n",
    "    f1_score_a = np.array(f1_scores)\n",
    "\n",
    "    precision_means = precision_a.mean(axis=1)\n",
    "    precision_stds = precision_a.std(axis=1)\n",
    "    output.append((precision_means, precision_stds))\n",
    "    \n",
    "    recall_means = recall_a.mean(axis=1)\n",
    "    recall_stds = recall_a.std(axis=1)\n",
    "    output.append((recall_means, recall_stds))\n",
    "    \n",
    "    f1_score_means = f1_score_a.mean(axis=1)\n",
    "    f1_score_stds = f1_score_a.std(axis=1)\n",
    "    output.append((f1_score_means, f1_score_stds))\n",
    "\n",
    "    return output"
   ]
  },
  {
   "cell_type": "code",
   "execution_count": 4,
   "id": "0d546e68",
   "metadata": {},
   "outputs": [],
   "source": [
    "sample_sizes = [3_500]"
   ]
  },
  {
   "cell_type": "code",
   "execution_count": 5,
   "id": "0fc647c2",
   "metadata": {},
   "outputs": [],
   "source": [
    "mT5_metrics_dir = os.path.join(*[\"pdsc_performance_metrics\", \"gelectra\", \"MT5-P\"])\n",
    "mT5_orig_precisions, mT5_orig_recalls, mT5_orig_f1_scores, mT5_pseud_precisions, mT5_pseud_recalls, mT5_pseud_f1_scores = get_sample_size_wise_performance_metrics(sample_sizes, mT5_metrics_dir)"
   ]
  },
  {
   "cell_type": "code",
   "execution_count": 6,
   "id": "f2b38c73",
   "metadata": {},
   "outputs": [],
   "source": [
    "l318b_metrics_dir = os.path.join(*[\"pdsc_performance_metrics\", \"gelectra\", \"L318B-P\"])\n",
    "l318b_orig_precisions, l318b_orig_recalls, l318b_orig_f1_scores, l318b_pseud_precisions, l318b_pseud_recalls, l318b_pseud_f1_scores = get_sample_size_wise_performance_metrics(sample_sizes, l318b_metrics_dir)"
   ]
  },
  {
   "cell_type": "code",
   "execution_count": 7,
   "id": "8dea7152",
   "metadata": {},
   "outputs": [],
   "source": [
    "g29b_metrics_dir = os.path.join(*[\"pdsc_performance_metrics\", \"gelectra\", \"G29B-P\"])\n",
    "g29b_orig_precisions, g29b_orig_recalls, g29b_orig_f1_scores, g29b_pseud_precisions, g29b_pseud_recalls, g29b_pseud_f1_scores = get_sample_size_wise_performance_metrics(sample_sizes, g29b_metrics_dir)"
   ]
  },
  {
   "cell_type": "code",
   "execution_count": 8,
   "id": "5ff0fcd2",
   "metadata": {},
   "outputs": [],
   "source": [
    "mT5_orig_mean_std_tuples = get_mean_std_tuples(mT5_orig_precisions, mT5_orig_recalls, mT5_orig_f1_scores)\n",
    "mT5_pseud_mean_std_tuples = get_mean_std_tuples(mT5_pseud_precisions, mT5_pseud_recalls, mT5_pseud_f1_scores)"
   ]
  },
  {
   "cell_type": "code",
   "execution_count": 9,
   "id": "7d2d6522",
   "metadata": {},
   "outputs": [],
   "source": [
    "l318b_orig_mean_std_tuples = get_mean_std_tuples(l318b_orig_precisions, l318b_orig_recalls, l318b_orig_f1_scores)\n",
    "l318b_pseud_mean_std_tuples = get_mean_std_tuples(l318b_pseud_precisions, l318b_pseud_recalls, l318b_pseud_f1_scores)"
   ]
  },
  {
   "cell_type": "code",
   "execution_count": 10,
   "id": "b4a66a9e",
   "metadata": {},
   "outputs": [],
   "source": [
    "g29b_orig_mean_std_tuples = get_mean_std_tuples(g29b_orig_precisions, g29b_orig_recalls, g29b_orig_f1_scores)\n",
    "g29b_pseud_mean_std_tuples = get_mean_std_tuples(g29b_pseud_precisions, g29b_pseud_recalls, g29b_pseud_f1_scores)"
   ]
  },
  {
   "cell_type": "code",
   "execution_count": 11,
   "id": "140773a2",
   "metadata": {},
   "outputs": [],
   "source": [
    "mT5_orig_tuple: Tuple[str] = (\n",
    "    \"ORIG + MT5-P\",\n",
    "    \"ORIG\",\n",
    "    f'{round(mT5_orig_mean_std_tuples[0][0][0], 2): .2f} ± {round(mT5_orig_mean_std_tuples[0][1][0], 3)}',\n",
    "    f'{round(mT5_orig_mean_std_tuples[1][0][0], 2): .2f} ± {round(mT5_orig_mean_std_tuples[1][1][0], 3)}',\n",
    "    f'{round(mT5_orig_mean_std_tuples[2][0][0], 2): .2f} ± {round(mT5_orig_mean_std_tuples[2][1][0], 3)}',\n",
    ")"
   ]
  },
  {
   "cell_type": "code",
   "execution_count": 12,
   "id": "b8987e31",
   "metadata": {},
   "outputs": [],
   "source": [
    "mT5_pseud_tuple: Tuple[str] = (\n",
    "    \"ORIG + MT5-P\",\n",
    "    \"PSEUD\",\n",
    "    f'{round(mT5_pseud_mean_std_tuples[0][0][0], 2): .2f} ± {round(mT5_pseud_mean_std_tuples[0][1][0], 3)}',\n",
    "    f'{round(mT5_pseud_mean_std_tuples[1][0][0], 2): .2f} ± {round(mT5_pseud_mean_std_tuples[1][1][0], 3)}',\n",
    "    f'{round(mT5_pseud_mean_std_tuples[2][0][0], 2): .2f} ± {round(mT5_pseud_mean_std_tuples[2][1][0], 3)}',\n",
    ")"
   ]
  },
  {
   "cell_type": "code",
   "execution_count": 13,
   "id": "9bf91d48",
   "metadata": {},
   "outputs": [],
   "source": [
    "l318b_orig_tuple: Tuple[str] = (\n",
    "    \"ORIG + Llama3.1:8B-P\",\n",
    "    \"ORIG\",\n",
    "    f'{round(l318b_orig_mean_std_tuples[0][0][0], 2): .2f} ± {round(l318b_orig_mean_std_tuples[0][1][0], 3)}',\n",
    "    f'{round(l318b_orig_mean_std_tuples[1][0][0], 2): .2f} ± {round(l318b_orig_mean_std_tuples[1][1][0], 3)}',\n",
    "    f'{round(l318b_orig_mean_std_tuples[2][0][0], 2): .2f} ± {round(l318b_orig_mean_std_tuples[2][1][0], 3)}',\n",
    ")"
   ]
  },
  {
   "cell_type": "code",
   "execution_count": 14,
   "id": "96c173af",
   "metadata": {},
   "outputs": [],
   "source": [
    "l318b_pseud_tuple: Tuple[str] = (\n",
    "    \"ORIG + Llama3.1:8B-P\",\n",
    "    \"PSEUD\",\n",
    "    f'{round(l318b_pseud_mean_std_tuples[0][0][0], 2): .2f} ± {round(l318b_pseud_mean_std_tuples[0][1][0], 3)}',\n",
    "    f'{round(l318b_pseud_mean_std_tuples[1][0][0], 2): .2f} ± {round(l318b_pseud_mean_std_tuples[1][1][0], 3)}',\n",
    "    f'{round(l318b_pseud_mean_std_tuples[2][0][0], 2): .2f} ± {round(l318b_pseud_mean_std_tuples[2][1][0], 3)}',\n",
    ")"
   ]
  },
  {
   "cell_type": "code",
   "execution_count": 15,
   "id": "c04f6c0b",
   "metadata": {},
   "outputs": [],
   "source": [
    "g29b_orig_tuple: Tuple[str] = (\n",
    "    \"ORIG + Gemma2:9B-P\",\n",
    "    \"ORIG\",\n",
    "    f'{round(g29b_orig_mean_std_tuples[0][0][0], 2): .2f} ± {round(g29b_orig_mean_std_tuples[0][1][0], 3)}',\n",
    "    f'{round(g29b_orig_mean_std_tuples[1][0][0], 2): .2f} ± {round(g29b_orig_mean_std_tuples[1][1][0], 3)}',\n",
    "    f'{round(g29b_orig_mean_std_tuples[2][0][0], 2): .2f} ± {round(g29b_orig_mean_std_tuples[2][1][0], 3)}',\n",
    ")"
   ]
  },
  {
   "cell_type": "code",
   "execution_count": 16,
   "id": "da018954",
   "metadata": {},
   "outputs": [],
   "source": [
    "g29b_pseud_tuple: Tuple[str] = (\n",
    "    \"ORIG + Gemma2:9B-P\",\n",
    "    \"PSEUD\",\n",
    "    f'{round(g29b_pseud_mean_std_tuples[0][0][0], 2): .2f} ± {round(g29b_pseud_mean_std_tuples[0][1][0], 3)}',\n",
    "    f'{round(g29b_pseud_mean_std_tuples[1][0][0], 2): .2f} ± {round(g29b_pseud_mean_std_tuples[1][1][0], 3)}',\n",
    "    f'{round(g29b_pseud_mean_std_tuples[2][0][0], 2): .2f} ± {round(g29b_pseud_mean_std_tuples[2][1][0], 3)}',\n",
    ")"
   ]
  },
  {
   "cell_type": "code",
   "execution_count": 17,
   "id": "19b523a9",
   "metadata": {},
   "outputs": [
    {
     "data": {
      "text/html": [
       "<div>\n",
       "<style scoped>\n",
       "    .dataframe tbody tr th:only-of-type {\n",
       "        vertical-align: middle;\n",
       "    }\n",
       "\n",
       "    .dataframe tbody tr th {\n",
       "        vertical-align: top;\n",
       "    }\n",
       "\n",
       "    .dataframe thead th {\n",
       "        text-align: right;\n",
       "    }\n",
       "</style>\n",
       "<table border=\"1\" class=\"dataframe\">\n",
       "  <thead>\n",
       "    <tr style=\"text-align: right;\">\n",
       "      <th></th>\n",
       "      <th>Sample Mix</th>\n",
       "      <th>Label</th>\n",
       "      <th>Precision</th>\n",
       "      <th>Reall</th>\n",
       "      <th>F1-score</th>\n",
       "    </tr>\n",
       "  </thead>\n",
       "  <tbody>\n",
       "    <tr>\n",
       "      <th>0</th>\n",
       "      <td>ORIG + MT5-P</td>\n",
       "      <td>ORIG</td>\n",
       "      <td>0.72 ± 0.019</td>\n",
       "      <td>0.79 ± 0.065</td>\n",
       "      <td>0.75 ± 0.029</td>\n",
       "    </tr>\n",
       "    <tr>\n",
       "      <th>1</th>\n",
       "      <td>ORIG + MT5-P</td>\n",
       "      <td>PSEUD</td>\n",
       "      <td>0.77 ± 0.048</td>\n",
       "      <td>0.70 ± 0.045</td>\n",
       "      <td>0.73 ± 0.019</td>\n",
       "    </tr>\n",
       "    <tr>\n",
       "      <th>2</th>\n",
       "      <td>ORIG + Llama3.1:8B-P</td>\n",
       "      <td>ORIG</td>\n",
       "      <td>0.81 ± 0.032</td>\n",
       "      <td>0.73 ± 0.076</td>\n",
       "      <td>0.76 ± 0.037</td>\n",
       "    </tr>\n",
       "    <tr>\n",
       "      <th>3</th>\n",
       "      <td>ORIG + Llama3.1:8B-P</td>\n",
       "      <td>PSEUD</td>\n",
       "      <td>0.76 ± 0.042</td>\n",
       "      <td>0.83 ± 0.049</td>\n",
       "      <td>0.79 ± 0.018</td>\n",
       "    </tr>\n",
       "    <tr>\n",
       "      <th>4</th>\n",
       "      <td>ORIG + Gemma2:9B-P</td>\n",
       "      <td>ORIG</td>\n",
       "      <td>0.82 ± 0.079</td>\n",
       "      <td>0.75 ± 0.131</td>\n",
       "      <td>0.78 ± 0.107</td>\n",
       "    </tr>\n",
       "    <tr>\n",
       "      <th>5</th>\n",
       "      <td>ORIG + Gemma2:9B-P</td>\n",
       "      <td>PSEUD</td>\n",
       "      <td>0.78 ± 0.093</td>\n",
       "      <td>0.84 ± 0.052</td>\n",
       "      <td>0.81 ± 0.072</td>\n",
       "    </tr>\n",
       "  </tbody>\n",
       "</table>\n",
       "</div>"
      ],
      "text/plain": [
       "             Sample Mix  Label      Precision          Reall       F1-score\n",
       "0          ORIG + MT5-P   ORIG   0.72 ± 0.019   0.79 ± 0.065   0.75 ± 0.029\n",
       "1          ORIG + MT5-P  PSEUD   0.77 ± 0.048   0.70 ± 0.045   0.73 ± 0.019\n",
       "2  ORIG + Llama3.1:8B-P   ORIG   0.81 ± 0.032   0.73 ± 0.076   0.76 ± 0.037\n",
       "3  ORIG + Llama3.1:8B-P  PSEUD   0.76 ± 0.042   0.83 ± 0.049   0.79 ± 0.018\n",
       "4    ORIG + Gemma2:9B-P   ORIG   0.82 ± 0.079   0.75 ± 0.131   0.78 ± 0.107\n",
       "5    ORIG + Gemma2:9B-P  PSEUD   0.78 ± 0.093   0.84 ± 0.052   0.81 ± 0.072"
      ]
     },
     "execution_count": 17,
     "metadata": {},
     "output_type": "execute_result"
    }
   ],
   "source": [
    "pd.DataFrame(\n",
    "    [mT5_orig_tuple, mT5_pseud_tuple, l318b_orig_tuple, l318b_pseud_tuple, g29b_orig_tuple, g29b_pseud_tuple],\n",
    "    columns=[\"Sample Mix\", \"Label\", \"Precision\", \"Reall\", \"F1-score\"]\n",
    ")"
   ]
  }
 ],
 "metadata": {
  "kernelspec": {
   "display_name": "Python 3 (ipykernel)",
   "language": "python",
   "name": "python3"
  },
  "language_info": {
   "codemirror_mode": {
    "name": "ipython",
    "version": 3
   },
   "file_extension": ".py",
   "mimetype": "text/x-python",
   "name": "python",
   "nbconvert_exporter": "python",
   "pygments_lexer": "ipython3",
   "version": "3.8.2"
  }
 },
 "nbformat": 4,
 "nbformat_minor": 5
}
