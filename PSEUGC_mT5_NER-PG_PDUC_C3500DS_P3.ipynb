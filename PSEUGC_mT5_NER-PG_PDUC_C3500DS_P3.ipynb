{
 "cells": [
  {
   "cell_type": "code",
   "execution_count": 1,
   "id": "545bec19",
   "metadata": {},
   "outputs": [],
   "source": [
    "import ast\n",
    "import glob\n",
    "import os\n",
    "import random\n",
    "import re\n",
    "\n",
    "import numpy as np\n",
    "import pandas as pd\n",
    "\n",
    "from __future__ import annotations\n",
    "from codealltag_data_processor_v2025 import CodealltagDataProcessor\n",
    "from concurrent.futures import ThreadPoolExecutor, as_completed\n",
    "from pandas import DataFrame\n",
    "from pandas.core.series import Series\n",
    "from tqdm import tqdm\n",
    "from typing import Any, Dict, Generator, List, Tuple"
   ]
  },
  {
   "cell_type": "code",
   "execution_count": 2,
   "id": "33a50128",
   "metadata": {},
   "outputs": [],
   "source": [
    "cdp_2022 = CodealltagDataProcessor(data_version='20220513', config_path=['codealltag_data_processor.yml'])"
   ]
  },
  {
   "cell_type": "code",
   "execution_count": 3,
   "id": "d11b2dda",
   "metadata": {},
   "outputs": [],
   "source": [
    "dataset = pd.read_csv(\"data_utility_dataset.csv\", index_col=0)"
   ]
  },
  {
   "cell_type": "code",
   "execution_count": 4,
   "id": "12d7b940",
   "metadata": {},
   "outputs": [
    {
     "data": {
      "text/html": [
       "<div>\n",
       "<style scoped>\n",
       "    .dataframe tbody tr th:only-of-type {\n",
       "        vertical-align: middle;\n",
       "    }\n",
       "\n",
       "    .dataframe tbody tr th {\n",
       "        vertical-align: top;\n",
       "    }\n",
       "\n",
       "    .dataframe thead th {\n",
       "        text-align: right;\n",
       "    }\n",
       "</style>\n",
       "<table border=\"1\" class=\"dataframe\">\n",
       "  <thead>\n",
       "    <tr style=\"text-align: right;\">\n",
       "      <th></th>\n",
       "      <th>FilePath</th>\n",
       "      <th>OT</th>\n",
       "      <th>OA</th>\n",
       "      <th>OTT</th>\n",
       "      <th>OTTL</th>\n",
       "      <th>MT5O</th>\n",
       "      <th>MT5PT</th>\n",
       "      <th>MT5PA</th>\n",
       "      <th>MT5PTT</th>\n",
       "      <th>MT5PTTL</th>\n",
       "    </tr>\n",
       "  </thead>\n",
       "  <tbody>\n",
       "    <tr>\n",
       "      <th>10</th>\n",
       "      <td>CodEAlltag_pXL_FINANCE/7-/77524.txt</td>\n",
       "      <td>Gibt's doch (bzw. kommt im August raus). Z.B.:...</td>\n",
       "      <td>{'Token_ID': {0: 'T1', 1: 'T2', 2: 'T3', 3: 'T...</td>\n",
       "      <td>Gibt's doch ( bzw. kommt im August raus ) . Z....</td>\n",
       "      <td>Gibt's O\\ndoch O\\n( O\\nbzw. O\\nkommt O\\nim O\\n...</td>\n",
       "      <td>FEMALE: Isolde **Nadja**; FAMILY: Grünärml **P...</td>\n",
       "      <td>Gibt's doch (bzw. kommt im August raus). Z.B.:...</td>\n",
       "      <td>{'Token_ID': {0: 'T1', 1: 'T2', 2: 'T3', 3: 'T...</td>\n",
       "      <td>Gibt's doch ( bzw. kommt im August raus ) . Z....</td>\n",
       "      <td>Gibt's O\\ndoch O\\n( O\\nbzw. O\\nkommt O\\nim O\\n...</td>\n",
       "    </tr>\n",
       "  </tbody>\n",
       "</table>\n",
       "</div>"
      ],
      "text/plain": [
       "                               FilePath  \\\n",
       "10  CodEAlltag_pXL_FINANCE/7-/77524.txt   \n",
       "\n",
       "                                                   OT  \\\n",
       "10  Gibt's doch (bzw. kommt im August raus). Z.B.:...   \n",
       "\n",
       "                                                   OA  \\\n",
       "10  {'Token_ID': {0: 'T1', 1: 'T2', 2: 'T3', 3: 'T...   \n",
       "\n",
       "                                                  OTT  \\\n",
       "10  Gibt's doch ( bzw. kommt im August raus ) . Z....   \n",
       "\n",
       "                                                 OTTL  \\\n",
       "10  Gibt's O\\ndoch O\\n( O\\nbzw. O\\nkommt O\\nim O\\n...   \n",
       "\n",
       "                                                 MT5O  \\\n",
       "10  FEMALE: Isolde **Nadja**; FAMILY: Grünärml **P...   \n",
       "\n",
       "                                                MT5PT  \\\n",
       "10  Gibt's doch (bzw. kommt im August raus). Z.B.:...   \n",
       "\n",
       "                                                MT5PA  \\\n",
       "10  {'Token_ID': {0: 'T1', 1: 'T2', 2: 'T3', 3: 'T...   \n",
       "\n",
       "                                               MT5PTT  \\\n",
       "10  Gibt's doch ( bzw. kommt im August raus ) . Z....   \n",
       "\n",
       "                                              MT5PTTL  \n",
       "10  Gibt's O\\ndoch O\\n( O\\nbzw. O\\nkommt O\\nim O\\n...  "
      ]
     },
     "execution_count": 4,
     "metadata": {},
     "output_type": "execute_result"
    }
   ],
   "source": [
    "dataset[dataset.OT.str.contains(\"http://www.uni-karlsruhe.de/~Marek.Tomczyk/\", regex=True, na=False)]"
   ]
  },
  {
   "cell_type": "code",
   "execution_count": 5,
   "id": "275d7cdd",
   "metadata": {},
   "outputs": [
    {
     "data": {
      "text/html": [
       "<div>\n",
       "<style scoped>\n",
       "    .dataframe tbody tr th:only-of-type {\n",
       "        vertical-align: middle;\n",
       "    }\n",
       "\n",
       "    .dataframe tbody tr th {\n",
       "        vertical-align: top;\n",
       "    }\n",
       "\n",
       "    .dataframe thead th {\n",
       "        text-align: right;\n",
       "    }\n",
       "</style>\n",
       "<table border=\"1\" class=\"dataframe\">\n",
       "  <thead>\n",
       "    <tr style=\"text-align: right;\">\n",
       "      <th></th>\n",
       "      <th>FilePath</th>\n",
       "      <th>OT</th>\n",
       "      <th>OA</th>\n",
       "      <th>OTT</th>\n",
       "      <th>OTTL</th>\n",
       "      <th>MT5O</th>\n",
       "      <th>MT5PT</th>\n",
       "      <th>MT5PA</th>\n",
       "      <th>MT5PTT</th>\n",
       "      <th>MT5PTTL</th>\n",
       "    </tr>\n",
       "  </thead>\n",
       "  <tbody>\n",
       "    <tr>\n",
       "      <th>3574</th>\n",
       "      <td>CodEAlltag_pXL_TEENS/1-/16-/16942.txt</td>\n",
       "      <td>&lt;yell mode=\"oszedo\"&gt;Wah!&lt;/yell&gt;\\n\\n\\nIhno, aka...</td>\n",
       "      <td>{'Token_ID': {0: 'T1', 1: 'T2', 2: 'T3', 3: 'T...</td>\n",
       "      <td>&lt;yell mode=\"oszedo\"&gt; Wah ! &lt;/yell&gt; Ihno , aka ...</td>\n",
       "      <td>&lt;yell mode=\"oszedo\"&gt; O\\nWah O\\n! O\\n&lt;/yell&gt; O\\...</td>\n",
       "      <td>MALE: Ihno **Nils**; USER: Vzaxqjackmqw **Rdmy...</td>\n",
       "      <td>&lt;yell mode=\"oszedo\"&gt;Wah!&lt;/yell&gt;\\n\\n\\nNils, aka...</td>\n",
       "      <td>{'Token_ID': {0: 'T1', 1: 'T2', 2: 'T3', 3: 'T...</td>\n",
       "      <td>&lt;yell mode=\"oszedo\"&gt; Wah ! &lt;/yell&gt; Nils , aka ...</td>\n",
       "      <td>&lt;yell mode=\"oszedo\"&gt; O\\nWah O\\n! O\\n&lt;/yell&gt; O\\...</td>\n",
       "    </tr>\n",
       "  </tbody>\n",
       "</table>\n",
       "</div>"
      ],
      "text/plain": [
       "                                   FilePath  \\\n",
       "3574  CodEAlltag_pXL_TEENS/1-/16-/16942.txt   \n",
       "\n",
       "                                                     OT  \\\n",
       "3574  <yell mode=\"oszedo\">Wah!</yell>\\n\\n\\nIhno, aka...   \n",
       "\n",
       "                                                     OA  \\\n",
       "3574  {'Token_ID': {0: 'T1', 1: 'T2', 2: 'T3', 3: 'T...   \n",
       "\n",
       "                                                    OTT  \\\n",
       "3574  <yell mode=\"oszedo\"> Wah ! </yell> Ihno , aka ...   \n",
       "\n",
       "                                                   OTTL  \\\n",
       "3574  <yell mode=\"oszedo\"> O\\nWah O\\n! O\\n</yell> O\\...   \n",
       "\n",
       "                                                   MT5O  \\\n",
       "3574  MALE: Ihno **Nils**; USER: Vzaxqjackmqw **Rdmy...   \n",
       "\n",
       "                                                  MT5PT  \\\n",
       "3574  <yell mode=\"oszedo\">Wah!</yell>\\n\\n\\nNils, aka...   \n",
       "\n",
       "                                                  MT5PA  \\\n",
       "3574  {'Token_ID': {0: 'T1', 1: 'T2', 2: 'T3', 3: 'T...   \n",
       "\n",
       "                                                 MT5PTT  \\\n",
       "3574  <yell mode=\"oszedo\"> Wah ! </yell> Nils , aka ...   \n",
       "\n",
       "                                                MT5PTTL  \n",
       "3574  <yell mode=\"oszedo\"> O\\nWah O\\n! O\\n</yell> O\\...  "
      ]
     },
     "execution_count": 5,
     "metadata": {},
     "output_type": "execute_result"
    }
   ],
   "source": [
    "dataset[dataset.OT.str.contains(\"oszedo\", regex=True, na=False)]"
   ]
  },
  {
   "cell_type": "code",
   "execution_count": 6,
   "id": "acb8808f",
   "metadata": {},
   "outputs": [],
   "source": [
    "dataset = dataset[~dataset.FilePath.isin([\"CodEAlltag_pXL_FINANCE/7-/77524.txt\", \"CodEAlltag_pXL_TEENS/1-/16-/16942.txt\"])]"
   ]
  },
  {
   "cell_type": "code",
   "execution_count": 7,
   "id": "1b629fa6",
   "metadata": {},
   "outputs": [
    {
     "data": {
      "text/plain": [
       "3739"
      ]
     },
     "execution_count": 7,
     "metadata": {},
     "output_type": "execute_result"
    }
   ],
   "source": [
    "len(dataset)"
   ]
  },
  {
   "cell_type": "code",
   "execution_count": 8,
   "id": "58d90c61",
   "metadata": {},
   "outputs": [],
   "source": [
    "dataset.reset_index(drop=True, inplace=True)"
   ]
  },
  {
   "cell_type": "code",
   "execution_count": 9,
   "id": "7e0f76e1",
   "metadata": {
    "scrolled": true
   },
   "outputs": [
    {
     "name": "stderr",
     "output_type": "stream",
     "text": [
      "100%|█████████████████████████████████████| 3739/3739 [00:03<00:00, 1177.95it/s]"
     ]
    },
    {
     "name": "stdout",
     "output_type": "stream",
     "text": [
      "Total filtered out: 59\n"
     ]
    },
    {
     "name": "stderr",
     "output_type": "stream",
     "text": [
      "\n"
     ]
    }
   ],
   "source": [
    "count = 0\n",
    "fps = list()\n",
    "with tqdm(total=len(dataset), smoothing=0) as progress_bar: \n",
    "    for idx, row in dataset.iterrows():\n",
    "        mT5_adf = pd.DataFrame(ast.literal_eval(dataset.iloc[idx].MT5PA))\n",
    "        if (~mT5_adf[\"Pseudonym\"].isna() & (mT5_adf[\"Pseudonym\"] != \"\")).all():\n",
    "            count += 1\n",
    "            fps.append(row.FilePath)\n",
    "        progress_bar.update(1)\n",
    "\n",
    "print(f'Total filtered out: {len(dataset)-count}')"
   ]
  },
  {
   "cell_type": "code",
   "execution_count": 10,
   "id": "f4110724",
   "metadata": {},
   "outputs": [
    {
     "data": {
      "text/plain": [
       "3680"
      ]
     },
     "execution_count": 10,
     "metadata": {},
     "output_type": "execute_result"
    }
   ],
   "source": [
    "len(fps)"
   ]
  },
  {
   "cell_type": "code",
   "execution_count": 11,
   "id": "f7886be6",
   "metadata": {},
   "outputs": [],
   "source": [
    "selected_3500 = np.random.RandomState(\n",
    "    cdp_2022.get_random_seed()\n",
    ").choice(\n",
    "    fps, size=3500, replace=False\n",
    ").tolist()"
   ]
  },
  {
   "cell_type": "code",
   "execution_count": 12,
   "id": "96921860",
   "metadata": {},
   "outputs": [
    {
     "data": {
      "text/plain": [
       "3500"
      ]
     },
     "execution_count": 12,
     "metadata": {},
     "output_type": "execute_result"
    }
   ],
   "source": [
    "len(selected_3500)"
   ]
  },
  {
   "cell_type": "code",
   "execution_count": 13,
   "id": "e28d1db6",
   "metadata": {},
   "outputs": [],
   "source": [
    "dataset_3500 = dataset[dataset.FilePath.isin(selected_3500)]"
   ]
  },
  {
   "cell_type": "code",
   "execution_count": 14,
   "id": "11810bbb",
   "metadata": {},
   "outputs": [
    {
     "data": {
      "text/plain": [
       "3500"
      ]
     },
     "execution_count": 14,
     "metadata": {},
     "output_type": "execute_result"
    }
   ],
   "source": [
    "len(dataset_3500)"
   ]
  },
  {
   "cell_type": "code",
   "execution_count": 15,
   "id": "478b6a90",
   "metadata": {},
   "outputs": [],
   "source": [
    "annotation_df = cdp_2022.get_annotation_df()"
   ]
  },
  {
   "cell_type": "code",
   "execution_count": 16,
   "id": "9c2a8814",
   "metadata": {},
   "outputs": [],
   "source": [
    "filtered_adf = annotation_df[\n",
    "    annotation_df.FilePath.isin(\n",
    "        dataset_3500.FilePath.str.replace('.txt', '.ann', regex=True)\n",
    "    )\n",
    "]"
   ]
  },
  {
   "cell_type": "code",
   "execution_count": 17,
   "id": "14c3afbe",
   "metadata": {},
   "outputs": [
    {
     "data": {
      "text/plain": [
       "{'UFID': 248,\n",
       " 'USER': 250,\n",
       " 'ORG': 452,\n",
       " 'DATE': 562,\n",
       " 'STREETNO': 757,\n",
       " 'ZIP': 767,\n",
       " 'EMAIL': 771,\n",
       " 'STREET': 810,\n",
       " 'PHONE': 875,\n",
       " 'CITY': 1465,\n",
       " 'URL': 1640,\n",
       " 'FEMALE': 2240,\n",
       " 'FAMILY': 2391,\n",
       " 'MALE': 3008}"
      ]
     },
     "execution_count": 17,
     "metadata": {},
     "output_type": "execute_result"
    }
   ],
   "source": [
    "cdp_2022.get_category_or_label_wise_count_or_ratio(filtered_adf, category_wise=False)"
   ]
  },
  {
   "cell_type": "code",
   "execution_count": 18,
   "id": "82a05269",
   "metadata": {},
   "outputs": [],
   "source": [
    "dataset_3500.reset_index(drop=True, inplace=True)\n",
    "dataset_3500.to_csv(\"data_utility_dataset_3500.csv\")"
   ]
  }
 ],
 "metadata": {
  "kernelspec": {
   "display_name": "Python 3 (ipykernel)",
   "language": "python",
   "name": "python3"
  },
  "language_info": {
   "codemirror_mode": {
    "name": "ipython",
    "version": 3
   },
   "file_extension": ".py",
   "mimetype": "text/x-python",
   "name": "python",
   "nbconvert_exporter": "python",
   "pygments_lexer": "ipython3",
   "version": "3.9.10"
  }
 },
 "nbformat": 4,
 "nbformat_minor": 5
}
